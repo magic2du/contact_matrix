{
 "metadata": {
  "name": "",
  "signature": "sha256:358ca1cae31d8d109df8ec6726f5d68b472ee281c13dde14b2f14a6749d37421"
 },
 "nbformat": 3,
 "nbformat_minor": 0,
 "worksheets": []
}