{
 "metadata": {
  "name": "",
  "signature": "sha256:561207c55b56be592b6a96959852bb62355fe98ad953a5f282b973986671983b"
 },
 "nbformat": 3,
 "nbformat_minor": 0,
 "worksheets": [
  {
   "cells": [
    {
     "cell_type": "code",
     "collapsed": false,
     "input": [
      "# this part imports libs and load data from csv file\n",
      "import sys\n",
      "sys.path.append('../../../libs/')\n",
      "import csv\n",
      "from dateutil import parser\n",
      "from datetime import timedelta\n",
      "from sklearn import svm\n",
      "import numpy as np\n",
      "import pandas as pd\n",
      "import pickle\n",
      "from sklearn.cross_validation import train_test_split\n",
      "from sklearn import preprocessing\n",
      "import sklearn\n",
      "import scipy.stats as ss\n",
      "import cPickle\n",
      "import gzip\n",
      "import os\n",
      "import time\n",
      "import numpy\n",
      "import theano\n",
      "import theano.tensor as T\n",
      "from theano.tensor.shared_randomstreams import RandomStreams\n",
      "import os.path\n",
      "import IO_class\n",
      "from IO_class import FileOperator\n",
      "from sklearn import cross_validation\n",
      "import sklearn\n",
      "import numpy as np\n",
      "import csv\n",
      "from dateutil import parser\n",
      "from datetime import timedelta\n",
      "from sklearn import svm\n",
      "import numpy as np\n",
      "import pandas as pd\n",
      "import pdb\n",
      "import pickle\n",
      "import numpy as np\n",
      "from sklearn.cross_validation import train_test_split\n",
      "from sklearn.cross_validation import KFold\n",
      "from sklearn import preprocessing\n",
      "import sklearn\n",
      "import scipy.stats as ss\n",
      "from sklearn.svm import LinearSVC\n",
      "import random\n",
      "from DL_libs import *\n",
      "from itertools import izip #new\n",
      "import math\n",
      "from sklearn.svm import SVC"
     ],
     "language": "python",
     "metadata": {},
     "outputs": [],
     "prompt_number": 30
    },
    {
     "cell_type": "code",
     "collapsed": false,
     "input": [
      "# set settings for this script\n",
      "settings = {}\n",
      "settings['fisher_mode'] = 'FisherM1'\n",
      "settings['with_auc_score'] = False\n",
      "settings['reduce_ratio'] = 1\n",
      "settings['SVM'] = 1\n",
      "settings['SVM_RBF'] = 1\n",
      "settings['SVM_POLY'] = 1\n",
      "settings['DL'] = 1\n",
      "settings['Log'] = 1\n",
      "settings['SAE_SVM'] = 1\n",
      "settings['SAE_SVM_RBF'] = 1\n",
      "settings['SAE_SVM_POLY'] = 1\n",
      "\n",
      "settings['DL_S'] = 1\n",
      "settings['SAE_S_SVM'] = 1\n",
      "settings['SAE_S_SVM_RBF'] = 1\n",
      "settings['SAE_S_SVM_POLY'] = 1\n",
      "settings['number_iterations'] =10\n",
      "\n",
      "\n",
      "settings['finetune_lr'] = 0.1\n",
      "settings['batch_size'] = 30\n",
      "settings['pretraining_interations'] = 10000\n",
      "settings['pretrain_lr'] = 0.001\n",
      "settings['training_epochs'] = 300\n",
      "settings['hidden_layers_sizes'] = [200, 200]\n",
      "settings['corruption_levels'] = [0,0]\n",
      "\n",
      "\n",
      "import logging\n",
      "import time\n",
      "current_date = time.strftime(\"%m_%d_%Y\")\n",
      "\n",
      "logger = logging.getLogger(__name__)\n",
      "logger.setLevel(logging.DEBUG)\n",
      "\n",
      "logname = 'log_DL_handwritten_digits' + current_date + '.log'\n",
      "handler = logging.FileHandler(logname)\n",
      "handler.setLevel(logging.DEBUG)\n",
      "\n",
      "# create a logging format\n",
      "\n",
      "formatter = logging.Formatter('%(asctime)s - %(name)s - %(levelname)s - %(message)s')\n",
      "handler.setFormatter(formatter)\n",
      "\n",
      "# add the handlers to the logger\n",
      "\n",
      "logger.addHandler(handler)\n",
      "\n",
      "#logger.debug('This message should go to the log file')\n",
      "for key, value in settings.items():\n",
      "    logger.info(key +': '+ str(value))"
     ],
     "language": "python",
     "metadata": {},
     "outputs": [
      {
       "output_type": "stream",
       "stream": "stderr",
       "text": [
        "INFO:__main__:DL: 1\n"
       ]
      },
      {
       "output_type": "stream",
       "stream": "stderr",
       "text": [
        "INFO:__main__:Log: 1\n"
       ]
      },
      {
       "output_type": "stream",
       "stream": "stderr",
       "text": [
        "INFO:__main__:DL_S: 1\n"
       ]
      },
      {
       "output_type": "stream",
       "stream": "stderr",
       "text": [
        "INFO:__main__:SVM_POLY: 1\n"
       ]
      },
      {
       "output_type": "stream",
       "stream": "stderr",
       "text": [
        "INFO:__main__:reduce_ratio: 1\n"
       ]
      },
      {
       "output_type": "stream",
       "stream": "stderr",
       "text": [
        "INFO:__main__:hidden_layers_sizes: [200, 200]\n"
       ]
      },
      {
       "output_type": "stream",
       "stream": "stderr",
       "text": [
        "INFO:__main__:corruption_levels: [0, 0]\n"
       ]
      },
      {
       "output_type": "stream",
       "stream": "stderr",
       "text": [
        "INFO:__main__:pretrain_lr: 0.001\n"
       ]
      },
      {
       "output_type": "stream",
       "stream": "stderr",
       "text": [
        "INFO:__main__:SAE_S_SVM: 1\n"
       ]
      },
      {
       "output_type": "stream",
       "stream": "stderr",
       "text": [
        "INFO:__main__:SAE_SVM_POLY: 1\n"
       ]
      },
      {
       "output_type": "stream",
       "stream": "stderr",
       "text": [
        "INFO:__main__:SVM: 1\n"
       ]
      },
      {
       "output_type": "stream",
       "stream": "stderr",
       "text": [
        "INFO:__main__:SAE_S_SVM_RBF: 1\n"
       ]
      },
      {
       "output_type": "stream",
       "stream": "stderr",
       "text": [
        "INFO:__main__:SVM_RBF: 1\n"
       ]
      },
      {
       "output_type": "stream",
       "stream": "stderr",
       "text": [
        "INFO:__main__:batch_size: 30\n"
       ]
      },
      {
       "output_type": "stream",
       "stream": "stderr",
       "text": [
        "INFO:__main__:SAE_S_SVM_POLY: 1\n"
       ]
      },
      {
       "output_type": "stream",
       "stream": "stderr",
       "text": [
        "INFO:__main__:SAE_SVM_RBF: 1\n"
       ]
      },
      {
       "output_type": "stream",
       "stream": "stderr",
       "text": [
        "INFO:__main__:SAE_SVM: 1\n"
       ]
      },
      {
       "output_type": "stream",
       "stream": "stderr",
       "text": [
        "INFO:__main__:pretraining_interations: 10000\n"
       ]
      },
      {
       "output_type": "stream",
       "stream": "stderr",
       "text": [
        "INFO:__main__:fisher_mode: FisherM1\n"
       ]
      },
      {
       "output_type": "stream",
       "stream": "stderr",
       "text": [
        "INFO:__main__:number_iterations: 10\n"
       ]
      },
      {
       "output_type": "stream",
       "stream": "stderr",
       "text": [
        "INFO:__main__:finetune_lr: 0.1\n"
       ]
      },
      {
       "output_type": "stream",
       "stream": "stderr",
       "text": [
        "INFO:__main__:with_auc_score: False\n"
       ]
      },
      {
       "output_type": "stream",
       "stream": "stderr",
       "text": [
        "INFO:__main__:training_epochs: 300\n"
       ]
      }
     ],
     "prompt_number": 31
    },
    {
     "cell_type": "code",
     "collapsed": false,
     "input": [
      "f = gzip.open('mnist.pkl.gz', 'rb')\n",
      "train_set, valid_set, test_set = cPickle.load(f)\n",
      "X_train,y_train = train_set\n",
      "\n",
      "X_valid,y_valid = valid_set\n",
      "X_total=np.vstack((X_train, X_valid))\n",
      "X_total = np.array(X_total, dtype= theano.config.floatX)\n",
      "print'sample size', X_total.shape\n",
      "y_total = np.concatenate([y_train, y_valid])"
     ],
     "language": "python",
     "metadata": {},
     "outputs": [
      {
       "output_type": "stream",
       "stream": "stdout",
       "text": [
        "sample size (60000, 784)\n"
       ]
      }
     ],
     "prompt_number": 32
    },
    {
     "cell_type": "code",
     "collapsed": false,
     "input": [
      "################## generate data ###################\n",
      "array_A =[]\n",
      "array_B =[]\n",
      "for i in range(100000):\n",
      "    array_A.append(np.random.random_integers(0, 59999))\n",
      "    array_B.append(np.random.random_integers(0, 59999))\n",
      "pos_index = []\n",
      "neg_index = []\n",
      "for index in xrange(100000):\n",
      "    if y_total[array_A[index]] - y_total[array_B[index]] == 1:\n",
      "        pos_index.append(index)\n",
      "    else:\n",
      "        neg_index.append(index)\n",
      "print 'number of positive examples', len(pos_index)\n",
      "selected_neg_index= neg_index[ : len(pos_index)]    \n",
      "\n",
      "array_A = np.array(array_A)\n",
      "array_B = np.array(array_B)\n",
      "index_for_positive_image_A = array_A[pos_index]\n",
      "index_for_positive_image_B = array_B[pos_index]\n",
      "index_for_neg_image_A = array_A[selected_neg_index]\n",
      "index_for_neg_image_B = array_B[selected_neg_index]\n",
      "\n",
      "X_pos_A = X_total[index_for_positive_image_A]\n",
      "X_pos_B = X_total[index_for_positive_image_B]\n",
      "X_pos_whole = np.hstack((X_pos_A,X_pos_B))\n",
      "X_neg_A = X_total[index_for_neg_image_A]\n",
      "X_neg_B = X_total[index_for_neg_image_B]\n",
      "X_neg_whole = np.hstack((X_neg_A, X_neg_B))\n",
      "print X_pos_A.shape,  X_pos_B.shape, X_pos_whole.shape\n",
      "print X_neg_A.shape,  X_neg_B.shape, X_neg_whole.shape\n",
      "\n",
      "X_whole = np.vstack((X_pos_whole, X_neg_whole))\n",
      "print X_whole.shape\n",
      "y_pos = np.ones(X_pos_whole.shape[0])\n",
      "y_neg = np.zeros(X_neg_whole.shape[0])\n",
      "y_whole = np.concatenate([y_pos,y_neg])\n",
      "print y_whole"
     ],
     "language": "python",
     "metadata": {},
     "outputs": [
      {
       "output_type": "stream",
       "stream": "stdout",
       "text": [
        "number of positive examples 9097\n",
        "(9097, 784)"
       ]
      },
      {
       "output_type": "stream",
       "stream": "stdout",
       "text": [
        " (9097, 784) (9097, 1568)\n",
        "(9097, 784) (9097, 784) (9097, 1568)\n",
        "(18194, 1568)"
       ]
      },
      {
       "output_type": "stream",
       "stream": "stdout",
       "text": [
        "\n",
        "[ 1.  1.  1. ...,  0.  0.  0.]\n"
       ]
      }
     ],
     "prompt_number": 33
    },
    {
     "cell_type": "code",
     "collapsed": false,
     "input": [
      "%pylab inline\n",
      "joint = X_whole[-3]\n",
      "print 'label', y_whole[-3]\n",
      "imageA = joint[0: 784]\n",
      "imageB = joint[784: ]\n",
      "pylab.imshow(imageA.reshape(28, 28), cmap=\"Greys\")\n"
     ],
     "language": "python",
     "metadata": {},
     "outputs": [
      {
       "output_type": "stream",
       "stream": "stdout",
       "text": [
        "Populating the interactive namespace from numpy and matplotlib\n",
        "label 0.0\n"
       ]
      },
      {
       "metadata": {},
       "output_type": "pyout",
       "prompt_number": 26,
       "text": [
        "<matplotlib.image.AxesImage at 0xa20a290>"
       ]
      },
      {
       "metadata": {},
       "output_type": "display_data",
       "png": "[encoded data removed]",
       "text": [
        "<matplotlib.figure.Figure at 0x9c82450>"
       ]
      }
     ],
     "prompt_number": 26
    },
    {
     "cell_type": "code",
     "collapsed": false,
     "input": [
      "pylab.imshow(imageB.reshape(28, 28), cmap=\"Greys\")"
     ],
     "language": "python",
     "metadata": {},
     "outputs": [
      {
       "metadata": {},
       "output_type": "pyout",
       "prompt_number": 36,
       "text": [
        "<matplotlib.image.AxesImage at 0x6fe5610>"
       ]
      },
      {
       "metadata": {},
       "output_type": "display_data",
       "png": "[encoded data removed]",
       "text": [
        "<matplotlib.figure.Figure at 0xa427f50>"
       ]
      }
     ],
     "prompt_number": 36
    },
    {
     "cell_type": "code",
     "collapsed": false,
     "input": [
      "def performance_score(target_label, predicted_label, with_auc_score = False, print_report = True): \n",
      "    \"\"\" get performance matrix for prediction\n",
      "        Attributes:\n",
      "            target_label: int 0, 1\n",
      "            predicted_label: 0, 1 or ranking\n",
      "            with_auc_score: bool if False, predicted_label is from 0, 1. If Ture, predicted_label is ranked, need to get AUC score.\n",
      "            print_report: if True, print the perfromannce on screen\n",
      "    \"\"\"\n",
      "    import sklearn\n",
      "    from sklearn.metrics import roc_auc_score\n",
      "    score = {}\n",
      "    if with_auc_score == False:\n",
      "        score['accuracy'] = sklearn.metrics.accuracy_score(target_label, predicted_label)\n",
      "        score['precision'] = sklearn.metrics.precision_score(target_label, predicted_label, pos_label=1)\n",
      "        score['recall'] = sklearn.metrics.recall_score(target_label, predicted_label, pos_label=1)\n",
      "    if with_auc_score == True:\n",
      "        auc_score  = roc_auc_score(target_label, predicted_label)\n",
      "        score['auc_score'] = auc_score\n",
      "        target_label = [x >= 0.5 for x in target_label]\n",
      "        score['accuracy'] = sklearn.metrics.accuracy_score(target_label, predicted_label)\n",
      "        score['precision'] = sklearn.metrics.precision_score(target_label, predicted_label, pos_label=1)\n",
      "        score['recall'] = sklearn.metrics.recall_score(target_label, predicted_label, pos_label=1)\n",
      "    if print_report == True:\n",
      "        for key, value in score.iteritems():\n",
      "            print key, '{percent:.1%}'.format(percent=value)\n",
      "    return score\n",
      "def saveAsCsv(with_auc_score, fname, score_dict, arguments): #new\n",
      "    newfile = False\n",
      "    if os.path.isfile('report_' + fname + '.csv'):\n",
      "        pass\n",
      "    else:\n",
      "        newfile = True\n",
      "    csvfile = open('report_' + fname + '.csv', 'a+')\n",
      "    writer = csv.writer(csvfile)\n",
      "    if newfile == True:\n",
      "        if with_auc_score == False:\n",
      "            writer.writerow(['no.',  'method', 'isTest']+ score_dict.keys()) #, 'AUC'])\n",
      "        else:\n",
      "            writer.writerow(['no.',  'method', 'isTest'] + score_dict.keys())\n",
      "    for arg in arguments:        \n",
      "        writer.writerow([i for i in arg])\n",
      "    csvfile.close()\n",
      "def run_models(settings = None):\n",
      "    analysis_scr = []\n",
      "    with_auc_score = settings['with_auc_score']\n",
      "\n",
      "    for subset_no in xrange(1,settings['number_iterations']+1):\n",
      "        print(\"Subset:\", subset_no)\n",
      "        \n",
      "        ################## generate data ###################\n",
      "        array_A =[]\n",
      "        array_B =[]\n",
      "        for i in range(100000):\n",
      "            array_A.append(np.random.random_integers(0, 59999))\n",
      "            array_B.append(np.random.random_integers(0, 59999))\n",
      "        pos_index = []\n",
      "        neg_index = []\n",
      "        for index in xrange(100000):\n",
      "            if y_total[array_A[index]] - y_total[array_B[index]] == 1:\n",
      "                pos_index.append(index)\n",
      "            else:\n",
      "                neg_index.append(index)\n",
      "        print 'number of positive examples', len(pos_index)\n",
      "        selected_neg_index= neg_index[ : len(pos_index)]    \n",
      "        \n",
      "        array_A = np.array(array_A)\n",
      "        array_B = np.array(array_B)\n",
      "        index_for_positive_image_A = array_A[pos_index]\n",
      "        index_for_positive_image_B = array_B[pos_index]\n",
      "        index_for_neg_image_A = array_A[selected_neg_index]\n",
      "        index_for_neg_image_B = array_B[selected_neg_index]\n",
      "\n",
      "        X_pos_A = X_total[index_for_positive_image_A]\n",
      "        X_pos_B = X_total[index_for_positive_image_B]\n",
      "        X_pos_whole = np.hstack((X_pos_A,X_pos_B))\n",
      "        X_neg_A = X_total[index_for_neg_image_A]\n",
      "        X_neg_B = X_total[index_for_neg_image_B]\n",
      "        X_neg_whole = np.hstack((X_neg_A, X_neg_B))\n",
      "        print X_pos_A.shape,  X_pos_B.shape, X_pos_whole.shape\n",
      "        print X_neg_A.shape,  X_neg_B.shape, X_neg_whole.shape\n",
      "\n",
      "        X_whole = np.vstack((X_pos_whole, X_neg_whole))\n",
      "        print X_whole.shape\n",
      "        y_pos = np.ones(X_pos_whole.shape[0])\n",
      "        y_neg = np.zeros(X_neg_whole.shape[0])\n",
      "        y_whole = np.concatenate([y_pos,y_neg])\n",
      "        print y_whole\n",
      "        \n",
      "        x_train_pre_validation_minmax, x_test_minmax, y_train_pre_validation_minmax, y_test_minmax = train_test_split(X_whole,y_whole,\\\n",
      "                                                            test_size=0.2, random_state=211)\n",
      "        x_train_minmax, x_validation_minmax, y_train_minmax, y_validation_minmax = train_test_split(x_train_pre_validation_minmax,\n",
      "                                                                                                    y_train_pre_validation_minmax,\\\n",
      "                                                                    test_size=0.2, random_state=21)\n",
      "        print x_train_minmax.shape, y_train_minmax.shape, x_validation_minmax.shape, \\\n",
      "        y_validation_minmax.shape, x_test_minmax.shape, y_test_minmax.shape\n",
      "\n",
      "        train_X_reduced = x_train_minmax\n",
      "        train_y_reduced = y_train_minmax\n",
      "        test_X = x_test_minmax\n",
      "        test_y = y_test_minmax\n",
      "        ###original data###\n",
      "        ################ end of data ####################\n",
      "        if settings['SVM']:\n",
      "            print \"SVM\"                   \n",
      "            standard_scaler = preprocessing.StandardScaler().fit(train_X_reduced)\n",
      "            scaled_train_X = standard_scaler.transform(train_X_reduced)\n",
      "            scaled_test_X = standard_scaler.transform(test_X)\n",
      "            Linear_SVC = LinearSVC(C=1, penalty=\"l2\")\n",
      "            Linear_SVC.fit(scaled_train_X, train_y_reduced)\n",
      "            predicted_test_y = Linear_SVC.predict(scaled_test_X)\n",
      "            isTest = True; #new\n",
      "            analysis_scr.append((subset_no,  'SVM', isTest) + tuple(performance_score(test_y, predicted_test_y).values())) #new\n",
      "\n",
      "            predicted_train_y = Linear_SVC.predict(scaled_train_X)\n",
      "            isTest = False; #new\n",
      "            analysis_scr.append(( subset_no, 'SVM', isTest) + tuple(performance_score(train_y_reduced, predicted_train_y).values()))\n",
      "\n",
      "        if settings['SVM_RBF']:\n",
      "            print \"SVM_RBF\"\n",
      "            standard_scaler = preprocessing.StandardScaler().fit(train_X_reduced)\n",
      "            scaled_train_X = standard_scaler.transform(train_X_reduced)\n",
      "            scaled_test_X = standard_scaler.transform(test_X)\n",
      "            L1_SVC_RBF_Selector = SVC(C=1, gamma=0.01, kernel='rbf').fit(scaled_train_X, train_y_reduced)\n",
      "\n",
      "            predicted_test_y = L1_SVC_RBF_Selector.predict(scaled_test_X)\n",
      "            isTest = True; #new\n",
      "            analysis_scr.append((subset_no,  'SVM_RBF', isTest) + tuple(performance_score(test_y, predicted_test_y).values())) #new\n",
      "\n",
      "            predicted_train_y = L1_SVC_RBF_Selector.predict(scaled_train_X)\n",
      "            isTest = False; #new\n",
      "            analysis_scr.append((subset_no,  'SVM_RBF', isTest) + tuple(performance_score(train_y_reduced, predicted_train_y).values()))\n",
      "        if settings['SVM_POLY']:\n",
      "            print \"SVM_POLY\"\n",
      "            standard_scaler = preprocessing.StandardScaler().fit(train_X_reduced)\n",
      "            scaled_train_X = standard_scaler.transform(train_X_reduced)\n",
      "            scaled_test_X = standard_scaler.transform(test_X)\n",
      "            L1_SVC_POLY_Selector = SVC(C=1, kernel='poly').fit(scaled_train_X, train_y_reduced)\n",
      "\n",
      "            predicted_test_y = L1_SVC_POLY_Selector.predict(scaled_test_X)\n",
      "            isTest = True; #new\n",
      "            analysis_scr.append(( subset_no, 'SVM_POLY', isTest) + tuple(performance_score(test_y, predicted_test_y).values())) #new\n",
      "\n",
      "            predicted_train_y = L1_SVC_POLY_Selector.predict(scaled_train_X)\n",
      "            isTest = False; #new\n",
      "            analysis_scr.append((subset_no, 'SVM_POLY', isTest) + tuple(performance_score(train_y_reduced, predicted_train_y).values()))\n",
      "        \n",
      "        if settings['Log']:\n",
      "            print \"Log\"\n",
      "            standard_scaler = preprocessing.StandardScaler().fit(train_X_reduced)\n",
      "            scaled_train_X = standard_scaler.transform(train_X_reduced)\n",
      "            scaled_test_X = standard_scaler.transform(test_X)\n",
      "            \n",
      "            log_clf_l2 = sklearn.linear_model.LogisticRegression(C=1, penalty='l2' )\n",
      "            log_clf_l2.fit(scaled_train_X, train_y_reduced)\n",
      "\n",
      "            predicted_test_y = log_clf_l2.predict(scaled_test_X)\n",
      "            isTest = True; #new\n",
      "            analysis_scr.append((subset_no, 'Log', isTest) + tuple(performance_score(test_y, predicted_test_y).values())) #new\n",
      "\n",
      "            predicted_train_y = log_clf_l2.predict(scaled_train_X)\n",
      "            isTest = False; #new\n",
      "            analysis_scr.append((subset_no, 'Log', isTest) + tuple(performance_score(train_y_reduced, predicted_train_y).values()))        \n",
      "        \n",
      "        # direct deep learning \n",
      "\n",
      "        finetune_lr = settings['finetune_lr']\n",
      "        batch_size = settings['batch_size']\n",
      "        pretraining_epochs = cal_epochs(settings['pretraining_interations'], x_train_minmax, batch_size = batch_size)\n",
      "        #pretrain_lr=0.001\n",
      "        pretrain_lr = settings['pretrain_lr']\n",
      "        training_epochs = settings['training_epochs']\n",
      "        hidden_layers_sizes = settings['hidden_layers_sizes']\n",
      "        corruption_levels = settings['corruption_levels']\n",
      "\n",
      "\n",
      "        if settings['DL']:\n",
      "            print \"direct deep learning\"\n",
      "            sda = trainSda(x_train_minmax, y_train_minmax,\n",
      "                         x_validation_minmax, y_validation_minmax , \n",
      "                         x_test_minmax, test_y,\n",
      "                         hidden_layers_sizes = hidden_layers_sizes, corruption_levels = corruption_levels, batch_size = batch_size , \\\n",
      "                         training_epochs = training_epochs, pretraining_epochs = pretraining_epochs, \n",
      "                         pretrain_lr = pretrain_lr, finetune_lr=finetune_lr\n",
      "             )\n",
      "            print 'hidden_layers_sizes:', hidden_layers_sizes\n",
      "            print 'corruption_levels:', corruption_levels\n",
      "            \n",
      "            test_predicted = sda.predict(x_test_minmax)\n",
      "            y_test = test_y\n",
      "            isTest = True; #new\n",
      "            analysis_scr.append((subset_no, 'DL', isTest) + tuple(performance_score(y_test, test_predicted).values()))\n",
      "            \n",
      "            training_predicted = sda.predict(x_train_minmax)\n",
      "            y_train = y_train_minmax\n",
      "            isTest = False; #new\n",
      "            analysis_scr.append((subset_no, 'DL', isTest) + tuple(performance_score(y_train, training_predicted).values()))\n",
      "            \n",
      "        ####transformed original data####    \n",
      "        x = train_X_reduced\n",
      "        a_MAE_A = train_a_MultipleAEs(x, pretraining_epochs=pretraining_epochs, pretrain_lr=pretrain_lr, batch_size=batch_size, \n",
      "                                hidden_layers_sizes =hidden_layers_sizes, corruption_levels=corruption_levels)\n",
      "        new_x_train_minmax_A =  a_MAE_A.transform(train_X_reduced)\n",
      "        new_x_test_minmax_A =  a_MAE_A.transform(x_test_minmax)            \n",
      "            \n",
      "        if settings['SAE_SVM']: \n",
      "            # SAE_SVM\n",
      "            print 'SAE followed by SVM'\n",
      "\n",
      "            Linear_SVC = LinearSVC(C=1, penalty=\"l2\")\n",
      "            Linear_SVC.fit(new_x_train_minmax_A, train_y_reduced)\n",
      "            predicted_test_y = Linear_SVC.predict(new_x_test_minmax_A)\n",
      "            isTest = True; #new\n",
      "            analysis_scr.append(( subset_no, 'SAE_SVM', isTest) + tuple(performance_score(test_y, predicted_test_y).values())) #new\n",
      "\n",
      "            predicted_train_y = Linear_SVC.predict(new_x_train_minmax_A)\n",
      "            isTest = False; #new\n",
      "            analysis_scr.append(( subset_no, 'SAE_SVM', isTest) + tuple(performance_score(train_y_reduced, predicted_train_y).values()))\n",
      "        if settings['SAE_SVM_RBF']: \n",
      "            # SAE_SVM\n",
      "            print 'SAE followed by SVM RBF'\n",
      "            L1_SVC_RBF_Selector = SVC(C=1, gamma=0.01, kernel='rbf').fit(new_x_train_minmax_A, train_y_reduced)\n",
      "\n",
      "            predicted_test_y = L1_SVC_RBF_Selector.predict(new_x_test_minmax_A)\n",
      "            isTest = True; #new\n",
      "            analysis_scr.append((subset_no,  'SAE_SVM_RBF', isTest) + tuple(performance_score(test_y, predicted_test_y).values())) #new\n",
      "\n",
      "            predicted_train_y = L1_SVC_RBF_Selector.predict(new_x_train_minmax_A)\n",
      "            isTest = False; #new\n",
      "            analysis_scr.append((subset_no,  'SAE_SVM_RBF', isTest) + tuple(performance_score(train_y_reduced, predicted_train_y).values()))\n",
      "        if settings['SAE_SVM_POLY']: \n",
      "            # SAE_SVM\n",
      "            print 'SAE followed by SVM POLY'\n",
      "            L1_SVC_RBF_Selector = SVC(C=1, kernel='poly').fit(new_x_train_minmax_A, train_y_reduced)\n",
      "\n",
      "            predicted_test_y = L1_SVC_RBF_Selector.predict(new_x_test_minmax_A)\n",
      "            isTest = True; #new\n",
      "            analysis_scr.append((subset_no,  'SAE_SVM_POLY', isTest) + tuple(performance_score(test_y, predicted_test_y).values())) #new\n",
      "\n",
      "            predicted_train_y = L1_SVC_RBF_Selector.predict(new_x_train_minmax_A)\n",
      "            isTest = False; #new\n",
      "            analysis_scr.append((subset_no,  'SAE_SVM_POLY', isTest) + tuple(performance_score(train_y_reduced, predicted_train_y).values()))\n",
      "\n",
      "        #### separated transformed data ####\n",
      "        y_test = test_y\n",
      "        print 'deep learning using split network'\n",
      "        # get the new representation for A set. first 784-D\n",
      "        pretraining_epochs = cal_epochs(settings['pretraining_interations'], x_train_minmax, batch_size = batch_size)\n",
      "\n",
      "        x = x_train_minmax[:, :x_train_minmax.shape[1]/2]\n",
      "        print \"original shape for A\", x.shape\n",
      "        a_MAE_A = train_a_MultipleAEs(x, pretraining_epochs=pretraining_epochs, pretrain_lr=pretrain_lr, batch_size=batch_size, \n",
      "                                hidden_layers_sizes = [x/2 for x in hidden_layers_sizes], corruption_levels=corruption_levels)\n",
      "        new_x_train_minmax_A =  a_MAE_A.transform(x_train_minmax[:, :x_train_minmax.shape[1]/2])\n",
      "        x = x_train_minmax[:, x_train_minmax.shape[1]/2:]\n",
      "\n",
      "        print \"original shape for B\", x.shape\n",
      "        a_MAE_B = train_a_MultipleAEs(x, pretraining_epochs=pretraining_epochs, pretrain_lr=pretrain_lr, batch_size=batch_size, \n",
      "                                hidden_layers_sizes = [x/2 for x in hidden_layers_sizes], corruption_levels=corruption_levels)\n",
      "        new_x_train_minmax_B =  a_MAE_B.transform(x_train_minmax[:, x_train_minmax.shape[1]/2:])\n",
      "\n",
      "        new_x_test_minmax_A = a_MAE_A.transform(x_test_minmax[:, :x_test_minmax.shape[1]/2])\n",
      "        new_x_test_minmax_B = a_MAE_B.transform(x_test_minmax[:, x_test_minmax.shape[1]/2:])\n",
      "        new_x_validation_minmax_A = a_MAE_A.transform(x_validation_minmax[:, :x_validation_minmax.shape[1]/2])\n",
      "        new_x_validation_minmax_B = a_MAE_B.transform(x_validation_minmax[:, x_validation_minmax.shape[1]/2:])\n",
      "        new_x_train_minmax_whole = np.hstack((new_x_train_minmax_A, new_x_train_minmax_B))\n",
      "        new_x_test_minmax_whole = np.hstack((new_x_test_minmax_A, new_x_test_minmax_B))\n",
      "        new_x_validationt_minmax_whole = np.hstack((new_x_validation_minmax_A, new_x_validation_minmax_B))        \n",
      "        if settings['DL_S']:\n",
      "            # deep learning using split network\n",
      "            sda_transformed = trainSda(new_x_train_minmax_whole, y_train_minmax,\n",
      "                 new_x_validationt_minmax_whole, y_validation_minmax , \n",
      "                 new_x_test_minmax_whole, y_test,\n",
      "                 hidden_layers_sizes = hidden_layers_sizes, corruption_levels = corruption_levels, batch_size = batch_size , \\\n",
      "                 training_epochs = training_epochs, pretraining_epochs = pretraining_epochs, \n",
      "                 pretrain_lr = pretrain_lr, finetune_lr=finetune_lr\n",
      "                 )\n",
      "            print 'hidden_layers_sizes:', hidden_layers_sizes\n",
      "            print 'corruption_levels:', corruption_levels\n",
      "            \n",
      "            test_predicted = sda_transformed.predict(new_x_test_minmax_whole)\n",
      "            y_test = test_y\n",
      "            isTest = True; #new\n",
      "            analysis_scr.append((subset_no, 'DL_S', isTest) + tuple(performance_score(y_test, test_predicted, with_auc_score).values()))\n",
      "\n",
      "            training_predicted = sda_transformed.predict(new_x_train_minmax_whole)\n",
      "            y_train = y_train_minmax\n",
      "            isTest = False; #new\n",
      "            analysis_scr.append((subset_no, 'DL_S', isTest) + tuple(performance_score(y_train, training_predicted, with_auc_score).values()))\n",
      "        if settings['SAE_S_SVM']:\n",
      "            print 'SAE_S followed by SVM'\n",
      "\n",
      "            Linear_SVC = LinearSVC(C=1, penalty=\"l2\")\n",
      "            Linear_SVC.fit(new_x_train_minmax_whole, train_y_reduced)\n",
      "            predicted_test_y = Linear_SVC.predict(new_x_test_minmax_whole)\n",
      "            isTest = True; #new\n",
      "            analysis_scr.append(( subset_no, 'SAE_S_SVM', isTest) + tuple(performance_score(test_y, predicted_test_y, with_auc_score).values())) #new\n",
      "\n",
      "            predicted_train_y = Linear_SVC.predict(new_x_train_minmax_whole)\n",
      "            isTest = False; #new\n",
      "            analysis_scr.append(( subset_no, 'SAE_S_SVM', isTest) + tuple(performance_score(train_y_reduced, predicted_train_y, with_auc_score).values()))\n",
      "        if settings['SAE_S_SVM_RBF']: \n",
      "            print 'SAE S followed by SVM RBF'\n",
      "            L1_SVC_RBF_Selector = SVC(C=1, gamma=0.01, kernel='rbf').fit(new_x_train_minmax_whole, train_y_reduced)\n",
      "\n",
      "            predicted_test_y = L1_SVC_RBF_Selector.predict(new_x_test_minmax_whole)\n",
      "            isTest = True; #new\n",
      "            analysis_scr.append((subset_no,  'SAE_S_SVM_RBF', isTest) + tuple(performance_score(test_y, predicted_test_y, with_auc_score).values())) #new\n",
      "\n",
      "            predicted_train_y = L1_SVC_RBF_Selector.predict(new_x_train_minmax_whole)\n",
      "            isTest = False; #new\n",
      "            analysis_scr.append((subset_no,  'SAE_S_SVM_RBF', isTest) + tuple(performance_score(train_y_reduced, predicted_train_y, with_auc_score).values()))\n",
      "        if settings['SAE_S_SVM_POLY']: \n",
      "            # SAE_SVM\n",
      "            print 'SAE S followed by SVM POLY'\n",
      "            L1_SVC_RBF_Selector = SVC(C=1, kernel='poly').fit(new_x_train_minmax_whole, train_y_reduced)\n",
      "\n",
      "            predicted_test_y = L1_SVC_RBF_Selector.predict(new_x_test_minmax_whole)\n",
      "            isTest = True; #new\n",
      "            analysis_scr.append((subset_no,  'SAE_S_SVM_POLY', isTest) + tuple(performance_score(test_y, predicted_test_y, with_auc_score).values())) #new\n",
      "\n",
      "            predicted_train_y = L1_SVC_RBF_Selector.predict(new_x_train_minmax_whole)\n",
      "            isTest = False; #new\n",
      "            analysis_scr.append((subset_no,  'SAE_S_SVM_POLY', isTest) + tuple(performance_score(train_y_reduced, predicted_train_y, with_auc_score).values()))\n",
      "     \n",
      "    report_name = 'DL_handwritten_digits' + '_size_'.join(map(str, hidden_layers_sizes)) + \\\n",
      "                    '_' + str(pretrain_lr) + '_' + str(finetune_lr) + '_' + \\\n",
      "            '_' + str(training_epochs) + '_' + current_date\n",
      "    saveAsCsv(with_auc_score, report_name, performance_score(test_y, predicted_test_y, with_auc_score), analysis_scr)"
     ],
     "language": "python",
     "metadata": {},
     "outputs": [],
     "prompt_number": 35
    },
    {
     "cell_type": "code",
     "collapsed": false,
     "input": [
      "run_models(settings)"
     ],
     "language": "python",
     "metadata": {},
     "outputs": [
      {
       "output_type": "stream",
       "stream": "stdout",
       "text": [
        "('Subset:', 1)\n",
        "number of positive examples"
       ]
      },
      {
       "output_type": "stream",
       "stream": "stdout",
       "text": [
        " 9130\n",
        "(9130L, 784L)"
       ]
      },
      {
       "output_type": "stream",
       "stream": "stdout",
       "text": [
        " (9130L, 784L) (9130L, 1568L)\n",
        "(9130L, 784L) (9130L, 784L) (9130L, 1568L)\n",
        "(18260L, 1568L)"
       ]
      },
      {
       "output_type": "stream",
       "stream": "stdout",
       "text": [
        "\n",
        "[ 1.  1.  1. ...,  0.  0.  0.]\n",
        "(11686L, 1568L)"
       ]
      },
      {
       "output_type": "stream",
       "stream": "stdout",
       "text": [
        " (11686L,) (2922L, 1568L) (2922L,) (3652L, 1568L) (3652L,)\n",
        "... building the model\n",
        "... getting the pretraining functions\n",
        "... pre-training the model"
       ]
      },
      {
       "output_type": "stream",
       "stream": "stdout",
       "text": [
        "\n",
        "SAE followed by SVM"
       ]
      },
      {
       "output_type": "stream",
       "stream": "stdout",
       "text": [
        "\n",
        "recall"
       ]
      },
      {
       "output_type": "stream",
       "stream": "stdout",
       "text": [
        " 64.3%\n",
        "precision 60.4%\n",
        "accuracy 61.6%\n",
        "recall 66.5%\n",
        "precision 63.1%\n",
        "accuracy 63.7%\n",
        "deep learning using split network\n",
        "original shape for A (11686L, 784L)\n",
        "... building the model\n",
        "... getting the pretraining functions\n",
        "... pre-training the model"
       ]
      },
      {
       "output_type": "stream",
       "stream": "stdout",
       "text": [
        "\n",
        "original shape for B"
       ]
      },
      {
       "output_type": "stream",
       "stream": "stdout",
       "text": [
        " (11686L, 784L)\n",
        "... building the model\n",
        "... getting the pretraining functions\n",
        "... pre-training the model"
       ]
      },
      {
       "output_type": "stream",
       "stream": "stdout",
       "text": [
        "\n",
        "recall"
       ]
      },
      {
       "output_type": "stream",
       "stream": "stdout",
       "text": [
        " 64.3%\n",
        "precision 60.4%\n",
        "accuracy 61.6%\n"
       ]
      }
     ],
     "prompt_number": 63
    },
    {
     "cell_type": "code",
     "collapsed": false,
     "input": [
      "x = logging._handlers.copy()\n",
      "for i in x:\n",
      "    log.removeHandler(i)\n",
      "    i.flush()\n",
      "    i.close()"
     ],
     "language": "python",
     "metadata": {},
     "outputs": [],
     "prompt_number": 48
    },
    {
     "cell_type": "code",
     "collapsed": false,
     "input": [],
     "language": "python",
     "metadata": {},
     "outputs": []
    }
   ],
   "metadata": {}
  }
 ]
}