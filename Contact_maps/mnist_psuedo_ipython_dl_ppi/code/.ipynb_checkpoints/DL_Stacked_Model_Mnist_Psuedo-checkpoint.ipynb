{
 "metadata": {
  "name": "",
  "signature": "sha256:035d8aedd0059a1b2dded5a7b86fd2f8081ac148b53f9c80eda8ea73aa7a7e55"
 },
 "nbformat": 3,
 "nbformat_minor": 0,
 "worksheets": [
  {
   "cells": [
    {
     "cell_type": "code",
     "collapsed": false,
     "input": [
      "# this part imports libs and load data from csv file\n",
      "import sys\n",
      "sys.path.append('../../../libs/')\n",
      "import csv\n",
      "from dateutil import parser\n",
      "from datetime import timedelta\n",
      "\n",
      "import numpy as np\n",
      "import pandas as pd\n",
      "import pickle\n",
      "from sklearn.cross_validation import train_test_split\n",
      "from sklearn import preprocessing\n",
      "import sklearn\n",
      "import scipy.stats as ss\n",
      "import cPickle\n",
      "import gzip\n",
      "import os\n",
      "import time\n",
      "import numpy\n",
      "import theano\n",
      "import theano.tensor as T\n",
      "from theano.tensor.shared_randomstreams import RandomStreams\n",
      "import os.path\n",
      "import IO_class\n",
      "from IO_class import FileOperator\n",
      "from sklearn import cross_validation\n",
      "import sklearn\n",
      "import numpy as np\n",
      "import csv\n",
      "from dateutil import parser\n",
      "from datetime import timedelta\n",
      "\n",
      "import numpy as np\n",
      "import pandas as pd\n",
      "import pdb\n",
      "import pickle\n",
      "import numpy as np\n",
      "from sklearn.cross_validation import train_test_split\n",
      "from sklearn.cross_validation import KFold\n",
      "from sklearn import preprocessing\n",
      "import sklearn\n",
      "import scipy.stats as ss\n",
      "\n",
      "import random\n",
      "from DL_libs import *\n",
      "from itertools import izip #new\n",
      "import math\n"
     ],
     "language": "python",
     "metadata": {},
     "outputs": [
      {
       "output_type": "stream",
       "stream": "stderr",
       "text": [
        "/usr/local/lib/python2.7/dist-packages/scipy/spatial/__init__.py:91: RuntimeWarning: numpy.dtype size changed, may indicate binary incompatibility\n",
        "  from .qhull import *\n",
        "/usr/local/lib/python2.7/dist-packages/scipy/spatial/__init__.py:91: RuntimeWarning: numpy.ufunc size changed, may indicate binary incompatibility\n",
        "  from .qhull import *\n",
        "/usr/local/lib/python2.7/dist-packages/scipy/lib/_util.py:35: DeprecationWarning: Module scipy.linalg.blas.fblas is deprecated, use scipy.linalg.blas instead\n",
        "  DeprecationWarning)\n"
       ]
      }
     ],
     "prompt_number": 1
    },
    {
     "cell_type": "code",
     "collapsed": false,
     "input": [
      "\n",
      "\n",
      "f = gzip.open('mnist.pkl.gz', 'rb')\n",
      "train_set, valid_set, test_set = cPickle.load(f)\n",
      "X_train,y_train = train_set\n",
      "X_valid,y_valid = valid_set\n",
      "X_total=np.vstack((X_train, X_valid))\n",
      "X_total = np.array(X_total, dtype= theano.config.floatX)\n",
      "print(X_total.shape)\n",
      "y_total = np.concatenate([y_train, y_valid])\n",
      "print y_total.shape\n",
      "array_A =[]\n",
      "array_B =[]\n",
      "for i in range(100000):\n",
      "    array_A.append(np.random.random_integers(0, 59999))\n",
      "    array_B.append(np.random.random_integers(0, 59999))\n",
      "pos_index = []\n",
      "neg_index = []\n",
      "for index in xrange(100000):\n",
      "    if (y_total[array_A[index]] - y_total[array_B[index]]) == 1:\n",
      "        pos_index.append(index)\n",
      "    else:\n",
      "        neg_index.append(index)\n",
      "print len(pos_index)\n",
      "selected_neg_index= neg_index[ : len(pos_index)]\n",
      "print len(selected_neg_index)"
     ],
     "language": "python",
     "metadata": {},
     "outputs": [
      {
       "output_type": "stream",
       "stream": "stdout",
       "text": [
        "(60000, 784)\n",
        "(60000,)\n",
        "9229"
       ]
      },
      {
       "output_type": "stream",
       "stream": "stdout",
       "text": [
        "\n",
        "9229\n"
       ]
      }
     ],
     "prompt_number": 2
    },
    {
     "cell_type": "code",
     "collapsed": false,
     "input": [
      "type(X_train)"
     ],
     "language": "python",
     "metadata": {},
     "outputs": [
      {
       "metadata": {},
       "output_type": "pyout",
       "prompt_number": 5,
       "text": [
        "numpy.ndarray"
       ]
      }
     ],
     "prompt_number": 5
    },
    {
     "cell_type": "code",
     "collapsed": false,
     "input": [
      "import pandas as pd\n",
      "array_A = np.array(array_A)\n",
      "array_B = np.array(array_B)\n",
      "index_for_positive_image_A = array_A[pos_index]\n",
      "index_for_positive_image_B = array_B[pos_index]\n",
      "index_for_neg_image_A = array_A[selected_neg_index]\n",
      "index_for_neg_image_B = array_B[selected_neg_index]\n",
      "\n",
      "X_pos_A = X_total[index_for_positive_image_A]\n",
      "X_pos_B = X_total[index_for_positive_image_B]\n",
      "X_pos_whole = np.hstack((X_pos_A,X_pos_B))\n",
      "X_neg_A = X_total[index_for_neg_image_A]\n",
      "X_neg_B = X_total[index_for_neg_image_B]\n",
      "X_neg_whole = np.hstack((X_neg_A, X_neg_B))\n",
      "print X_pos_A.shape,  X_pos_B.shape, X_pos_whole.shape\n",
      "print X_neg_A.shape,  X_neg_B.shape, X_neg_whole.shape\n",
      "\n",
      "X_whole = np.vstack((X_pos_whole, X_neg_whole))\n",
      "print X_whole.shape\n",
      "y_pos = np.ones(X_pos_whole.shape[0])\n",
      "y_neg = np.zeros(X_neg_whole.shape[0])\n",
      "y_whole = np.concatenate([y_pos,y_neg])\n",
      "print y_whole"
     ],
     "language": "python",
     "metadata": {},
     "outputs": [
      {
       "output_type": "stream",
       "stream": "stdout",
       "text": [
        "(9229, 784) (9229, 784) (9229, 1568)\n",
        "(9229, 784) (9229, 784) (9229, 1568)\n",
        "(18458, 1568)"
       ]
      },
      {
       "output_type": "stream",
       "stream": "stdout",
       "text": [
        "\n",
        "[ 1.  1.  1. ...,  0.  0.  0.]\n"
       ]
      }
     ],
     "prompt_number": 3
    },
    {
     "cell_type": "code",
     "collapsed": false,
     "input": [
      "\n",
      "x_train_pre_validation_minmax, x_test_minmax, y_train_pre_validation_minmax, y_test_minmax = train_test_split(X_whole,y_whole,\\\n",
      "                                                            test_size=0.2, random_state=211)\n",
      "x_train_minmax, x_validation_minmax, y_train_minmax, y_validation_minmax = train_test_split(x_train_pre_validation_minmax,\n",
      "                                                                                            y_train_pre_validation_minmax,\\\n",
      "                                                            test_size=0.2, random_state=21)\n",
      "print x_train_minmax.shape, y_train_minmax.shape, x_validation_minmax.shape, \\\n",
      "y_validation_minmax.shape, x_test_minmax.shape, y_test_minmax.shape\n"
     ],
     "language": "python",
     "metadata": {},
     "outputs": [
      {
       "output_type": "stream",
       "stream": "stdout",
       "text": [
        "(11812, 1568) (11812,) (2954, 1568) (2954,) (3692, 1568) (3692,)\n"
       ]
      }
     ],
     "prompt_number": 4
    },
    {
     "cell_type": "code",
     "collapsed": false,
     "input": [
      "import sklearn.covariance, sklearn.cluster\n",
      "cov = sklearn.covariance.empirical_covariance(x_train_pre_validation_minmax[:2000, :], assume_centered=False)"
     ],
     "language": "python",
     "metadata": {},
     "outputs": [],
     "prompt_number": 12
    },
    {
     "cell_type": "code",
     "collapsed": false,
     "input": [
      "from numpy import corrcoef, sum, log, arange\n",
      "from numpy.random import rand\n",
      "from pylab import pcolor, show, colorbar, xticks, yticks\n",
      "abscov = np.abs(cov)"
     ],
     "language": "python",
     "metadata": {},
     "outputs": [],
     "prompt_number": 6
    },
    {
     "cell_type": "code",
     "collapsed": false,
     "input": [
      "cluster = sklearn.cluster.AffinityPropagation(damping=0.5, max_iter=5000, convergence_iter=300, copy=True, preference=None, affinity='precomputed', verbose=True)\n",
      "cluster.fit(abscov/(np.max(abscov.flatten())-np.min(abscov.flatten())))"
     ],
     "language": "python",
     "metadata": {},
     "outputs": [
      {
       "output_type": "stream",
       "stream": "stdout",
       "text": [
        "Converged after 329 iterations.\n"
       ]
      },
      {
       "metadata": {},
       "output_type": "pyout",
       "prompt_number": 98,
       "text": [
        "AffinityPropagation(affinity='precomputed', convergence_iter=300, copy=True,\n",
        "          damping=0.5, max_iter=5000, preference=None, verbose=True)"
       ]
      }
     ],
     "prompt_number": 98
    },
    {
     "cell_type": "code",
     "collapsed": false,
     "input": [
      "cluster.labels_"
     ],
     "language": "python",
     "metadata": {},
     "outputs": [
      {
       "metadata": {},
       "output_type": "pyout",
       "prompt_number": 99,
       "text": [
        "array([  0,   1,   2, ..., 456, 457, 458])"
       ]
      }
     ],
     "prompt_number": 99
    },
    {
     "cell_type": "code",
     "collapsed": false,
     "input": [
      "specluster = sklearn.cluster.SpectralClustering(n_clusters=3, eigen_solver=None, random_state=None, n_init=10, gamma=1.0, affinity='precomputed', n_neighbors=10, eigen_tol=0.0, assign_labels='kmeans', degree=3, coef0=1, kernel_params=None)\n"
     ],
     "language": "python",
     "metadata": {},
     "outputs": [],
     "prompt_number": 69
    },
    {
     "cell_type": "code",
     "collapsed": false,
     "input": [
      "specluster.fit(abscov/(np.max(abscov.flatten())-np.min(abscov.flatten())) +0.001)"
     ],
     "language": "python",
     "metadata": {},
     "outputs": [
      {
       "metadata": {},
       "output_type": "pyout",
       "prompt_number": 89,
       "text": [
        "SpectralClustering(affinity='precomputed', assign_labels='kmeans', coef0=1,\n",
        "          degree=3, eigen_solver=None, eigen_tol=0.0, gamma=1.0,\n",
        "          kernel_params=None, n_clusters=3, n_init=10, n_neighbors=10,\n",
        "          random_state=None)"
       ]
      }
     ],
     "prompt_number": 89
    },
    {
     "cell_type": "code",
     "collapsed": false,
     "input": [
      "minmaxscaler = sklearn.preprocessing.MinMaxScaler(feature_range=(0, 1), copy=True)"
     ],
     "language": "python",
     "metadata": {},
     "outputs": [],
     "prompt_number": 74
    },
    {
     "cell_type": "code",
     "collapsed": false,
     "input": [],
     "language": "python",
     "metadata": {},
     "outputs": [],
     "prompt_number": 88
    },
    {
     "cell_type": "code",
     "collapsed": false,
     "input": [
      "(np.max(abscov.flatten())-np.min(abscov.flatten()))"
     ],
     "language": "python",
     "metadata": {},
     "outputs": [
      {
       "metadata": {},
       "output_type": "pyout",
       "prompt_number": 87,
       "text": [
        "0.2879086065711936"
       ]
      }
     ],
     "prompt_number": 87
    },
    {
     "cell_type": "code",
     "collapsed": false,
     "input": [
      "specluster.labels_[:784]"
     ],
     "language": "python",
     "metadata": {},
     "outputs": [
      {
       "metadata": {},
       "output_type": "pyout",
       "prompt_number": 91,
       "text": [
        "array([1, 1, 1, 1, 1, 1, 1, 1, 1, 1, 1, 1, 1, 1, 1, 1, 1, 1, 1, 1, 1, 1, 1,\n",
        "       1, 1, 1, 1, 1, 1, 1, 1, 1, 1, 1, 1, 1, 1, 1, 1, 1, 1, 1, 1, 1, 1, 1,\n",
        "       1, 1, 1, 1, 1, 1, 1, 1, 1, 1, 1, 1, 1, 1, 1, 1, 1, 1, 1, 1, 1, 1, 1,\n",
        "       1, 1, 1, 1, 1, 1, 1, 1, 1, 1, 1, 1, 1, 1, 1, 1, 1, 1, 1, 1, 1, 1, 1,\n",
        "       1, 1, 1, 1, 1, 1, 1, 1, 1, 1, 1, 1, 1, 1, 1, 1, 1, 1, 1, 1, 1, 1, 1,\n",
        "       1, 1, 1, 1, 1, 1, 1, 1, 1, 2, 2, 2, 2, 2, 2, 2, 1, 1, 1, 1, 1, 1, 1,\n",
        "       1, 1, 1, 1, 1, 1, 1, 1, 1, 1, 1, 2, 2, 2, 2, 2, 2, 2, 2, 2, 2, 2, 1,\n",
        "       1, 1, 1, 1, 1, 1, 1, 1, 1, 1, 1, 1, 1, 1, 1, 2, 2, 2, 2, 2, 2, 2, 2,\n",
        "       2, 2, 2, 2, 2, 1, 1, 1, 1, 1, 1, 1, 1, 1, 1, 1, 1, 1, 1, 1, 2, 2, 2,\n",
        "       2, 2, 2, 2, 2, 2, 2, 2, 2, 2, 2, 1, 1, 1, 1, 1, 1, 1, 1, 1, 1, 1, 1,\n",
        "       1, 2, 2, 2, 2, 2, 2, 2, 2, 2, 2, 2, 2, 2, 2, 2, 1, 1, 1, 1, 1, 1, 1,\n",
        "       1, 1, 1, 1, 1, 1, 2, 2, 2, 2, 2, 2, 2, 2, 2, 2, 2, 2, 2, 2, 2, 2, 1,\n",
        "       1, 1, 1, 1, 1, 1, 1, 1, 1, 1, 1, 2, 2, 2, 2, 2, 2, 2, 2, 2, 2, 2, 2,\n",
        "       2, 2, 2, 2, 1, 1, 1, 1, 1, 1, 1, 1, 1, 1, 1, 1, 2, 2, 2, 2, 2, 2, 2,\n",
        "       2, 2, 2, 2, 2, 2, 2, 2, 2, 1, 1, 1, 1, 1, 1, 1, 1, 1, 1, 1, 2, 2, 2,\n",
        "       2, 2, 2, 2, 2, 2, 2, 2, 2, 2, 2, 2, 2, 2, 1, 1, 1, 1, 1, 1, 1, 1, 1,\n",
        "       1, 1, 2, 2, 2, 2, 2, 2, 2, 2, 2, 2, 2, 2, 2, 2, 2, 2, 2, 1, 1, 1, 1,\n",
        "       1, 1, 1, 1, 1, 1, 1, 2, 2, 2, 2, 2, 2, 2, 2, 2, 2, 2, 2, 2, 2, 2, 2,\n",
        "       2, 1, 1, 1, 1, 1, 1, 1, 1, 1, 1, 1, 2, 2, 2, 2, 2, 2, 2, 2, 2, 2, 2,\n",
        "       2, 2, 2, 2, 2, 2, 1, 1, 1, 1, 1, 1, 1, 1, 1, 1, 1, 2, 2, 2, 2, 2, 2,\n",
        "       2, 2, 2, 2, 2, 2, 2, 2, 2, 2, 2, 1, 1, 1, 1, 1, 1, 1, 1, 1, 1, 1, 2,\n",
        "       2, 2, 2, 2, 2, 2, 2, 2, 2, 2, 2, 2, 2, 2, 2, 2, 1, 1, 1, 1, 1, 1, 1,\n",
        "       1, 1, 1, 1, 2, 2, 2, 2, 2, 2, 2, 2, 2, 2, 2, 2, 2, 2, 2, 2, 2, 1, 1,\n",
        "       1, 1, 1, 1, 1, 1, 1, 1, 1, 2, 2, 2, 2, 2, 2, 2, 2, 2, 2, 2, 2, 2, 2,\n",
        "       2, 2, 1, 1, 1, 1, 1, 1, 1, 1, 1, 1, 1, 1, 2, 2, 2, 2, 2, 2, 2, 2, 2,\n",
        "       2, 2, 2, 2, 2, 2, 2, 1, 1, 1, 1, 1, 1, 1, 1, 1, 1, 1, 1, 2, 2, 2, 2,\n",
        "       2, 2, 2, 2, 2, 2, 2, 2, 2, 2, 2, 1, 1, 1, 1, 1, 1, 1, 1, 1, 1, 1, 1,\n",
        "       1, 1, 2, 2, 2, 2, 2, 2, 2, 2, 2, 2, 2, 2, 2, 1, 1, 1, 1, 1, 1, 1, 1,\n",
        "       1, 1, 1, 1, 1, 1, 1, 1, 2, 2, 2, 2, 2, 2, 2, 2, 2, 2, 2, 1, 1, 1, 1,\n",
        "       1, 1, 1, 1, 1, 1, 1, 1, 1, 1, 1, 1, 1, 1, 1, 2, 2, 2, 2, 2, 2, 2, 1,\n",
        "       1, 1, 1, 1, 1, 1, 1, 1, 1, 1, 1, 1, 1, 1, 1, 1, 1, 1, 1, 1, 1, 1, 2,\n",
        "       1, 1, 1, 1, 1, 1, 1, 1, 1, 1, 1, 1, 1, 1, 1, 1, 1, 1, 1, 1, 1, 1, 1,\n",
        "       1, 1, 1, 1, 1, 1, 1, 1, 1, 1, 1, 1, 1, 1, 1, 1, 1, 1, 1, 1, 1, 1, 1,\n",
        "       1, 1, 1, 1, 1, 1, 1, 1, 1, 1, 1, 1, 1, 1, 1, 1, 1, 1, 1, 1, 1, 1, 1,\n",
        "       1, 1], dtype=int32)"
       ]
      }
     ],
     "prompt_number": 91
    },
    {
     "cell_type": "code",
     "collapsed": false,
     "input": [
      "import scipy\n",
      "scipy.misc.imsave('covariance.jpg', cov)"
     ],
     "language": "python",
     "metadata": {},
     "outputs": [],
     "prompt_number": 39
    },
    {
     "cell_type": "code",
     "collapsed": false,
     "input": [
      "# this is a use case.\n",
      "pretraining_epochs=1\n",
      "pretrain_lr=0.001\n",
      "batch_size=30\n",
      "hidden_layers_sizes =[100, 100]\n",
      "corruption_levels=[0, 0]\n",
      "x =x_train_minmax\n",
      "print \"original shape\", x.shape\n",
      "a_MAE = train_a_MultipleAEs(x, pretraining_epochs=pretraining_epochs, pretrain_lr=pretrain_lr, batch_size=batch_size, \n",
      "                        hidden_layers_sizes =hidden_layers_sizes, corruption_levels=corruption_levels)\n",
      "print a_MAE.transform(x).shape"
     ],
     "language": "python",
     "metadata": {},
     "outputs": [
      {
       "output_type": "stream",
       "stream": "stdout",
       "text": [
        "original shape (12904, 1568)\n",
        "... building the model\n",
        "... getting the pretraining functions"
       ]
      },
      {
       "output_type": "stream",
       "stream": "stdout",
       "text": [
        "\n",
        "... pre-training the model"
       ]
      },
      {
       "output_type": "stream",
       "stream": "stdout",
       "text": [
        "\n",
        "Pre-training layer 0, epoch 0, cost "
       ]
      },
      {
       "output_type": "stream",
       "stream": "stdout",
       "text": [
        " 648.42200876\n",
        "Pre-training layer 1, epoch 0, cost "
       ]
      },
      {
       "output_type": "stream",
       "stream": "stdout",
       "text": [
        " 70.5771415353\n",
        "(12904, 100)"
       ]
      },
      {
       "output_type": "stream",
       "stream": "stdout",
       "text": [
        "\n"
       ]
      }
     ],
     "prompt_number": 8
    },
    {
     "cell_type": "code",
     "collapsed": false,
     "input": [
      "new_x_train_minmax = a_MAE.transform(x_train_minmax)\n",
      "new_x_test_minmax = a_MAE.transform(x_test_minmax)"
     ],
     "language": "python",
     "metadata": {},
     "outputs": [],
     "prompt_number": 16
    },
    {
     "cell_type": "code",
     "collapsed": false,
     "input": [
      "x_train_minmax_A = x_train_minmax[:, :x_train_minmax.shape[1]/2].shape"
     ],
     "language": "python",
     "metadata": {},
     "outputs": [
      {
       "metadata": {},
       "output_type": "pyout",
       "prompt_number": 12,
       "text": [
        "(12732L, 784L)"
       ]
      }
     ],
     "prompt_number": 12
    },
    {
     "cell_type": "code",
     "collapsed": false,
     "input": [
      "# get the new representation for A set. first 784-D\n",
      "pretraining_epochs=15\n",
      "pretrain_lr=0.001\n",
      "batch_size=30\n",
      "hidden_layers_sizes =[100, 100]\n",
      "corruption_levels=[0, 0]\n",
      "x = x_train_minmax[:, :x_train_minmax.shape[1]/2]\n",
      "print \"original shape\", x.shape\n",
      "a_MAE_A = train_a_MultipleAEs(x, pretraining_epochs=pretraining_epochs, pretrain_lr=pretrain_lr, batch_size=batch_size, \n",
      "                        hidden_layers_sizes =hidden_layers_sizes, corruption_levels=corruption_levels)\n",
      "new_x_train_minmax_A =  a_MAE_A.transform(x_train_minmax[:, :x_train_minmax.shape[1]/2])"
     ],
     "language": "python",
     "metadata": {},
     "outputs": [
      {
       "output_type": "stream",
       "stream": "stdout",
       "text": [
        "original shape (12904, 784)\n",
        "... building the model\n",
        "... getting the pretraining functions\n",
        "... pre-training the model"
       ]
      },
      {
       "output_type": "stream",
       "stream": "stdout",
       "text": [
        "\n",
        "Pre-training layer 0, epoch 0, cost "
       ]
      },
      {
       "output_type": "stream",
       "stream": "stdout",
       "text": [
        " 336.73092385\n",
        "Pre-training layer 0, epoch 1, cost "
       ]
      },
      {
       "output_type": "stream",
       "stream": "stdout",
       "text": [
        " 219.930831884\n",
        "Pre-training layer 0, epoch 2, cost "
       ]
      },
      {
       "output_type": "stream",
       "stream": "stdout",
       "text": [
        " 197.597491455\n",
        "Pre-training layer 0, epoch 3, cost "
       ]
      },
      {
       "output_type": "stream",
       "stream": "stdout",
       "text": [
        " 184.391130135\n",
        "Pre-training layer 0, epoch 4, cost "
       ]
      },
      {
       "output_type": "stream",
       "stream": "stdout",
       "text": [
        " 174.830545297\n",
        "Pre-training layer 0, epoch 5, cost "
       ]
      },
      {
       "output_type": "stream",
       "stream": "stdout",
       "text": [
        " 167.469218798\n",
        "Pre-training layer 0, epoch 6, cost "
       ]
      },
      {
       "output_type": "stream",
       "stream": "stdout",
       "text": [
        " 161.580349696\n",
        "Pre-training layer 0, epoch 7, cost "
       ]
      },
      {
       "output_type": "stream",
       "stream": "stdout",
       "text": [
        " 156.778009939\n",
        "Pre-training layer 0, epoch 8, cost "
       ]
      },
      {
       "output_type": "stream",
       "stream": "stdout",
       "text": [
        " 152.76598308\n",
        "Pre-training layer 0, epoch 9, cost "
       ]
      },
      {
       "output_type": "stream",
       "stream": "stdout",
       "text": [
        " 149.371960243\n",
        "Pre-training layer 0, epoch 10, cost "
       ]
      },
      {
       "output_type": "stream",
       "stream": "stdout",
       "text": [
        " 146.445639161\n",
        "Pre-training layer 0, epoch 11, cost "
       ]
      },
      {
       "output_type": "stream",
       "stream": "stdout",
       "text": [
        " 143.89924724\n",
        "Pre-training layer 0, epoch 12, cost "
       ]
      },
      {
       "output_type": "stream",
       "stream": "stdout",
       "text": [
        " 141.623917586\n",
        "Pre-training layer 0, epoch 13, cost "
       ]
      },
      {
       "output_type": "stream",
       "stream": "stdout",
       "text": [
        " 139.612634436\n",
        "Pre-training layer 0, epoch 14, cost "
       ]
      },
      {
       "output_type": "stream",
       "stream": "stdout",
       "text": [
        " 137.791956882\n",
        "Pre-training layer 1, epoch 0, cost "
       ]
      },
      {
       "output_type": "stream",
       "stream": "stdout",
       "text": [
        " 67.2674449543\n",
        "Pre-training layer 1, epoch 1, cost "
       ]
      },
      {
       "output_type": "stream",
       "stream": "stdout",
       "text": [
        " 57.8538760161\n",
        "Pre-training layer 1, epoch 2, cost "
       ]
      },
      {
       "output_type": "stream",
       "stream": "stdout",
       "text": [
        " 55.9595252823\n",
        "Pre-training layer 1, epoch 3, cost "
       ]
      },
      {
       "output_type": "stream",
       "stream": "stdout",
       "text": [
        " 54.3160298349\n",
        "Pre-training layer 1, epoch 4, cost "
       ]
      },
      {
       "output_type": "stream",
       "stream": "stdout",
       "text": [
        " 52.8964532591\n",
        "Pre-training layer 1, epoch 5, cost "
       ]
      },
      {
       "output_type": "stream",
       "stream": "stdout",
       "text": [
        " 51.7032904108\n",
        "Pre-training layer 1, epoch 6, cost "
       ]
      },
      {
       "output_type": "stream",
       "stream": "stdout",
       "text": [
        " 50.6390143097\n",
        "Pre-training layer 1, epoch 7, cost "
       ]
      },
      {
       "output_type": "stream",
       "stream": "stdout",
       "text": [
        " 49.7641059091\n",
        "Pre-training layer 1, epoch 8, cost "
       ]
      },
      {
       "output_type": "stream",
       "stream": "stdout",
       "text": [
        " 49.0201663748\n",
        "Pre-training layer 1, epoch 9, cost "
       ]
      },
      {
       "output_type": "stream",
       "stream": "stdout",
       "text": [
        " 48.3280502639\n",
        "Pre-training layer 1, epoch 10, cost "
       ]
      },
      {
       "output_type": "stream",
       "stream": "stdout",
       "text": [
        " 47.7170119538\n",
        "Pre-training layer 1, epoch 11, cost "
       ]
      },
      {
       "output_type": "stream",
       "stream": "stdout",
       "text": [
        " 47.1881234865\n",
        "Pre-training layer 1, epoch 12, cost "
       ]
      },
      {
       "output_type": "stream",
       "stream": "stdout",
       "text": [
        " 46.7273361748\n",
        "Pre-training layer 1, epoch 13, cost "
       ]
      },
      {
       "output_type": "stream",
       "stream": "stdout",
       "text": [
        " 46.3145636527\n",
        "Pre-training layer 1, epoch 14, cost "
       ]
      },
      {
       "output_type": "stream",
       "stream": "stdout",
       "text": [
        " 45.947385265\n"
       ]
      }
     ],
     "prompt_number": 13
    },
    {
     "cell_type": "code",
     "collapsed": false,
     "input": [
      "# get the new representation for A set. first 784-D\n",
      "pretraining_epochs=15\n",
      "pretrain_lr=0.001\n",
      "batch_size=30\n",
      "hidden_layers_sizes =[100, 100]\n",
      "corruption_levels=[0, 0]\n",
      "x = x_train_minmax[:, x_train_minmax.shape[1]/2:]\n",
      "print \"original shape\", x.shape\n",
      "a_MAE_B = train_a_MultipleAEs(x, pretraining_epochs=pretraining_epochs, pretrain_lr=pretrain_lr, batch_size=batch_size, \n",
      "                        hidden_layers_sizes =hidden_layers_sizes, corruption_levels=corruption_levels)\n",
      "new_x_train_minmax_B =  a_MAE_B.transform(x_train_minmax[:, x_train_minmax.shape[1]/2:])"
     ],
     "language": "python",
     "metadata": {},
     "outputs": [
      {
       "output_type": "stream",
       "stream": "stdout",
       "text": [
        "original shape (12904, 784)\n",
        "... building the model\n",
        "... getting the pretraining functions\n",
        "... pre-training the model"
       ]
      },
      {
       "output_type": "stream",
       "stream": "stdout",
       "text": [
        "\n",
        "Pre-training layer 0, epoch 0, cost "
       ]
      },
      {
       "output_type": "stream",
       "stream": "stdout",
       "text": [
        " 336.995177385\n",
        "Pre-training layer 0, epoch 1, cost "
       ]
      },
      {
       "output_type": "stream",
       "stream": "stdout",
       "text": [
        " 220.209744002\n",
        "Pre-training layer 0, epoch 2, cost "
       ]
      },
      {
       "output_type": "stream",
       "stream": "stdout",
       "text": [
        " 197.812988058\n",
        "Pre-training layer 0, epoch 3, cost "
       ]
      },
      {
       "output_type": "stream",
       "stream": "stdout",
       "text": [
        " 184.537214617\n",
        "Pre-training layer 0, epoch 4, cost "
       ]
      },
      {
       "output_type": "stream",
       "stream": "stdout",
       "text": [
        " 174.976147203\n",
        "Pre-training layer 0, epoch 5, cost "
       ]
      },
      {
       "output_type": "stream",
       "stream": "stdout",
       "text": [
        " 167.578598071\n",
        "Pre-training layer 0, epoch 6, cost "
       ]
      },
      {
       "output_type": "stream",
       "stream": "stdout",
       "text": [
        " 161.713118492\n",
        "Pre-training layer 0, epoch 7, cost "
       ]
      },
      {
       "output_type": "stream",
       "stream": "stdout",
       "text": [
        " 156.919003404\n",
        "Pre-training layer 0, epoch 8, cost "
       ]
      },
      {
       "output_type": "stream",
       "stream": "stdout",
       "text": [
        " 152.931813577\n",
        "Pre-training layer 0, epoch 9, cost "
       ]
      },
      {
       "output_type": "stream",
       "stream": "stdout",
       "text": [
        " 149.549327579\n",
        "Pre-training layer 0, epoch 10, cost "
       ]
      },
      {
       "output_type": "stream",
       "stream": "stdout",
       "text": [
        " 146.644836912\n",
        "Pre-training layer 0, epoch 11, cost "
       ]
      },
      {
       "output_type": "stream",
       "stream": "stdout",
       "text": [
        " 144.081221302\n",
        "Pre-training layer 0, epoch 12, cost "
       ]
      },
      {
       "output_type": "stream",
       "stream": "stdout",
       "text": [
        " 141.827765525\n",
        "Pre-training layer 0, epoch 13, cost "
       ]
      },
      {
       "output_type": "stream",
       "stream": "stdout",
       "text": [
        " 139.788321792\n",
        "Pre-training layer 0, epoch 14, cost "
       ]
      },
      {
       "output_type": "stream",
       "stream": "stdout",
       "text": [
        " 137.986198666\n",
        "Pre-training layer 1, epoch 0, cost "
       ]
      },
      {
       "output_type": "stream",
       "stream": "stdout",
       "text": [
        " 67.2123725096\n",
        "Pre-training layer 1, epoch 1, cost "
       ]
      },
      {
       "output_type": "stream",
       "stream": "stdout",
       "text": [
        " 57.8002028189\n",
        "Pre-training layer 1, epoch 2, cost "
       ]
      },
      {
       "output_type": "stream",
       "stream": "stdout",
       "text": [
        " 55.8426445056\n",
        "Pre-training layer 1, epoch 3, cost "
       ]
      },
      {
       "output_type": "stream",
       "stream": "stdout",
       "text": [
        " 54.2127343428\n",
        "Pre-training layer 1, epoch 4, cost "
       ]
      },
      {
       "output_type": "stream",
       "stream": "stdout",
       "text": [
        " 52.8353809058\n",
        "Pre-training layer 1, epoch 5, cost "
       ]
      },
      {
       "output_type": "stream",
       "stream": "stdout",
       "text": [
        " 51.6239484645\n",
        "Pre-training layer 1, epoch 6, cost "
       ]
      },
      {
       "output_type": "stream",
       "stream": "stdout",
       "text": [
        " 50.587988178\n",
        "Pre-training layer 1, epoch 7, cost "
       ]
      },
      {
       "output_type": "stream",
       "stream": "stdout",
       "text": [
        " 49.6647891922\n",
        "Pre-training layer 1, epoch 8, cost "
       ]
      },
      {
       "output_type": "stream",
       "stream": "stdout",
       "text": [
        " 48.9098392113\n",
        "Pre-training layer 1, epoch 9, cost "
       ]
      },
      {
       "output_type": "stream",
       "stream": "stdout",
       "text": [
        " 48.229780989\n",
        "Pre-training layer 1, epoch 10, cost "
       ]
      },
      {
       "output_type": "stream",
       "stream": "stdout",
       "text": [
        " 47.6217242315\n",
        "Pre-training layer 1, epoch 11, cost "
       ]
      },
      {
       "output_type": "stream",
       "stream": "stdout",
       "text": [
        " 47.1146409421\n",
        "Pre-training layer 1, epoch 12, cost "
       ]
      },
      {
       "output_type": "stream",
       "stream": "stdout",
       "text": [
        " 46.6565588046\n",
        "Pre-training layer 1, epoch 13, cost "
       ]
      },
      {
       "output_type": "stream",
       "stream": "stdout",
       "text": [
        " 46.2697237198\n",
        "Pre-training layer 1, epoch 14, cost "
       ]
      },
      {
       "output_type": "stream",
       "stream": "stdout",
       "text": [
        " 45.8740083282\n"
       ]
      }
     ],
     "prompt_number": 11
    },
    {
     "cell_type": "code",
     "collapsed": false,
     "input": [
      "new_x_test_minmax_A = a_MAE_A.transform(x_test_minmax[:, :x_test_minmax.shape[1]/2])\n",
      "new_x_test_minmax_B = a_MAE_B.transform(x_test_minmax[:, x_test_minmax.shape[1]/2:])\n",
      "new_x_validation_minmax_A = a_MAE_A.transform(x_validation_minmax[:, :x_validation_minmax.shape[1]/2])\n",
      "new_x_validation_minmax_B = a_MAE_B.transform(x_validation_minmax[:, x_validation_minmax.shape[1]/2:])\n",
      "new_x_train_minmax_whole = np.hstack((new_x_train_minmax_A, new_x_train_minmax_B))\n",
      "new_x_test_minmax_whole = np.hstack((new_x_test_minmax_A, new_x_test_minmax_B))\n",
      "new_x_validationt_minmax_whole = np.hstack((new_x_validation_minmax_A, new_x_validation_minmax_B))"
     ],
     "language": "python",
     "metadata": {},
     "outputs": [
      {
       "ename": "NameError",
       "evalue": "name 'a_MAE_A' is not defined",
       "output_type": "pyerr",
       "traceback": [
        "\u001b[1;31m---------------------------------------------------------------------------\u001b[0m\n\u001b[1;31mNameError\u001b[0m                                 Traceback (most recent call last)",
        "\u001b[1;32m<ipython-input-12-5108615f02b7>\u001b[0m in \u001b[0;36m<module>\u001b[1;34m()\u001b[0m\n\u001b[1;32m----> 1\u001b[1;33m \u001b[0mnew_x_test_minmax_A\u001b[0m \u001b[1;33m=\u001b[0m \u001b[0ma_MAE_A\u001b[0m\u001b[1;33m.\u001b[0m\u001b[0mtransform\u001b[0m\u001b[1;33m(\u001b[0m\u001b[0mx_test_minmax\u001b[0m\u001b[1;33m[\u001b[0m\u001b[1;33m:\u001b[0m\u001b[1;33m,\u001b[0m \u001b[1;33m:\u001b[0m\u001b[0mx_test_minmax\u001b[0m\u001b[1;33m.\u001b[0m\u001b[0mshape\u001b[0m\u001b[1;33m[\u001b[0m\u001b[1;36m1\u001b[0m\u001b[1;33m]\u001b[0m\u001b[1;33m/\u001b[0m\u001b[1;36m2\u001b[0m\u001b[1;33m]\u001b[0m\u001b[1;33m)\u001b[0m\u001b[1;33m\u001b[0m\u001b[0m\n\u001b[0m\u001b[0;32m      2\u001b[0m \u001b[0mnew_x_test_minmax_B\u001b[0m \u001b[1;33m=\u001b[0m \u001b[0ma_MAE_B\u001b[0m\u001b[1;33m.\u001b[0m\u001b[0mtransform\u001b[0m\u001b[1;33m(\u001b[0m\u001b[0mx_test_minmax\u001b[0m\u001b[1;33m[\u001b[0m\u001b[1;33m:\u001b[0m\u001b[1;33m,\u001b[0m \u001b[0mx_test_minmax\u001b[0m\u001b[1;33m.\u001b[0m\u001b[0mshape\u001b[0m\u001b[1;33m[\u001b[0m\u001b[1;36m1\u001b[0m\u001b[1;33m]\u001b[0m\u001b[1;33m/\u001b[0m\u001b[1;36m2\u001b[0m\u001b[1;33m:\u001b[0m\u001b[1;33m]\u001b[0m\u001b[1;33m)\u001b[0m\u001b[1;33m\u001b[0m\u001b[0m\n\u001b[0;32m      3\u001b[0m \u001b[0mnew_x_validation_minmax_A\u001b[0m \u001b[1;33m=\u001b[0m \u001b[0ma_MAE_A\u001b[0m\u001b[1;33m.\u001b[0m\u001b[0mtransform\u001b[0m\u001b[1;33m(\u001b[0m\u001b[0mx_validation_minmax\u001b[0m\u001b[1;33m[\u001b[0m\u001b[1;33m:\u001b[0m\u001b[1;33m,\u001b[0m \u001b[1;33m:\u001b[0m\u001b[0mx_validation_minmax\u001b[0m\u001b[1;33m.\u001b[0m\u001b[0mshape\u001b[0m\u001b[1;33m[\u001b[0m\u001b[1;36m1\u001b[0m\u001b[1;33m]\u001b[0m\u001b[1;33m/\u001b[0m\u001b[1;36m2\u001b[0m\u001b[1;33m]\u001b[0m\u001b[1;33m)\u001b[0m\u001b[1;33m\u001b[0m\u001b[0m\n\u001b[0;32m      4\u001b[0m \u001b[0mnew_x_validation_minmax_B\u001b[0m \u001b[1;33m=\u001b[0m \u001b[0ma_MAE_B\u001b[0m\u001b[1;33m.\u001b[0m\u001b[0mtransform\u001b[0m\u001b[1;33m(\u001b[0m\u001b[0mx_validation_minmax\u001b[0m\u001b[1;33m[\u001b[0m\u001b[1;33m:\u001b[0m\u001b[1;33m,\u001b[0m \u001b[0mx_validation_minmax\u001b[0m\u001b[1;33m.\u001b[0m\u001b[0mshape\u001b[0m\u001b[1;33m[\u001b[0m\u001b[1;36m1\u001b[0m\u001b[1;33m]\u001b[0m\u001b[1;33m/\u001b[0m\u001b[1;36m2\u001b[0m\u001b[1;33m:\u001b[0m\u001b[1;33m]\u001b[0m\u001b[1;33m)\u001b[0m\u001b[1;33m\u001b[0m\u001b[0m\n\u001b[0;32m      5\u001b[0m \u001b[0mnew_x_train_minmax_whole\u001b[0m \u001b[1;33m=\u001b[0m \u001b[0mnp\u001b[0m\u001b[1;33m.\u001b[0m\u001b[0mhstack\u001b[0m\u001b[1;33m(\u001b[0m\u001b[1;33m(\u001b[0m\u001b[0mnew_x_train_minmax_A\u001b[0m\u001b[1;33m,\u001b[0m \u001b[0mnew_x_train_minmax_B\u001b[0m\u001b[1;33m)\u001b[0m\u001b[1;33m)\u001b[0m\u001b[1;33m\u001b[0m\u001b[0m\n",
        "\u001b[1;31mNameError\u001b[0m: name 'a_MAE_A' is not defined"
       ]
      }
     ],
     "prompt_number": 12
    },
    {
     "cell_type": "code",
     "collapsed": false,
     "input": [
      "new_x_train_minmax_whole.shape"
     ],
     "language": "python",
     "metadata": {},
     "outputs": [
      {
       "metadata": {},
       "output_type": "pyout",
       "prompt_number": 24,
       "text": [
        "(12732L, 200L)"
       ]
      }
     ],
     "prompt_number": 24
    },
    {
     "cell_type": "code",
     "collapsed": false,
     "input": [
      "#### L1-based SVM original dataset\n",
      "from sklearn.feature_selection import SelectKBest, chi2\n",
      "from sklearn.linear_model import RidgeClassifier\n",
      "from sklearn.svm import LinearSVC\n",
      "from sklearn.linear_model import SGDClassifier\n",
      "from sklearn.linear_model import Perceptron\n",
      "from sklearn.linear_model import PassiveAggressiveClassifier\n",
      "from sklearn.naive_bayes import BernoulliNB, MultinomialNB\n",
      "from sklearn.neighbors import KNeighborsClassifier\n",
      "from sklearn.neighbors import NearestCentroid\n",
      "from sklearn.utils.extmath import density\n",
      "from sklearn import metrics\n",
      "x_train_pre_validation_scaled = x_train_minmax\n",
      "X_test_scaled = x_test_minmax\n",
      "print 'SVM result on original dataset'\n",
      "L1_SVC_Selector= LinearSVC(C=1, penalty=\"l1\", dual=False)\n",
      "L1_SVC_X = L1_SVC_Selector.fit_transform(x_train_pre_validation_scaled, y_train_minmax)\n",
      "traning_accuracy = L1_SVC_Selector.score(x_train_pre_validation_scaled, y_train_minmax)\n",
      "print 'training accuracy', traning_accuracy\n",
      "testing_accuracy = L1_SVC_Selector.score(X_test_scaled, y_test_minmax)\n",
      "print 'testing accuracy', testing_accuracy\n",
      "print L1_SVC_X.shape\n",
      "predicted = L1_SVC_Selector.predict(X_test_scaled)\n",
      "print 'testing precision', sklearn.metrics.precision_score(y_test_minmax, predicted, pos_label=1)\n",
      "print 'testing recall', sklearn.metrics.recall_score(y_test_minmax, predicted, pos_label=1)\n",
      "print sklearn.metrics.recall_score(y_test_minmax, predicted, pos_label=1)"
     ],
     "language": "python",
     "metadata": {},
     "outputs": [
      {
       "output_type": "stream",
       "stream": "stdout",
       "text": [
        "SVM result on original dataset\n",
        "training accuracy"
       ]
      },
      {
       "output_type": "stream",
       "stream": "stdout",
       "text": [
        " 0.62205466541\n",
        "testing accuracy"
       ]
      },
      {
       "output_type": "stream",
       "stream": "stdout",
       "text": [
        " 0.506532663317\n",
        "(12732L, 1123L)\n",
        "testing precision"
       ]
      },
      {
       "output_type": "stream",
       "stream": "stdout",
       "text": [
        " 0.509073075037\n",
        "testing recall 0.518740629685\n",
        "0.518740629685\n"
       ]
      }
     ],
     "prompt_number": 27
    },
    {
     "cell_type": "code",
     "collapsed": false,
     "input": [
      "#### L1-based SVM on trasformed original dataset\n",
      "from sklearn.feature_selection import SelectKBest, chi2\n",
      "from sklearn.linear_model import RidgeClassifier\n",
      "from sklearn.svm import LinearSVC\n",
      "from sklearn.linear_model import SGDClassifier\n",
      "from sklearn.linear_model import Perceptron\n",
      "from sklearn.linear_model import PassiveAggressiveClassifier\n",
      "from sklearn.naive_bayes import BernoulliNB, MultinomialNB\n",
      "from sklearn.neighbors import KNeighborsClassifier\n",
      "from sklearn.neighbors import NearestCentroid\n",
      "from sklearn.utils.extmath import density\n",
      "from sklearn import metrics\n",
      "x_train_pre_validation_scaled = new_x_train_minmax\n",
      "X_test_scaled = new_x_test_minmax\n",
      "\n",
      "L1_SVC_Selector= LinearSVC(C=1, penalty=\"l1\", dual=False)\n",
      "L1_SVC_X = L1_SVC_Selector.fit_transform(x_train_pre_validation_scaled, y_train_minmax)\n",
      "traning_accuracy = L1_SVC_Selector.score(x_train_pre_validation_scaled, y_train_minmax)\n",
      "print 'training accuracy', traning_accuracy\n",
      "testing_accuracy = L1_SVC_Selector.score(X_test_scaled, y_test_minmax)\n",
      "print 'testing accuracy', testing_accuracy\n",
      "print L1_SVC_X.shape\n",
      "predicted = L1_SVC_Selector.predict(X_test_scaled)\n",
      "print 'testing precision', sklearn.metrics.precision_score(y_test_minmax, predicted, pos_label=1)\n",
      "print 'testing recall', sklearn.metrics.recall_score(y_test_minmax, predicted, pos_label=1)\n"
     ],
     "language": "python",
     "metadata": {},
     "outputs": [
      {
       "output_type": "stream",
       "stream": "stdout",
       "text": [
        "0.666116870877\n",
        "0.664824120603\n",
        "[ 0.13231347 -0.48519935 -0.22325074  0.34680357  0.04326873 -0.27321924\n",
        "  0.07862841  0.44932854 -0.34190608  0.38316937 -0.01044972 -0.21721321\n",
        "  0.50240482 -0.39035884 -0.31312725  0.01151576  0.56378795  0.04428225\n",
        "  0.33907228  0.         -0.33666173 -0.12056051 -0.46462771 -0.43237551\n",
        "  0.07352032  0.09038167  0.30261275 -0.50892766 -0.39775445  0.24241258\n",
        " -0.42710535  0.12876215 -0.46147814 -0.09238173  0.13124765 -0.26658227\n",
        "  0.28673445  0.28350923  0.22724499 -0.09118415  0.06103919  0.33645532\n",
        "  0.11847707 -0.07932715  0.37430961 -0.23113092  0.38557638 -0.46344793\n",
        " -0.29615814 -0.04622971 -0.14215857  0.06699989  0.19177327  0.24704688\n",
        "  0.61381036 -0.0965982   0.3936586   0.13057655  0.12821931 -0.14362696\n",
        " -0.11223977 -0.10215103 -0.13170324 -0.36995767  0.          0.25723654\n",
        "  0.24408299  0.86654127 -0.33664626  0.77894101 -0.91230335  0.22601876\n",
        " -0.16450929  0.20720663 -0.1506681  -0.2621404   0.11929355  0.01645169\n",
        "  0.09848597 -0.201903    0.          0.68642705 -0.24564303 -0.69178349\n",
        "  0.12749478  0.13469155 -0.29813797 -0.16639811 -0.36221166 -0.25216807\n",
        "  0.03604714  0.10520982  0.08170771  0.0748805  -0.05571527 -0.14392926\n",
        "  0.40222628  0.56246282 -0.12742461 -0.26395558]\n",
        "(12732L, 97L)\n",
        "0.661033317238\n",
        "0.684157921039"
       ]
      },
      {
       "output_type": "stream",
       "stream": "stdout",
       "text": [
        "\n"
       ]
      }
     ],
     "prompt_number": 19
    },
    {
     "cell_type": "code",
     "collapsed": false,
     "input": [
      "#### L1-based SVM on seperately trasformed original dataset\n",
      "from sklearn.feature_selection import SelectKBest, chi2\n",
      "from sklearn.linear_model import RidgeClassifier\n",
      "from sklearn.svm import LinearSVC\n",
      "from sklearn.linear_model import SGDClassifier\n",
      "from sklearn.linear_model import Perceptron\n",
      "from sklearn.linear_model import PassiveAggressiveClassifier\n",
      "from sklearn.naive_bayes import BernoulliNB, MultinomialNB\n",
      "from sklearn.neighbors import KNeighborsClassifier\n",
      "from sklearn.neighbors import NearestCentroid\n",
      "from sklearn.utils.extmath import density\n",
      "from sklearn import metrics\n",
      "x_train_pre_validation_scaled = new_x_train_minmax_whole\n",
      "X_test_scaled = new_x_test_minmax_whole\n",
      "\n",
      "L1_SVC_Selector= LinearSVC(C=1, penalty=\"l1\", dual=False)\n",
      "L1_SVC_X = L1_SVC_Selector.fit_transform(x_train_pre_validation_scaled, y_train_minmax)\n",
      "traning_accuracy = L1_SVC_Selector.score(x_train_pre_validation_scaled, y_train_minmax)\n",
      "print 'training accuracy', traning_accuracy\n",
      "testing_accuracy = L1_SVC_Selector.score(X_test_scaled, y_test_minmax)\n",
      "print 'testing accuracy', testing_accuracy\n",
      "print L1_SVC_X.shape\n",
      "predicted = L1_SVC_Selector.predict(X_test_scaled)\n",
      "print 'testing precision', sklearn.metrics.precision_score(y_test_minmax, predicted, pos_label=1)\n",
      "print 'testing recall', sklearn.metrics.recall_score(y_test_minmax, predicted, pos_label=1)"
     ],
     "language": "python",
     "metadata": {},
     "outputs": [
      {
       "output_type": "stream",
       "stream": "stdout",
       "text": [
        "training accuracy 0.55670750864\n",
        "testing accuracy 0.519095477387\n",
        "(12732L, 179L)\n",
        "testing precision 0.520963855422\n",
        "testing recall 0.540229885057\n"
       ]
      }
     ],
     "prompt_number": 23
    },
    {
     "cell_type": "code",
     "collapsed": false,
     "input": [
      "# get the new representation for A set. first 784-D\n",
      "pretraining_epochs=15\n",
      "pretrain_lr=0.001\n",
      "batch_size=30\n",
      "hidden_layers_sizes =[100, 100]\n",
      "corruption_levels=[0, 0]\n",
      "x = new_x_train_minmax_whole\n",
      "print \"original shape\", x.shape\n",
      "a_MAE_new_set = train_a_MultipleAEs(x, pretraining_epochs=pretraining_epochs, pretrain_lr=pretrain_lr, batch_size=batch_size, \n",
      "                        hidden_layers_sizes =hidden_layers_sizes, corruption_levels=corruption_levels)\n",
      "new_x_train_minmax_new_set =  a_MAE_new_set.transform(new_x_train_minmax_whole)\n",
      "new_x_test_minmax_new_set = a_MAE_new_set.transform(new_x_test_minmax_whole)"
     ],
     "language": "python",
     "metadata": {},
     "outputs": [
      {
       "output_type": "stream",
       "stream": "stdout",
       "text": [
        "original shape (12732L, 200L)\n",
        "... building the model\n",
        "... getting the pretraining functions\n",
        "... pre-training the model"
       ]
      },
      {
       "output_type": "stream",
       "stream": "stdout",
       "text": [
        "\n",
        "Pre-training layer 0, epoch 0, cost "
       ]
      },
      {
       "output_type": "stream",
       "stream": "stdout",
       "text": [
        " 116.861765345\n",
        "Pre-training layer 0, epoch 1, cost "
       ]
      },
      {
       "output_type": "stream",
       "stream": "stdout",
       "text": [
        " 98.1881844906\n",
        "Pre-training layer 0, epoch 2, cost "
       ]
      },
      {
       "output_type": "stream",
       "stream": "stdout",
       "text": [
        " 96.0873925995\n",
        "Pre-training layer 0, epoch 3, cost "
       ]
      },
      {
       "output_type": "stream",
       "stream": "stdout",
       "text": [
        " 94.4012644952\n",
        "Pre-training layer 0, epoch 4, cost "
       ]
      },
      {
       "output_type": "stream",
       "stream": "stdout",
       "text": [
        " 92.8243882839\n",
        "Pre-training layer 0, epoch 5, cost "
       ]
      },
      {
       "output_type": "stream",
       "stream": "stdout",
       "text": [
        " 91.4559687424\n",
        "Pre-training layer 0, epoch 6, cost "
       ]
      },
      {
       "output_type": "stream",
       "stream": "stdout",
       "text": [
        " 90.189061244\n",
        "Pre-training layer 0, epoch 7, cost "
       ]
      },
      {
       "output_type": "stream",
       "stream": "stdout",
       "text": [
        " 89.0403325652\n",
        "Pre-training layer 0, epoch 8, cost "
       ]
      },
      {
       "output_type": "stream",
       "stream": "stdout",
       "text": [
        " 88.0753981276\n",
        "Pre-training layer 0, epoch 9, cost "
       ]
      },
      {
       "output_type": "stream",
       "stream": "stdout",
       "text": [
        " 87.1464799055\n",
        "Pre-training layer 0, epoch 10, cost "
       ]
      },
      {
       "output_type": "stream",
       "stream": "stdout",
       "text": [
        " 86.3104897839\n",
        "Pre-training layer 0, epoch 11, cost "
       ]
      },
      {
       "output_type": "stream",
       "stream": "stdout",
       "text": [
        " 85.566923754\n",
        "Pre-training layer 0, epoch 12, cost "
       ]
      },
      {
       "output_type": "stream",
       "stream": "stdout",
       "text": [
        " 84.9103751258\n",
        "Pre-training layer 0, epoch 13, cost "
       ]
      },
      {
       "output_type": "stream",
       "stream": "stdout",
       "text": [
        " 84.267200384\n",
        "Pre-training layer 0, epoch 14, cost "
       ]
      },
      {
       "output_type": "stream",
       "stream": "stdout",
       "text": [
        " 83.6972667306\n",
        "Pre-training layer 1, epoch 0, cost "
       ]
      },
      {
       "output_type": "stream",
       "stream": "stdout",
       "text": [
        " 68.3334425992\n",
        "Pre-training layer 1, epoch 1, cost "
       ]
      },
      {
       "output_type": "stream",
       "stream": "stdout",
       "text": [
        " 57.7690975766\n",
        "Pre-training layer 1, epoch 2, cost "
       ]
      },
      {
       "output_type": "stream",
       "stream": "stdout",
       "text": [
        " 56.5580884877\n",
        "Pre-training layer 1, epoch 3, cost "
       ]
      },
      {
       "output_type": "stream",
       "stream": "stdout",
       "text": [
        " 55.5750597851\n",
        "Pre-training layer 1, epoch 4, cost "
       ]
      },
      {
       "output_type": "stream",
       "stream": "stdout",
       "text": [
        " 54.7659002416\n",
        "Pre-training layer 1, epoch 5, cost "
       ]
      },
      {
       "output_type": "stream",
       "stream": "stdout",
       "text": [
        " 53.9809858062\n",
        "Pre-training layer 1, epoch 6, cost "
       ]
      },
      {
       "output_type": "stream",
       "stream": "stdout",
       "text": [
        " 53.3609554609\n",
        "Pre-training layer 1, epoch 7, cost "
       ]
      },
      {
       "output_type": "stream",
       "stream": "stdout",
       "text": [
        " 52.7131026261\n",
        "Pre-training layer 1, epoch 8, cost "
       ]
      },
      {
       "output_type": "stream",
       "stream": "stdout",
       "text": [
        " 52.2208843206\n",
        "Pre-training layer 1, epoch 9, cost "
       ]
      },
      {
       "output_type": "stream",
       "stream": "stdout",
       "text": [
        " 51.742521477\n",
        "Pre-training layer 1, epoch 10, cost "
       ]
      },
      {
       "output_type": "stream",
       "stream": "stdout",
       "text": [
        " 51.2897486831\n",
        "Pre-training layer 1, epoch 11, cost "
       ]
      },
      {
       "output_type": "stream",
       "stream": "stdout",
       "text": [
        " 50.910742126\n",
        "Pre-training layer 1, epoch 12, cost "
       ]
      },
      {
       "output_type": "stream",
       "stream": "stdout",
       "text": [
        " 50.537562316\n",
        "Pre-training layer 1, epoch 13, cost "
       ]
      },
      {
       "output_type": "stream",
       "stream": "stdout",
       "text": [
        " 50.2275851874\n",
        "Pre-training layer 1, epoch 14, cost "
       ]
      },
      {
       "output_type": "stream",
       "stream": "stdout",
       "text": [
        " 49.9425176584\n"
       ]
      }
     ],
     "prompt_number": 25
    },
    {
     "cell_type": "code",
     "collapsed": false,
     "input": [
      "#### L1-based SVM on seperately trasformed original dataset\n",
      "from sklearn.feature_selection import SelectKBest, chi2\n",
      "from sklearn.linear_model import RidgeClassifier\n",
      "from sklearn.svm import LinearSVC\n",
      "from sklearn.linear_model import SGDClassifier\n",
      "from sklearn.linear_model import Perceptron\n",
      "from sklearn.linear_model import PassiveAggressiveClassifier\n",
      "from sklearn.naive_bayes import BernoulliNB, MultinomialNB\n",
      "from sklearn.neighbors import KNeighborsClassifier\n",
      "from sklearn.neighbors import NearestCentroid\n",
      "from sklearn.utils.extmath import density\n",
      "from sklearn import metrics\n",
      "x_train_pre_validation_scaled = new_x_train_minmax_new_set\n",
      "X_test_scaled = new_x_test_minmax_new_set\n",
      "\n",
      "L1_SVC_Selector= LinearSVC(C=1, penalty=\"l1\", dual=False)\n",
      "L1_SVC_X = L1_SVC_Selector.fit_transform(x_train_pre_validation_scaled, y_train_minmax)\n",
      "traning_accuracy = L1_SVC_Selector.score(x_train_pre_validation_scaled, y_train_minmax)\n",
      "print 'training accuracy', traning_accuracy\n",
      "testing_accuracy = L1_SVC_Selector.score(X_test_scaled, y_test_minmax)\n",
      "print 'testing accuracy', testing_accuracy\n",
      "print L1_SVC_X.shape\n",
      "predicted = L1_SVC_Selector.predict(X_test_scaled)\n",
      "print 'testing precision', sklearn.metrics.precision_score(y_test_minmax, predicted, pos_label=1)\n",
      "print 'testing recall', sklearn.metrics.recall_score(y_test_minmax, predicted, pos_label=1)"
     ],
     "language": "python",
     "metadata": {},
     "outputs": [
      {
       "output_type": "stream",
       "stream": "stdout",
       "text": [
        "training accuracy 0.728479421929\n",
        "testing accuracy 0.731658291457\n",
        "(12732L, 92L)\n",
        "testing precision 0.725253500724\n",
        "testing recall 0.750624687656\n"
       ]
      }
     ],
     "prompt_number": 26
    },
    {
     "cell_type": "code",
     "collapsed": false,
     "input": [
      "# feature log selection based on L1\n",
      "log_clf = sklearn.linear_model.LogisticRegression(C=1, penalty='l1' )\n",
      "log_clf.fit(x_train_pre_validation_scaled, y_train_pre_validation)\n",
      "predicted = log_clf.predict(X_test_scaled)\n",
      "print log_clf.score(x_train_pre_validation_scaled, y_train_pre_validation), log_clf.score(X_test_scaled, y_test)\n",
      "print 'precision', sklearn.metrics.precision_score(y_test, predicted, pos_label=1)\n",
      "print 'recall', sklearn.metrics.recall_score(y_test, predicted, pos_label=1)\n"
     ],
     "language": "python",
     "metadata": {},
     "outputs": [
      {
       "output_type": "stream",
       "stream": "stdout",
       "text": [
        "0.533074656984 "
       ]
      },
      {
       "output_type": "stream",
       "stream": "stdout",
       "text": [
        "0.502279464886\n",
        "precision 0.500221751343\n",
        "recall 0.507854712828\n"
       ]
      }
     ],
     "prompt_number": 49
    },
    {
     "cell_type": "code",
     "collapsed": false,
     "input": [
      "# feature log selection based on L2\n",
      "log_clf_l2 = sklearn.linear_model.LogisticRegression(C=1, penalty='l2' )\n",
      "log_clf_l2.fit(x_train_pre_validation_scaled, y_train_pre_validation)\n",
      "predicted = log_clf_l2.predict(X_test_scaled)\n",
      "print log_clf_l2.score(x_train_pre_validation_scaled, y_train_pre_validation)\n",
      "print log_clf_l2.score(X_test_scaled, y_test)\n",
      "print 'precision', sklearn.metrics.precision_score(y_test, predicted, pos_label=1)\n",
      "print 'recall', sklearn.metrics.recall_score(y_test, predicted, pos_label=1)\n"
     ],
     "language": "python",
     "metadata": {},
     "outputs": [
      {
       "output_type": "stream",
       "stream": "stdout",
       "text": [
        "0.534401255598\n",
        "0.503500161929"
       ]
      },
      {
       "output_type": "stream",
       "stream": "stdout",
       "text": [
        "\n",
        "precision 0.501424641383\n",
        "recall 0.510656393836\n"
       ]
      }
     ],
     "prompt_number": 52
    },
    {
     "cell_type": "code",
     "collapsed": false,
     "input": [],
     "language": "python",
     "metadata": {},
     "outputs": []
    },
    {
     "cell_type": "code",
     "collapsed": false,
     "input": [
      "# feature log selection based on L2 on original dataset\n",
      "X_test = x_test_minmax\n",
      "y_test = y_test_minmax\n",
      "X_train = x_train_minmax\n",
      "y_train = y_train_minmax\n",
      "print 'performance for logisitc regression'\n",
      "log_clf = sklearn.linear_model.LogisticRegression(C=1, penalty='l2' )\n",
      "log_clf.fit(X_train, y_train)\n",
      "predicted = log_clf.predict(X_test)\n",
      "print 'training accuracy', log_clf.score(X_train, y_train)\n",
      "print 'testing accuracy', log_clf.score(X_test, y_test)\n",
      "print 'precision', sklearn.metrics.precision_score(y_test, predicted, pos_label=1)\n",
      "print 'recall', sklearn.metrics.recall_score(y_test, predicted, pos_label=1)"
     ],
     "language": "python",
     "metadata": {},
     "outputs": [
      {
       "output_type": "stream",
       "stream": "stdout",
       "text": [
        "performance for logisitc regression\n",
        "training accuracy"
       ]
      },
      {
       "output_type": "stream",
       "stream": "stdout",
       "text": [
        " 0.619776939994\n",
        "testing accuracy 0.507286432161\n",
        "precision "
       ]
      },
      {
       "output_type": "stream",
       "stream": "stdout",
       "text": [
        "0.509832841691\n",
        "recall 0.51824087956\n"
       ]
      }
     ],
     "prompt_number": 28
    },
    {
     "cell_type": "code",
     "collapsed": false,
     "input": [
      "# feature log selection based on L2 on transformed original\n",
      "X_test = new_x_test_minmax\n",
      "y_test = y_test_minmax\n",
      "X_train = new_x_train_minmax\n",
      "y_train = y_train_minmax\n",
      "print 'performance for logisitc regression'\n",
      "log_clf = sklearn.linear_model.LogisticRegression(C=1, penalty='l2' )\n",
      "log_clf.fit(X_train, y_train)\n",
      "predicted = log_clf.predict(X_test)\n",
      "print 'training accuracy', log_clf.score(X_train, y_train)\n",
      "print 'testing accuracy', log_clf.score(X_test, y_test)\n",
      "print 'precision', sklearn.metrics.precision_score(y_test, predicted, pos_label=1)\n",
      "print 'recall', sklearn.metrics.recall_score(y_test, predicted, pos_label=1)"
     ],
     "language": "python",
     "metadata": {},
     "outputs": [
      {
       "output_type": "stream",
       "stream": "stdout",
       "text": [
        "performance for logisitc regression\n",
        "training accuracy"
       ]
      },
      {
       "output_type": "stream",
       "stream": "stdout",
       "text": [
        " 0.665724159598\n",
        "testing accuracy 0.665075376884\n",
        "precision 0.661665053243\n",
        "recall 0.68315842079\n"
       ]
      }
     ],
     "prompt_number": 29
    },
    {
     "cell_type": "code",
     "collapsed": false,
     "input": [
      "# feature log selection based on L2 on seperately transformed dataset\n",
      "X_test = new_x_test_minmax_new_set\n",
      "y_test = y_test_minmax\n",
      "X_train = new_x_train_minmax_new_set\n",
      "y_train = y_train_minmax\n",
      "print 'performance for logisitc regression'\n",
      "log_clf = sklearn.linear_model.LogisticRegression(C=1, penalty='l2' )\n",
      "log_clf.fit(X_train, y_train)\n",
      "predicted = log_clf.predict(X_test)\n",
      "print 'training accuracy', log_clf.score(X_train, y_train)\n",
      "print 'testing accuracy', log_clf.score(X_test, y_test)\n",
      "print 'precision', sklearn.metrics.precision_score(y_test, predicted, pos_label=1)\n",
      "print 'recall', sklearn.metrics.recall_score(y_test, predicted, pos_label=1)"
     ],
     "language": "python",
     "metadata": {},
     "outputs": [
      {
       "output_type": "stream",
       "stream": "stdout",
       "text": [
        "performance for logisitc regression\n",
        "training accuracy"
       ]
      },
      {
       "output_type": "stream",
       "stream": "stdout",
       "text": [
        " 0.72808671065\n",
        "testing accuracy "
       ]
      },
      {
       "output_type": "stream",
       "stream": "stdout",
       "text": [
        "0.733417085427\n",
        "precision 0.727492739593\n",
        "recall 0.751124437781\n"
       ]
      }
     ],
     "prompt_number": 30
    },
    {
     "cell_type": "code",
     "collapsed": false,
     "input": [
      "# build a sda, pretraining plus fine tuning on original data.\n",
      "# set up paramaters\n",
      "\n",
      "#finetune_lr=0.1\n",
      "finetune_lr = 0.1\n",
      "pretraining_epochs = 30\n",
      "#pretrain_lr=0.001\n",
      "pretrain_lr = 0.001\n",
      "training_epochs = 300\n",
      "batch_size = 30\n",
      "\n",
      "\n",
      "hidden_layers_sizes= [100, 100]\n",
      "corruption_levels = [0, 0]\n",
      "\n",
      "sda = trainSda(x_train_minmax, y_train_minmax,\n",
      "             x_validation_minmax, y_validation_minmax , \n",
      "             x_test_minmax, y_test_minmax,\n",
      "             hidden_layers_sizes = hidden_layers_sizes, corruption_levels = corruption_levels, batch_size = batch_size , \\\n",
      "             training_epochs = training_epochs, pretraining_epochs = pretraining_epochs, \n",
      "             pretrain_lr = pretrain_lr, finetune_lr=finetune_lr\n",
      "             )"
     ],
     "language": "python",
     "metadata": {},
     "outputs": [
      {
       "output_type": "stream",
       "stream": "stdout",
       "text": [
        "... building the model\n",
        "... getting the pretraining functions"
       ]
      },
      {
       "output_type": "stream",
       "stream": "stdout",
       "text": [
        "\n",
        "... pre-training the model"
       ]
      },
      {
       "output_type": "stream",
       "stream": "stdout",
       "text": [
        "\n",
        "Pre-training layer 0, epoch 0, cost "
       ]
      },
      {
       "output_type": "stream",
       "stream": "stdout",
       "text": [
        " 646.848182025\n",
        "Pre-training layer 0, epoch 1, cost "
       ]
      },
      {
       "output_type": "stream",
       "stream": "stdout",
       "text": [
        " 459.686013772\n",
        "Pre-training layer 0, epoch 2, cost "
       ]
      },
      {
       "output_type": "stream",
       "stream": "stdout",
       "text": [
        " 423.845966827\n",
        "Pre-training layer 0, epoch 3, cost "
       ]
      },
      {
       "output_type": "stream",
       "stream": "stdout",
       "text": [
        " 400.959866184\n",
        "Pre-training layer 0, epoch 4, cost "
       ]
      },
      {
       "output_type": "stream",
       "stream": "stdout",
       "text": [
        " 383.742901325\n",
        "Pre-training layer 0, epoch 5, cost "
       ]
      },
      {
       "output_type": "stream",
       "stream": "stdout",
       "text": [
        " 370.090932908\n",
        "Pre-training layer 0, epoch 6, cost "
       ]
      },
      {
       "output_type": "stream",
       "stream": "stdout",
       "text": [
        " 358.952404075\n",
        "Pre-training layer 0, epoch 7, cost "
       ]
      },
      {
       "output_type": "stream",
       "stream": "stdout",
       "text": [
        " 349.677116671\n",
        "Pre-training layer 0, epoch 8, cost "
       ]
      },
      {
       "output_type": "stream",
       "stream": "stdout",
       "text": [
        " 341.823522869\n",
        "Pre-training layer 0, epoch 9, cost "
       ]
      },
      {
       "output_type": "stream",
       "stream": "stdout",
       "text": [
        " 335.075950016\n",
        "Pre-training layer 0, epoch 10, cost "
       ]
      },
      {
       "output_type": "stream",
       "stream": "stdout",
       "text": [
        " 329.202395559\n",
        "Pre-training layer 0, epoch 11, cost "
       ]
      },
      {
       "output_type": "stream",
       "stream": "stdout",
       "text": [
        " 324.029726303\n",
        "Pre-training layer 0, epoch 12, cost "
       ]
      },
      {
       "output_type": "stream",
       "stream": "stdout",
       "text": [
        " 319.427254903\n",
        "Pre-training layer 0, epoch 13, cost "
       ]
      },
      {
       "output_type": "stream",
       "stream": "stdout",
       "text": [
        " 315.295150212\n",
        "Pre-training layer 0, epoch 14, cost "
       ]
      },
      {
       "output_type": "stream",
       "stream": "stdout",
       "text": [
        " 311.556113825\n",
        "Pre-training layer 0, epoch 15, cost "
       ]
      },
      {
       "output_type": "stream",
       "stream": "stdout",
       "text": [
        " 308.149415362\n",
        "Pre-training layer 0, epoch 16, cost "
       ]
      },
      {
       "output_type": "stream",
       "stream": "stdout",
       "text": [
        " 305.02663802\n",
        "Pre-training layer 0, epoch 17, cost "
       ]
      },
      {
       "output_type": "stream",
       "stream": "stdout",
       "text": [
        " 302.148644249\n",
        "Pre-training layer 0, epoch 18, cost "
       ]
      },
      {
       "output_type": "stream",
       "stream": "stdout",
       "text": [
        " 299.483398763\n",
        "Pre-training layer 0, epoch 19, cost "
       ]
      },
      {
       "output_type": "stream",
       "stream": "stdout",
       "text": [
        " 297.004389282\n",
        "Pre-training layer 0, epoch 20, cost "
       ]
      },
      {
       "output_type": "stream",
       "stream": "stdout",
       "text": [
        " 294.689463927\n",
        "Pre-training layer 0, epoch 21, cost "
       ]
      },
      {
       "output_type": "stream",
       "stream": "stdout",
       "text": [
        " 292.519960848\n",
        "Pre-training layer 0, epoch 22, cost "
       ]
      },
      {
       "output_type": "stream",
       "stream": "stdout",
       "text": [
        " 290.480045028\n",
        "Pre-training layer 0, epoch 23, cost "
       ]
      },
      {
       "output_type": "stream",
       "stream": "stdout",
       "text": [
        " 288.556194175\n",
        "Pre-training layer 0, epoch 24, cost "
       ]
      },
      {
       "output_type": "stream",
       "stream": "stdout",
       "text": [
        " 286.736793896\n",
        "Pre-training layer 0, epoch 25, cost "
       ]
      },
      {
       "output_type": "stream",
       "stream": "stdout",
       "text": [
        " 285.011814694\n",
        "Pre-training layer 0, epoch 26, cost "
       ]
      },
      {
       "output_type": "stream",
       "stream": "stdout",
       "text": [
        " 283.372551552\n",
        "Pre-training layer 0, epoch 27, cost "
       ]
      },
      {
       "output_type": "stream",
       "stream": "stdout",
       "text": [
        " 281.811412231\n",
        "Pre-training layer 0, epoch 28, cost "
       ]
      },
      {
       "output_type": "stream",
       "stream": "stdout",
       "text": [
        " 280.321744023\n",
        "Pre-training layer 0, epoch 29, cost "
       ]
      },
      {
       "output_type": "stream",
       "stream": "stdout",
       "text": [
        " 278.897691136\n",
        "Pre-training layer 1, epoch 0, cost "
       ]
      },
      {
       "output_type": "stream",
       "stream": "stdout",
       "text": [
        " 57.9600125005\n",
        "Pre-training layer 1, epoch 1, cost "
       ]
      },
      {
       "output_type": "stream",
       "stream": "stdout",
       "text": [
        " 47.3333566411\n",
        "Pre-training layer 1, epoch 2, cost "
       ]
      },
      {
       "output_type": "stream",
       "stream": "stdout",
       "text": [
        " 45.565589731\n",
        "Pre-training layer 1, epoch 3, cost "
       ]
      },
      {
       "output_type": "stream",
       "stream": "stdout",
       "text": [
        " 44.0646515035\n",
        "Pre-training layer 1, epoch 4, cost "
       ]
      },
      {
       "output_type": "stream",
       "stream": "stdout",
       "text": [
        " 42.7346051649\n",
        "Pre-training layer 1, epoch 5, cost "
       ]
      },
      {
       "output_type": "stream",
       "stream": "stdout",
       "text": [
        " 41.5628752534\n",
        "Pre-training layer 1, epoch 6, cost "
       ]
      },
      {
       "output_type": "stream",
       "stream": "stdout",
       "text": [
        " 40.5318409255\n",
        "Pre-training layer 1, epoch 7, cost "
       ]
      },
      {
       "output_type": "stream",
       "stream": "stdout",
       "text": [
        " 39.6228004042\n",
        "Pre-training layer 1, epoch 8, cost "
       ]
      },
      {
       "output_type": "stream",
       "stream": "stdout",
       "text": [
        " 38.8185163237\n",
        "Pre-training layer 1, epoch 9, cost "
       ]
      },
      {
       "output_type": "stream",
       "stream": "stdout",
       "text": [
        " 38.1039411937\n",
        "Pre-training layer 1, epoch 10, cost "
       ]
      },
      {
       "output_type": "stream",
       "stream": "stdout",
       "text": [
        " 37.4662302937\n",
        "Pre-training layer 1, epoch 11, cost "
       ]
      },
      {
       "output_type": "stream",
       "stream": "stdout",
       "text": [
        " 36.8945311591\n",
        "Pre-training layer 1, epoch 12, cost "
       ]
      },
      {
       "output_type": "stream",
       "stream": "stdout",
       "text": [
        " 36.3797210656\n",
        "Pre-training layer 1, epoch 13, cost "
       ]
      },
      {
       "output_type": "stream",
       "stream": "stdout",
       "text": [
        " 35.9141467886\n",
        "Pre-training layer 1, epoch 14, cost "
       ]
      },
      {
       "output_type": "stream",
       "stream": "stdout",
       "text": [
        " 35.4913842767\n",
        "Pre-training layer 1, epoch 15, cost "
       ]
      },
      {
       "output_type": "stream",
       "stream": "stdout",
       "text": [
        " 35.1060255286\n",
        "Pre-training layer 1, epoch 16, cost "
       ]
      },
      {
       "output_type": "stream",
       "stream": "stdout",
       "text": [
        " 34.7534963204\n",
        "Pre-training layer 1, epoch 17, cost "
       ]
      },
      {
       "output_type": "stream",
       "stream": "stdout",
       "text": [
        " 34.4299056559\n",
        "Pre-training layer 1, epoch 18, cost "
       ]
      },
      {
       "output_type": "stream",
       "stream": "stdout",
       "text": [
        " 34.1319248424\n",
        "Pre-training layer 1, epoch 19, cost "
       ]
      },
      {
       "output_type": "stream",
       "stream": "stdout",
       "text": [
        " 33.8566916862\n",
        "Pre-training layer 1, epoch 20, cost "
       ]
      },
      {
       "output_type": "stream",
       "stream": "stdout",
       "text": [
        " 33.6017343804\n",
        "Pre-training layer 1, epoch 21, cost "
       ]
      },
      {
       "output_type": "stream",
       "stream": "stdout",
       "text": [
        " 33.364910191\n",
        "Pre-training layer 1, epoch 22, cost "
       ]
      },
      {
       "output_type": "stream",
       "stream": "stdout",
       "text": [
        " 33.1443552664\n",
        "Pre-training layer 1, epoch 23, cost "
       ]
      },
      {
       "output_type": "stream",
       "stream": "stdout",
       "text": [
        " 32.9384430532\n",
        "Pre-training layer 1, epoch 24, cost "
       ]
      },
      {
       "output_type": "stream",
       "stream": "stdout",
       "text": [
        " 32.7457495918\n",
        "Pre-training layer 1, epoch 25, cost "
       ]
      },
      {
       "output_type": "stream",
       "stream": "stdout",
       "text": [
        " 32.5650244364\n",
        "Pre-training layer 1, epoch 26, cost "
       ]
      },
      {
       "output_type": "stream",
       "stream": "stdout",
       "text": [
        " 32.3951662139\n",
        "Pre-training layer 1, epoch 27, cost "
       ]
      },
      {
       "output_type": "stream",
       "stream": "stdout",
       "text": [
        " 32.2352020149\n",
        "Pre-training layer 1, epoch 28, cost "
       ]
      },
      {
       "output_type": "stream",
       "stream": "stdout",
       "text": [
        " 32.0842699522\n",
        "Pre-training layer 1, epoch 29, cost "
       ]
      },
      {
       "output_type": "stream",
       "stream": "stdout",
       "text": [
        " 31.9416043361\n",
        "... getting the finetuning functions\n",
        "... finetunning the model"
       ]
      },
      {
       "output_type": "stream",
       "stream": "stdout",
       "text": [
        "\n",
        "epoch 1, minibatch 424/424, validation error 39.465409 %"
       ]
      },
      {
       "output_type": "stream",
       "stream": "stdout",
       "text": [
        "\n",
        " epoch 1, minibatch 424/424, test error of best model 38.409091 %"
       ]
      },
      {
       "output_type": "stream",
       "stream": "stdout",
       "text": [
        "\n",
        "epoch 2, minibatch 424/424, validation error 34.182390 %"
       ]
      },
      {
       "output_type": "stream",
       "stream": "stdout",
       "text": [
        "\n",
        " epoch 2, minibatch 424/424, test error of best model 31.464646 %"
       ]
      },
      {
       "output_type": "stream",
       "stream": "stdout",
       "text": [
        "\n",
        "epoch 3, minibatch 424/424, validation error 30.754717 %"
       ]
      },
      {
       "output_type": "stream",
       "stream": "stdout",
       "text": [
        "\n",
        " epoch 3, minibatch 424/424, test error of best model 29.090909 %"
       ]
      },
      {
       "output_type": "stream",
       "stream": "stdout",
       "text": [
        "\n",
        "epoch 4, minibatch 424/424, validation error 28.270440 %"
       ]
      },
      {
       "output_type": "stream",
       "stream": "stdout",
       "text": [
        "\n",
        " epoch 4, minibatch 424/424, test error of best model 26.767677 %"
       ]
      },
      {
       "output_type": "stream",
       "stream": "stdout",
       "text": [
        "\n",
        "epoch 5, minibatch 424/424, validation error 26.037736 %"
       ]
      },
      {
       "output_type": "stream",
       "stream": "stdout",
       "text": [
        "\n",
        " epoch 5, minibatch 424/424, test error of best model 25.328283 %"
       ]
      },
      {
       "output_type": "stream",
       "stream": "stdout",
       "text": [
        "\n",
        "epoch 6, minibatch 424/424, validation error 24.276730 %"
       ]
      },
      {
       "output_type": "stream",
       "stream": "stdout",
       "text": [
        "\n",
        " epoch 6, minibatch 424/424, test error of best model 23.636364 %"
       ]
      },
      {
       "output_type": "stream",
       "stream": "stdout",
       "text": [
        "\n",
        "epoch 7, minibatch 424/424, validation error 23.176101 %"
       ]
      },
      {
       "output_type": "stream",
       "stream": "stdout",
       "text": [
        "\n",
        " epoch 7, minibatch 424/424, test error of best model 22.676768 %"
       ]
      },
      {
       "output_type": "stream",
       "stream": "stdout",
       "text": [
        "\n",
        "epoch 8, minibatch 424/424, validation error 21.981132 %"
       ]
      },
      {
       "output_type": "stream",
       "stream": "stdout",
       "text": [
        "\n",
        " epoch 8, minibatch 424/424, test error of best model 21.843434 %"
       ]
      },
      {
       "output_type": "stream",
       "stream": "stdout",
       "text": [
        "\n",
        "epoch 9, minibatch 424/424, validation error 21.194969 %"
       ]
      },
      {
       "output_type": "stream",
       "stream": "stdout",
       "text": [
        "\n",
        " epoch 9, minibatch 424/424, test error of best model 20.984848 %"
       ]
      },
      {
       "output_type": "stream",
       "stream": "stdout",
       "text": [
        "\n",
        "epoch 10, minibatch 424/424, validation error 20.251572 %"
       ]
      },
      {
       "output_type": "stream",
       "stream": "stdout",
       "text": [
        "\n",
        " epoch 10, minibatch 424/424, test error of best model 20.176768 %"
       ]
      },
      {
       "output_type": "stream",
       "stream": "stdout",
       "text": [
        "\n",
        "epoch 11, minibatch 424/424, validation error 19.371069 %"
       ]
      },
      {
       "output_type": "stream",
       "stream": "stdout",
       "text": [
        "\n",
        " epoch 11, minibatch 424/424, test error of best model 19.368687 %"
       ]
      },
      {
       "output_type": "stream",
       "stream": "stdout",
       "text": [
        "\n",
        "epoch 12, minibatch 424/424, validation error 18.710692 %"
       ]
      },
      {
       "output_type": "stream",
       "stream": "stdout",
       "text": [
        "\n",
        " epoch 12, minibatch 424/424, test error of best model 18.989899 %"
       ]
      },
      {
       "output_type": "stream",
       "stream": "stdout",
       "text": [
        "\n",
        "epoch 13, minibatch 424/424, validation error 18.238994 %"
       ]
      },
      {
       "output_type": "stream",
       "stream": "stdout",
       "text": [
        "\n",
        " epoch 13, minibatch 424/424, test error of best model 18.459596 %"
       ]
      },
      {
       "output_type": "stream",
       "stream": "stdout",
       "text": [
        "\n",
        "epoch 14, minibatch 424/424, validation error 17.893082 %"
       ]
      },
      {
       "output_type": "stream",
       "stream": "stdout",
       "text": [
        "\n",
        " epoch 14, minibatch 424/424, test error of best model 18.106061 %"
       ]
      },
      {
       "output_type": "stream",
       "stream": "stdout",
       "text": [
        "\n",
        "epoch 15, minibatch 424/424, validation error 17.704403 %"
       ]
      },
      {
       "output_type": "stream",
       "stream": "stdout",
       "text": [
        "\n",
        " epoch 15, minibatch 424/424, test error of best model 17.752525 %"
       ]
      },
      {
       "output_type": "stream",
       "stream": "stdout",
       "text": [
        "\n",
        "epoch 16, minibatch 424/424, validation error 17.075472 %"
       ]
      },
      {
       "output_type": "stream",
       "stream": "stdout",
       "text": [
        "\n",
        " epoch 16, minibatch 424/424, test error of best model 17.651515 %"
       ]
      },
      {
       "output_type": "stream",
       "stream": "stdout",
       "text": [
        "\n",
        "epoch 17, minibatch 424/424, validation error 16.886792 %"
       ]
      },
      {
       "output_type": "stream",
       "stream": "stdout",
       "text": [
        "\n",
        " epoch 17, minibatch 424/424, test error of best model 17.601010 %"
       ]
      },
      {
       "output_type": "stream",
       "stream": "stdout",
       "text": [
        "\n",
        "epoch 18, minibatch 424/424, validation error 16.603774 %"
       ]
      },
      {
       "output_type": "stream",
       "stream": "stdout",
       "text": [
        "\n",
        " epoch 18, minibatch 424/424, test error of best model 17.297980 %"
       ]
      },
      {
       "output_type": "stream",
       "stream": "stdout",
       "text": [
        "\n",
        "epoch 19, minibatch 424/424, validation error 16.477987 %"
       ]
      },
      {
       "output_type": "stream",
       "stream": "stdout",
       "text": [
        "\n",
        " epoch 19, minibatch 424/424, test error of best model 17.095960 %"
       ]
      },
      {
       "output_type": "stream",
       "stream": "stdout",
       "text": [
        "\n",
        "epoch 20, minibatch 424/424, validation error 16.352201 %"
       ]
      },
      {
       "output_type": "stream",
       "stream": "stdout",
       "text": [
        "\n",
        " epoch 20, minibatch 424/424, test error of best model 16.893939 %"
       ]
      },
      {
       "output_type": "stream",
       "stream": "stdout",
       "text": [
        "\n",
        "epoch 21, minibatch 424/424, validation error 16.352201 %"
       ]
      },
      {
       "output_type": "stream",
       "stream": "stdout",
       "text": [
        "\n",
        "epoch 22, minibatch 424/424, validation error 16.320755 %"
       ]
      },
      {
       "output_type": "stream",
       "stream": "stdout",
       "text": [
        "\n",
        " epoch 22, minibatch 424/424, test error of best model 16.338384 %"
       ]
      },
      {
       "output_type": "stream",
       "stream": "stdout",
       "text": [
        "\n",
        "epoch 23, minibatch 424/424, validation error 16.257862 %"
       ]
      },
      {
       "output_type": "stream",
       "stream": "stdout",
       "text": [
        "\n",
        " epoch 23, minibatch 424/424, test error of best model 16.212121 %"
       ]
      },
      {
       "output_type": "stream",
       "stream": "stdout",
       "text": [
        "\n",
        "epoch 24, minibatch 424/424, validation error 16.352201 %"
       ]
      },
      {
       "output_type": "stream",
       "stream": "stdout",
       "text": [
        "\n",
        "epoch 25, minibatch 424/424, validation error 16.352201 %"
       ]
      },
      {
       "output_type": "stream",
       "stream": "stdout",
       "text": [
        "\n",
        "epoch 26, minibatch 424/424, validation error 16.289308 %"
       ]
      },
      {
       "output_type": "stream",
       "stream": "stdout",
       "text": [
        "\n",
        "epoch 27, minibatch 424/424, validation error 16.100629 %"
       ]
      },
      {
       "output_type": "stream",
       "stream": "stdout",
       "text": [
        "\n",
        " epoch 27, minibatch 424/424, test error of best model 16.237374 %"
       ]
      },
      {
       "output_type": "stream",
       "stream": "stdout",
       "text": [
        "\n",
        "epoch 28, minibatch 424/424, validation error 16.226415 %"
       ]
      },
      {
       "output_type": "stream",
       "stream": "stdout",
       "text": [
        "\n",
        "epoch 29, minibatch 424/424, validation error 16.257862 %"
       ]
      },
      {
       "output_type": "stream",
       "stream": "stdout",
       "text": [
        "\n",
        "epoch 30, minibatch 424/424, validation error 16.257862 %"
       ]
      },
      {
       "output_type": "stream",
       "stream": "stdout",
       "text": [
        "\n",
        "epoch 31, minibatch 424/424, validation error 16.226415 %"
       ]
      },
      {
       "output_type": "stream",
       "stream": "stdout",
       "text": [
        "\n",
        "epoch 32, minibatch 424/424, validation error 16.289308 %"
       ]
      },
      {
       "output_type": "stream",
       "stream": "stdout",
       "text": [
        "\n",
        "epoch 33, minibatch 424/424, validation error 16.257862 %"
       ]
      },
      {
       "output_type": "stream",
       "stream": "stdout",
       "text": [
        "\n",
        "epoch 34, minibatch 424/424, validation error 16.257862 %"
       ]
      },
      {
       "output_type": "stream",
       "stream": "stdout",
       "text": [
        "\n",
        "epoch 35, minibatch 424/424, validation error 16.289308 %"
       ]
      },
      {
       "output_type": "stream",
       "stream": "stdout",
       "text": [
        "\n",
        "epoch 36, minibatch 424/424, validation error 16.289308 %"
       ]
      },
      {
       "output_type": "stream",
       "stream": "stdout",
       "text": [
        "\n",
        "epoch 37, minibatch 424/424, validation error 16.257862 %"
       ]
      },
      {
       "output_type": "stream",
       "stream": "stdout",
       "text": [
        "\n",
        "epoch 38, minibatch 424/424, validation error 16.289308 %"
       ]
      },
      {
       "output_type": "stream",
       "stream": "stdout",
       "text": [
        "\n",
        "epoch 39, minibatch 424/424, validation error 16.352201 %"
       ]
      },
      {
       "output_type": "stream",
       "stream": "stdout",
       "text": [
        "\n",
        "epoch 40, minibatch 424/424, validation error 16.352201 %"
       ]
      },
      {
       "output_type": "stream",
       "stream": "stdout",
       "text": [
        "\n",
        "epoch 41, minibatch 424/424, validation error 16.383648 %"
       ]
      },
      {
       "output_type": "stream",
       "stream": "stdout",
       "text": [
        "\n",
        "epoch 42, minibatch 424/424, validation error 16.320755 %"
       ]
      },
      {
       "output_type": "stream",
       "stream": "stdout",
       "text": [
        "\n",
        "epoch 43, minibatch 424/424, validation error 16.257862 %"
       ]
      },
      {
       "output_type": "stream",
       "stream": "stdout",
       "text": [
        "\n",
        "epoch 44, minibatch 424/424, validation error 16.226415 %"
       ]
      },
      {
       "output_type": "stream",
       "stream": "stdout",
       "text": [
        "\n",
        "epoch 45, minibatch 424/424, validation error 16.289308 %"
       ]
      },
      {
       "output_type": "stream",
       "stream": "stdout",
       "text": [
        "\n",
        "epoch 46, minibatch 424/424, validation error 16.415094 %"
       ]
      },
      {
       "output_type": "stream",
       "stream": "stdout",
       "text": [
        "\n",
        "epoch 47, minibatch 424/424, validation error 16.446541 %"
       ]
      },
      {
       "output_type": "stream",
       "stream": "stdout",
       "text": [
        "\n",
        "epoch 48, minibatch 424/424, validation error 16.477987 %"
       ]
      },
      {
       "output_type": "stream",
       "stream": "stdout",
       "text": [
        "\n",
        "epoch 49, minibatch 424/424, validation error 16.415094 %"
       ]
      },
      {
       "output_type": "stream",
       "stream": "stdout",
       "text": [
        "\n",
        "epoch 50, minibatch 424/424, validation error 16.415094 %"
       ]
      },
      {
       "output_type": "stream",
       "stream": "stdout",
       "text": [
        "\n",
        "epoch 51, minibatch 424/424, validation error 16.352201 %"
       ]
      },
      {
       "output_type": "stream",
       "stream": "stdout",
       "text": [
        "\n",
        "epoch 52, minibatch 424/424, validation error 16.320755 %"
       ]
      },
      {
       "output_type": "stream",
       "stream": "stdout",
       "text": [
        "\n",
        "epoch 53, minibatch 424/424, validation error 16.257862 %"
       ]
      },
      {
       "output_type": "stream",
       "stream": "stdout",
       "text": [
        "\n"
       ]
      },
      {
       "output_type": "stream",
       "stream": "stderr",
       "text": [
        "The pretraining code ran for 9.64m\n"
       ]
      }
     ],
     "prompt_number": 59
    },
    {
     "cell_type": "code",
     "collapsed": false,
     "input": [
      "prob = sda.predict_p(x_train_minmax)\n",
      "y_p = prob[:, 1]\n",
      "y_p"
     ],
     "language": "python",
     "metadata": {},
     "outputs": [
      {
       "metadata": {},
       "output_type": "pyout",
       "prompt_number": 60,
       "text": [
        "array([ 0.9999969 ,  0.99358194,  0.03238713, ...,  0.89236379,\n",
        "        0.99985128,  0.99693639])"
       ]
      }
     ],
     "prompt_number": 60
    },
    {
     "cell_type": "code",
     "collapsed": false,
     "input": [
      "print 'hidden_layers_sizes:', hidden_layers_sizes\n",
      "print 'corruption_levels:', corruption_levels\n",
      "\n",
      "training_predicted = sda.predict(x_train_minmax)\n",
      "y_train = y_train_minmax\n",
      "print 'train accuracy: ', '{percent:.1%}'.format(percent=sklearn.metrics.accuracy_score(y_train, training_predicted)) \n",
      "print 'precision: ', '{percent:.1%}'.format(percent=sklearn.metrics.precision_score(y_train, training_predicted, pos_label=1)) \n",
      "print 'recall: ', '{percent:.1%}'.format( percent= sklearn.metrics.recall_score(y_train, training_predicted, pos_label=1))\n",
      "\n",
      "\n",
      "test_predicted = sda.predict(x_test_minmax)\n",
      "y_test = y_test_minmax\n",
      "print 'testing accuracy: ', '{percent:.1%}'.format(percent=sklearn.metrics.accuracy_score(y_test, test_predicted)) \n",
      "print 'precision: ', '{percent:.1%}'.format(percent=sklearn.metrics.precision_score(y_test, test_predicted, pos_label=1)) \n",
      "print 'recall: ', '{percent:.1%}'.format( percent= sklearn.metrics.recall_score(y_test, test_predicted, pos_label=1))"
     ],
     "language": "python",
     "metadata": {},
     "outputs": [
      {
       "output_type": "stream",
       "stream": "stdout",
       "text": [
        "hidden_layers_sizes: [100, 100]\n",
        "corruption_levels: [0, 0]\n",
        "train accuracy: "
       ]
      },
      {
       "output_type": "stream",
       "stream": "stdout",
       "text": [
        " 100.0%\n",
        "precision:  99.9%\n",
        "recall:  100.0%\n",
        "testing accuracy: "
       ]
      },
      {
       "output_type": "stream",
       "stream": "stdout",
       "text": [
        " 84.2%\n",
        "precision:  83.8%\n",
        "recall:  85.0%\n"
       ]
      }
     ],
     "prompt_number": 61
    },
    {
     "cell_type": "code",
     "collapsed": false,
     "input": [
      "# build a sda, pretraining plus fine tuning on seperately transformed data\n",
      "# set up paramaters\n",
      "\n",
      "#finetune_lr=0.1\n",
      "finetune_lr = 0.1\n",
      "pretraining_epochs = 30\n",
      "#pretrain_lr=0.001\n",
      "pretrain_lr = 0.001\n",
      "training_epochs = 300\n",
      "batch_size = 30\n",
      "\n",
      "\n",
      "hidden_layers_sizes= [100, 100]\n",
      "corruption_levels = [0, 0]\n",
      "\n",
      "sda_transformed = trainSda(new_x_train_minmax_whole, y_train_minmax,\n",
      "             new_x_validationt_minmax_whole, y_validation_minmax , \n",
      "             new_x_test_minmax_whole, y_test_minmax,\n",
      "             hidden_layers_sizes = hidden_layers_sizes, corruption_levels = corruption_levels, batch_size = batch_size , \\\n",
      "             training_epochs = training_epochs, pretraining_epochs = pretraining_epochs, \n",
      "             pretrain_lr = pretrain_lr, finetune_lr=finetune_lr\n",
      "             )"
     ],
     "language": "python",
     "metadata": {},
     "outputs": [
      {
       "output_type": "stream",
       "stream": "stdout",
       "text": [
        "... building the model\n",
        "... getting the pretraining functions"
       ]
      },
      {
       "output_type": "stream",
       "stream": "stdout",
       "text": [
        "\n",
        "... pre-training the model"
       ]
      },
      {
       "output_type": "stream",
       "stream": "stdout",
       "text": [
        "\n",
        "Pre-training layer 0, epoch 0, cost "
       ]
      },
      {
       "output_type": "stream",
       "stream": "stdout",
       "text": [
        " 112.836086527\n",
        "Pre-training layer 0, epoch 1, cost "
       ]
      },
      {
       "output_type": "stream",
       "stream": "stdout",
       "text": [
        " 94.2030775816\n",
        "Pre-training layer 0, epoch 2, cost "
       ]
      },
      {
       "output_type": "stream",
       "stream": "stdout",
       "text": [
        " 92.0378017635\n",
        "Pre-training layer 0, epoch 3, cost "
       ]
      },
      {
       "output_type": "stream",
       "stream": "stdout",
       "text": [
        " 90.3206247155\n",
        "Pre-training layer 0, epoch 4, cost "
       ]
      },
      {
       "output_type": "stream",
       "stream": "stdout",
       "text": [
        " 88.8000412028\n",
        "Pre-training layer 0, epoch 5, cost "
       ]
      },
      {
       "output_type": "stream",
       "stream": "stdout",
       "text": [
        " 87.4479972472\n",
        "Pre-training layer 0, epoch 6, cost "
       ]
      },
      {
       "output_type": "stream",
       "stream": "stdout",
       "text": [
        " 86.2472003717\n",
        "Pre-training layer 0, epoch 7, cost "
       ]
      },
      {
       "output_type": "stream",
       "stream": "stdout",
       "text": [
        " 85.1805217915\n",
        "Pre-training layer 0, epoch 8, cost "
       ]
      },
      {
       "output_type": "stream",
       "stream": "stdout",
       "text": [
        " 84.231475801\n",
        "Pre-training layer 0, epoch 9, cost "
       ]
      },
      {
       "output_type": "stream",
       "stream": "stdout",
       "text": [
        " 83.3851253563\n",
        "Pre-training layer 0, epoch 10, cost "
       ]
      },
      {
       "output_type": "stream",
       "stream": "stdout",
       "text": [
        " 82.6284283976\n",
        "Pre-training layer 0, epoch 11, cost "
       ]
      },
      {
       "output_type": "stream",
       "stream": "stdout",
       "text": [
        " 81.9501774645\n",
        "Pre-training layer 0, epoch 12, cost "
       ]
      },
      {
       "output_type": "stream",
       "stream": "stdout",
       "text": [
        " 81.3407649341\n",
        "Pre-training layer 0, epoch 13, cost "
       ]
      },
      {
       "output_type": "stream",
       "stream": "stdout",
       "text": [
        " 80.7919185943\n",
        "Pre-training layer 0, epoch 14, cost "
       ]
      },
      {
       "output_type": "stream",
       "stream": "stdout",
       "text": [
        " 80.2964720712\n",
        "Pre-training layer 0, epoch 15, cost "
       ]
      },
      {
       "output_type": "stream",
       "stream": "stdout",
       "text": [
        " 79.8481858139\n",
        "Pre-training layer 0, epoch 16, cost "
       ]
      },
      {
       "output_type": "stream",
       "stream": "stdout",
       "text": [
        " 79.4416115015\n",
        "Pre-training layer 0, epoch 17, cost "
       ]
      },
      {
       "output_type": "stream",
       "stream": "stdout",
       "text": [
        " 79.0719861122\n",
        "Pre-training layer 0, epoch 18, cost "
       ]
      },
      {
       "output_type": "stream",
       "stream": "stdout",
       "text": [
        " 78.7351434229\n",
        "Pre-training layer 0, epoch 19, cost "
       ]
      },
      {
       "output_type": "stream",
       "stream": "stdout",
       "text": [
        " 78.4274355216\n",
        "Pre-training layer 0, epoch 20, cost "
       ]
      },
      {
       "output_type": "stream",
       "stream": "stdout",
       "text": [
        " 78.145662191\n",
        "Pre-training layer 0, epoch 21, cost "
       ]
      },
      {
       "output_type": "stream",
       "stream": "stdout",
       "text": [
        " 77.8870094221\n",
        "Pre-training layer 0, epoch 22, cost "
       ]
      },
      {
       "output_type": "stream",
       "stream": "stdout",
       "text": [
        " 77.6489984648\n",
        "Pre-training layer 0, epoch 23, cost "
       ]
      },
      {
       "output_type": "stream",
       "stream": "stdout",
       "text": [
        " 77.4294446574\n",
        "Pre-training layer 0, epoch 24, cost "
       ]
      },
      {
       "output_type": "stream",
       "stream": "stdout",
       "text": [
        " 77.2264233525\n",
        "Pre-training layer 0, epoch 25, cost "
       ]
      },
      {
       "output_type": "stream",
       "stream": "stdout",
       "text": [
        " 77.0382401188\n",
        "Pre-training layer 0, epoch 26, cost "
       ]
      },
      {
       "output_type": "stream",
       "stream": "stdout",
       "text": [
        " 76.8634035598\n",
        "Pre-training layer 0, epoch 27, cost "
       ]
      },
      {
       "output_type": "stream",
       "stream": "stdout",
       "text": [
        " 76.7006002834\n",
        "Pre-training layer 0, epoch 28, cost "
       ]
      },
      {
       "output_type": "stream",
       "stream": "stdout",
       "text": [
        " 76.5486721544\n",
        "Pre-training layer 0, epoch 29, cost "
       ]
      },
      {
       "output_type": "stream",
       "stream": "stdout",
       "text": [
        " 76.4065960228\n",
        "Pre-training layer 1, epoch 0, cost "
       ]
      },
      {
       "output_type": "stream",
       "stream": "stdout",
       "text": [
        " 64.1499001144\n",
        "Pre-training layer 1, epoch 1, cost "
       ]
      },
      {
       "output_type": "stream",
       "stream": "stdout",
       "text": [
        " 55.1246129871\n",
        "Pre-training layer 1, epoch 2, cost "
       ]
      },
      {
       "output_type": "stream",
       "stream": "stdout",
       "text": [
        " 53.962952688\n",
        "Pre-training layer 1, epoch 3, cost "
       ]
      },
      {
       "output_type": "stream",
       "stream": "stdout",
       "text": [
        " 53.0232695193\n",
        "Pre-training layer 1, epoch 4, cost "
       ]
      },
      {
       "output_type": "stream",
       "stream": "stdout",
       "text": [
        " 52.1812964872\n",
        "Pre-training layer 1, epoch 5, cost "
       ]
      },
      {
       "output_type": "stream",
       "stream": "stdout",
       "text": [
        " 51.4281284243\n",
        "Pre-training layer 1, epoch 6, cost "
       ]
      },
      {
       "output_type": "stream",
       "stream": "stdout",
       "text": [
        " 50.7573489463\n",
        "Pre-training layer 1, epoch 7, cost "
       ]
      },
      {
       "output_type": "stream",
       "stream": "stdout",
       "text": [
        " 50.1620071689\n",
        "Pre-training layer 1, epoch 8, cost "
       ]
      },
      {
       "output_type": "stream",
       "stream": "stdout",
       "text": [
        " 49.6349026572\n",
        "Pre-training layer 1, epoch 9, cost "
       ]
      },
      {
       "output_type": "stream",
       "stream": "stdout",
       "text": [
        " 49.1688995619\n",
        "Pre-training layer 1, epoch 10, cost "
       ]
      },
      {
       "output_type": "stream",
       "stream": "stdout",
       "text": [
        " 48.7571510817\n",
        "Pre-training layer 1, epoch 11, cost "
       ]
      },
      {
       "output_type": "stream",
       "stream": "stdout",
       "text": [
        " 48.3932494675\n",
        "Pre-training layer 1, epoch 12, cost "
       ]
      },
      {
       "output_type": "stream",
       "stream": "stdout",
       "text": [
        " 48.0713174331\n",
        "Pre-training layer 1, epoch 13, cost "
       ]
      },
      {
       "output_type": "stream",
       "stream": "stdout",
       "text": [
        " 47.786051882\n",
        "Pre-training layer 1, epoch 14, cost "
       ]
      },
      {
       "output_type": "stream",
       "stream": "stdout",
       "text": [
        " 47.5327297965\n",
        "Pre-training layer 1, epoch 15, cost "
       ]
      },
      {
       "output_type": "stream",
       "stream": "stdout",
       "text": [
        " 47.3071869306\n",
        "Pre-training layer 1, epoch 16, cost "
       ]
      },
      {
       "output_type": "stream",
       "stream": "stdout",
       "text": [
        " 47.1057798629\n",
        "Pre-training layer 1, epoch 17, cost "
       ]
      },
      {
       "output_type": "stream",
       "stream": "stdout",
       "text": [
        " 46.9253400274\n",
        "Pre-training layer 1, epoch 18, cost "
       ]
      },
      {
       "output_type": "stream",
       "stream": "stdout",
       "text": [
        " 46.7631253598\n",
        "Pre-training layer 1, epoch 19, cost "
       ]
      },
      {
       "output_type": "stream",
       "stream": "stdout",
       "text": [
        " 46.6167725239\n",
        "Pre-training layer 1, epoch 20, cost "
       ]
      },
      {
       "output_type": "stream",
       "stream": "stdout",
       "text": [
        " 46.4842510996\n",
        "Pre-training layer 1, epoch 21, cost "
       ]
      },
      {
       "output_type": "stream",
       "stream": "stdout",
       "text": [
        " 46.3638205059\n",
        "Pre-training layer 1, epoch 22, cost "
       ]
      },
      {
       "output_type": "stream",
       "stream": "stdout",
       "text": [
        " 46.2539902691\n",
        "Pre-training layer 1, epoch 23, cost "
       ]
      },
      {
       "output_type": "stream",
       "stream": "stdout",
       "text": [
        " 46.1534841165\n",
        "Pre-training layer 1, epoch 24, cost "
       ]
      },
      {
       "output_type": "stream",
       "stream": "stdout",
       "text": [
        " 46.0612081593\n",
        "Pre-training layer 1, epoch 25, cost "
       ]
      },
      {
       "output_type": "stream",
       "stream": "stdout",
       "text": [
        " 45.9762231815\n",
        "Pre-training layer 1, epoch 26, cost "
       ]
      },
      {
       "output_type": "stream",
       "stream": "stdout",
       "text": [
        " 45.8977208312\n",
        "Pre-training layer 1, epoch 27, cost "
       ]
      },
      {
       "output_type": "stream",
       "stream": "stdout",
       "text": [
        " 45.8250033755\n",
        "Pre-training layer 1, epoch 28, cost "
       ]
      },
      {
       "output_type": "stream",
       "stream": "stdout",
       "text": [
        " 45.757466606\n",
        "Pre-training layer 1, epoch 29, cost "
       ]
      },
      {
       "output_type": "stream",
       "stream": "stdout",
       "text": [
        " 45.694585476\n",
        "... getting the finetuning functions\n",
        "... finetunning the model"
       ]
      },
      {
       "output_type": "stream",
       "stream": "stdout",
       "text": [
        "\n",
        "epoch 1, minibatch 424/424, validation error 35.817610 %"
       ]
      },
      {
       "output_type": "stream",
       "stream": "stdout",
       "text": [
        "\n",
        " epoch 1, minibatch 424/424, test error of best model 33.535354 %"
       ]
      },
      {
       "output_type": "stream",
       "stream": "stdout",
       "text": [
        "\n",
        "epoch 2, minibatch 424/424, validation error 28.962264 %"
       ]
      },
      {
       "output_type": "stream",
       "stream": "stdout",
       "text": [
        "\n",
        " epoch 2, minibatch 424/424, test error of best model 27.196970 %"
       ]
      },
      {
       "output_type": "stream",
       "stream": "stdout",
       "text": [
        "\n",
        "epoch 3, minibatch 424/424, validation error 26.729560 %"
       ]
      },
      {
       "output_type": "stream",
       "stream": "stdout",
       "text": [
        "\n",
        " epoch 3, minibatch 424/424, test error of best model 24.722222 %"
       ]
      },
      {
       "output_type": "stream",
       "stream": "stdout",
       "text": [
        "\n",
        "epoch 4, minibatch 424/424, validation error 25.188679 %"
       ]
      },
      {
       "output_type": "stream",
       "stream": "stdout",
       "text": [
        "\n",
        " epoch 4, minibatch 424/424, test error of best model 23.459596 %"
       ]
      },
      {
       "output_type": "stream",
       "stream": "stdout",
       "text": [
        "\n",
        "epoch 5, minibatch 424/424, validation error 23.616352 %"
       ]
      },
      {
       "output_type": "stream",
       "stream": "stdout",
       "text": [
        "\n",
        " epoch 5, minibatch 424/424, test error of best model 22.777778 %"
       ]
      },
      {
       "output_type": "stream",
       "stream": "stdout",
       "text": [
        "\n",
        "epoch 6, minibatch 424/424, validation error 22.547170 %"
       ]
      },
      {
       "output_type": "stream",
       "stream": "stdout",
       "text": [
        "\n",
        " epoch 6, minibatch 424/424, test error of best model 21.944444 %"
       ]
      },
      {
       "output_type": "stream",
       "stream": "stdout",
       "text": [
        "\n",
        "epoch 7, minibatch 424/424, validation error 21.761006 %"
       ]
      },
      {
       "output_type": "stream",
       "stream": "stdout",
       "text": [
        "\n",
        " epoch 7, minibatch 424/424, test error of best model 21.111111 %"
       ]
      },
      {
       "output_type": "stream",
       "stream": "stdout",
       "text": [
        "\n",
        "epoch 8, minibatch 424/424, validation error 21.446541 %"
       ]
      },
      {
       "output_type": "stream",
       "stream": "stdout",
       "text": [
        "\n",
        " epoch 8, minibatch 424/424, test error of best model 20.429293 %"
       ]
      },
      {
       "output_type": "stream",
       "stream": "stdout",
       "text": [
        "\n",
        "epoch 9, minibatch 424/424, validation error 20.471698 %"
       ]
      },
      {
       "output_type": "stream",
       "stream": "stdout",
       "text": [
        "\n",
        " epoch 9, minibatch 424/424, test error of best model 19.848485 %"
       ]
      },
      {
       "output_type": "stream",
       "stream": "stdout",
       "text": [
        "\n",
        "epoch 10, minibatch 424/424, validation error 19.874214 %"
       ]
      },
      {
       "output_type": "stream",
       "stream": "stdout",
       "text": [
        "\n",
        " epoch 10, minibatch 424/424, test error of best model 19.444444 %"
       ]
      },
      {
       "output_type": "stream",
       "stream": "stdout",
       "text": [
        "\n",
        "epoch 11, minibatch 424/424, validation error 19.465409 %"
       ]
      },
      {
       "output_type": "stream",
       "stream": "stdout",
       "text": [
        "\n",
        " epoch 11, minibatch 424/424, test error of best model 19.166667 %"
       ]
      },
      {
       "output_type": "stream",
       "stream": "stdout",
       "text": [
        "\n",
        "epoch 12, minibatch 424/424, validation error 18.930818 %"
       ]
      },
      {
       "output_type": "stream",
       "stream": "stdout",
       "text": [
        "\n",
        " epoch 12, minibatch 424/424, test error of best model 18.787879 %"
       ]
      },
      {
       "output_type": "stream",
       "stream": "stdout",
       "text": [
        "\n",
        "epoch 13, minibatch 424/424, validation error 18.616352 %"
       ]
      },
      {
       "output_type": "stream",
       "stream": "stdout",
       "text": [
        "\n",
        " epoch 13, minibatch 424/424, test error of best model 18.510101 %"
       ]
      },
      {
       "output_type": "stream",
       "stream": "stdout",
       "text": [
        "\n",
        "epoch 14, minibatch 424/424, validation error 18.301887 %"
       ]
      },
      {
       "output_type": "stream",
       "stream": "stdout",
       "text": [
        "\n",
        " epoch 14, minibatch 424/424, test error of best model 18.232323 %"
       ]
      },
      {
       "output_type": "stream",
       "stream": "stdout",
       "text": [
        "\n",
        "epoch 15, minibatch 424/424, validation error 18.081761 %"
       ]
      },
      {
       "output_type": "stream",
       "stream": "stdout",
       "text": [
        "\n",
        " epoch 15, minibatch 424/424, test error of best model 18.030303 %"
       ]
      },
      {
       "output_type": "stream",
       "stream": "stdout",
       "text": [
        "\n",
        "epoch 16, minibatch 424/424, validation error 17.830189 %"
       ]
      },
      {
       "output_type": "stream",
       "stream": "stdout",
       "text": [
        "\n",
        " epoch 16, minibatch 424/424, test error of best model 17.752525 %"
       ]
      },
      {
       "output_type": "stream",
       "stream": "stdout",
       "text": [
        "\n",
        "epoch 17, minibatch 424/424, validation error 17.641509 %"
       ]
      },
      {
       "output_type": "stream",
       "stream": "stdout",
       "text": [
        "\n",
        " epoch 17, minibatch 424/424, test error of best model 17.500000 %"
       ]
      },
      {
       "output_type": "stream",
       "stream": "stdout",
       "text": [
        "\n",
        "epoch 18, minibatch 424/424, validation error 17.358491 %"
       ]
      },
      {
       "output_type": "stream",
       "stream": "stdout",
       "text": [
        "\n",
        " epoch 18, minibatch 424/424, test error of best model 17.196970 %"
       ]
      },
      {
       "output_type": "stream",
       "stream": "stdout",
       "text": [
        "\n",
        "epoch 19, minibatch 424/424, validation error 17.327044 %"
       ]
      },
      {
       "output_type": "stream",
       "stream": "stdout",
       "text": [
        "\n",
        " epoch 19, minibatch 424/424, test error of best model 16.944444 %"
       ]
      },
      {
       "output_type": "stream",
       "stream": "stdout",
       "text": [
        "\n",
        "epoch 20, minibatch 424/424, validation error 16.981132 %"
       ]
      },
      {
       "output_type": "stream",
       "stream": "stdout",
       "text": [
        "\n",
        " epoch 20, minibatch 424/424, test error of best model 16.666667 %"
       ]
      },
      {
       "output_type": "stream",
       "stream": "stdout",
       "text": [
        "\n",
        "epoch 21, minibatch 424/424, validation error 16.761006 %"
       ]
      },
      {
       "output_type": "stream",
       "stream": "stdout",
       "text": [
        "\n",
        " epoch 21, minibatch 424/424, test error of best model 16.388889 %"
       ]
      },
      {
       "output_type": "stream",
       "stream": "stdout",
       "text": [
        "\n",
        "epoch 22, minibatch 424/424, validation error 16.698113 %"
       ]
      },
      {
       "output_type": "stream",
       "stream": "stdout",
       "text": [
        "\n",
        " epoch 22, minibatch 424/424, test error of best model 16.212121 %"
       ]
      },
      {
       "output_type": "stream",
       "stream": "stdout",
       "text": [
        "\n",
        "epoch 23, minibatch 424/424, validation error 16.509434 %"
       ]
      },
      {
       "output_type": "stream",
       "stream": "stdout",
       "text": [
        "\n",
        " epoch 23, minibatch 424/424, test error of best model 16.010101 %"
       ]
      },
      {
       "output_type": "stream",
       "stream": "stdout",
       "text": [
        "\n",
        "epoch 24, minibatch 424/424, validation error 16.415094 %"
       ]
      },
      {
       "output_type": "stream",
       "stream": "stdout",
       "text": [
        "\n",
        " epoch 24, minibatch 424/424, test error of best model 15.883838 %"
       ]
      },
      {
       "output_type": "stream",
       "stream": "stdout",
       "text": [
        "\n",
        "epoch 25, minibatch 424/424, validation error 16.069182 %"
       ]
      },
      {
       "output_type": "stream",
       "stream": "stdout",
       "text": [
        "\n",
        " epoch 25, minibatch 424/424, test error of best model 15.833333 %"
       ]
      },
      {
       "output_type": "stream",
       "stream": "stdout",
       "text": [
        "\n",
        "epoch 26, minibatch 424/424, validation error 15.974843 %"
       ]
      },
      {
       "output_type": "stream",
       "stream": "stdout",
       "text": [
        "\n",
        " epoch 26, minibatch 424/424, test error of best model 15.782828 %"
       ]
      },
      {
       "output_type": "stream",
       "stream": "stdout",
       "text": [
        "\n",
        "epoch 27, minibatch 424/424, validation error 15.817610 %"
       ]
      },
      {
       "output_type": "stream",
       "stream": "stdout",
       "text": [
        "\n",
        " epoch 27, minibatch 424/424, test error of best model 15.656566 %"
       ]
      },
      {
       "output_type": "stream",
       "stream": "stdout",
       "text": [
        "\n",
        "epoch 28, minibatch 424/424, validation error 15.471698 %"
       ]
      },
      {
       "output_type": "stream",
       "stream": "stdout",
       "text": [
        "\n",
        " epoch 28, minibatch 424/424, test error of best model 15.303030 %"
       ]
      },
      {
       "output_type": "stream",
       "stream": "stdout",
       "text": [
        "\n",
        "epoch 29, minibatch 424/424, validation error 15.314465 %"
       ]
      },
      {
       "output_type": "stream",
       "stream": "stdout",
       "text": [
        "\n",
        " epoch 29, minibatch 424/424, test error of best model 15.227273 %"
       ]
      },
      {
       "output_type": "stream",
       "stream": "stdout",
       "text": [
        "\n",
        "epoch 30, minibatch 424/424, validation error 15.094340 %"
       ]
      },
      {
       "output_type": "stream",
       "stream": "stdout",
       "text": [
        "\n",
        " epoch 30, minibatch 424/424, test error of best model 15.227273 %"
       ]
      },
      {
       "output_type": "stream",
       "stream": "stdout",
       "text": [
        "\n",
        "epoch 31, minibatch 424/424, validation error 15.000000 %"
       ]
      },
      {
       "output_type": "stream",
       "stream": "stdout",
       "text": [
        "\n",
        " epoch 31, minibatch 424/424, test error of best model 15.075758 %"
       ]
      },
      {
       "output_type": "stream",
       "stream": "stdout",
       "text": [
        "\n",
        "epoch 32, minibatch 424/424, validation error 14.937107 %"
       ]
      },
      {
       "output_type": "stream",
       "stream": "stdout",
       "text": [
        "\n",
        " epoch 32, minibatch 424/424, test error of best model 14.974747 %"
       ]
      },
      {
       "output_type": "stream",
       "stream": "stdout",
       "text": [
        "\n",
        "epoch 33, minibatch 424/424, validation error 14.874214 %"
       ]
      },
      {
       "output_type": "stream",
       "stream": "stdout",
       "text": [
        "\n",
        " epoch 33, minibatch 424/424, test error of best model 14.848485 %"
       ]
      },
      {
       "output_type": "stream",
       "stream": "stdout",
       "text": [
        "\n",
        "epoch 34, minibatch 424/424, validation error 14.654088 %"
       ]
      },
      {
       "output_type": "stream",
       "stream": "stdout",
       "text": [
        "\n",
        " epoch 34, minibatch 424/424, test error of best model 14.646465 %"
       ]
      },
      {
       "output_type": "stream",
       "stream": "stdout",
       "text": [
        "\n",
        "epoch 35, minibatch 424/424, validation error 14.559748 %"
       ]
      },
      {
       "output_type": "stream",
       "stream": "stdout",
       "text": [
        "\n",
        " epoch 35, minibatch 424/424, test error of best model 14.520202 %"
       ]
      },
      {
       "output_type": "stream",
       "stream": "stdout",
       "text": [
        "\n",
        "epoch 36, minibatch 424/424, validation error 14.559748 %"
       ]
      },
      {
       "output_type": "stream",
       "stream": "stdout",
       "text": [
        "\n",
        "epoch 37, minibatch 424/424, validation error 14.528302 %"
       ]
      },
      {
       "output_type": "stream",
       "stream": "stdout",
       "text": [
        "\n",
        " epoch 37, minibatch 424/424, test error of best model 14.469697 %"
       ]
      },
      {
       "output_type": "stream",
       "stream": "stdout",
       "text": [
        "\n",
        "epoch 38, minibatch 424/424, validation error 14.622642 %"
       ]
      },
      {
       "output_type": "stream",
       "stream": "stdout",
       "text": [
        "\n",
        "epoch 39, minibatch 424/424, validation error 14.622642 %"
       ]
      },
      {
       "output_type": "stream",
       "stream": "stdout",
       "text": [
        "\n",
        "epoch 40, minibatch 424/424, validation error 14.622642 %"
       ]
      },
      {
       "output_type": "stream",
       "stream": "stdout",
       "text": [
        "\n",
        "epoch 41, minibatch 424/424, validation error 14.528302 %"
       ]
      },
      {
       "output_type": "stream",
       "stream": "stdout",
       "text": [
        "\n",
        "epoch 42, minibatch 424/424, validation error 14.559748 %"
       ]
      },
      {
       "output_type": "stream",
       "stream": "stdout",
       "text": [
        "\n",
        "epoch 43, minibatch 424/424, validation error 14.559748 %"
       ]
      },
      {
       "output_type": "stream",
       "stream": "stdout",
       "text": [
        "\n",
        "epoch 44, minibatch 424/424, validation error 14.528302 %"
       ]
      },
      {
       "output_type": "stream",
       "stream": "stdout",
       "text": [
        "\n",
        "epoch 45, minibatch 424/424, validation error 14.465409 %"
       ]
      },
      {
       "output_type": "stream",
       "stream": "stdout",
       "text": [
        "\n",
        " epoch 45, minibatch 424/424, test error of best model 13.939394 %"
       ]
      },
      {
       "output_type": "stream",
       "stream": "stdout",
       "text": [
        "\n",
        "epoch 46, minibatch 424/424, validation error 14.308176 %"
       ]
      },
      {
       "output_type": "stream",
       "stream": "stdout",
       "text": [
        "\n",
        " epoch 46, minibatch 424/424, test error of best model 13.863636 %"
       ]
      },
      {
       "output_type": "stream",
       "stream": "stdout",
       "text": [
        "\n",
        "epoch 47, minibatch 424/424, validation error 14.245283 %"
       ]
      },
      {
       "output_type": "stream",
       "stream": "stdout",
       "text": [
        "\n",
        " epoch 47, minibatch 424/424, test error of best model 13.838384 %"
       ]
      },
      {
       "output_type": "stream",
       "stream": "stdout",
       "text": [
        "\n",
        "epoch 48, minibatch 424/424, validation error 14.056604 %"
       ]
      },
      {
       "output_type": "stream",
       "stream": "stdout",
       "text": [
        "\n",
        " epoch 48, minibatch 424/424, test error of best model 13.737374 %"
       ]
      },
      {
       "output_type": "stream",
       "stream": "stdout",
       "text": [
        "\n",
        "epoch 49, minibatch 424/424, validation error 13.899371 %"
       ]
      },
      {
       "output_type": "stream",
       "stream": "stdout",
       "text": [
        "\n",
        " epoch 49, minibatch 424/424, test error of best model 13.712121 %"
       ]
      },
      {
       "output_type": "stream",
       "stream": "stdout",
       "text": [
        "\n",
        "epoch 50, minibatch 424/424, validation error 13.773585 %"
       ]
      },
      {
       "output_type": "stream",
       "stream": "stdout",
       "text": [
        "\n",
        " epoch 50, minibatch 424/424, test error of best model 13.611111 %"
       ]
      },
      {
       "output_type": "stream",
       "stream": "stdout",
       "text": [
        "\n",
        "epoch 51, minibatch 424/424, validation error 13.710692 %"
       ]
      },
      {
       "output_type": "stream",
       "stream": "stdout",
       "text": [
        "\n",
        " epoch 51, minibatch 424/424, test error of best model 13.510101 %"
       ]
      },
      {
       "output_type": "stream",
       "stream": "stdout",
       "text": [
        "\n",
        "epoch 52, minibatch 424/424, validation error 13.679245 %"
       ]
      },
      {
       "output_type": "stream",
       "stream": "stdout",
       "text": [
        "\n",
        " epoch 52, minibatch 424/424, test error of best model 13.560606 %"
       ]
      },
      {
       "output_type": "stream",
       "stream": "stdout",
       "text": [
        "\n",
        "epoch 53, minibatch 424/424, validation error 13.710692 %"
       ]
      },
      {
       "output_type": "stream",
       "stream": "stdout",
       "text": [
        "\n",
        "epoch 54, minibatch 424/424, validation error 13.710692 %"
       ]
      },
      {
       "output_type": "stream",
       "stream": "stdout",
       "text": [
        "\n",
        "epoch 55, minibatch 424/424, validation error 13.616352 %"
       ]
      },
      {
       "output_type": "stream",
       "stream": "stdout",
       "text": [
        "\n",
        " epoch 55, minibatch 424/424, test error of best model 13.560606 %"
       ]
      },
      {
       "output_type": "stream",
       "stream": "stdout",
       "text": [
        "\n",
        "epoch 56, minibatch 424/424, validation error 13.553459 %"
       ]
      },
      {
       "output_type": "stream",
       "stream": "stdout",
       "text": [
        "\n",
        " epoch 56, minibatch 424/424, test error of best model 13.560606 %"
       ]
      },
      {
       "output_type": "stream",
       "stream": "stdout",
       "text": [
        "\n",
        "epoch 57, minibatch 424/424, validation error 13.396226 %"
       ]
      },
      {
       "output_type": "stream",
       "stream": "stdout",
       "text": [
        "\n",
        " epoch 57, minibatch 424/424, test error of best model 13.560606 %"
       ]
      },
      {
       "output_type": "stream",
       "stream": "stdout",
       "text": [
        "\n",
        "epoch 58, minibatch 424/424, validation error 13.333333 %"
       ]
      },
      {
       "output_type": "stream",
       "stream": "stdout",
       "text": [
        "\n",
        " epoch 58, minibatch 424/424, test error of best model 13.585859 %"
       ]
      },
      {
       "output_type": "stream",
       "stream": "stdout",
       "text": [
        "\n",
        "epoch 59, minibatch 424/424, validation error 13.238994 %"
       ]
      },
      {
       "output_type": "stream",
       "stream": "stdout",
       "text": [
        "\n",
        " epoch 59, minibatch 424/424, test error of best model 13.560606 %"
       ]
      },
      {
       "output_type": "stream",
       "stream": "stdout",
       "text": [
        "\n",
        "epoch 60, minibatch 424/424, validation error 13.113208 %"
       ]
      },
      {
       "output_type": "stream",
       "stream": "stdout",
       "text": [
        "\n",
        " epoch 60, minibatch 424/424, test error of best model 13.535354 %"
       ]
      },
      {
       "output_type": "stream",
       "stream": "stdout",
       "text": [
        "\n",
        "epoch 61, minibatch 424/424, validation error 13.144654 %"
       ]
      },
      {
       "output_type": "stream",
       "stream": "stdout",
       "text": [
        "\n",
        "epoch 62, minibatch 424/424, validation error 13.113208 %"
       ]
      },
      {
       "output_type": "stream",
       "stream": "stdout",
       "text": [
        "\n",
        "epoch 63, minibatch 424/424, validation error 13.144654 %"
       ]
      },
      {
       "output_type": "stream",
       "stream": "stdout",
       "text": [
        "\n",
        "epoch 64, minibatch 424/424, validation error 13.081761 %"
       ]
      },
      {
       "output_type": "stream",
       "stream": "stdout",
       "text": [
        "\n",
        " epoch 64, minibatch 424/424, test error of best model 13.636364 %"
       ]
      },
      {
       "output_type": "stream",
       "stream": "stdout",
       "text": [
        "\n",
        "epoch 65, minibatch 424/424, validation error 13.113208 %"
       ]
      },
      {
       "output_type": "stream",
       "stream": "stdout",
       "text": [
        "\n",
        "epoch 66, minibatch 424/424, validation error 13.113208 %"
       ]
      },
      {
       "output_type": "stream",
       "stream": "stdout",
       "text": [
        "\n",
        "epoch 67, minibatch 424/424, validation error 13.176101 %"
       ]
      },
      {
       "output_type": "stream",
       "stream": "stdout",
       "text": [
        "\n",
        "epoch 68, minibatch 424/424, validation error 13.238994 %"
       ]
      },
      {
       "output_type": "stream",
       "stream": "stdout",
       "text": [
        "\n",
        "epoch 69, minibatch 424/424, validation error 13.270440 %"
       ]
      },
      {
       "output_type": "stream",
       "stream": "stdout",
       "text": [
        "\n",
        "epoch 70, minibatch 424/424, validation error 13.301887 %"
       ]
      },
      {
       "output_type": "stream",
       "stream": "stdout",
       "text": [
        "\n",
        "epoch 71, minibatch 424/424, validation error 13.333333 %"
       ]
      },
      {
       "output_type": "stream",
       "stream": "stdout",
       "text": [
        "\n",
        "epoch 72, minibatch 424/424, validation error 13.270440 %"
       ]
      },
      {
       "output_type": "stream",
       "stream": "stdout",
       "text": [
        "\n",
        "epoch 73, minibatch 424/424, validation error 13.238994 %"
       ]
      },
      {
       "output_type": "stream",
       "stream": "stdout",
       "text": [
        "\n",
        "epoch 74, minibatch 424/424, validation error 13.301887 %"
       ]
      },
      {
       "output_type": "stream",
       "stream": "stdout",
       "text": [
        "\n",
        "epoch 75, minibatch 424/424, validation error 13.364780 %"
       ]
      },
      {
       "output_type": "stream",
       "stream": "stdout",
       "text": [
        "\n",
        "epoch 76, minibatch 424/424, validation error 13.396226 %"
       ]
      },
      {
       "output_type": "stream",
       "stream": "stdout",
       "text": [
        "\n",
        "epoch 77, minibatch 424/424, validation error 13.364780 %"
       ]
      },
      {
       "output_type": "stream",
       "stream": "stdout",
       "text": [
        "\n",
        "epoch 78, minibatch 424/424, validation error 13.364780 %"
       ]
      },
      {
       "output_type": "stream",
       "stream": "stdout",
       "text": [
        "\n",
        "epoch 79, minibatch 424/424, validation error 13.396226 %"
       ]
      },
      {
       "output_type": "stream",
       "stream": "stdout",
       "text": [
        "\n",
        "epoch 80, minibatch 424/424, validation error 13.427673 %"
       ]
      },
      {
       "output_type": "stream",
       "stream": "stdout",
       "text": [
        "\n",
        "epoch 81, minibatch 424/424, validation error 13.396226 %"
       ]
      },
      {
       "output_type": "stream",
       "stream": "stdout",
       "text": [
        "\n",
        "epoch 82, minibatch 424/424, validation error 13.396226 %"
       ]
      },
      {
       "output_type": "stream",
       "stream": "stdout",
       "text": [
        "\n",
        "epoch 83, minibatch 424/424, validation error 13.396226 %"
       ]
      },
      {
       "output_type": "stream",
       "stream": "stdout",
       "text": [
        "\n",
        "epoch 84, minibatch 424/424, validation error 13.427673 %"
       ]
      },
      {
       "output_type": "stream",
       "stream": "stdout",
       "text": [
        "\n",
        "epoch 85, minibatch 424/424, validation error 13.459119 %"
       ]
      },
      {
       "output_type": "stream",
       "stream": "stdout",
       "text": [
        "\n",
        "epoch 86, minibatch 424/424, validation error 13.459119 %"
       ]
      },
      {
       "output_type": "stream",
       "stream": "stdout",
       "text": [
        "\n",
        "epoch 87, minibatch 424/424, validation error 13.490566 %"
       ]
      },
      {
       "output_type": "stream",
       "stream": "stdout",
       "text": [
        "\n",
        "epoch 88, minibatch 424/424, validation error 13.490566 %"
       ]
      },
      {
       "output_type": "stream",
       "stream": "stdout",
       "text": [
        "\n",
        "epoch 89, minibatch 424/424, validation error 13.522013 %"
       ]
      },
      {
       "output_type": "stream",
       "stream": "stdout",
       "text": [
        "\n",
        "epoch 90, minibatch 424/424, validation error 13.553459 %"
       ]
      },
      {
       "output_type": "stream",
       "stream": "stdout",
       "text": [
        "\n",
        "epoch 91, minibatch 424/424, validation error 13.616352 %"
       ]
      },
      {
       "output_type": "stream",
       "stream": "stdout",
       "text": [
        "\n",
        "epoch 92, minibatch 424/424, validation error 13.710692 %"
       ]
      },
      {
       "output_type": "stream",
       "stream": "stdout",
       "text": [
        "\n",
        "epoch 93, minibatch 424/424, validation error 13.742138 %"
       ]
      },
      {
       "output_type": "stream",
       "stream": "stdout",
       "text": [
        "\n",
        "epoch 94, minibatch 424/424, validation error 13.742138 %"
       ]
      },
      {
       "output_type": "stream",
       "stream": "stdout",
       "text": [
        "\n",
        "epoch 95, minibatch 424/424, validation error 13.836478 %"
       ]
      },
      {
       "output_type": "stream",
       "stream": "stdout",
       "text": [
        "\n",
        "epoch 96, minibatch 424/424, validation error 13.899371 %"
       ]
      },
      {
       "output_type": "stream",
       "stream": "stdout",
       "text": [
        "\n",
        "epoch 97, minibatch 424/424, validation error 13.836478 %"
       ]
      },
      {
       "output_type": "stream",
       "stream": "stdout",
       "text": [
        "\n",
        "epoch 98, minibatch 424/424, validation error 13.773585 %"
       ]
      },
      {
       "output_type": "stream",
       "stream": "stdout",
       "text": [
        "\n",
        "epoch 99, minibatch 424/424, validation error 13.773585 %"
       ]
      },
      {
       "output_type": "stream",
       "stream": "stdout",
       "text": [
        "\n",
        "epoch 100, minibatch 424/424, validation error 13.710692 %"
       ]
      },
      {
       "output_type": "stream",
       "stream": "stdout",
       "text": [
        "\n",
        "epoch 101, minibatch 424/424, validation error 13.679245 %"
       ]
      },
      {
       "output_type": "stream",
       "stream": "stdout",
       "text": [
        "\n",
        "epoch 102, minibatch 424/424, validation error 13.742138 %"
       ]
      },
      {
       "output_type": "stream",
       "stream": "stdout",
       "text": [
        "\n",
        "epoch 103, minibatch 424/424, validation error 13.773585 %"
       ]
      },
      {
       "output_type": "stream",
       "stream": "stdout",
       "text": [
        "\n",
        "epoch 104, minibatch 424/424, validation error 13.805031 %"
       ]
      },
      {
       "output_type": "stream",
       "stream": "stdout",
       "text": [
        "\n",
        "epoch 105, minibatch 424/424, validation error 13.647799 %"
       ]
      },
      {
       "output_type": "stream",
       "stream": "stdout",
       "text": [
        "\n",
        "epoch 106, minibatch 424/424, validation error 13.742138 %"
       ]
      },
      {
       "output_type": "stream",
       "stream": "stdout",
       "text": [
        "\n",
        "epoch 107, minibatch 424/424, validation error 13.679245 %"
       ]
      },
      {
       "output_type": "stream",
       "stream": "stdout",
       "text": [
        "\n",
        "epoch 108, minibatch 424/424, validation error 13.679245 %"
       ]
      },
      {
       "output_type": "stream",
       "stream": "stdout",
       "text": [
        "\n",
        "epoch 109, minibatch 424/424, validation error 13.647799 %"
       ]
      },
      {
       "output_type": "stream",
       "stream": "stdout",
       "text": [
        "\n",
        "epoch 110, minibatch 424/424, validation error 13.647799 %"
       ]
      },
      {
       "output_type": "stream",
       "stream": "stdout",
       "text": [
        "\n",
        "epoch 111, minibatch 424/424, validation error 13.679245 %"
       ]
      },
      {
       "output_type": "stream",
       "stream": "stdout",
       "text": [
        "\n",
        "epoch 112, minibatch 424/424, validation error 13.742138 %"
       ]
      },
      {
       "output_type": "stream",
       "stream": "stdout",
       "text": [
        "\n",
        "epoch 113, minibatch 424/424, validation error 13.710692 %"
       ]
      },
      {
       "output_type": "stream",
       "stream": "stdout",
       "text": [
        "\n",
        "epoch 114, minibatch 424/424, validation error 13.773585 %"
       ]
      },
      {
       "output_type": "stream",
       "stream": "stdout",
       "text": [
        "\n",
        "epoch 115, minibatch 424/424, validation error 13.805031 %"
       ]
      },
      {
       "output_type": "stream",
       "stream": "stdout",
       "text": [
        "\n",
        "epoch 116, minibatch 424/424, validation error 13.773585 %"
       ]
      },
      {
       "output_type": "stream",
       "stream": "stdout",
       "text": [
        "\n",
        "epoch 117, minibatch 424/424, validation error 13.836478 %"
       ]
      },
      {
       "output_type": "stream",
       "stream": "stdout",
       "text": [
        "\n",
        "epoch 118, minibatch 424/424, validation error 13.805031 %"
       ]
      },
      {
       "output_type": "stream",
       "stream": "stdout",
       "text": [
        "\n",
        "epoch 119, minibatch 424/424, validation error 13.710692 %"
       ]
      },
      {
       "output_type": "stream",
       "stream": "stdout",
       "text": [
        "\n"
       ]
      },
      {
       "output_type": "stream",
       "stream": "stderr",
       "text": [
        "The pretraining code ran for 2.63m\n"
       ]
      }
     ],
     "prompt_number": 49
    },
    {
     "cell_type": "code",
     "collapsed": false,
     "input": [
      "sda_transformed.p(new_x_test_minmax_whole)"
     ],
     "language": "python",
     "metadata": {},
     "outputs": []
    },
    {
     "cell_type": "code",
     "collapsed": false,
     "input": [
      "import pickle\n",
      "with open('array_A.pickle', 'wb') as handle:\n",
      "  pickle.dump(array_A, handle)\n",
      "with open('array_B.pickle', 'wb') as handle:\n",
      "  pickle.dump(array_B, handle)\n",
      "with open('pos_index.pickle', 'wb') as handle:\n",
      "  pickle.dump(pos_index, handle)\n",
      "with open('neg_index.pickle', 'wb') as handle:\n",
      "  pickle.dump(neg_index, handle)"
     ],
     "language": "python",
     "metadata": {},
     "outputs": [],
     "prompt_number": 47
    }
   ],
   "metadata": {}
  }
 ]
}