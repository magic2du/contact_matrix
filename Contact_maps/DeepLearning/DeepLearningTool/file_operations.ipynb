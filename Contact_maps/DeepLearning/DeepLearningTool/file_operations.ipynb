{
 "metadata": {
  "name": "",
  "signature": "sha256:d2edd7cd28c6ac999ca0683de6886679b2cd229e329782e76d461fbfea5e3f0f"
 },
 "nbformat": 3,
 "nbformat_minor": 0,
 "worksheets": [
  {
   "cells": [
    {
     "cell_type": "code",
     "collapsed": false,
     "input": [
      "import sys, os\n",
      "sys.path.append('../../../libs/')\n",
      "import dealFile, IO_class\n",
      "from IO_class import FileOperator\n",
      "import pysftp\n"
     ],
     "language": "python",
     "metadata": {},
     "outputs": [],
     "prompt_number": 10
    },
    {
     "cell_type": "code",
     "collapsed": false,
     "input": [
      "# down load from ftp server.\n",
      "import pickle\n",
      "with open('../../../libs/password.pickle', 'rb') as handle:\n",
      "    q = pickle.load(handle)\n",
      "srv = pysftp.Connection(host=\"lysine.dbi.udel.edu\", username=\"du\",\n",
      "password=q)\n",
      "filename = 'SUCCESS_log_CrossValidation_load_DL_remoteFisherM1_DL_RE_US_DL_RE_US_1_1_19MAY2014.txt'\n",
      "file_obj = FileOperator(filename)\n",
      "ddis = file_obj.readStripLines()\n",
      "for ddi in ddis:\n",
      "    current_folder = '/big/du/Protein_Protein_Interaction_Project/Contact_Matrix_Project/Vectors_Fishers_aaIndex_raw/'+ddi\n",
      "    localdir = '/home/du/Vectors_Fishers_aaIndex_raw/'+ddi\n",
      "    os.mkdir(localdir)\n",
      "    srv.get_d(remotedir = current_folder, localdir = localdir)\n",
      "srv.close()"
     ],
     "language": "python",
     "metadata": {},
     "outputs": [
      {
       "output_type": "stream",
       "stream": "stdout",
       "text": [
        "number of lines in SUCCESS_log_CrossValidation_load_DL_remoteFisherM1_DL_RE_US_DL_RE_US_1_1_19MAY2014.txt:38\n"
       ]
      }
     ],
     "prompt_number": 12
    }
   ],
   "metadata": {}
  }
 ]
}