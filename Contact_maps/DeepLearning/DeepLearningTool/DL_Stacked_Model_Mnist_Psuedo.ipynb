{
 "metadata": {
  "name": "",
  "signature": "sha256:49acc9c246be442ac6d611e899996fab9e6959528941d72929854a86761cfaed"
 },
 "nbformat": 3,
 "nbformat_minor": 0,
 "worksheets": [
  {
   "cells": [
    {
     "cell_type": "code",
     "collapsed": false,
     "input": [
      "# this part imports libs and load data from csv file\n",
      "import csv\n",
      "from dateutil import parser\n",
      "from datetime import timedelta\n",
      "from sklearn import svm\n",
      "import numpy as np\n",
      "import pandas as pd\n",
      "import pdb\n",
      "import pickle\n",
      "from sklearn.cross_validation import train_test_split\n",
      "from sklearn import preprocessing\n",
      "import sklearn\n",
      "import scipy.stats as ss\n",
      "import cPickle\n",
      "import gzip\n",
      "import os\n",
      "import sys\n",
      "import time\n",
      "import numpy\n",
      "import theano\n",
      "import theano.tensor as T\n",
      "from theano.tensor.shared_randomstreams import RandomStreams\n",
      "from DL_libs import *\n",
      "%pylab inline"
     ],
     "language": "python",
     "metadata": {},
     "outputs": [
      {
       "output_type": "stream",
       "stream": "stdout",
       "text": [
        "Populating the interactive namespace from numpy and matplotlib\n"
       ]
      },
      {
       "output_type": "stream",
       "stream": "stderr",
       "text": [
        "C:\\Users\\u\\AppData\\Local\\Enthought\\Canopy\\User\\lib\\site-packages\\scipy\\lib\\_util.py:35: DeprecationWarning: Module scipy.linalg.blas.fblas is deprecated, use scipy.linalg.blas instead\n",
        "  DeprecationWarning)\n",
        "C:\\Users\\u\\AppData\\Local\\Enthought\\Canopy\\User\\lib\\site-packages\\scipy\\lib\\_util.py:35: DeprecationWarning: Module scipy.linalg.blas.fblas is deprecated, use scipy.linalg.blas instead\n",
        "  DeprecationWarning)\n",
        "C:\\Users\\u\\AppData\\Local\\Enthought\\Canopy\\User\\lib\\site-packages\\scipy\\lib\\_util.py:35: DeprecationWarning: Module scipy.linalg.blas.fblas is deprecated, use scipy.linalg.blas instead\n",
        "  DeprecationWarning)\n",
        "C:\\Users\\u\\AppData\\Local\\Enthought\\Canopy\\User\\lib\\site-packages\\scipy\\lib\\_util.py:35: DeprecationWarning: Module scipy.linalg.blas.fblas is deprecated, use scipy.linalg.blas instead\n",
        "  DeprecationWarning)\n",
        "C:\\Users\\u\\AppData\\Local\\Enthought\\Canopy\\User\\lib\\site-packages\\scipy\\lib\\_util.py:35: DeprecationWarning: Module scipy.linalg.blas.fblas is deprecated, use scipy.linalg.blas instead\n",
        "  DeprecationWarning)\n",
        "C:\\Users\\u\\AppData\\Local\\Enthought\\Canopy\\User\\lib\\site-packages\\scipy\\lib\\_util.py:35: DeprecationWarning: Module scipy.linalg.blas.fblas is deprecated, use scipy.linalg.blas instead\n",
        "  DeprecationWarning)\n",
        "C:\\Users\\u\\AppData\\Local\\Enthought\\Canopy\\User\\lib\\site-packages\\scipy\\lib\\_util.py:35: DeprecationWarning: Module scipy.linalg.blas.fblas is deprecated, use scipy.linalg.blas instead\n",
        "  DeprecationWarning)\n",
        "C:\\Users\\u\\AppData\\Local\\Enthought\\Canopy\\User\\lib\\site-packages\\scipy\\lib\\_util.py:35: DeprecationWarning: Module scipy.linalg.blas.fblas is deprecated, use scipy.linalg.blas instead\n",
        "  DeprecationWarning)\n"
       ]
      }
     ],
     "prompt_number": 1
    },
    {
     "cell_type": "code",
     "collapsed": false,
     "input": [
      "f = gzip.open('mnist.pkl.gz', 'rb')\n",
      "train_set, valid_set, test_set = cPickle.load(f)\n",
      "X_train,y_train = train_set\n",
      "\n",
      "X_valid,y_valid = valid_set\n",
      "X_total=np.vstack((X_train, X_valid))\n",
      "X_total = np.array(X_total, dtype= theano.config.floatX)\n",
      "print'sample size', X_total.shape\n",
      "y_total = np.concatenate([y_train, y_valid])\n",
      "#print y_total.shape\n",
      "array_A =[]\n",
      "array_B =[]\n",
      "for i in range(100000):\n",
      "    array_A.append(np.random.random_integers(0, 59999))\n",
      "    array_B.append(np.random.random_integers(0, 59999))\n",
      "pos_index = []\n",
      "neg_index = []\n",
      "for index in xrange(100000):\n",
      "    if y_total[array_A[index]] - y_total[array_B[index]] == 1:\n",
      "        pos_index.append(index)\n",
      "    else:\n",
      "        neg_index.append(index)\n",
      "print 'number of positive examples', len(pos_index)\n",
      "selected_neg_index= neg_index[ : len(pos_index)]"
     ],
     "language": "python",
     "metadata": {},
     "outputs": [
      {
       "output_type": "stream",
       "stream": "stdout",
       "text": [
        "sample size (60000L, 784L)\n",
        "number of positive examples"
       ]
      },
      {
       "output_type": "stream",
       "stream": "stdout",
       "text": [
        " 8982\n"
       ]
      }
     ],
     "prompt_number": 4
    },
    {
     "cell_type": "code",
     "collapsed": false,
     "input": [
      "# example input\n",
      "from utils import tile_raster_images\n",
      "\n",
      "import PIL.Image\n",
      "\n",
      "image = PIL.Image.fromarray(tile_raster_images(X = X_train[:100,:],\n",
      "             img_shape=(28, 28), tile_shape=(10, 10),\n",
      "             tile_spacing=(1, 1)))\n",
      "image.show()\n",
      "pylab.imshow(X_train[0].reshape(28, 28), cmap=\"Greys\")"
     ],
     "language": "python",
     "metadata": {},
     "outputs": [
      {
       "metadata": {},
       "output_type": "pyout",
       "prompt_number": 5,
       "text": [
        "<matplotlib.image.AxesImage at 0x10feda58>"
       ]
      },
      {
       "metadata": {},
       "output_type": "display_data",
       "png": "[encoded data removed]",
       "text": [
        "<matplotlib.figure.Figure at 0x3c7d588>"
       ]
      }
     ],
     "prompt_number": 5
    },
    {
     "cell_type": "code",
     "collapsed": false,
     "input": [
      "import pandas as pd\n",
      "array_A = np.array(array_A)\n",
      "array_B = np.array(array_B)\n",
      "index_for_positive_image_A = array_A[pos_index]\n",
      "index_for_positive_image_B = array_B[pos_index]\n",
      "index_for_neg_image_A = array_A[selected_neg_index]\n",
      "index_for_neg_image_B = array_B[selected_neg_index]\n",
      "\n",
      "X_pos_A = X_total[index_for_positive_image_A]\n",
      "X_pos_B = X_total[index_for_positive_image_B]\n",
      "X_pos_whole = np.hstack((X_pos_A,X_pos_B))\n",
      "X_neg_A = X_total[index_for_neg_image_A]\n",
      "X_neg_B = X_total[index_for_neg_image_B]\n",
      "X_neg_whole = np.hstack((X_neg_A, X_neg_B))\n",
      "print X_pos_A.shape,  X_pos_B.shape, X_pos_whole.shape\n",
      "print X_neg_A.shape,  X_neg_B.shape, X_neg_whole.shape\n",
      "\n",
      "X_whole = np.vstack((X_pos_whole, X_neg_whole))\n",
      "print X_whole.shape\n",
      "y_pos = np.ones(X_pos_whole.shape[0])\n",
      "y_neg = np.zeros(X_neg_whole.shape[0])\n",
      "y_whole = np.concatenate([y_pos,y_neg])\n",
      "print y_whole"
     ],
     "language": "python",
     "metadata": {},
     "outputs": [
      {
       "output_type": "stream",
       "stream": "stdout",
       "text": [
        "(8982L, 784L) (8982L, 784L) (8982L, 1568L)\n",
        "(8982L, 784L) (8982L, 784L) (8982L, 1568L)\n",
        "(17964L, 1568L)"
       ]
      },
      {
       "output_type": "stream",
       "stream": "stdout",
       "text": [
        "\n",
        "[ 1.  1.  1. ...,  0.  0.  0.]\n"
       ]
      }
     ],
     "prompt_number": 6
    },
    {
     "cell_type": "code",
     "collapsed": false,
     "input": [
      "\n",
      "x_train_pre_validation_minmax, x_test_minmax, y_train_pre_validation_minmax, y_test_minmax = train_test_split(X_whole,y_whole,\\\n",
      "                                                            test_size=0.2, random_state=211)\n",
      "x_train_minmax, x_validation_minmax, y_train_minmax, y_validation_minmax = train_test_split(x_train_pre_validation_minmax,\n",
      "                                                                                            y_train_pre_validation_minmax,\\\n",
      "                                                            test_size=0.2, random_state=21)\n",
      "print x_train_minmax.shape, y_train_minmax.shape, x_validation_minmax.shape, \\\n",
      "y_validation_minmax.shape, x_test_minmax.shape, y_test_minmax.shape\n"
     ],
     "language": "python",
     "metadata": {},
     "outputs": [
      {
       "output_type": "stream",
       "stream": "stdout",
       "text": [
        "(11496L, 1568L) (11496L,) (2875L, 1568L) (2875L,) (3593L, 1568L) (3593L,)\n"
       ]
      }
     ],
     "prompt_number": 7
    },
    {
     "cell_type": "code",
     "collapsed": false,
     "input": [
      "print \"This is a example of the two digit to check whether they are a same digit:\"\n",
      "print \"The label is %d\" % y_train_minmax[0]\n",
      "pylab.imshow(x_train_minmax[0, :784].reshape(28, 28), cmap=\"Greys\")"
     ],
     "language": "python",
     "metadata": {},
     "outputs": [
      {
       "output_type": "stream",
       "stream": "stdout",
       "text": [
        "This is a example of the two digit to check whether they are a same digit:\n",
        "The label is 0\n"
       ]
      },
      {
       "metadata": {},
       "output_type": "pyout",
       "prompt_number": 40,
       "text": [
        "<matplotlib.image.AxesImage at 0x6dfdc90>"
       ]
      },
      {
       "metadata": {},
       "output_type": "display_data",
       "png": "[encoded data removed]",
       "text": [
        "<matplotlib.figure.Figure at 0x67b46d0>"
       ]
      }
     ],
     "prompt_number": 40
    },
    {
     "cell_type": "code",
     "collapsed": false,
     "input": [
      "pylab.imshow(x_train_minmax[0, 784:].reshape(28, 28), cmap=\"Greys\")"
     ],
     "language": "python",
     "metadata": {},
     "outputs": [
      {
       "metadata": {},
       "output_type": "pyout",
       "prompt_number": 37,
       "text": [
        "<matplotlib.image.AxesImage at 0x6c61650>"
       ]
      },
      {
       "metadata": {},
       "output_type": "display_data",
       "png": "[encoded data removed]",
       "text": [
        "<matplotlib.figure.Figure at 0x6fd3390>"
       ]
      }
     ],
     "prompt_number": 37
    },
    {
     "cell_type": "code",
     "collapsed": false,
     "input": [
      "# this is a use case.\n",
      "pretraining_epochs=1\n",
      "pretrain_lr=0.001\n",
      "batch_size=30\n",
      "hidden_layers_sizes =[100, 100]\n",
      "corruption_levels=[0, 0]\n",
      "x =x_train_minmax\n",
      "print \"original shape\", x.shape\n",
      "a_MAE = train_a_MultipleAEs(x, pretraining_epochs=pretraining_epochs, pretrain_lr=pretrain_lr, batch_size=batch_size, \n",
      "                        hidden_layers_sizes =hidden_layers_sizes, corruption_levels=corruption_levels)\n",
      "print a_MAE.transform(x).shape"
     ],
     "language": "python",
     "metadata": {},
     "outputs": [
      {
       "output_type": "stream",
       "stream": "stdout",
       "text": [
        "original shape (12904, 1568)\n",
        "... building the model\n",
        "... getting the pretraining functions"
       ]
      },
      {
       "output_type": "stream",
       "stream": "stdout",
       "text": [
        "\n",
        "... pre-training the model"
       ]
      },
      {
       "output_type": "stream",
       "stream": "stdout",
       "text": [
        "\n",
        "Pre-training layer 0, epoch 0, cost "
       ]
      },
      {
       "output_type": "stream",
       "stream": "stdout",
       "text": [
        " 648.42200876\n",
        "Pre-training layer 1, epoch 0, cost "
       ]
      },
      {
       "output_type": "stream",
       "stream": "stdout",
       "text": [
        " 70.5771415353\n",
        "(12904, 100)"
       ]
      },
      {
       "output_type": "stream",
       "stream": "stdout",
       "text": [
        "\n"
       ]
      }
     ],
     "prompt_number": 8
    },
    {
     "cell_type": "code",
     "collapsed": false,
     "input": [
      "new_x_train_minmax = a_MAE.transform(x_train_minmax)\n",
      "new_x_test_minmax = a_MAE.transform(x_test_minmax)"
     ],
     "language": "python",
     "metadata": {},
     "outputs": [],
     "prompt_number": 16
    },
    {
     "cell_type": "code",
     "collapsed": false,
     "input": [
      "\n",
      "import numpy as np\n",
      "from scipy import linalg\n",
      "from sklearn.datasets import make_sparse_spd_matrix\n",
      "from sklearn.covariance import GraphLassoCV, ledoit_wolf\n",
      "import matplotlib.pyplot as plt\n",
      "X = x_train_minmax\n",
      "n_samples, n_features = x_train_minmax.shape\n",
      "X -= X.mean(axis=0)\n",
      "X /= X.std(axis=0)\n",
      "\n",
      "##############################################################################\n",
      "# Estimate the covariance\n",
      "emp_cov = np.dot(X.T, X) / n_samples\n",
      "\n",
      "model = GraphLassoCV()\n",
      "model.fit(X)\n",
      "cov_ = model.covariance_\n",
      "prec_ = model.precision_\n",
      "\n",
      "lw_cov_, _ = ledoit_wolf(X)\n",
      "lw_prec_ = linalg.inv(lw_cov_)\n",
      "\n",
      "##############################################################################\n",
      "# Plot the results\n",
      "plt.figure(figsize=(10, 6))\n",
      "plt.subplots_adjust(left=0.02, right=0.98)\n",
      "\n",
      "# plot the covariances\n",
      "covs = [('Empirical', emp_cov), ('Ledoit-Wolf', lw_cov_),\n",
      "        ('GraphLasso', cov_), ('True', cov)]\n",
      "vmax = cov_.max()\n",
      "for i, (name, this_cov) in enumerate(covs):\n",
      "    plt.subplot(2, 4, i + 1)\n",
      "    plt.imshow(this_cov, interpolation='nearest', vmin=-vmax, vmax=vmax,\n",
      "               cmap=plt.cm.RdBu_r)\n",
      "    plt.xticks(())\n",
      "    plt.yticks(())\n",
      "    plt.title('%s covariance' % name)\n"
     ],
     "language": "python",
     "metadata": {},
     "outputs": []
    },
    {
     "cell_type": "code",
     "collapsed": false,
     "input": [
      "from numpy import corrcoef, sum, log, arange\n",
      "from numpy.random import rand\n",
      "from pylab import pcolor, show, colorbar, xticks, yticks\n",
      "import sklearn.covariance \n",
      "X = x_train_minmax\n",
      "n_samples, n_features = x_train_minmax.shape\n",
      "X -= X.mean(axis=0)\n",
      "X /= X.std(axis=0)\n",
      "R = sklearn.covariance.empirical_covariance(X , assume_centered=False)\n",
      "pcolor(R)\n",
      "colorbar()\n",
      "#yticks(arange(0.5,10.5),range(0,10))\n",
      "#xticks(arange(0.5,10.5),range(0,10))\n",
      "show()"
     ],
     "language": "python",
     "metadata": {},
     "outputs": []
    },
    {
     "cell_type": "code",
     "collapsed": false,
     "input": [
      "import numpy\n",
      "numpy.version.full_version\n"
     ],
     "language": "python",
     "metadata": {},
     "outputs": [
      {
       "metadata": {},
       "output_type": "pyout",
       "prompt_number": 8,
       "text": [
        "'1.8.2'"
       ]
      }
     ],
     "prompt_number": 8
    },
    {
     "cell_type": "code",
     "collapsed": false,
     "input": [
      "pylab.imshow(R, cmap=\"Greys\")"
     ],
     "language": "python",
     "metadata": {},
     "outputs": [
      {
       "metadata": {},
       "output_type": "pyout",
       "prompt_number": 18,
       "text": [
        "(12611, 12611)"
       ]
      }
     ],
     "prompt_number": 18
    },
    {
     "cell_type": "code",
     "collapsed": false,
     "input": [
      "# get the new representation for A set. first 784-D\n",
      "pretraining_epochs=15\n",
      "pretrain_lr=0.001\n",
      "batch_size=30\n",
      "hidden_layers_sizes =[100, 100]\n",
      "corruption_levels=[0, 0]\n",
      "x = x_train_minmax[:, :x_train_minmax.shape[1]/2]\n",
      "print \"original shape\", x.shape\n",
      "a_MAE_A = train_a_MultipleAEs(x, pretraining_epochs=pretraining_epochs, pretrain_lr=pretrain_lr, batch_size=batch_size, \n",
      "                        hidden_layers_sizes =hidden_layers_sizes, corruption_levels=corruption_levels)\n",
      "new_x_train_minmax_A =  a_MAE_A.transform(x_train_minmax[:, :x_train_minmax.shape[1]/2])"
     ],
     "language": "python",
     "metadata": {},
     "outputs": [
      {
       "output_type": "stream",
       "stream": "stdout",
       "text": [
        "original shape (11496L, 784L)\n",
        "... building the model\n",
        "... getting the pretraining functions"
       ]
      },
      {
       "output_type": "stream",
       "stream": "stdout",
       "text": [
        "\n",
        "Your Python version is from Canopy. You need to install the package 'mingw 4.5.2' from Canopy package manager."
       ]
      },
      {
       "output_type": "stream",
       "stream": "stdout",
       "text": [
        "\n",
        "Your Python version is from Canopy. You need to install the package 'mingw 4.5.2' from Canopy package manager.\n",
        "Your Python version is from Canopy. You need to install the package 'mingw 4.5.2' from Canopy package manager."
       ]
      },
      {
       "output_type": "stream",
       "stream": "stdout",
       "text": [
        "\n",
        "Your Python version is from Canopy. You need to install the package 'mingw 4.5.2' from Canopy package manager.\n",
        "Your Python version is from Canopy. You need to install the package 'mingw 4.5.2' from Canopy package manager."
       ]
      },
      {
       "output_type": "stream",
       "stream": "stdout",
       "text": [
        "\n",
        "Your Python version is from Canopy. You need to install the package 'mingw 4.5.2' from Canopy package manager.\n",
        "Your Python version is from Canopy. You need to install the package 'mingw 4.5.2' from Canopy package manager."
       ]
      },
      {
       "output_type": "stream",
       "stream": "stdout",
       "text": [
        "\n",
        "Your Python version is from Canopy. You need to install the package 'mingw 4.5.2' from Canopy package manager.\n",
        "Your Python version is from Canopy. You need to install the package 'mingw 4.5.2' from Canopy package manager."
       ]
      },
      {
       "output_type": "stream",
       "stream": "stdout",
       "text": [
        "\n",
        "Your Python version is from Canopy. You need to install the package 'mingw 4.5.2' from Canopy package manager.\n",
        "Your Python version is from Canopy. You need to install the package 'mingw 4.5.2' from Canopy package manager."
       ]
      },
      {
       "output_type": "stream",
       "stream": "stdout",
       "text": [
        "\n",
        "Your Python version is from Canopy. You need to install the package 'mingw 4.5.2' from Canopy package manager.\n",
        "Your Python version is from Canopy. You need to install the package 'mingw 4.5.2' from Canopy package manager."
       ]
      },
      {
       "output_type": "stream",
       "stream": "stdout",
       "text": [
        "\n",
        "Your Python version is from Canopy. You need to install the package 'mingw 4.5.2' from Canopy package manager.\n",
        "Your Python version is from Canopy. You need to install the package 'mingw 4.5.2' from Canopy package manager."
       ]
      },
      {
       "output_type": "stream",
       "stream": "stdout",
       "text": [
        "\n",
        "Your Python version is from Canopy. You need to install the package 'mingw 4.5.2' from Canopy package manager.\n",
        "Your Python version is from Canopy. You need to install the package 'mingw 4.5.2' from Canopy package manager."
       ]
      },
      {
       "output_type": "stream",
       "stream": "stdout",
       "text": [
        "\n",
        "Your Python version is from Canopy. You need to install the package 'mingw 4.5.2' from Canopy package manager.\n",
        "Your Python version is from Canopy. You need to install the package 'mingw 4.5.2' from Canopy package manager."
       ]
      },
      {
       "output_type": "stream",
       "stream": "stdout",
       "text": [
        "\n",
        "Your Python version is from Canopy. You need to install the package 'mingw 4.5.2' from Canopy package manager.\n",
        "Your Python version is from Canopy. You need to install the package 'mingw 4.5.2' from Canopy package manager."
       ]
      },
      {
       "output_type": "stream",
       "stream": "stdout",
       "text": [
        "\n",
        "Your Python version is from Canopy. You need to install the package 'mingw 4.5.2' from Canopy package manager.\n",
        "Your Python version is from Canopy. You need to install the package 'mingw 4.5.2' from Canopy package manager."
       ]
      },
      {
       "output_type": "stream",
       "stream": "stdout",
       "text": [
        "\n",
        "Your Python version is from Canopy. You need to install the package 'mingw 4.5.2' from Canopy package manager.\n",
        "Your Python version is from Canopy. You need to install the package 'mingw 4.5.2' from Canopy package manager."
       ]
      },
      {
       "output_type": "stream",
       "stream": "stdout",
       "text": [
        "\n",
        "Your Python version is from Canopy. You need to install the package 'mingw 4.5.2' from Canopy package manager.\n",
        "Your Python version is from Canopy. You need to install the package 'mingw 4.5.2' from Canopy package manager."
       ]
      },
      {
       "output_type": "stream",
       "stream": "stdout",
       "text": [
        "\n",
        "Your Python version is from Canopy. You need to install the package 'mingw 4.5.2' from Canopy package manager.\n",
        "Your Python version is from Canopy. You need to install the package 'mingw 4.5.2' from Canopy package manager."
       ]
      },
      {
       "output_type": "stream",
       "stream": "stdout",
       "text": [
        "\n",
        "Your Python version is from Canopy. You need to install the package 'mingw 4.5.2' from Canopy package manager.\n",
        "Your Python version is from Canopy. You need to install the package 'mingw 4.5.2' from Canopy package manager."
       ]
      },
      {
       "output_type": "stream",
       "stream": "stdout",
       "text": [
        "\n",
        "Your Python version is from Canopy. You need to install the package 'mingw 4.5.2' from Canopy package manager.\n",
        "Your Python version is from Canopy. You need to install the package 'mingw 4.5.2' from Canopy package manager."
       ]
      },
      {
       "output_type": "stream",
       "stream": "stdout",
       "text": [
        "\n",
        "Your Python version is from Canopy. You need to install the package 'mingw 4.5.2' from Canopy package manager.\n",
        "Your Python version is from Canopy. You need to install the package 'mingw 4.5.2' from Canopy package manager."
       ]
      },
      {
       "output_type": "stream",
       "stream": "stdout",
       "text": [
        "\n",
        "Your Python version is from Canopy. You need to install the package 'mingw 4.5.2' from Canopy package manager.\n",
        "Your Python version is from Canopy. You need to install the package 'mingw 4.5.2' from Canopy package manager."
       ]
      },
      {
       "output_type": "stream",
       "stream": "stdout",
       "text": [
        "\n",
        "Your Python version is from Canopy. You need to install the package 'mingw 4.5.2' from Canopy package manager.\n",
        "Your Python version is from Canopy. You need to install the package 'mingw 4.5.2' from Canopy package manager."
       ]
      },
      {
       "output_type": "stream",
       "stream": "stdout",
       "text": [
        "\n",
        "Your Python version is from Canopy. You need to install the package 'mingw 4.5.2' from Canopy package manager.\n",
        "Your Python version is from Canopy. You need to install the package 'mingw 4.5.2' from Canopy package manager."
       ]
      },
      {
       "output_type": "stream",
       "stream": "stdout",
       "text": [
        "\n",
        "Your Python version is from Canopy. You need to install the package 'mingw 4.5.2' from Canopy package manager.\n",
        "Your Python version is from Canopy. You need to install the package 'mingw 4.5.2' from Canopy package manager."
       ]
      },
      {
       "output_type": "stream",
       "stream": "stdout",
       "text": [
        "\n",
        "Your Python version is from Canopy. You need to install the package 'mingw 4.5.2' from Canopy package manager.\n",
        "Your Python version is from Canopy. You need to install the package 'mingw 4.5.2' from Canopy package manager."
       ]
      },
      {
       "output_type": "stream",
       "stream": "stdout",
       "text": [
        "\n",
        "Your Python version is from Canopy. You need to install the package 'mingw 4.5.2' from Canopy package manager.\n",
        "Your Python version is from Canopy. You need to install the package 'mingw 4.5.2' from Canopy package manager."
       ]
      },
      {
       "output_type": "stream",
       "stream": "stdout",
       "text": [
        "\n",
        "Your Python version is from Canopy. You need to install the package 'mingw 4.5.2' from Canopy package manager.\n",
        "Your Python version is from Canopy. You need to install the package 'mingw 4.5.2' from Canopy package manager."
       ]
      },
      {
       "output_type": "stream",
       "stream": "stdout",
       "text": [
        "\n",
        "Your Python version is from Canopy. You need to install the package 'mingw 4.5.2' from Canopy package manager.\n",
        "Your Python version is from Canopy. You need to install the package 'mingw 4.5.2' from Canopy package manager."
       ]
      },
      {
       "output_type": "stream",
       "stream": "stdout",
       "text": [
        "\n",
        "Your Python version is from Canopy. You need to install the package 'mingw 4.5.2' from Canopy package manager.\n",
        "Your Python version is from Canopy. You need to install the package 'mingw 4.5.2' from Canopy package manager."
       ]
      },
      {
       "output_type": "stream",
       "stream": "stdout",
       "text": [
        "\n",
        "Your Python version is from Canopy. You need to install the package 'mingw 4.5.2' from Canopy package manager.\n",
        "Your Python version is from Canopy. You need to install the package 'mingw 4.5.2' from Canopy package manager."
       ]
      },
      {
       "output_type": "stream",
       "stream": "stdout",
       "text": [
        "\n",
        "Your Python version is from Canopy. You need to install the package 'mingw 4.5.2' from Canopy package manager.\n",
        "Your Python version is from Canopy. You need to install the package 'mingw 4.5.2' from Canopy package manager."
       ]
      },
      {
       "output_type": "stream",
       "stream": "stdout",
       "text": [
        "\n",
        "Your Python version is from Canopy. You need to install the package 'mingw 4.5.2' from Canopy package manager.\n",
        "Your Python version is from Canopy. You need to install the package 'mingw 4.5.2' from Canopy package manager."
       ]
      },
      {
       "output_type": "stream",
       "stream": "stdout",
       "text": [
        "\n",
        "Your Python version is from Canopy. You need to install the package 'mingw 4.5.2' from Canopy package manager.\n",
        "Your Python version is from Canopy. You need to install the package 'mingw 4.5.2' from Canopy package manager."
       ]
      },
      {
       "output_type": "stream",
       "stream": "stdout",
       "text": [
        "\n",
        "Your Python version is from Canopy. You need to install the package 'mingw 4.5.2' from Canopy package manager.\n",
        "Your Python version is from Canopy. You need to install the package 'mingw 4.5.2' from Canopy package manager."
       ]
      },
      {
       "output_type": "stream",
       "stream": "stdout",
       "text": [
        "\n",
        "Your Python version is from Canopy. You need to install the package 'mingw 4.5.2' from Canopy package manager.\n",
        "Your Python version is from Canopy. You need to install the package 'mingw 4.5.2' from Canopy package manager."
       ]
      },
      {
       "output_type": "stream",
       "stream": "stdout",
       "text": [
        "\n",
        "Your Python version is from Canopy. You need to install the package 'mingw 4.5.2' from Canopy package manager.\n",
        "Your Python version is from Canopy. You need to install the package 'mingw 4.5.2' from Canopy package manager."
       ]
      },
      {
       "output_type": "stream",
       "stream": "stdout",
       "text": [
        "\n",
        "Your Python version is from Canopy. You need to install the package 'mingw 4.5.2' from Canopy package manager.\n",
        "Your Python version is from Canopy. You need to install the package 'mingw 4.5.2' from Canopy package manager."
       ]
      },
      {
       "output_type": "stream",
       "stream": "stdout",
       "text": [
        "\n",
        "Your Python version is from Canopy. You need to install the package 'mingw 4.5.2' from Canopy package manager.\n",
        "Your Python version is from Canopy. You need to install the package 'mingw 4.5.2' from Canopy package manager."
       ]
      },
      {
       "output_type": "stream",
       "stream": "stdout",
       "text": [
        "\n",
        "Your Python version is from Canopy. You need to install the package 'mingw 4.5.2' from Canopy package manager.\n",
        "Your Python version is from Canopy. You need to install the package 'mingw 4.5.2' from Canopy package manager."
       ]
      },
      {
       "output_type": "stream",
       "stream": "stdout",
       "text": [
        "\n",
        "Your Python version is from Canopy. You need to install the package 'mingw 4.5.2' from Canopy package manager.\n",
        "Your Python version is from Canopy. You need to install the package 'mingw 4.5.2' from Canopy package manager."
       ]
      },
      {
       "output_type": "stream",
       "stream": "stdout",
       "text": [
        "\n",
        "Your Python version is from Canopy. You need to install the package 'mingw 4.5.2' from Canopy package manager.\n",
        "Your Python version is from Canopy. You need to install the package 'mingw 4.5.2' from Canopy package manager."
       ]
      },
      {
       "output_type": "stream",
       "stream": "stdout",
       "text": [
        "\n",
        "Your Python version is from Canopy. You need to install the package 'mingw 4.5.2' from Canopy package manager.\n",
        "Your Python version is from Canopy. You need to install the package 'mingw 4.5.2' from Canopy package manager."
       ]
      },
      {
       "output_type": "stream",
       "stream": "stdout",
       "text": [
        "\n",
        "Your Python version is from Canopy. You need to install the package 'mingw 4.5.2' from Canopy package manager.\n",
        "Your Python version is from Canopy. You need to install the package 'mingw 4.5.2' from Canopy package manager."
       ]
      },
      {
       "output_type": "stream",
       "stream": "stdout",
       "text": [
        "\n",
        "Your Python version is from Canopy. You need to install the package 'mingw 4.5.2' from Canopy package manager.\n",
        "Your Python version is from Canopy. You need to install the package 'mingw 4.5.2' from Canopy package manager."
       ]
      },
      {
       "output_type": "stream",
       "stream": "stdout",
       "text": [
        "\n",
        "Your Python version is from Canopy. You need to install the package 'mingw 4.5.2' from Canopy package manager.\n",
        "Your Python version is from Canopy. You need to install the package 'mingw 4.5.2' from Canopy package manager."
       ]
      },
      {
       "output_type": "stream",
       "stream": "stdout",
       "text": [
        "\n",
        "Your Python version is from Canopy. You need to install the package 'mingw 4.5.2' from Canopy package manager.\n",
        "Your Python version is from Canopy. You need to install the package 'mingw 4.5.2' from Canopy package manager."
       ]
      },
      {
       "output_type": "stream",
       "stream": "stdout",
       "text": [
        "\n",
        "Your Python version is from Canopy. You need to install the package 'mingw 4.5.2' from Canopy package manager.\n",
        "Your Python version is from Canopy. You need to install the package 'mingw 4.5.2' from Canopy package manager."
       ]
      },
      {
       "output_type": "stream",
       "stream": "stdout",
       "text": [
        "\n",
        "Your Python version is from Canopy. You need to install the package 'mingw 4.5.2' from Canopy package manager.\n",
        "Your Python version is from Canopy. You need to install the package 'mingw 4.5.2' from Canopy package manager."
       ]
      },
      {
       "output_type": "stream",
       "stream": "stdout",
       "text": [
        "\n",
        "Your Python version is from Canopy. You need to install the package 'mingw 4.5.2' from Canopy package manager.\n",
        "Your Python version is from Canopy. You need to install the package 'mingw 4.5.2' from Canopy package manager."
       ]
      },
      {
       "output_type": "stream",
       "stream": "stdout",
       "text": [
        "\n",
        "Your Python version is from Canopy. You need to install the package 'mingw 4.5.2' from Canopy package manager.\n",
        "Your Python version is from Canopy. You need to install the package 'mingw 4.5.2' from Canopy package manager."
       ]
      },
      {
       "output_type": "stream",
       "stream": "stdout",
       "text": [
        "\n",
        "Your Python version is from Canopy. You need to install the package 'mingw 4.5.2' from Canopy package manager.\n",
        "... pre-training the model"
       ]
      },
      {
       "output_type": "stream",
       "stream": "stdout",
       "text": [
        "\n",
        "Pre-training layer 0, epoch 0, cost "
       ]
      },
      {
       "output_type": "stream",
       "stream": "stdout",
       "text": [
        " 346.412293713\n",
        "Pre-training layer 0, epoch 1, cost "
       ]
      },
      {
       "output_type": "stream",
       "stream": "stdout",
       "text": [
        " 223.633915136\n",
        "Pre-training layer 0, epoch 2, cost "
       ]
      },
      {
       "output_type": "stream",
       "stream": "stdout",
       "text": [
        " 200.773793171\n",
        "Pre-training layer 0, epoch 3, cost "
       ]
      },
      {
       "output_type": "stream",
       "stream": "stdout",
       "text": [
        " 187.685809111\n",
        "Pre-training layer 0, epoch 4, cost "
       ]
      },
      {
       "output_type": "stream",
       "stream": "stdout",
       "text": [
        " 178.260302295\n",
        "Pre-training layer 0, epoch 5, cost "
       ]
      },
      {
       "output_type": "stream",
       "stream": "stdout",
       "text": [
        " 170.923861029\n",
        "Pre-training layer 0, epoch 6, cost "
       ]
      },
      {
       "output_type": "stream",
       "stream": "stdout",
       "text": [
        " 164.961292259\n",
        "Pre-training layer 0, epoch 7, cost "
       ]
      },
      {
       "output_type": "stream",
       "stream": "stdout",
       "text": [
        " 160.073162105\n",
        "Pre-training layer 0, epoch 8, cost "
       ]
      },
      {
       "output_type": "stream",
       "stream": "stdout",
       "text": [
        " 155.967431557\n",
        "Pre-training layer 0, epoch 9, cost "
       ]
      },
      {
       "output_type": "stream",
       "stream": "stdout",
       "text": [
        " 152.442808308\n",
        "Pre-training layer 0, epoch 10, cost "
       ]
      },
      {
       "output_type": "stream",
       "stream": "stdout",
       "text": [
        " 149.403436396\n",
        "Pre-training layer 0, epoch 11, cost "
       ]
      },
      {
       "output_type": "stream",
       "stream": "stdout",
       "text": [
        " 146.745100358\n",
        "Pre-training layer 0, epoch 12, cost "
       ]
      },
      {
       "output_type": "stream",
       "stream": "stdout",
       "text": [
        " 144.384362643\n",
        "Pre-training layer 0, epoch 13, cost "
       ]
      },
      {
       "output_type": "stream",
       "stream": "stdout",
       "text": [
        " 142.288324298\n",
        "Pre-training layer 0, epoch 14, cost "
       ]
      },
      {
       "output_type": "stream",
       "stream": "stdout",
       "text": [
        " 140.394283707\n",
        "Pre-training layer 1, epoch 0, cost "
       ]
      },
      {
       "output_type": "stream",
       "stream": "stdout",
       "text": [
        " 68.8486104485\n",
        "Pre-training layer 1, epoch 1, cost "
       ]
      },
      {
       "output_type": "stream",
       "stream": "stdout",
       "text": [
        " 59.0348931681\n",
        "Pre-training layer 1, epoch 2, cost "
       ]
      },
      {
       "output_type": "stream",
       "stream": "stdout",
       "text": [
        " 57.283454055\n",
        "Pre-training layer 1, epoch 3, cost "
       ]
      },
      {
       "output_type": "stream",
       "stream": "stdout",
       "text": [
        " 55.8174529949\n",
        "Pre-training layer 1, epoch 4, cost "
       ]
      },
      {
       "output_type": "stream",
       "stream": "stdout",
       "text": [
        " 54.5755321895\n",
        "Pre-training layer 1, epoch 5, cost "
       ]
      },
      {
       "output_type": "stream",
       "stream": "stdout",
       "text": [
        " 53.4465015961\n",
        "Pre-training layer 1, epoch 6, cost "
       ]
      },
      {
       "output_type": "stream",
       "stream": "stdout",
       "text": [
        " 52.5028828338\n",
        "Pre-training layer 1, epoch 7, cost "
       ]
      },
      {
       "output_type": "stream",
       "stream": "stdout",
       "text": [
        " 51.6316607877\n",
        "Pre-training layer 1, epoch 8, cost "
       ]
      },
      {
       "output_type": "stream",
       "stream": "stdout",
       "text": [
        " 50.8494747929\n",
        "Pre-training layer 1, epoch 9, cost "
       ]
      },
      {
       "output_type": "stream",
       "stream": "stdout",
       "text": [
        " 50.2181426242\n",
        "Pre-training layer 1, epoch 10, cost "
       ]
      },
      {
       "output_type": "stream",
       "stream": "stdout",
       "text": [
        " 49.6159746138\n",
        "Pre-training layer 1, epoch 11, cost "
       ]
      },
      {
       "output_type": "stream",
       "stream": "stdout",
       "text": [
        " 49.0762398087\n",
        "Pre-training layer 1, epoch 12, cost "
       ]
      },
      {
       "output_type": "stream",
       "stream": "stdout",
       "text": [
        " 48.6404534787\n",
        "Pre-training layer 1, epoch 13, cost "
       ]
      },
      {
       "output_type": "stream",
       "stream": "stdout",
       "text": [
        " 48.2142917062\n",
        "Pre-training layer 1, epoch 14, cost "
       ]
      },
      {
       "output_type": "stream",
       "stream": "stdout",
       "text": [
        " 47.8374454039\n",
        "Your Python version is from Canopy. You need to install the package 'mingw 4.5.2' from Canopy package manager."
       ]
      },
      {
       "output_type": "stream",
       "stream": "stdout",
       "text": [
        "\n",
        "Your Python version is from Canopy. You need to install the package 'mingw 4.5.2' from Canopy package manager.\n",
        "Your Python version is from Canopy. You need to install the package 'mingw 4.5.2' from Canopy package manager."
       ]
      },
      {
       "output_type": "stream",
       "stream": "stdout",
       "text": [
        "\n",
        "Your Python version is from Canopy. You need to install the package 'mingw 4.5.2' from Canopy package manager.\n"
       ]
      }
     ],
     "prompt_number": 8
    },
    {
     "cell_type": "code",
     "collapsed": false,
     "input": [
      "# get the new representation for B set. first 784-D\n",
      "pretraining_epochs=15\n",
      "pretrain_lr=0.001\n",
      "batch_size=30\n",
      "hidden_layers_sizes =[100, 100]\n",
      "corruption_levels=[0, 0]\n",
      "x = x_train_minmax[:, x_train_minmax.shape[1]/2:]\n",
      "print \"original shape\", x.shape\n",
      "a_MAE_B = train_a_MultipleAEs(x, pretraining_epochs=pretraining_epochs, pretrain_lr=pretrain_lr, batch_size=batch_size, \n",
      "                        hidden_layers_sizes =hidden_layers_sizes, corruption_levels=corruption_levels)\n",
      "new_x_train_minmax_B =  a_MAE_B.transform(x_train_minmax[:, x_train_minmax.shape[1]/2:])"
     ],
     "language": "python",
     "metadata": {},
     "outputs": [
      {
       "output_type": "stream",
       "stream": "stdout",
       "text": [
        "original shape (11496L, 784L)\n",
        "... building the model\n",
        "... getting the pretraining functions\n",
        "... pre-training the model"
       ]
      },
      {
       "output_type": "stream",
       "stream": "stdout",
       "text": [
        "\n",
        "Pre-training layer 0, epoch 0, cost "
       ]
      },
      {
       "output_type": "stream",
       "stream": "stdout",
       "text": [
        " 349.129511531\n",
        "Pre-training layer 0, epoch 1, cost "
       ]
      },
      {
       "output_type": "stream",
       "stream": "stdout",
       "text": [
        " 226.94319863\n",
        "Pre-training layer 0, epoch 2, cost "
       ]
      },
      {
       "output_type": "stream",
       "stream": "stdout",
       "text": [
        " 203.627585707\n",
        "Pre-training layer 0, epoch 3, cost "
       ]
      },
      {
       "output_type": "stream",
       "stream": "stdout",
       "text": [
        " 190.220203221\n",
        "Pre-training layer 0, epoch 4, cost "
       ]
      },
      {
       "output_type": "stream",
       "stream": "stdout",
       "text": [
        " 180.50820274\n",
        "Pre-training layer 0, epoch 5, cost "
       ]
      },
      {
       "output_type": "stream",
       "stream": "stdout",
       "text": [
        " 172.980472013\n",
        "Pre-training layer 0, epoch 6, cost "
       ]
      },
      {
       "output_type": "stream",
       "stream": "stdout",
       "text": [
        " 166.926397778\n",
        "Pre-training layer 0, epoch 7, cost "
       ]
      },
      {
       "output_type": "stream",
       "stream": "stdout",
       "text": [
        " 161.933313192\n",
        "Pre-training layer 0, epoch 8, cost "
       ]
      },
      {
       "output_type": "stream",
       "stream": "stdout",
       "text": [
        " 157.751923269\n",
        "Pre-training layer 0, epoch 9, cost "
       ]
      },
      {
       "output_type": "stream",
       "stream": "stdout",
       "text": [
        " 154.167129443\n",
        "Pre-training layer 0, epoch 10, cost "
       ]
      },
      {
       "output_type": "stream",
       "stream": "stdout",
       "text": [
        " 151.114810011\n",
        "Pre-training layer 0, epoch 11, cost "
       ]
      },
      {
       "output_type": "stream",
       "stream": "stdout",
       "text": [
        " 148.405242745\n",
        "Pre-training layer 0, epoch 12, cost "
       ]
      },
      {
       "output_type": "stream",
       "stream": "stdout",
       "text": [
        " 146.026729473\n",
        "Pre-training layer 0, epoch 13, cost "
       ]
      },
      {
       "output_type": "stream",
       "stream": "stdout",
       "text": [
        " 143.923327549\n",
        "Pre-training layer 0, epoch 14, cost "
       ]
      },
      {
       "output_type": "stream",
       "stream": "stdout",
       "text": [
        " 141.990527125\n",
        "Pre-training layer 1, epoch 0, cost "
       ]
      },
      {
       "output_type": "stream",
       "stream": "stdout",
       "text": [
        " 68.4416070958\n",
        "Pre-training layer 1, epoch 1, cost "
       ]
      },
      {
       "output_type": "stream",
       "stream": "stdout",
       "text": [
        " 58.4317386106\n",
        "Pre-training layer 1, epoch 2, cost "
       ]
      },
      {
       "output_type": "stream",
       "stream": "stdout",
       "text": [
        " 56.6261931233\n",
        "Pre-training layer 1, epoch 3, cost "
       ]
      },
      {
       "output_type": "stream",
       "stream": "stdout",
       "text": [
        " 55.1918037926\n",
        "Pre-training layer 1, epoch 4, cost "
       ]
      },
      {
       "output_type": "stream",
       "stream": "stdout",
       "text": [
        " 53.8913107351\n",
        "Pre-training layer 1, epoch 5, cost "
       ]
      },
      {
       "output_type": "stream",
       "stream": "stdout",
       "text": [
        " 52.7589751516\n",
        "Pre-training layer 1, epoch 6, cost "
       ]
      },
      {
       "output_type": "stream",
       "stream": "stdout",
       "text": [
        " 51.7341569201\n",
        "Pre-training layer 1, epoch 7, cost "
       ]
      },
      {
       "output_type": "stream",
       "stream": "stdout",
       "text": [
        " 50.8811003109\n",
        "Pre-training layer 1, epoch 8, cost "
       ]
      },
      {
       "output_type": "stream",
       "stream": "stdout",
       "text": [
        " 50.0645828707\n",
        "Pre-training layer 1, epoch 9, cost "
       ]
      },
      {
       "output_type": "stream",
       "stream": "stdout",
       "text": [
        " 49.4361171504\n",
        "Pre-training layer 1, epoch 10, cost "
       ]
      },
      {
       "output_type": "stream",
       "stream": "stdout",
       "text": [
        " 48.8376318898\n",
        "Pre-training layer 1, epoch 11, cost "
       ]
      },
      {
       "output_type": "stream",
       "stream": "stdout",
       "text": [
        " 48.2815674303\n",
        "Pre-training layer 1, epoch 12, cost "
       ]
      },
      {
       "output_type": "stream",
       "stream": "stdout",
       "text": [
        " 47.8472076637\n",
        "Pre-training layer 1, epoch 13, cost "
       ]
      },
      {
       "output_type": "stream",
       "stream": "stdout",
       "text": [
        " 47.4090705925\n",
        "Pre-training layer 1, epoch 14, cost "
       ]
      },
      {
       "output_type": "stream",
       "stream": "stdout",
       "text": [
        " 47.0423730837\n"
       ]
      }
     ],
     "prompt_number": 9
    },
    {
     "cell_type": "code",
     "collapsed": false,
     "input": [
      "new_x_test_minmax_A = a_MAE_A.transform(x_test_minmax[:, :x_test_minmax.shape[1]/2])\n",
      "new_x_test_minmax_B = a_MAE_B.transform(x_test_minmax[:, x_test_minmax.shape[1]/2:])\n",
      "new_x_validation_minmax_A = a_MAE_A.transform(x_validation_minmax[:, :x_validation_minmax.shape[1]/2])\n",
      "new_x_validation_minmax_B = a_MAE_B.transform(x_validation_minmax[:, x_validation_minmax.shape[1]/2:])\n",
      "new_x_train_minmax_whole = np.hstack((new_x_train_minmax_A, new_x_train_minmax_B))\n",
      "new_x_test_minmax_whole = np.hstack((new_x_test_minmax_A, new_x_test_minmax_B))\n",
      "new_x_validationt_minmax_whole = np.hstack((new_x_validation_minmax_A, new_x_validation_minmax_B))"
     ],
     "language": "python",
     "metadata": {},
     "outputs": [],
     "prompt_number": 10
    },
    {
     "cell_type": "code",
     "collapsed": false,
     "input": [
      "new_x_train_minmax_whole.shape"
     ],
     "language": "python",
     "metadata": {},
     "outputs": [
      {
       "metadata": {},
       "output_type": "pyout",
       "prompt_number": 13,
       "text": [
        "(11496L, 200L)"
       ]
      }
     ],
     "prompt_number": 13
    },
    {
     "cell_type": "code",
     "collapsed": false,
     "input": [
      "#### L1-based SVM original dataset\n",
      "from sklearn.feature_selection import SelectKBest, chi2\n",
      "from sklearn.linear_model import RidgeClassifier\n",
      "from sklearn.svm import LinearSVC, SVC\n",
      "from sklearn.linear_model import SGDClassifier\n",
      "from sklearn.linear_model import Perceptron\n",
      "from sklearn.linear_model import PassiveAggressiveClassifier\n",
      "from sklearn.naive_bayes import BernoulliNB, MultinomialNB\n",
      "from sklearn.neighbors import KNeighborsClassifier\n",
      "from sklearn.neighbors import NearestCentroid\n",
      "from sklearn.utils.extmath import density\n",
      "from sklearn import metrics\n",
      "x_train_pre_validation_scaled = x_train_minmax\n",
      "X_test_scaled = x_test_minmax\n",
      "print 'SVM result on original dataset'\n",
      "L1_SVC_Selector= LinearSVC(C=1, penalty=\"l2\", dual=False)\n",
      "L1_SVC_X = L1_SVC_Selector.fit_transform(x_train_pre_validation_scaled, y_train_minmax)\n",
      "traning_accuracy = L1_SVC_Selector.score(x_train_pre_validation_scaled, y_train_minmax)\n",
      "print 'training accuracy', traning_accuracy\n",
      "testing_accuracy = L1_SVC_Selector.score(X_test_scaled, y_test_minmax)\n",
      "print 'testing accuracy', testing_accuracy\n",
      "print L1_SVC_X.shape\n",
      "predicted = L1_SVC_Selector.predict(X_test_scaled)\n",
      "print 'testing precision', sklearn.metrics.precision_score(y_test_minmax, predicted, pos_label=1)\n",
      "print 'testing recall', sklearn.metrics.recall_score(y_test_minmax, predicted, pos_label=1)\n",
      "print sklearn.metrics.recall_score(y_test_minmax, predicted, pos_label=1)"
     ],
     "language": "python",
     "metadata": {},
     "outputs": [
      {
       "output_type": "stream",
       "stream": "stdout",
       "text": [
        "SVM result on original dataset\n",
        "training accuracy"
       ]
      },
      {
       "output_type": "stream",
       "stream": "stdout",
       "text": [
        " 0.663361169102\n",
        "testing accuracy"
       ]
      },
      {
       "output_type": "stream",
       "stream": "stdout",
       "text": [
        " 0.571388811578\n",
        "(11496L, 478L)\n",
        "testing precision"
       ]
      },
      {
       "output_type": "stream",
       "stream": "stdout",
       "text": [
        " 0.57358490566\n",
        "testing recall 0.586872586873\n",
        "0.586872586873\n"
       ]
      }
     ],
     "prompt_number": 11
    },
    {
     "cell_type": "code",
     "collapsed": false,
     "input": [
      "L1_SVC_POLY_Selector= SVC(kernel='poly').fit(x_train_pre_validation_scaled, y_train_minmax)\n",
      "print L1_SVC_POLY_Selector.score(x_train_pre_validation_scaled, y_train_minmax)\n",
      "print L1_SVC_POLY_Selector.score(X_test_scaled, y_test_minmax)\n",
      "predicted = L1_SVC_POLY_Selector.predict(X_test_scaled)\n",
      "print sklearn.metrics.precision_score(y_test_minmax, predicted, pos_label=1)\n",
      "print sklearn.metrics.recall_score(y_test_minmax, predicted, pos_label=1)"
     ],
     "language": "python",
     "metadata": {},
     "outputs": [
      {
       "output_type": "stream",
       "stream": "stdout",
       "text": [
        "0.500077351485\n",
        "0.50198019802"
       ]
      },
      {
       "output_type": "stream",
       "stream": "stdout",
       "text": [
        "\n",
        "0.0"
       ]
      },
      {
       "output_type": "stream",
       "stream": "stdout",
       "text": [
        "\n",
        "0.0\n"
       ]
      }
     ],
     "prompt_number": 45
    },
    {
     "cell_type": "code",
     "collapsed": false,
     "input": [
      "#### RBF SVM original dataset\n",
      "L1_SVC_RBF_Selector= SVC(kernel='rbf').fit(x_train_pre_validation_scaled, y_train_minmax)\n",
      "print L1_SVC_RBF_Selector.score(x_train_pre_validation_scaled, y_train_minmax)\n",
      "print L1_SVC_RBF_Selector.score(X_test_scaled, y_test_minmax)\n",
      "predicted = L1_SVC_RBF_Selector.predict(X_test_scaled)\n",
      "print sklearn.metrics.precision_score(y_test_minmax, predicted, pos_label=1)\n",
      "print sklearn.metrics.recall_score(y_test_minmax, predicted, pos_label=1)"
     ],
     "language": "python",
     "metadata": {},
     "outputs": [
      {
       "output_type": "stream",
       "stream": "stdout",
       "text": [
        "0.645266089109\n",
        "0.599504950495"
       ]
      },
      {
       "output_type": "stream",
       "stream": "stdout",
       "text": [
        "\n",
        "0.594985535198"
       ]
      },
      {
       "output_type": "stream",
       "stream": "stdout",
       "text": [
        "\n",
        "0.613320079523\n"
       ]
      }
     ],
     "prompt_number": 46
    },
    {
     "cell_type": "code",
     "collapsed": false,
     "input": [
      "#### L1-based SVM on trasformed original dataset\n",
      "from sklearn.feature_selection import SelectKBest, chi2\n",
      "from sklearn.linear_model import RidgeClassifier\n",
      "from sklearn.svm import LinearSVC\n",
      "from sklearn.linear_model import SGDClassifier\n",
      "from sklearn.linear_model import Perceptron\n",
      "from sklearn.linear_model import PassiveAggressiveClassifier\n",
      "from sklearn.naive_bayes import BernoulliNB, MultinomialNB\n",
      "from sklearn.neighbors import KNeighborsClassifier\n",
      "from sklearn.neighbors import NearestCentroid\n",
      "from sklearn.utils.extmath import density\n",
      "from sklearn import metrics\n",
      "x_train_pre_validation_scaled = new_x_train_minmax\n",
      "X_test_scaled = new_x_test_minmax\n",
      "\n",
      "L1_SVC_Selector= LinearSVC(C=1, penalty=\"l1\", dual=False)\n",
      "L1_SVC_X = L1_SVC_Selector.fit_transform(x_train_pre_validation_scaled, y_train_minmax)\n",
      "traning_accuracy = L1_SVC_Selector.score(x_train_pre_validation_scaled, y_train_minmax)\n",
      "print 'training accuracy', traning_accuracy\n",
      "testing_accuracy = L1_SVC_Selector.score(X_test_scaled, y_test_minmax)\n",
      "print 'testing accuracy', testing_accuracy\n",
      "print L1_SVC_X.shape\n",
      "predicted = L1_SVC_Selector.predict(X_test_scaled)\n",
      "print 'testing precision', sklearn.metrics.precision_score(y_test_minmax, predicted, pos_label=1)\n",
      "print 'testing recall', sklearn.metrics.recall_score(y_test_minmax, predicted, pos_label=1)\n"
     ],
     "language": "python",
     "metadata": {},
     "outputs": [
      {
       "ename": "NameError",
       "evalue": "name 'new_x_train_minmax' is not defined",
       "output_type": "pyerr",
       "traceback": [
        "\u001b[1;31m---------------------------------------------------------------------------\u001b[0m\n\u001b[1;31mNameError\u001b[0m                                 Traceback (most recent call last)",
        "\u001b[1;32m<ipython-input-14-efac07132f4f>\u001b[0m in \u001b[0;36m<module>\u001b[1;34m()\u001b[0m\n\u001b[0;32m     11\u001b[0m \u001b[1;32mfrom\u001b[0m \u001b[0msklearn\u001b[0m\u001b[1;33m.\u001b[0m\u001b[0mutils\u001b[0m\u001b[1;33m.\u001b[0m\u001b[0mextmath\u001b[0m \u001b[1;32mimport\u001b[0m \u001b[0mdensity\u001b[0m\u001b[1;33m\u001b[0m\u001b[0m\n\u001b[0;32m     12\u001b[0m \u001b[1;32mfrom\u001b[0m \u001b[0msklearn\u001b[0m \u001b[1;32mimport\u001b[0m \u001b[0mmetrics\u001b[0m\u001b[1;33m\u001b[0m\u001b[0m\n\u001b[1;32m---> 13\u001b[1;33m \u001b[0mx_train_pre_validation_scaled\u001b[0m \u001b[1;33m=\u001b[0m \u001b[0mnew_x_train_minmax\u001b[0m\u001b[1;33m\u001b[0m\u001b[0m\n\u001b[0m\u001b[0;32m     14\u001b[0m \u001b[0mX_test_scaled\u001b[0m \u001b[1;33m=\u001b[0m \u001b[0mnew_x_test_minmax\u001b[0m\u001b[1;33m\u001b[0m\u001b[0m\n\u001b[0;32m     15\u001b[0m \u001b[1;33m\u001b[0m\u001b[0m\n",
        "\u001b[1;31mNameError\u001b[0m: name 'new_x_train_minmax' is not defined"
       ]
      }
     ],
     "prompt_number": 14
    },
    {
     "cell_type": "code",
     "collapsed": false,
     "input": [
      "#### L1-based SVM on seperately trasformed original dataset\n",
      "from sklearn.feature_selection import SelectKBest, chi2\n",
      "from sklearn.linear_model import RidgeClassifier\n",
      "from sklearn.svm import LinearSVC\n",
      "from sklearn.linear_model import SGDClassifier\n",
      "from sklearn.linear_model import Perceptron\n",
      "from sklearn.linear_model import PassiveAggressiveClassifier\n",
      "from sklearn.naive_bayes import BernoulliNB, MultinomialNB\n",
      "from sklearn.neighbors import KNeighborsClassifier\n",
      "from sklearn.neighbors import NearestCentroid\n",
      "from sklearn.utils.extmath import density\n",
      "from sklearn import metrics\n",
      "x_train_pre_validation_scaled = new_x_train_minmax_whole\n",
      "X_test_scaled = new_x_test_minmax_whole\n",
      "\n",
      "L1_SVC_Selector= LinearSVC(C=1, penalty=\"l1\", dual=False)\n",
      "L1_SVC_X = L1_SVC_Selector.fit_transform(x_train_pre_validation_scaled, y_train_minmax)\n",
      "traning_accuracy = L1_SVC_Selector.score(x_train_pre_validation_scaled, y_train_minmax)\n",
      "print 'training accuracy', traning_accuracy\n",
      "testing_accuracy = L1_SVC_Selector.score(X_test_scaled, y_test_minmax)\n",
      "print 'testing accuracy', testing_accuracy\n",
      "print L1_SVC_X.shape\n",
      "predicted = L1_SVC_Selector.predict(X_test_scaled)\n",
      "print 'testing precision', sklearn.metrics.precision_score(y_test_minmax, predicted, pos_label=1)\n",
      "print 'testing recall', sklearn.metrics.recall_score(y_test_minmax, predicted, pos_label=1)"
     ],
     "language": "python",
     "metadata": {},
     "outputs": [
      {
       "output_type": "stream",
       "stream": "stdout",
       "text": [
        "training accuracy 0.55670750864\n",
        "testing accuracy 0.519095477387\n",
        "(12732L, 179L)\n",
        "testing precision 0.520963855422\n",
        "testing recall 0.540229885057\n"
       ]
      }
     ],
     "prompt_number": 23
    },
    {
     "cell_type": "code",
     "collapsed": false,
     "input": [
      "# get the new representation for sperated vectors\n",
      "pretraining_epochs=15\n",
      "pretrain_lr=0.001\n",
      "batch_size=30\n",
      "hidden_layers_sizes =[100, 100]\n",
      "corruption_levels=[0, 0]\n",
      "x = new_x_train_minmax_whole\n",
      "print \"original shape\", x.shape\n",
      "a_MAE_new_set = train_a_MultipleAEs(x, pretraining_epochs=pretraining_epochs, pretrain_lr=pretrain_lr, batch_size=batch_size, \n",
      "                        hidden_layers_sizes =hidden_layers_sizes, corruption_levels=corruption_levels)\n",
      "new_x_train_minmax_new_set =  a_MAE_new_set.transform(new_x_train_minmax_whole)\n",
      "new_x_test_minmax_new_set = a_MAE_new_set.transform(new_x_test_minmax_whole)"
     ],
     "language": "python",
     "metadata": {},
     "outputs": [
      {
       "output_type": "stream",
       "stream": "stdout",
       "text": [
        "original shape (11496L, 200L)\n",
        "... building the model\n",
        "... getting the pretraining functions\n",
        "... pre-training the model"
       ]
      },
      {
       "output_type": "stream",
       "stream": "stdout",
       "text": [
        "\n",
        "Pre-training layer 0, epoch 0, cost "
       ]
      },
      {
       "output_type": "stream",
       "stream": "stdout",
       "text": [
        " 118.177096162\n",
        "Pre-training layer 0, epoch 1, cost "
       ]
      },
      {
       "output_type": "stream",
       "stream": "stdout",
       "text": [
        " 97.7526594947\n",
        "Pre-training layer 0, epoch 2, cost "
       ]
      },
      {
       "output_type": "stream",
       "stream": "stdout",
       "text": [
        " 95.8107967655\n",
        "Pre-training layer 0, epoch 3, cost "
       ]
      },
      {
       "output_type": "stream",
       "stream": "stdout",
       "text": [
        " 94.3870854405\n",
        "Pre-training layer 0, epoch 4, cost "
       ]
      },
      {
       "output_type": "stream",
       "stream": "stdout",
       "text": [
        " 93.0674232211\n",
        "Pre-training layer 0, epoch 5, cost "
       ]
      },
      {
       "output_type": "stream",
       "stream": "stdout",
       "text": [
        " 91.8169773198\n",
        "Pre-training layer 0, epoch 6, cost "
       ]
      },
      {
       "output_type": "stream",
       "stream": "stdout",
       "text": [
        " 90.6762560709\n",
        "Pre-training layer 0, epoch 7, cost "
       ]
      },
      {
       "output_type": "stream",
       "stream": "stdout",
       "text": [
        " 89.5957194412\n",
        "Pre-training layer 0, epoch 8, cost "
       ]
      },
      {
       "output_type": "stream",
       "stream": "stdout",
       "text": [
        " 88.6158297961\n",
        "Pre-training layer 0, epoch 9, cost "
       ]
      },
      {
       "output_type": "stream",
       "stream": "stdout",
       "text": [
        " 87.7273767409\n",
        "Pre-training layer 0, epoch 10, cost "
       ]
      },
      {
       "output_type": "stream",
       "stream": "stdout",
       "text": [
        " 86.9481322481\n",
        "Pre-training layer 0, epoch 11, cost "
       ]
      },
      {
       "output_type": "stream",
       "stream": "stdout",
       "text": [
        " 86.1908101443\n",
        "Pre-training layer 0, epoch 12, cost "
       ]
      },
      {
       "output_type": "stream",
       "stream": "stdout",
       "text": [
        " 85.5006395465\n",
        "Pre-training layer 0, epoch 13, cost "
       ]
      },
      {
       "output_type": "stream",
       "stream": "stdout",
       "text": [
        " 84.8962040084\n",
        "Pre-training layer 0, epoch 14, cost "
       ]
      },
      {
       "output_type": "stream",
       "stream": "stdout",
       "text": [
        " 84.3446187521\n",
        "Pre-training layer 1, epoch 0, cost "
       ]
      },
      {
       "output_type": "stream",
       "stream": "stdout",
       "text": [
        " 69.0075137848\n",
        "Pre-training layer 1, epoch 1, cost "
       ]
      },
      {
       "output_type": "stream",
       "stream": "stdout",
       "text": [
        " 57.8697038244\n",
        "Pre-training layer 1, epoch 2, cost "
       ]
      },
      {
       "output_type": "stream",
       "stream": "stdout",
       "text": [
        " 56.7365472834\n",
        "Pre-training layer 1, epoch 3, cost "
       ]
      },
      {
       "output_type": "stream",
       "stream": "stdout",
       "text": [
        " 55.929914859\n",
        "Pre-training layer 1, epoch 4, cost "
       ]
      },
      {
       "output_type": "stream",
       "stream": "stdout",
       "text": [
        " 55.2160968987\n",
        "Pre-training layer 1, epoch 5, cost "
       ]
      },
      {
       "output_type": "stream",
       "stream": "stdout",
       "text": [
        " 54.5584755942\n",
        "Pre-training layer 1, epoch 6, cost "
       ]
      },
      {
       "output_type": "stream",
       "stream": "stdout",
       "text": [
        " 53.9750626535\n",
        "Pre-training layer 1, epoch 7, cost "
       ]
      },
      {
       "output_type": "stream",
       "stream": "stdout",
       "text": [
        " 53.4056634012\n",
        "Pre-training layer 1, epoch 8, cost "
       ]
      },
      {
       "output_type": "stream",
       "stream": "stdout",
       "text": [
        " 52.8792666753\n",
        "Pre-training layer 1, epoch 9, cost "
       ]
      },
      {
       "output_type": "stream",
       "stream": "stdout",
       "text": [
        " 52.4516524239\n",
        "Pre-training layer 1, epoch 10, cost "
       ]
      },
      {
       "output_type": "stream",
       "stream": "stdout",
       "text": [
        " 52.0314312994\n",
        "Pre-training layer 1, epoch 11, cost "
       ]
      },
      {
       "output_type": "stream",
       "stream": "stdout",
       "text": [
        " 51.6219030442\n",
        "Pre-training layer 1, epoch 12, cost "
       ]
      },
      {
       "output_type": "stream",
       "stream": "stdout",
       "text": [
        " 51.2731153826\n",
        "Pre-training layer 1, epoch 13, cost "
       ]
      },
      {
       "output_type": "stream",
       "stream": "stdout",
       "text": [
        " 50.9333671794\n",
        "Pre-training layer 1, epoch 14, cost "
       ]
      },
      {
       "output_type": "stream",
       "stream": "stdout",
       "text": [
        " 50.6723605118\n"
       ]
      }
     ],
     "prompt_number": 16
    },
    {
     "cell_type": "code",
     "collapsed": false,
     "input": [
      "#### L1-based SVM on seperately trasformed original dataset\n",
      "from sklearn.feature_selection import SelectKBest, chi2\n",
      "from sklearn.linear_model import RidgeClassifier\n",
      "from sklearn.svm import LinearSVC\n",
      "from sklearn.linear_model import SGDClassifier\n",
      "from sklearn.linear_model import Perceptron\n",
      "from sklearn.linear_model import PassiveAggressiveClassifier\n",
      "from sklearn.naive_bayes import BernoulliNB, MultinomialNB\n",
      "from sklearn.neighbors import KNeighborsClassifier\n",
      "from sklearn.neighbors import NearestCentroid\n",
      "from sklearn.utils.extmath import density\n",
      "from sklearn import metrics\n",
      "x_train_pre_validation_scaled = new_x_train_minmax_new_set\n",
      "X_test_scaled = new_x_test_minmax_new_set\n",
      "\n",
      "L1_SVC_Selector= LinearSVC(C=1, penalty=\"l1\", dual=False)\n",
      "L1_SVC_X = L1_SVC_Selector.fit_transform(x_train_pre_validation_scaled, y_train_minmax)\n",
      "traning_accuracy = L1_SVC_Selector.score(x_train_pre_validation_scaled, y_train_minmax)\n",
      "print 'training accuracy', traning_accuracy\n",
      "testing_accuracy = L1_SVC_Selector.score(X_test_scaled, y_test_minmax)\n",
      "print 'testing accuracy', testing_accuracy\n",
      "print L1_SVC_X.shape\n",
      "predicted = L1_SVC_Selector.predict(X_test_scaled)\n",
      "print 'testing precision', sklearn.metrics.precision_score(y_test_minmax, predicted, pos_label=1)\n",
      "print 'testing recall', sklearn.metrics.recall_score(y_test_minmax, predicted, pos_label=1)"
     ],
     "language": "python",
     "metadata": {},
     "outputs": [
      {
       "output_type": "stream",
       "stream": "stdout",
       "text": [
        "training accuracy 0.680149617258\n",
        "testing accuracy 0.686334539382\n",
        "(11496L, 96L)\n",
        "testing precision 0.688668866887\n",
        "testing recall 0.69056811914\n"
       ]
      }
     ],
     "prompt_number": 18
    },
    {
     "cell_type": "code",
     "collapsed": false,
     "input": [
      "# feature log selection based on L2\n",
      "log_clf_l2 = sklearn.linear_model.LogisticRegression(C=1, penalty='l2' )\n",
      "log_clf_l2.fit(x_train_pre_validation_scaled, y_train_pre_validation)\n",
      "predicted = log_clf_l2.predict(X_test_scaled)\n",
      "print log_clf_l2.score(x_train_pre_validation_scaled, y_train_pre_validation)\n",
      "print log_clf_l2.score(X_test_scaled, y_test)\n",
      "print 'precision', sklearn.metrics.precision_score(y_test, predicted, pos_label=1)\n",
      "print 'recall', sklearn.metrics.recall_score(y_test, predicted, pos_label=1)\n"
     ],
     "language": "python",
     "metadata": {},
     "outputs": [
      {
       "ename": "NameError",
       "evalue": "name 'y_train_pre_validation' is not defined",
       "output_type": "pyerr",
       "traceback": [
        "\u001b[1;31m---------------------------------------------------------------------------\u001b[0m\n\u001b[1;31mNameError\u001b[0m                                 Traceback (most recent call last)",
        "\u001b[1;32m<ipython-input-17-8893d6e6ceee>\u001b[0m in \u001b[0;36m<module>\u001b[1;34m()\u001b[0m\n\u001b[0;32m      1\u001b[0m \u001b[1;31m# feature log selection based on L2\u001b[0m\u001b[1;33m\u001b[0m\u001b[1;33m\u001b[0m\u001b[0m\n\u001b[0;32m      2\u001b[0m \u001b[0mlog_clf_l2\u001b[0m \u001b[1;33m=\u001b[0m \u001b[0msklearn\u001b[0m\u001b[1;33m.\u001b[0m\u001b[0mlinear_model\u001b[0m\u001b[1;33m.\u001b[0m\u001b[0mLogisticRegression\u001b[0m\u001b[1;33m(\u001b[0m\u001b[0mC\u001b[0m\u001b[1;33m=\u001b[0m\u001b[1;36m1\u001b[0m\u001b[1;33m,\u001b[0m \u001b[0mpenalty\u001b[0m\u001b[1;33m=\u001b[0m\u001b[1;34m'l2'\u001b[0m \u001b[1;33m)\u001b[0m\u001b[1;33m\u001b[0m\u001b[0m\n\u001b[1;32m----> 3\u001b[1;33m \u001b[0mlog_clf_l2\u001b[0m\u001b[1;33m.\u001b[0m\u001b[0mfit\u001b[0m\u001b[1;33m(\u001b[0m\u001b[0mx_train_pre_validation_scaled\u001b[0m\u001b[1;33m,\u001b[0m \u001b[0my_train_pre_validation\u001b[0m\u001b[1;33m)\u001b[0m\u001b[1;33m\u001b[0m\u001b[0m\n\u001b[0m\u001b[0;32m      4\u001b[0m \u001b[0mpredicted\u001b[0m \u001b[1;33m=\u001b[0m \u001b[0mlog_clf_l2\u001b[0m\u001b[1;33m.\u001b[0m\u001b[0mpredict\u001b[0m\u001b[1;33m(\u001b[0m\u001b[0mX_test_scaled\u001b[0m\u001b[1;33m)\u001b[0m\u001b[1;33m\u001b[0m\u001b[0m\n\u001b[0;32m      5\u001b[0m \u001b[1;32mprint\u001b[0m \u001b[0mlog_clf_l2\u001b[0m\u001b[1;33m.\u001b[0m\u001b[0mscore\u001b[0m\u001b[1;33m(\u001b[0m\u001b[0mx_train_pre_validation_scaled\u001b[0m\u001b[1;33m,\u001b[0m \u001b[0my_train_pre_validation\u001b[0m\u001b[1;33m)\u001b[0m\u001b[1;33m\u001b[0m\u001b[0m\n",
        "\u001b[1;31mNameError\u001b[0m: name 'y_train_pre_validation' is not defined"
       ]
      }
     ],
     "prompt_number": 17
    },
    {
     "cell_type": "code",
     "collapsed": false,
     "input": [],
     "language": "python",
     "metadata": {},
     "outputs": []
    },
    {
     "cell_type": "code",
     "collapsed": false,
     "input": [
      "# feature log selection based on L2 on original dataset\n",
      "X_test = x_test_minmax\n",
      "y_test = y_test_minmax\n",
      "X_train = x_train_minmax\n",
      "y_train = y_train_minmax\n",
      "print 'performance for logisitc regression'\n",
      "log_clf = sklearn.linear_model.LogisticRegression(C=1, penalty='l2' )\n",
      "log_clf.fit(X_train, y_train)\n",
      "predicted = log_clf.predict(X_test)\n",
      "print 'training accuracy', log_clf.score(X_train, y_train)\n",
      "print 'testing accuracy', log_clf.score(X_test, y_test)\n",
      "print 'precision', sklearn.metrics.precision_score(y_test, predicted, pos_label=1)\n",
      "print 'recall', sklearn.metrics.recall_score(y_test, predicted, pos_label=1)"
     ],
     "language": "python",
     "metadata": {},
     "outputs": [
      {
       "output_type": "stream",
       "stream": "stdout",
       "text": [
        "performance for logisitc regression\n",
        "training accuracy"
       ]
      },
      {
       "output_type": "stream",
       "stream": "stdout",
       "text": [
        " 0.619776939994\n",
        "testing accuracy 0.507286432161\n",
        "precision "
       ]
      },
      {
       "output_type": "stream",
       "stream": "stdout",
       "text": [
        "0.509832841691\n",
        "recall 0.51824087956\n"
       ]
      }
     ],
     "prompt_number": 28
    },
    {
     "cell_type": "code",
     "collapsed": false,
     "input": [
      "# feature log selection based on L2 on transformed original\n",
      "X_test = new_x_test_minmax\n",
      "y_test = y_test_minmax\n",
      "X_train = new_x_train_minmax\n",
      "y_train = y_train_minmax\n",
      "print 'performance for logisitc regression'\n",
      "log_clf = sklearn.linear_model.LogisticRegression(C=1, penalty='l2' )\n",
      "log_clf.fit(X_train, y_train)\n",
      "predicted = log_clf.predict(X_test)\n",
      "print 'training accuracy', log_clf.score(X_train, y_train)\n",
      "print 'testing accuracy', log_clf.score(X_test, y_test)\n",
      "print 'precision', sklearn.metrics.precision_score(y_test, predicted, pos_label=1)\n",
      "print 'recall', sklearn.metrics.recall_score(y_test, predicted, pos_label=1)"
     ],
     "language": "python",
     "metadata": {},
     "outputs": [
      {
       "output_type": "stream",
       "stream": "stdout",
       "text": [
        "performance for logisitc regression\n",
        "training accuracy"
       ]
      },
      {
       "output_type": "stream",
       "stream": "stdout",
       "text": [
        " 0.665724159598\n",
        "testing accuracy 0.665075376884\n",
        "precision 0.661665053243\n",
        "recall 0.68315842079\n"
       ]
      }
     ],
     "prompt_number": 29
    },
    {
     "cell_type": "code",
     "collapsed": false,
     "input": [
      "# feature log selection based on L2 on seperately transformed dataset\n",
      "X_test = new_x_test_minmax_new_set\n",
      "y_test = y_test_minmax\n",
      "X_train = new_x_train_minmax_new_set\n",
      "y_train = y_train_minmax\n",
      "print 'performance for logisitc regression'\n",
      "log_clf = sklearn.linear_model.LogisticRegression(C=1, penalty='l2' )\n",
      "log_clf.fit(X_train, y_train)\n",
      "predicted = log_clf.predict(X_test)\n",
      "print 'training accuracy', log_clf.score(X_train, y_train)\n",
      "print 'testing accuracy', log_clf.score(X_test, y_test)\n",
      "print 'precision', sklearn.metrics.precision_score(y_test, predicted, pos_label=1)\n",
      "print 'recall', sklearn.metrics.recall_score(y_test, predicted, pos_label=1)"
     ],
     "language": "python",
     "metadata": {},
     "outputs": [
      {
       "output_type": "stream",
       "stream": "stdout",
       "text": [
        "performance for logisitc regression\n",
        "training accuracy"
       ]
      },
      {
       "output_type": "stream",
       "stream": "stdout",
       "text": [
        " 0.72808671065\n",
        "testing accuracy "
       ]
      },
      {
       "output_type": "stream",
       "stream": "stdout",
       "text": [
        "0.733417085427\n",
        "precision 0.727492739593\n",
        "recall 0.751124437781\n"
       ]
      }
     ],
     "prompt_number": 30
    },
    {
     "cell_type": "code",
     "collapsed": false,
     "input": [
      "# build a sda, pretraining plus fine tuning on original data.\n",
      "# set up paramaters\n",
      "from DL_libs import *\n",
      "\n",
      "#finetune_lr=0.1\n",
      "finetune_lr = 0.1\n",
      "pretraining_epochs = 30\n",
      "#pretrain_lr=0.001\n",
      "pretrain_lr = 0.001\n",
      "training_epochs = 300\n",
      "batch_size = 30\n",
      "\n",
      "\n",
      "hidden_layers_sizes= [100, 100]\n",
      "corruption_levels = [0, 0]\n",
      "\n",
      "sda = trainSda(x_train_minmax, y_train_minmax,\n",
      "             x_validation_minmax, y_validation_minmax , \n",
      "             x_test_minmax, y_test_minmax,\n",
      "             hidden_layers_sizes = hidden_layers_sizes, corruption_levels = corruption_levels, batch_size = batch_size , \\\n",
      "             training_epochs = training_epochs, pretraining_epochs = pretraining_epochs, \n",
      "             pretrain_lr = pretrain_lr, finetune_lr=finetune_lr\n",
      "             )"
     ],
     "language": "python",
     "metadata": {},
     "outputs": [
      {
       "output_type": "stream",
       "stream": "stdout",
       "text": [
        "... building the model\n",
        "... getting the pretraining functions"
       ]
      },
      {
       "output_type": "stream",
       "stream": "stdout",
       "text": [
        "\n",
        "... pre-training the model"
       ]
      },
      {
       "output_type": "stream",
       "stream": "stdout",
       "text": [
        "\n",
        "Pre-training layer 0, epoch 0, cost "
       ]
      },
      {
       "output_type": "stream",
       "stream": "stdout",
       "text": [
        " 647.922785805\n",
        "Pre-training layer 0, epoch 1, cost "
       ]
      },
      {
       "output_type": "stream",
       "stream": "stdout",
       "text": [
        " 459.647282329\n",
        "Pre-training layer 0, epoch 2, cost "
       ]
      },
      {
       "output_type": "stream",
       "stream": "stdout",
       "text": [
        " 423.468142598\n",
        "Pre-training layer 0, epoch 3, cost "
       ]
      },
      {
       "output_type": "stream",
       "stream": "stdout",
       "text": [
        " 400.399108653\n",
        "Pre-training layer 0, epoch 4, cost "
       ]
      },
      {
       "output_type": "stream",
       "stream": "stdout",
       "text": [
        " 383.07459036\n",
        "Pre-training layer 0, epoch 5, cost "
       ]
      },
      {
       "output_type": "stream",
       "stream": "stdout",
       "text": [
        " 369.358344102\n",
        "Pre-training layer 0, epoch 6, cost "
       ]
      },
      {
       "output_type": "stream",
       "stream": "stdout",
       "text": [
        " 358.181938709\n",
        "Pre-training layer 0, epoch 7, cost "
       ]
      },
      {
       "output_type": "stream",
       "stream": "stdout",
       "text": [
        " 348.88467612\n",
        "Pre-training layer 0, epoch 8, cost "
       ]
      },
      {
       "output_type": "stream",
       "stream": "stdout",
       "text": [
        " 341.018234687\n",
        "Pre-training layer 0, epoch 9, cost "
       ]
      },
      {
       "output_type": "stream",
       "stream": "stdout",
       "text": [
        " 334.262997635\n",
        "Pre-training layer 0, epoch 10, cost "
       ]
      },
      {
       "output_type": "stream",
       "stream": "stdout",
       "text": [
        " 328.384889748\n",
        "Pre-training layer 0, epoch 11, cost "
       ]
      },
      {
       "output_type": "stream",
       "stream": "stdout",
       "text": [
        " 323.209703586\n",
        "Pre-training layer 0, epoch 12, cost "
       ]
      },
      {
       "output_type": "stream",
       "stream": "stdout",
       "text": [
        " 318.606135178\n",
        "Pre-training layer 0, epoch 13, cost "
       ]
      },
      {
       "output_type": "stream",
       "stream": "stdout",
       "text": [
        " 314.473944912\n",
        "Pre-training layer 0, epoch 14, cost "
       ]
      },
      {
       "output_type": "stream",
       "stream": "stdout",
       "text": [
        " 310.735538637\n",
        "Pre-training layer 0, epoch 15, cost "
       ]
      },
      {
       "output_type": "stream",
       "stream": "stdout",
       "text": [
        " 307.32996513\n",
        "Pre-training layer 0, epoch 16, cost "
       ]
      },
      {
       "output_type": "stream",
       "stream": "stdout",
       "text": [
        " 304.208641381\n",
        "Pre-training layer 0, epoch 17, cost "
       ]
      },
      {
       "output_type": "stream",
       "stream": "stdout",
       "text": [
        " 301.332304955\n",
        "Pre-training layer 0, epoch 18, cost "
       ]
      },
      {
       "output_type": "stream",
       "stream": "stdout",
       "text": [
        " 298.668828399\n",
        "Pre-training layer 0, epoch 19, cost "
       ]
      },
      {
       "output_type": "stream",
       "stream": "stdout",
       "text": [
        " 296.191634689\n",
        "Pre-training layer 0, epoch 20, cost "
       ]
      },
      {
       "output_type": "stream",
       "stream": "stdout",
       "text": [
        " 293.878531229\n",
        "Pre-training layer 0, epoch 21, cost "
       ]
      },
      {
       "output_type": "stream",
       "stream": "stdout",
       "text": [
        " 291.710836811\n",
        "Pre-training layer 0, epoch 22, cost "
       ]
      },
      {
       "output_type": "stream",
       "stream": "stdout",
       "text": [
        " 289.672715785\n",
        "Pre-training layer 0, epoch 23, cost "
       ]
      },
      {
       "output_type": "stream",
       "stream": "stdout",
       "text": [
        " 287.750660896\n",
        "Pre-training layer 0, epoch 24, cost "
       ]
      },
      {
       "output_type": "stream",
       "stream": "stdout",
       "text": [
        " 285.933084835\n",
        "Pre-training layer 0, epoch 25, cost "
       ]
      },
      {
       "output_type": "stream",
       "stream": "stdout",
       "text": [
        " 284.209993109\n",
        "Pre-training layer 0, epoch 26, cost "
       ]
      },
      {
       "output_type": "stream",
       "stream": "stdout",
       "text": [
        " 282.572719318\n",
        "Pre-training layer 0, epoch 27, cost "
       ]
      },
      {
       "output_type": "stream",
       "stream": "stdout",
       "text": [
        " 281.013709474\n",
        "Pre-training layer 0, epoch 28, cost "
       ]
      },
      {
       "output_type": "stream",
       "stream": "stdout",
       "text": [
        " 279.526345517\n",
        "Pre-training layer 0, epoch 29, cost "
       ]
      },
      {
       "output_type": "stream",
       "stream": "stdout",
       "text": [
        " 278.104800501\n",
        "Pre-training layer 1, epoch 0, cost "
       ]
      },
      {
       "output_type": "stream",
       "stream": "stdout",
       "text": [
        " 58.0747334321\n",
        "Pre-training layer 1, epoch 1, cost "
       ]
      },
      {
       "output_type": "stream",
       "stream": "stdout",
       "text": [
        " 47.3869523522\n",
        "Pre-training layer 1, epoch 2, cost "
       ]
      },
      {
       "output_type": "stream",
       "stream": "stdout",
       "text": [
        " 45.6167354622\n",
        "Pre-training layer 1, epoch 3, cost "
       ]
      },
      {
       "output_type": "stream",
       "stream": "stdout",
       "text": [
        " 44.1142099382\n",
        "Pre-training layer 1, epoch 4, cost "
       ]
      },
      {
       "output_type": "stream",
       "stream": "stdout",
       "text": [
        " 42.780782391\n",
        "Pre-training layer 1, epoch 5, cost "
       ]
      },
      {
       "output_type": "stream",
       "stream": "stdout",
       "text": [
        " 41.605622552\n",
        "Pre-training layer 1, epoch 6, cost "
       ]
      },
      {
       "output_type": "stream",
       "stream": "stdout",
       "text": [
        " 40.5720918767\n",
        "Pre-training layer 1, epoch 7, cost "
       ]
      },
      {
       "output_type": "stream",
       "stream": "stdout",
       "text": [
        " 39.6616534643\n",
        "Pre-training layer 1, epoch 8, cost "
       ]
      },
      {
       "output_type": "stream",
       "stream": "stdout",
       "text": [
        " 38.8568531552\n",
        "Pre-training layer 1, epoch 9, cost "
       ]
      },
      {
       "output_type": "stream",
       "stream": "stdout",
       "text": [
        " 38.142348447\n",
        "Pre-training layer 1, epoch 10, cost "
       ]
      },
      {
       "output_type": "stream",
       "stream": "stdout",
       "text": [
        " 37.5050541242\n",
        "Pre-training layer 1, epoch 11, cost "
       ]
      },
      {
       "output_type": "stream",
       "stream": "stdout",
       "text": [
        " 36.9339620018\n",
        "Pre-training layer 1, epoch 12, cost "
       ]
      },
      {
       "output_type": "stream",
       "stream": "stdout",
       "text": [
        " 36.4198631944\n",
        "Pre-training layer 1, epoch 13, cost "
       ]
      },
      {
       "output_type": "stream",
       "stream": "stdout",
       "text": [
        " 35.9550605955\n",
        "Pre-training layer 1, epoch 14, cost "
       ]
      },
      {
       "output_type": "stream",
       "stream": "stdout",
       "text": [
        " 35.5331053845\n",
        "Pre-training layer 1, epoch 15, cost "
       ]
      },
      {
       "output_type": "stream",
       "stream": "stdout",
       "text": [
        " 35.1485703809\n",
        "Pre-training layer 1, epoch 16, cost "
       ]
      },
      {
       "output_type": "stream",
       "stream": "stdout",
       "text": [
        " 34.7968631751\n",
        "Pre-training layer 1, epoch 17, cost "
       ]
      },
      {
       "output_type": "stream",
       "stream": "stdout",
       "text": [
        " 34.4740761866\n",
        "Pre-training layer 1, epoch 18, cost "
       ]
      },
      {
       "output_type": "stream",
       "stream": "stdout",
       "text": [
        " 34.1768676831\n",
        "Pre-training layer 1, epoch 19, cost "
       ]
      },
      {
       "output_type": "stream",
       "stream": "stdout",
       "text": [
        " 33.9023670417\n",
        "Pre-training layer 1, epoch 20, cost "
       ]
      },
      {
       "output_type": "stream",
       "stream": "stdout",
       "text": [
        " 33.6480984098\n",
        "Pre-training layer 1, epoch 21, cost "
       ]
      },
      {
       "output_type": "stream",
       "stream": "stdout",
       "text": [
        " 33.4119183963\n",
        "Pre-training layer 1, epoch 22, cost "
       ]
      },
      {
       "output_type": "stream",
       "stream": "stdout",
       "text": [
        " 33.1919647235\n",
        "Pre-training layer 1, epoch 23, cost "
       ]
      },
      {
       "output_type": "stream",
       "stream": "stdout",
       "text": [
        " 32.9866136623\n",
        "Pre-training layer 1, epoch 24, cost "
       ]
      },
      {
       "output_type": "stream",
       "stream": "stdout",
       "text": [
        " 32.7944446165\n",
        "Pre-training layer 1, epoch 25, cost "
       ]
      },
      {
       "output_type": "stream",
       "stream": "stdout",
       "text": [
        " 32.614210567\n",
        "Pre-training layer 1, epoch 26, cost "
       ]
      },
      {
       "output_type": "stream",
       "stream": "stdout",
       "text": [
        " 32.4448133265\n",
        "Pre-training layer 1, epoch 27, cost "
       ]
      },
      {
       "output_type": "stream",
       "stream": "stdout",
       "text": [
        " 32.2852827466\n",
        "Pre-training layer 1, epoch 28, cost "
       ]
      },
      {
       "output_type": "stream",
       "stream": "stdout",
       "text": [
        " 32.1347591762\n",
        "Pre-training layer 1, epoch 29, cost "
       ]
      },
      {
       "output_type": "stream",
       "stream": "stdout",
       "text": [
        " 31.9924786036\n",
        "... getting the finetuning functions\n",
        "... finetunning the model"
       ]
      },
      {
       "output_type": "stream",
       "stream": "stdout",
       "text": [
        "\n",
        "epoch 1, minibatch 420/420, validation error 36.126984 %"
       ]
      },
      {
       "output_type": "stream",
       "stream": "stdout",
       "text": [
        "\n",
        " epoch 1, minibatch 420/420, test error of best model 37.760814 %"
       ]
      },
      {
       "output_type": "stream",
       "stream": "stdout",
       "text": [
        "\n",
        "epoch 2, minibatch 420/420, validation error 29.873016 %"
       ]
      },
      {
       "output_type": "stream",
       "stream": "stdout",
       "text": [
        "\n",
        " epoch 2, minibatch 420/420, test error of best model 31.424936 %"
       ]
      },
      {
       "output_type": "stream",
       "stream": "stdout",
       "text": [
        "\n",
        "epoch 3, minibatch 420/420, validation error 26.317460 %"
       ]
      },
      {
       "output_type": "stream",
       "stream": "stdout",
       "text": [
        "\n",
        " epoch 3, minibatch 420/420, test error of best model 27.277354 %"
       ]
      },
      {
       "output_type": "stream",
       "stream": "stdout",
       "text": [
        "\n",
        "epoch 4, minibatch 420/420, validation error 24.507937 %"
       ]
      },
      {
       "output_type": "stream",
       "stream": "stdout",
       "text": [
        "\n",
        " epoch 4, minibatch 420/420, test error of best model 24.783715 %"
       ]
      },
      {
       "output_type": "stream",
       "stream": "stdout",
       "text": [
        "\n",
        "epoch 5, minibatch 420/420, validation error 23.015873 %"
       ]
      },
      {
       "output_type": "stream",
       "stream": "stdout",
       "text": [
        "\n",
        " epoch 5, minibatch 420/420, test error of best model 23.282443 %"
       ]
      },
      {
       "output_type": "stream",
       "stream": "stdout",
       "text": [
        "\n",
        "epoch 6, minibatch 420/420, validation error 21.809524 %"
       ]
      },
      {
       "output_type": "stream",
       "stream": "stdout",
       "text": [
        "\n",
        " epoch 6, minibatch 420/420, test error of best model 21.984733 %"
       ]
      },
      {
       "output_type": "stream",
       "stream": "stdout",
       "text": [
        "\n",
        "epoch 7, minibatch 420/420, validation error 20.888889 %"
       ]
      },
      {
       "output_type": "stream",
       "stream": "stdout",
       "text": [
        "\n",
        " epoch 7, minibatch 420/420, test error of best model 21.246819 %"
       ]
      },
      {
       "output_type": "stream",
       "stream": "stdout",
       "text": [
        "\n",
        "epoch 8, minibatch 420/420, validation error 20.158730 %"
       ]
      },
      {
       "output_type": "stream",
       "stream": "stdout",
       "text": [
        "\n",
        " epoch 8, minibatch 420/420, test error of best model 20.687023 %"
       ]
      },
      {
       "output_type": "stream",
       "stream": "stdout",
       "text": [
        "\n",
        "epoch 9, minibatch 420/420, validation error 19.587302 %"
       ]
      },
      {
       "output_type": "stream",
       "stream": "stdout",
       "text": [
        "\n",
        " epoch 9, minibatch 420/420, test error of best model 20.101781 %"
       ]
      },
      {
       "output_type": "stream",
       "stream": "stdout",
       "text": [
        "\n",
        "epoch 10, minibatch 420/420, validation error 19.396825 %"
       ]
      },
      {
       "output_type": "stream",
       "stream": "stdout",
       "text": [
        "\n",
        " epoch 10, minibatch 420/420, test error of best model 19.669211 %"
       ]
      },
      {
       "output_type": "stream",
       "stream": "stdout",
       "text": [
        "\n",
        "epoch 11, minibatch 420/420, validation error 19.047619 %"
       ]
      },
      {
       "output_type": "stream",
       "stream": "stdout",
       "text": [
        "\n",
        " epoch 11, minibatch 420/420, test error of best model 19.465649 %"
       ]
      },
      {
       "output_type": "stream",
       "stream": "stdout",
       "text": [
        "\n",
        "epoch 12, minibatch 420/420, validation error 18.698413 %"
       ]
      },
      {
       "output_type": "stream",
       "stream": "stdout",
       "text": [
        "\n",
        " epoch 12, minibatch 420/420, test error of best model 19.134860 %"
       ]
      },
      {
       "output_type": "stream",
       "stream": "stdout",
       "text": [
        "\n",
        "epoch 13, minibatch 420/420, validation error 18.412698 %"
       ]
      },
      {
       "output_type": "stream",
       "stream": "stdout",
       "text": [
        "\n",
        " epoch 13, minibatch 420/420, test error of best model 18.753181 %"
       ]
      },
      {
       "output_type": "stream",
       "stream": "stdout",
       "text": [
        "\n",
        "epoch 14, minibatch 420/420, validation error 18.095238 %"
       ]
      },
      {
       "output_type": "stream",
       "stream": "stdout",
       "text": [
        "\n",
        " epoch 14, minibatch 420/420, test error of best model 18.524173 %"
       ]
      },
      {
       "output_type": "stream",
       "stream": "stdout",
       "text": [
        "\n",
        "epoch 15, minibatch 420/420, validation error 17.650794 %"
       ]
      },
      {
       "output_type": "stream",
       "stream": "stdout",
       "text": [
        "\n",
        " epoch 15, minibatch 420/420, test error of best model 18.269720 %"
       ]
      },
      {
       "output_type": "stream",
       "stream": "stdout",
       "text": [
        "\n",
        "epoch 16, minibatch 420/420, validation error 17.333333 %"
       ]
      },
      {
       "output_type": "stream",
       "stream": "stdout",
       "text": [
        "\n",
        " epoch 16, minibatch 420/420, test error of best model 18.269720 %"
       ]
      },
      {
       "output_type": "stream",
       "stream": "stdout",
       "text": [
        "\n",
        "epoch 17, minibatch 420/420, validation error 17.238095 %"
       ]
      },
      {
       "output_type": "stream",
       "stream": "stdout",
       "text": [
        "\n",
        " epoch 17, minibatch 420/420, test error of best model 18.040712 %"
       ]
      },
      {
       "output_type": "stream",
       "stream": "stdout",
       "text": [
        "\n",
        "epoch 18, minibatch 420/420, validation error 17.111111 %"
       ]
      },
      {
       "output_type": "stream",
       "stream": "stdout",
       "text": [
        "\n",
        " epoch 18, minibatch 420/420, test error of best model 17.709924 %"
       ]
      },
      {
       "output_type": "stream",
       "stream": "stdout",
       "text": [
        "\n",
        "epoch 19, minibatch 420/420, validation error 16.825397 %"
       ]
      },
      {
       "output_type": "stream",
       "stream": "stdout",
       "text": [
        "\n",
        " epoch 19, minibatch 420/420, test error of best model 17.557252 %"
       ]
      },
      {
       "output_type": "stream",
       "stream": "stdout",
       "text": [
        "\n",
        "epoch 20, minibatch 420/420, validation error 16.793651 %"
       ]
      },
      {
       "output_type": "stream",
       "stream": "stdout",
       "text": [
        "\n",
        " epoch 20, minibatch 420/420, test error of best model 17.251908 %"
       ]
      },
      {
       "output_type": "stream",
       "stream": "stdout",
       "text": [
        "\n",
        "epoch 21, minibatch 420/420, validation error 16.571429 %"
       ]
      },
      {
       "output_type": "stream",
       "stream": "stdout",
       "text": [
        "\n",
        " epoch 21, minibatch 420/420, test error of best model 17.175573 %"
       ]
      },
      {
       "output_type": "stream",
       "stream": "stdout",
       "text": [
        "\n",
        "epoch 22, minibatch 420/420, validation error 16.603175 %"
       ]
      },
      {
       "output_type": "stream",
       "stream": "stdout",
       "text": [
        "\n",
        "epoch 23, minibatch 420/420, validation error 16.507937 %"
       ]
      },
      {
       "output_type": "stream",
       "stream": "stdout",
       "text": [
        "\n",
        " epoch 23, minibatch 420/420, test error of best model 16.844784 %"
       ]
      },
      {
       "output_type": "stream",
       "stream": "stdout",
       "text": [
        "\n",
        "epoch 24, minibatch 420/420, validation error 16.412698 %"
       ]
      },
      {
       "output_type": "stream",
       "stream": "stdout",
       "text": [
        "\n",
        " epoch 24, minibatch 420/420, test error of best model 16.793893 %"
       ]
      },
      {
       "output_type": "stream",
       "stream": "stdout",
       "text": [
        "\n",
        "epoch 25, minibatch 420/420, validation error 16.444444 %"
       ]
      },
      {
       "output_type": "stream",
       "stream": "stdout",
       "text": [
        "\n",
        "epoch 26, minibatch 420/420, validation error 16.476190 %"
       ]
      },
      {
       "output_type": "stream",
       "stream": "stdout",
       "text": [
        "\n",
        "epoch 27, minibatch 420/420, validation error 16.476190 %"
       ]
      },
      {
       "output_type": "stream",
       "stream": "stdout",
       "text": [
        "\n",
        "epoch 28, minibatch 420/420, validation error 16.571429 %"
       ]
      },
      {
       "output_type": "stream",
       "stream": "stdout",
       "text": [
        "\n",
        "epoch 29, minibatch 420/420, validation error 16.634921 %"
       ]
      },
      {
       "output_type": "stream",
       "stream": "stdout",
       "text": [
        "\n",
        "epoch 30, minibatch 420/420, validation error 16.571429 %"
       ]
      },
      {
       "output_type": "stream",
       "stream": "stdout",
       "text": [
        "\n",
        "epoch 31, minibatch 420/420, validation error 16.603175 %"
       ]
      },
      {
       "output_type": "stream",
       "stream": "stdout",
       "text": [
        "\n",
        "epoch 32, minibatch 420/420, validation error 16.476190 %"
       ]
      },
      {
       "output_type": "stream",
       "stream": "stdout",
       "text": [
        "\n",
        "epoch 33, minibatch 420/420, validation error 16.476190 %"
       ]
      },
      {
       "output_type": "stream",
       "stream": "stdout",
       "text": [
        "\n",
        "epoch 34, minibatch 420/420, validation error 16.444444 %"
       ]
      },
      {
       "output_type": "stream",
       "stream": "stdout",
       "text": [
        "\n",
        "epoch 35, minibatch 420/420, validation error 16.539683 %"
       ]
      },
      {
       "output_type": "stream",
       "stream": "stdout",
       "text": [
        "\n",
        "epoch 36, minibatch 420/420, validation error 16.666667 %"
       ]
      },
      {
       "output_type": "stream",
       "stream": "stdout",
       "text": [
        "\n",
        "epoch 37, minibatch 420/420, validation error 16.698413 %"
       ]
      },
      {
       "output_type": "stream",
       "stream": "stdout",
       "text": [
        "\n",
        "epoch 38, minibatch 420/420, validation error 16.539683 %"
       ]
      },
      {
       "output_type": "stream",
       "stream": "stdout",
       "text": [
        "\n",
        "epoch 39, minibatch 420/420, validation error 16.476190 %"
       ]
      },
      {
       "output_type": "stream",
       "stream": "stdout",
       "text": [
        "\n",
        "epoch 40, minibatch 420/420, validation error 16.444444 %"
       ]
      },
      {
       "output_type": "stream",
       "stream": "stdout",
       "text": [
        "\n",
        "epoch 41, minibatch 420/420, validation error 16.444444 %"
       ]
      },
      {
       "output_type": "stream",
       "stream": "stdout",
       "text": [
        "\n",
        "epoch 42, minibatch 420/420, validation error 16.412698 %"
       ]
      },
      {
       "output_type": "stream",
       "stream": "stdout",
       "text": [
        "\n",
        " epoch 42, minibatch 420/420, test error of best model 16.692112 %"
       ]
      },
      {
       "output_type": "stream",
       "stream": "stdout",
       "text": [
        "\n",
        "epoch 43, minibatch 420/420, validation error 16.317460 %"
       ]
      },
      {
       "output_type": "stream",
       "stream": "stdout",
       "text": [
        "\n",
        " epoch 43, minibatch 420/420, test error of best model 16.564885 %"
       ]
      },
      {
       "output_type": "stream",
       "stream": "stdout",
       "text": [
        "\n",
        "epoch 44, minibatch 420/420, validation error 16.222222 %"
       ]
      },
      {
       "output_type": "stream",
       "stream": "stdout",
       "text": [
        "\n",
        " epoch 44, minibatch 420/420, test error of best model 16.615776 %"
       ]
      },
      {
       "output_type": "stream",
       "stream": "stdout",
       "text": [
        "\n",
        "epoch 45, minibatch 420/420, validation error 16.158730 %"
       ]
      },
      {
       "output_type": "stream",
       "stream": "stdout",
       "text": [
        "\n",
        " epoch 45, minibatch 420/420, test error of best model 16.692112 %"
       ]
      },
      {
       "output_type": "stream",
       "stream": "stdout",
       "text": [
        "\n",
        "epoch 46, minibatch 420/420, validation error 16.126984 %"
       ]
      },
      {
       "output_type": "stream",
       "stream": "stdout",
       "text": [
        "\n",
        " epoch 46, minibatch 420/420, test error of best model 16.743003 %"
       ]
      },
      {
       "output_type": "stream",
       "stream": "stdout",
       "text": [
        "\n",
        "epoch 47, minibatch 420/420, validation error 16.063492 %"
       ]
      },
      {
       "output_type": "stream",
       "stream": "stdout",
       "text": [
        "\n",
        " epoch 47, minibatch 420/420, test error of best model 16.793893 %"
       ]
      },
      {
       "output_type": "stream",
       "stream": "stdout",
       "text": [
        "\n",
        "epoch 48, minibatch 420/420, validation error 16.031746 %"
       ]
      },
      {
       "output_type": "stream",
       "stream": "stdout",
       "text": [
        "\n",
        " epoch 48, minibatch 420/420, test error of best model 16.692112 %"
       ]
      },
      {
       "output_type": "stream",
       "stream": "stdout",
       "text": [
        "\n",
        "epoch 49, minibatch 420/420, validation error 16.126984 %"
       ]
      },
      {
       "output_type": "stream",
       "stream": "stdout",
       "text": [
        "\n",
        "epoch 50, minibatch 420/420, validation error 16.126984 %"
       ]
      },
      {
       "output_type": "stream",
       "stream": "stdout",
       "text": [
        "\n",
        "epoch 51, minibatch 420/420, validation error 16.158730 %"
       ]
      },
      {
       "output_type": "stream",
       "stream": "stdout",
       "text": [
        "\n",
        "epoch 52, minibatch 420/420, validation error 15.968254 %"
       ]
      },
      {
       "output_type": "stream",
       "stream": "stdout",
       "text": [
        "\n",
        " epoch 52, minibatch 420/420, test error of best model 16.666667 %"
       ]
      },
      {
       "output_type": "stream",
       "stream": "stdout",
       "text": [
        "\n",
        "epoch 53, minibatch 420/420, validation error 16.000000 %"
       ]
      },
      {
       "output_type": "stream",
       "stream": "stdout",
       "text": [
        "\n",
        "epoch 54, minibatch 420/420, validation error 16.095238 %"
       ]
      },
      {
       "output_type": "stream",
       "stream": "stdout",
       "text": [
        "\n",
        "epoch 55, minibatch 420/420, validation error 16.063492 %"
       ]
      },
      {
       "output_type": "stream",
       "stream": "stdout",
       "text": [
        "\n",
        "epoch 56, minibatch 420/420, validation error 16.000000 %"
       ]
      },
      {
       "output_type": "stream",
       "stream": "stdout",
       "text": [
        "\n",
        "epoch 57, minibatch 420/420, validation error 16.000000 %"
       ]
      },
      {
       "output_type": "stream",
       "stream": "stdout",
       "text": [
        "\n",
        "epoch 58, minibatch 420/420, validation error 16.031746 %"
       ]
      },
      {
       "output_type": "stream",
       "stream": "stdout",
       "text": [
        "\n",
        "epoch 59, minibatch 420/420, validation error 16.031746 %"
       ]
      },
      {
       "output_type": "stream",
       "stream": "stdout",
       "text": [
        "\n",
        "epoch 60, minibatch 420/420, validation error 16.031746 %"
       ]
      },
      {
       "output_type": "stream",
       "stream": "stdout",
       "text": [
        "\n",
        "epoch 61, minibatch 420/420, validation error 16.031746 %"
       ]
      },
      {
       "output_type": "stream",
       "stream": "stdout",
       "text": [
        "\n",
        "epoch 62, minibatch 420/420, validation error 16.031746 %"
       ]
      },
      {
       "output_type": "stream",
       "stream": "stdout",
       "text": [
        "\n",
        "epoch 63, minibatch 420/420, validation error 16.126984 %"
       ]
      },
      {
       "output_type": "stream",
       "stream": "stdout",
       "text": [
        "\n",
        "epoch 64, minibatch 420/420, validation error 16.222222 %"
       ]
      },
      {
       "output_type": "stream",
       "stream": "stdout",
       "text": [
        "\n",
        "epoch 65, minibatch 420/420, validation error 16.253968 %"
       ]
      },
      {
       "output_type": "stream",
       "stream": "stdout",
       "text": [
        "\n",
        "epoch 66, minibatch 420/420, validation error 16.285714 %"
       ]
      },
      {
       "output_type": "stream",
       "stream": "stdout",
       "text": [
        "\n",
        "epoch 67, minibatch 420/420, validation error 16.317460 %"
       ]
      },
      {
       "output_type": "stream",
       "stream": "stdout",
       "text": [
        "\n",
        "epoch 68, minibatch 420/420, validation error 16.317460 %"
       ]
      },
      {
       "output_type": "stream",
       "stream": "stdout",
       "text": [
        "\n",
        "epoch 69, minibatch 420/420, validation error 16.317460 %"
       ]
      },
      {
       "output_type": "stream",
       "stream": "stdout",
       "text": [
        "\n",
        "epoch 70, minibatch 420/420, validation error 16.380952 %"
       ]
      },
      {
       "output_type": "stream",
       "stream": "stdout",
       "text": [
        "\n",
        "epoch 71, minibatch 420/420, validation error 16.476190 %"
       ]
      },
      {
       "output_type": "stream",
       "stream": "stdout",
       "text": [
        "\n",
        "epoch 72, minibatch 420/420, validation error 16.507937 %"
       ]
      },
      {
       "output_type": "stream",
       "stream": "stdout",
       "text": [
        "\n",
        "epoch 73, minibatch 420/420, validation error 16.571429 %"
       ]
      },
      {
       "output_type": "stream",
       "stream": "stdout",
       "text": [
        "\n",
        "epoch 74, minibatch 420/420, validation error 16.507937 %"
       ]
      },
      {
       "output_type": "stream",
       "stream": "stdout",
       "text": [
        "\n",
        "epoch 75, minibatch 420/420, validation error 16.476190 %"
       ]
      },
      {
       "output_type": "stream",
       "stream": "stdout",
       "text": [
        "\n",
        "epoch 76, minibatch 420/420, validation error 16.476190 %"
       ]
      },
      {
       "output_type": "stream",
       "stream": "stdout",
       "text": [
        "\n",
        "epoch 77, minibatch 420/420, validation error 16.476190 %"
       ]
      },
      {
       "output_type": "stream",
       "stream": "stdout",
       "text": [
        "\n",
        "epoch 78, minibatch 420/420, validation error 16.444444 %"
       ]
      },
      {
       "output_type": "stream",
       "stream": "stdout",
       "text": [
        "\n",
        "epoch 79, minibatch 420/420, validation error 16.476190 %"
       ]
      },
      {
       "output_type": "stream",
       "stream": "stdout",
       "text": [
        "\n",
        "epoch 80, minibatch 420/420, validation error 16.412698 %"
       ]
      },
      {
       "output_type": "stream",
       "stream": "stdout",
       "text": [
        "\n",
        "epoch 81, minibatch 420/420, validation error 16.380952 %"
       ]
      },
      {
       "output_type": "stream",
       "stream": "stdout",
       "text": [
        "\n",
        "epoch 82, minibatch 420/420, validation error 16.349206 %"
       ]
      },
      {
       "output_type": "stream",
       "stream": "stdout",
       "text": [
        "\n",
        "epoch 83, minibatch 420/420, validation error 16.349206 %"
       ]
      },
      {
       "output_type": "stream",
       "stream": "stdout",
       "text": [
        "\n",
        "epoch 84, minibatch 420/420, validation error 16.317460 %"
       ]
      },
      {
       "output_type": "stream",
       "stream": "stdout",
       "text": [
        "\n",
        "epoch 85, minibatch 420/420, validation error 16.285714 %"
       ]
      },
      {
       "output_type": "stream",
       "stream": "stdout",
       "text": [
        "\n",
        "epoch 86, minibatch 420/420, validation error 16.222222 %"
       ]
      },
      {
       "output_type": "stream",
       "stream": "stdout",
       "text": [
        "\n",
        "epoch 87, minibatch 420/420, validation error 16.253968 %"
       ]
      },
      {
       "output_type": "stream",
       "stream": "stdout",
       "text": [
        "\n"
       ]
      },
      {
       "output_type": "stream",
       "stream": "stderr",
       "text": [
        "The pretraining code ran for 3.55m\n"
       ]
      }
     ],
     "prompt_number": 8
    },
    {
     "cell_type": "code",
     "collapsed": false,
     "input": [
      "import DL_libs"
     ],
     "language": "python",
     "metadata": {},
     "outputs": [],
     "prompt_number": 78
    },
    {
     "cell_type": "code",
     "collapsed": false,
     "input": [
      "print 'hidden_layers_sizes:', hidden_layers_sizes\n",
      "print 'corruption_levels:', corruption_levels\n",
      "\n",
      "training_predicted = sda.predict(x_train_minmax)\n",
      "y_train = y_train_minmax\n",
      "print 'train accuracy: ', '{percent:.1%}'.format(percent=sklearn.metrics.accuracy_score(y_train, training_predicted)) \n",
      "print 'precision: ', '{percent:.1%}'.format(percent=sklearn.metrics.precision_score(y_train, training_predicted, pos_label=1)) \n",
      "print 'recall: ', '{percent:.1%}'.format( percent= sklearn.metrics.recall_score(y_train, training_predicted, pos_label=1))\n",
      "\n",
      "\n",
      "test_predicted = sda.predict(x_test_minmax)\n",
      "y_test = y_test_minmax\n",
      "print 'testing accuracy: ', '{percent:.1%}'.format(percent=sklearn.metrics.accuracy_score(y_test, test_predicted)) \n",
      "print 'precision: ', '{percent:.1%}'.format(percent=sklearn.metrics.precision_score(y_test, test_predicted, pos_label=1)) \n",
      "print 'recall: ', '{percent:.1%}'.format( percent= sklearn.metrics.recall_score(y_test, test_predicted, pos_label=1))"
     ],
     "language": "python",
     "metadata": {},
     "outputs": [
      {
       "output_type": "stream",
       "stream": "stdout",
       "text": [
        "hidden_layers_sizes: [100, 100]\n",
        "corruption_levels: [0, 0]\n",
        "train accuracy: "
       ]
      },
      {
       "output_type": "stream",
       "stream": "stdout",
       "text": [
        " 100.0%\n",
        "precision:  100.0%\n",
        "recall:  100.0%\n",
        "testing accuracy: "
       ]
      },
      {
       "output_type": "stream",
       "stream": "stdout",
       "text": [
        " 83.6%\n",
        "precision:  84.1%\n",
        "recall:  82.8%\n"
       ]
      }
     ],
     "prompt_number": 9
    },
    {
     "cell_type": "code",
     "collapsed": false,
     "input": [
      "# build a sda, pretraining plus fine tuning on seperately transformed data\n",
      "# set up paramaters\n",
      "\n",
      "#finetune_lr=0.1\n",
      "finetune_lr = 0.1\n",
      "pretraining_epochs = 30\n",
      "#pretrain_lr=0.001\n",
      "pretrain_lr = 0.001\n",
      "training_epochs = 300\n",
      "batch_size = 30\n",
      "\n",
      "\n",
      "hidden_layers_sizes= [100, 100, 100, 100, 100, 100, 100]\n",
      "corruption_levels = [0, 0,0,0,0,0,0]\n",
      "\n",
      "sda_transformed = trainSda(new_x_train_minmax_whole, y_train_minmax,\n",
      "             new_x_validationt_minmax_whole, y_validation_minmax , \n",
      "             new_x_test_minmax_whole, y_test_minmax,\n",
      "             hidden_layers_sizes = hidden_layers_sizes, corruption_levels = corruption_levels, batch_size = batch_size , \\\n",
      "             training_epochs = training_epochs, pretraining_epochs = pretraining_epochs, \n",
      "             pretrain_lr = pretrain_lr, finetune_lr=finetune_lr\n",
      "             )"
     ],
     "language": "python",
     "metadata": {},
     "outputs": [
      {
       "output_type": "stream",
       "stream": "stdout",
       "text": [
        "... building the model\n",
        "... getting the pretraining functions"
       ]
      },
      {
       "output_type": "stream",
       "stream": "stdout",
       "text": [
        "\n",
        "... pre-training the model"
       ]
      },
      {
       "output_type": "stream",
       "stream": "stdout",
       "text": [
        "\n",
        "Pre-training layer 0, epoch 0, cost "
       ]
      },
      {
       "output_type": "stream",
       "stream": "stdout",
       "text": [
        " 114.256938138\n",
        "Pre-training layer 0, epoch 1, cost "
       ]
      },
      {
       "output_type": "stream",
       "stream": "stdout",
       "text": [
        " 93.9030509266\n",
        "Pre-training layer 0, epoch 2, cost "
       ]
      },
      {
       "output_type": "stream",
       "stream": "stdout",
       "text": [
        " 91.9026493191\n",
        "Pre-training layer 0, epoch 3, cost "
       ]
      },
      {
       "output_type": "stream",
       "stream": "stdout",
       "text": [
        " 90.4216274721\n",
        "Pre-training layer 0, epoch 4, cost "
       ]
      },
      {
       "output_type": "stream",
       "stream": "stdout",
       "text": [
        " 89.0833314506\n",
        "Pre-training layer 0, epoch 5, cost "
       ]
      },
      {
       "output_type": "stream",
       "stream": "stdout",
       "text": [
        " 87.8559026421\n",
        "Pre-training layer 0, epoch 6, cost "
       ]
      },
      {
       "output_type": "stream",
       "stream": "stdout",
       "text": [
        " 86.7326903062\n",
        "Pre-training layer 0, epoch 7, cost "
       ]
      },
      {
       "output_type": "stream",
       "stream": "stdout",
       "text": [
        " 85.7092163413\n",
        "Pre-training layer 0, epoch 8, cost "
       ]
      },
      {
       "output_type": "stream",
       "stream": "stdout",
       "text": [
        " 84.7805045526\n",
        "Pre-training layer 0, epoch 9, cost "
       ]
      },
      {
       "output_type": "stream",
       "stream": "stdout",
       "text": [
        " 83.9406079567\n",
        "Pre-training layer 0, epoch 10, cost "
       ]
      },
      {
       "output_type": "stream",
       "stream": "stdout",
       "text": [
        " 83.1827745405\n",
        "Pre-training layer 0, epoch 11, cost "
       ]
      },
      {
       "output_type": "stream",
       "stream": "stdout",
       "text": [
        " 82.4998118929\n",
        "Pre-training layer 0, epoch 12, cost "
       ]
      },
      {
       "output_type": "stream",
       "stream": "stdout",
       "text": [
        " 81.8844535795\n",
        "Pre-training layer 0, epoch 13, cost "
       ]
      },
      {
       "output_type": "stream",
       "stream": "stdout",
       "text": [
        " 81.3296517669\n",
        "Pre-training layer 0, epoch 14, cost "
       ]
      },
      {
       "output_type": "stream",
       "stream": "stdout",
       "text": [
        " 80.8287788804\n",
        "Pre-training layer 0, epoch 15, cost "
       ]
      },
      {
       "output_type": "stream",
       "stream": "stdout",
       "text": [
        " 80.3757466419\n",
        "Pre-training layer 0, epoch 16, cost "
       ]
      },
      {
       "output_type": "stream",
       "stream": "stdout",
       "text": [
        " 79.9650599517\n",
        "Pre-training layer 0, epoch 17, cost "
       ]
      },
      {
       "output_type": "stream",
       "stream": "stdout",
       "text": [
        " 79.5918239973\n",
        "Pre-training layer 0, epoch 18, cost "
       ]
      },
      {
       "output_type": "stream",
       "stream": "stdout",
       "text": [
        " 79.2517202103\n",
        "Pre-training layer 0, epoch 19, cost "
       ]
      },
      {
       "output_type": "stream",
       "stream": "stdout",
       "text": [
        " 78.9409629298\n",
        "Pre-training layer 0, epoch 20, cost "
       ]
      },
      {
       "output_type": "stream",
       "stream": "stdout",
       "text": [
        " 78.6562454559\n",
        "Pre-training layer 0, epoch 21, cost "
       ]
      },
      {
       "output_type": "stream",
       "stream": "stdout",
       "text": [
        " 78.394682192\n",
        "Pre-training layer 0, epoch 22, cost "
       ]
      },
      {
       "output_type": "stream",
       "stream": "stdout",
       "text": [
        " 78.1537523696\n",
        "Pre-training layer 0, epoch 23, cost "
       ]
      },
      {
       "output_type": "stream",
       "stream": "stdout",
       "text": [
        " 77.9312494346\n",
        "Pre-training layer 0, epoch 24, cost "
       ]
      },
      {
       "output_type": "stream",
       "stream": "stdout",
       "text": [
        " 77.7252380692\n",
        "Pre-training layer 0, epoch 25, cost "
       ]
      },
      {
       "output_type": "stream",
       "stream": "stdout",
       "text": [
        " 77.5340186086\n",
        "Pre-training layer 0, epoch 26, cost "
       ]
      },
      {
       "output_type": "stream",
       "stream": "stdout",
       "text": [
        " 77.356097283\n",
        "Pre-training layer 0, epoch 27, cost "
       ]
      },
      {
       "output_type": "stream",
       "stream": "stdout",
       "text": [
        " 77.190160574\n",
        "Pre-training layer 0, epoch 28, cost "
       ]
      },
      {
       "output_type": "stream",
       "stream": "stdout",
       "text": [
        " 77.0350525423\n",
        "Pre-training layer 0, epoch 29, cost "
       ]
      },
      {
       "output_type": "stream",
       "stream": "stdout",
       "text": [
        " 76.8897545957\n",
        "Pre-training layer 1, epoch 0, cost "
       ]
      },
      {
       "output_type": "stream",
       "stream": "stdout",
       "text": [
        " 65.289325397\n",
        "Pre-training layer 1, epoch 1, cost "
       ]
      },
      {
       "output_type": "stream",
       "stream": "stdout",
       "text": [
        " 55.8385680867\n",
        "Pre-training layer 1, epoch 2, cost "
       ]
      },
      {
       "output_type": "stream",
       "stream": "stdout",
       "text": [
        " 54.7632418679\n",
        "Pre-training layer 1, epoch 3, cost "
       ]
      },
      {
       "output_type": "stream",
       "stream": "stdout",
       "text": [
        " 53.9280922759\n",
        "Pre-training layer 1, epoch 4, cost "
       ]
      },
      {
       "output_type": "stream",
       "stream": "stdout",
       "text": [
        " 53.165253243\n",
        "Pre-training layer 1, epoch 5, cost "
       ]
      },
      {
       "output_type": "stream",
       "stream": "stdout",
       "text": [
        " 52.4690417037\n",
        "Pre-training layer 1, epoch 6, cost "
       ]
      },
      {
       "output_type": "stream",
       "stream": "stdout",
       "text": [
        " 51.8381835994\n",
        "Pre-training layer 1, epoch 7, cost "
       ]
      },
      {
       "output_type": "stream",
       "stream": "stdout",
       "text": [
        " 51.2699796165\n",
        "Pre-training layer 1, epoch 8, cost "
       ]
      },
      {
       "output_type": "stream",
       "stream": "stdout",
       "text": [
        " 50.7605411479\n",
        "Pre-training layer 1, epoch 9, cost "
       ]
      },
      {
       "output_type": "stream",
       "stream": "stdout",
       "text": [
        " 50.3052705513\n",
        "Pre-training layer 1, epoch 10, cost "
       ]
      },
      {
       "output_type": "stream",
       "stream": "stdout",
       "text": [
        " 49.8992545631\n",
        "Pre-training layer 1, epoch 11, cost "
       ]
      },
      {
       "output_type": "stream",
       "stream": "stdout",
       "text": [
        " 49.537553657\n",
        "Pre-training layer 1, epoch 12, cost "
       ]
      },
      {
       "output_type": "stream",
       "stream": "stdout",
       "text": [
        " 49.2154006068\n",
        "Pre-training layer 1, epoch 13, cost "
       ]
      },
      {
       "output_type": "stream",
       "stream": "stdout",
       "text": [
        " 48.9283258803\n",
        "Pre-training layer 1, epoch 14, cost "
       ]
      },
      {
       "output_type": "stream",
       "stream": "stdout",
       "text": [
        " 48.6722269922\n",
        "Pre-training layer 1, epoch 15, cost "
       ]
      },
      {
       "output_type": "stream",
       "stream": "stdout",
       "text": [
        " 48.4433971186\n",
        "Pre-training layer 1, epoch 16, cost "
       ]
      },
      {
       "output_type": "stream",
       "stream": "stdout",
       "text": [
        " 48.2385258493\n",
        "Pre-training layer 1, epoch 17, cost "
       ]
      },
      {
       "output_type": "stream",
       "stream": "stdout",
       "text": [
        " 48.0546822563\n",
        "Pre-training layer 1, epoch 18, cost "
       ]
      },
      {
       "output_type": "stream",
       "stream": "stdout",
       "text": [
        " 47.8892878249\n",
        "Pre-training layer 1, epoch 19, cost "
       ]
      },
      {
       "output_type": "stream",
       "stream": "stdout",
       "text": [
        " 47.7400845094\n",
        "Pre-training layer 1, epoch 20, cost "
       ]
      },
      {
       "output_type": "stream",
       "stream": "stdout",
       "text": [
        " 47.6051013681\n",
        "Pre-training layer 1, epoch 21, cost "
       ]
      },
      {
       "output_type": "stream",
       "stream": "stdout",
       "text": [
        " 47.4826219129\n",
        "Pre-training layer 1, epoch 22, cost "
       ]
      },
      {
       "output_type": "stream",
       "stream": "stdout",
       "text": [
        " 47.3711533921\n",
        "Pre-training layer 1, epoch 23, cost "
       ]
      },
      {
       "output_type": "stream",
       "stream": "stdout",
       "text": [
        " 47.2693986267\n",
        "Pre-training layer 1, epoch 24, cost "
       ]
      },
      {
       "output_type": "stream",
       "stream": "stdout",
       "text": [
        " 47.1762306421\n",
        "Pre-training layer 1, epoch 25, cost "
       ]
      },
      {
       "output_type": "stream",
       "stream": "stdout",
       "text": [
        " 47.0906701056\n",
        "Pre-training layer 1, epoch 26, cost "
       ]
      },
      {
       "output_type": "stream",
       "stream": "stdout",
       "text": [
        " 47.0118654491\n",
        "Pre-training layer 1, epoch 27, cost "
       ]
      },
      {
       "output_type": "stream",
       "stream": "stdout",
       "text": [
        " 46.9390754831\n",
        "Pre-training layer 1, epoch 28, cost "
       ]
      },
      {
       "output_type": "stream",
       "stream": "stdout",
       "text": [
        " 46.8716542738\n",
        "Pre-training layer 1, epoch 29, cost "
       ]
      },
      {
       "output_type": "stream",
       "stream": "stdout",
       "text": [
        " 46.809038047\n",
        "Pre-training layer 2, epoch 0, cost "
       ]
      },
      {
       "output_type": "stream",
       "stream": "stdout",
       "text": [
        " 64.6849856472\n",
        "Pre-training layer 2, epoch 1, cost "
       ]
      },
      {
       "output_type": "stream",
       "stream": "stdout",
       "text": [
        " 54.5781199269\n",
        "Pre-training layer 2, epoch 2, cost "
       ]
      },
      {
       "output_type": "stream",
       "stream": "stdout",
       "text": [
        " 53.6689762541\n",
        "Pre-training layer 2, epoch 3, cost "
       ]
      },
      {
       "output_type": "stream",
       "stream": "stdout",
       "text": [
        " 53.0094906298\n",
        "Pre-training layer 2, epoch 4, cost "
       ]
      },
      {
       "output_type": "stream",
       "stream": "stdout",
       "text": [
        " 52.4144570274\n",
        "Pre-training layer 2, epoch 5, cost "
       ]
      },
      {
       "output_type": "stream",
       "stream": "stdout",
       "text": [
        " 51.8735284116\n",
        "Pre-training layer 2, epoch 6, cost "
       ]
      },
      {
       "output_type": "stream",
       "stream": "stdout",
       "text": [
        " 51.384534679\n",
        "Pre-training layer 2, epoch 7, cost "
       ]
      },
      {
       "output_type": "stream",
       "stream": "stdout",
       "text": [
        " 50.9450784784\n",
        "Pre-training layer 2, epoch 8, cost "
       ]
      },
      {
       "output_type": "stream",
       "stream": "stdout",
       "text": [
        " 50.5519613972\n",
        "Pre-training layer 2, epoch 9, cost "
       ]
      },
      {
       "output_type": "stream",
       "stream": "stdout",
       "text": [
        " 50.2014049073\n",
        "Pre-training layer 2, epoch 10, cost "
       ]
      },
      {
       "output_type": "stream",
       "stream": "stdout",
       "text": [
        " 49.8893636369\n",
        "Pre-training layer 2, epoch 11, cost "
       ]
      },
      {
       "output_type": "stream",
       "stream": "stdout",
       "text": [
        " 49.6117901952\n",
        "Pre-training layer 2, epoch 12, cost "
       ]
      },
      {
       "output_type": "stream",
       "stream": "stdout",
       "text": [
        " 49.3648199478\n",
        "Pre-training layer 2, epoch 13, cost "
       ]
      },
      {
       "output_type": "stream",
       "stream": "stdout",
       "text": [
        " 49.1448801064\n",
        "Pre-training layer 2, epoch 14, cost "
       ]
      },
      {
       "output_type": "stream",
       "stream": "stdout",
       "text": [
        " 48.948740031\n",
        "Pre-training layer 2, epoch 15, cost "
       ]
      },
      {
       "output_type": "stream",
       "stream": "stdout",
       "text": [
        " 48.7735215023\n",
        "Pre-training layer 2, epoch 16, cost "
       ]
      },
      {
       "output_type": "stream",
       "stream": "stdout",
       "text": [
        " 48.6166848138\n",
        "Pre-training layer 2, epoch 17, cost "
       ]
      },
      {
       "output_type": "stream",
       "stream": "stdout",
       "text": [
        " 48.4760022154\n",
        "Pre-training layer 2, epoch 18, cost "
       ]
      },
      {
       "output_type": "stream",
       "stream": "stdout",
       "text": [
        " 48.3495262322\n",
        "Pre-training layer 2, epoch 19, cost "
       ]
      },
      {
       "output_type": "stream",
       "stream": "stdout",
       "text": [
        " 48.2355573107\n",
        "Pre-training layer 2, epoch 20, cost "
       ]
      },
      {
       "output_type": "stream",
       "stream": "stdout",
       "text": [
        " 48.1326131595\n",
        "Pre-training layer 2, epoch 21, cost "
       ]
      },
      {
       "output_type": "stream",
       "stream": "stdout",
       "text": [
        " 48.0394008588\n",
        "Pre-training layer 2, epoch 22, cost "
       ]
      },
      {
       "output_type": "stream",
       "stream": "stdout",
       "text": [
        " 47.9547920761\n",
        "Pre-training layer 2, epoch 23, cost "
       ]
      },
      {
       "output_type": "stream",
       "stream": "stdout",
       "text": [
        " 47.8778013347\n",
        "Pre-training layer 2, epoch 24, cost "
       ]
      },
      {
       "output_type": "stream",
       "stream": "stdout",
       "text": [
        " 47.8075671029\n",
        "Pre-training layer 2, epoch 25, cost "
       ]
      },
      {
       "output_type": "stream",
       "stream": "stdout",
       "text": [
        " 47.7433354052\n",
        "Pre-training layer 2, epoch 26, cost "
       ]
      },
      {
       "output_type": "stream",
       "stream": "stdout",
       "text": [
        " 47.6844456454\n",
        "Pre-training layer 2, epoch 27, cost "
       ]
      },
      {
       "output_type": "stream",
       "stream": "stdout",
       "text": [
        " 47.6303183554\n",
        "Pre-training layer 2, epoch 28, cost "
       ]
      },
      {
       "output_type": "stream",
       "stream": "stdout",
       "text": [
        " 47.5804446066\n",
        "Pre-training layer 2, epoch 29, cost "
       ]
      },
      {
       "output_type": "stream",
       "stream": "stdout",
       "text": [
        " 47.5343768573\n",
        "Pre-training layer 3, epoch 0, cost "
       ]
      },
      {
       "output_type": "stream",
       "stream": "stdout",
       "text": [
        " 68.8535163073\n",
        "Pre-training layer 3, epoch 1, cost "
       ]
      },
      {
       "output_type": "stream",
       "stream": "stdout",
       "text": [
        " 55.9492523839\n",
        "Pre-training layer 3, epoch 2, cost "
       ]
      },
      {
       "output_type": "stream",
       "stream": "stdout",
       "text": [
        " 55.1384725388\n",
        "Pre-training layer 3, epoch 3, cost "
       ]
      },
      {
       "output_type": "stream",
       "stream": "stdout",
       "text": [
        " 54.5695368616\n",
        "Pre-training layer 3, epoch 4, cost "
       ]
      },
      {
       "output_type": "stream",
       "stream": "stdout",
       "text": [
        " 54.0519231171\n",
        "Pre-training layer 3, epoch 5, cost "
       ]
      },
      {
       "output_type": "stream",
       "stream": "stdout",
       "text": [
        " 53.5769882187\n",
        "Pre-training layer 3, epoch 6, cost "
       ]
      },
      {
       "output_type": "stream",
       "stream": "stdout",
       "text": [
        " 53.1443141238\n",
        "Pre-training layer 3, epoch 7, cost "
       ]
      },
      {
       "output_type": "stream",
       "stream": "stdout",
       "text": [
        " 52.7527714366\n",
        "Pre-training layer 3, epoch 8, cost "
       ]
      },
      {
       "output_type": "stream",
       "stream": "stdout",
       "text": [
        " 52.4001161652\n",
        "Pre-training layer 3, epoch 9, cost "
       ]
      },
      {
       "output_type": "stream",
       "stream": "stdout",
       "text": [
        " 52.0834202318\n",
        "Pre-training layer 3, epoch 10, cost "
       ]
      },
      {
       "output_type": "stream",
       "stream": "stdout",
       "text": [
        " 51.799480133\n",
        "Pre-training layer 3, epoch 11, cost "
       ]
      },
      {
       "output_type": "stream",
       "stream": "stdout",
       "text": [
        " 51.5450873317\n",
        "Pre-training layer 3, epoch 12, cost "
       ]
      },
      {
       "output_type": "stream",
       "stream": "stdout",
       "text": [
        " 51.3171806996\n",
        "Pre-training layer 3, epoch 13, cost "
       ]
      },
      {
       "output_type": "stream",
       "stream": "stdout",
       "text": [
        " 51.1129210419\n",
        "Pre-training layer 3, epoch 14, cost "
       ]
      },
      {
       "output_type": "stream",
       "stream": "stdout",
       "text": [
        " 50.929719686\n",
        "Pre-training layer 3, epoch 15, cost "
       ]
      },
      {
       "output_type": "stream",
       "stream": "stdout",
       "text": [
        " 50.7652417373\n",
        "Pre-training layer 3, epoch 16, cost "
       ]
      },
      {
       "output_type": "stream",
       "stream": "stdout",
       "text": [
        " 50.6173960595\n",
        "Pre-training layer 3, epoch 17, cost "
       ]
      },
      {
       "output_type": "stream",
       "stream": "stdout",
       "text": [
        " 50.4843187506\n",
        "Pre-training layer 3, epoch 18, cost "
       ]
      },
      {
       "output_type": "stream",
       "stream": "stdout",
       "text": [
        " 50.364353875\n",
        "Pre-training layer 3, epoch 19, cost "
       ]
      },
      {
       "output_type": "stream",
       "stream": "stdout",
       "text": [
        " 50.2560335453\n",
        "Pre-training layer 3, epoch 20, cost "
       ]
      },
      {
       "output_type": "stream",
       "stream": "stdout",
       "text": [
        " 50.1580585159\n",
        "Pre-training layer 3, epoch 21, cost "
       ]
      },
      {
       "output_type": "stream",
       "stream": "stdout",
       "text": [
        " 50.0692799136\n",
        "Pre-training layer 3, epoch 22, cost "
       ]
      },
      {
       "output_type": "stream",
       "stream": "stdout",
       "text": [
        " 49.9886824085\n",
        "Pre-training layer 3, epoch 23, cost "
       ]
      },
      {
       "output_type": "stream",
       "stream": "stdout",
       "text": [
        " 49.9153689323\n",
        "Pre-training layer 3, epoch 24, cost "
       ]
      },
      {
       "output_type": "stream",
       "stream": "stdout",
       "text": [
        " 49.8485469409\n",
        "Pre-training layer 3, epoch 25, cost "
       ]
      },
      {
       "output_type": "stream",
       "stream": "stdout",
       "text": [
        " 49.7875161447\n",
        "Pre-training layer 3, epoch 26, cost "
       ]
      },
      {
       "output_type": "stream",
       "stream": "stdout",
       "text": [
        " 49.7316576043\n",
        "Pre-training layer 3, epoch 27, cost "
       ]
      },
      {
       "output_type": "stream",
       "stream": "stdout",
       "text": [
        " 49.6804240684\n",
        "Pre-training layer 3, epoch 28, cost "
       ]
      },
      {
       "output_type": "stream",
       "stream": "stdout",
       "text": [
        " 49.6333314331\n",
        "Pre-training layer 3, epoch 29, cost "
       ]
      },
      {
       "output_type": "stream",
       "stream": "stdout",
       "text": [
        " 49.5899512054\n",
        "Pre-training layer 4, epoch 0, cost "
       ]
      },
      {
       "output_type": "stream",
       "stream": "stdout",
       "text": [
        " 70.3362343373\n",
        "Pre-training layer 4, epoch 1, cost "
       ]
      },
      {
       "output_type": "stream",
       "stream": "stdout",
       "text": [
        " 55.8685531931\n",
        "Pre-training layer 4, epoch 2, cost "
       ]
      },
      {
       "output_type": "stream",
       "stream": "stdout",
       "text": [
        " 55.0566019141\n",
        "Pre-training layer 4, epoch 3, cost "
       ]
      },
      {
       "output_type": "stream",
       "stream": "stdout",
       "text": [
        " 54.5244688385\n",
        "Pre-training layer 4, epoch 4, cost "
       ]
      },
      {
       "output_type": "stream",
       "stream": "stdout",
       "text": [
        " 54.0661524412\n",
        "Pre-training layer 4, epoch 5, cost "
       ]
      },
      {
       "output_type": "stream",
       "stream": "stdout",
       "text": [
        " 53.6589801789\n",
        "Pre-training layer 4, epoch 6, cost "
       ]
      },
      {
       "output_type": "stream",
       "stream": "stdout",
       "text": [
        " 53.2946883105\n",
        "Pre-training layer 4, epoch 7, cost "
       ]
      },
      {
       "output_type": "stream",
       "stream": "stdout",
       "text": [
        " 52.968282658\n",
        "Pre-training layer 4, epoch 8, cost "
       ]
      },
      {
       "output_type": "stream",
       "stream": "stdout",
       "text": [
        " 52.6757943263\n",
        "Pre-training layer 4, epoch 9, cost "
       ]
      },
      {
       "output_type": "stream",
       "stream": "stdout",
       "text": [
        " 52.4137106467\n",
        "Pre-training layer 4, epoch 10, cost "
       ]
      },
      {
       "output_type": "stream",
       "stream": "stdout",
       "text": [
        " 52.1788445945\n",
        "Pre-training layer 4, epoch 11, cost "
       ]
      },
      {
       "output_type": "stream",
       "stream": "stdout",
       "text": [
        " 51.9683067529\n",
        "Pre-training layer 4, epoch 12, cost "
       ]
      },
      {
       "output_type": "stream",
       "stream": "stdout",
       "text": [
        " 51.7794908477\n",
        "Pre-training layer 4, epoch 13, cost "
       ]
      },
      {
       "output_type": "stream",
       "stream": "stdout",
       "text": [
        " 51.6100551708\n",
        "Pre-training layer 4, epoch 14, cost "
       ]
      },
      {
       "output_type": "stream",
       "stream": "stdout",
       "text": [
        " 51.4579004168\n",
        "Pre-training layer 4, epoch 15, cost "
       ]
      },
      {
       "output_type": "stream",
       "stream": "stdout",
       "text": [
        " 51.3211470222\n",
        "Pre-training layer 4, epoch 16, cost "
       ]
      },
      {
       "output_type": "stream",
       "stream": "stdout",
       "text": [
        " 51.1981139274\n",
        "Pre-training layer 4, epoch 17, cost "
       ]
      },
      {
       "output_type": "stream",
       "stream": "stdout",
       "text": [
        " 51.0872993651\n",
        "Pre-training layer 4, epoch 18, cost "
       ]
      },
      {
       "output_type": "stream",
       "stream": "stdout",
       "text": [
        " 50.9873635629\n",
        "Pre-training layer 4, epoch 19, cost "
       ]
      },
      {
       "output_type": "stream",
       "stream": "stdout",
       "text": [
        " 50.8971130381\n",
        "Pre-training layer 4, epoch 20, cost "
       ]
      },
      {
       "output_type": "stream",
       "stream": "stdout",
       "text": [
        " 50.8154861958\n",
        "Pre-training layer 4, epoch 21, cost "
       ]
      },
      {
       "output_type": "stream",
       "stream": "stdout",
       "text": [
        " 50.7415400466\n",
        "Pre-training layer 4, epoch 22, cost "
       ]
      },
      {
       "output_type": "stream",
       "stream": "stdout",
       "text": [
        " 50.6744379486\n",
        "Pre-training layer 4, epoch 23, cost "
       ]
      },
      {
       "output_type": "stream",
       "stream": "stdout",
       "text": [
        " 50.6134383262\n",
        "Pre-training layer 4, epoch 24, cost "
       ]
      },
      {
       "output_type": "stream",
       "stream": "stdout",
       "text": [
        " 50.5578843405\n",
        "Pre-training layer 4, epoch 25, cost "
       ]
      },
      {
       "output_type": "stream",
       "stream": "stdout",
       "text": [
        " 50.5071944824\n",
        "Pre-training layer 4, epoch 26, cost "
       ]
      },
      {
       "output_type": "stream",
       "stream": "stdout",
       "text": [
        " 50.4608540553\n",
        "Pre-training layer 4, epoch 27, cost "
       ]
      },
      {
       "output_type": "stream",
       "stream": "stdout",
       "text": [
        " 50.4184075031\n",
        "Pre-training layer 4, epoch 28, cost "
       ]
      },
      {
       "output_type": "stream",
       "stream": "stdout",
       "text": [
        " 50.3794515334\n",
        "Pre-training layer 4, epoch 29, cost "
       ]
      },
      {
       "output_type": "stream",
       "stream": "stdout",
       "text": [
        " 50.3436289777\n",
        "Pre-training layer 5, epoch 0, cost "
       ]
      },
      {
       "output_type": "stream",
       "stream": "stdout",
       "text": [
        " 68.6841517877\n",
        "Pre-training layer 5, epoch 1, cost "
       ]
      },
      {
       "output_type": "stream",
       "stream": "stdout",
       "text": [
        " 55.6241892069\n",
        "Pre-training layer 5, epoch 2, cost "
       ]
      },
      {
       "output_type": "stream",
       "stream": "stdout",
       "text": [
        " 55.0516752408\n",
        "Pre-training layer 5, epoch 3, cost "
       ]
      },
      {
       "output_type": "stream",
       "stream": "stdout",
       "text": [
        " 54.6770543092\n",
        "Pre-training layer 5, epoch 4, cost "
       ]
      },
      {
       "output_type": "stream",
       "stream": "stdout",
       "text": [
        " 54.3413509836\n",
        "Pre-training layer 5, epoch 5, cost "
       ]
      },
      {
       "output_type": "stream",
       "stream": "stdout",
       "text": [
        " 54.0343402641\n",
        "Pre-training layer 5, epoch 6, cost "
       ]
      },
      {
       "output_type": "stream",
       "stream": "stdout",
       "text": [
        " 53.753334173\n",
        "Pre-training layer 5, epoch 7, cost "
       ]
      },
      {
       "output_type": "stream",
       "stream": "stdout",
       "text": [
        " 53.4963671941\n",
        "Pre-training layer 5, epoch 8, cost "
       ]
      },
      {
       "output_type": "stream",
       "stream": "stdout",
       "text": [
        " 53.2615864296\n",
        "Pre-training layer 5, epoch 9, cost "
       ]
      },
      {
       "output_type": "stream",
       "stream": "stdout",
       "text": [
        " 53.0472151951\n",
        "Pre-training layer 5, epoch 10, cost "
       ]
      },
      {
       "output_type": "stream",
       "stream": "stdout",
       "text": [
        " 52.8515767794\n",
        "Pre-training layer 5, epoch 11, cost "
       ]
      },
      {
       "output_type": "stream",
       "stream": "stdout",
       "text": [
        " 52.6731098207\n",
        "Pre-training layer 5, epoch 12, cost "
       ]
      },
      {
       "output_type": "stream",
       "stream": "stdout",
       "text": [
        " 52.5103705018\n",
        "Pre-training layer 5, epoch 13, cost "
       ]
      },
      {
       "output_type": "stream",
       "stream": "stdout",
       "text": [
        " 52.3620268371\n",
        "Pre-training layer 5, epoch 14, cost "
       ]
      },
      {
       "output_type": "stream",
       "stream": "stdout",
       "text": [
        " 52.2268498424\n",
        "Pre-training layer 5, epoch 15, cost "
       ]
      },
      {
       "output_type": "stream",
       "stream": "stdout",
       "text": [
        " 52.1037043399\n",
        "Pre-training layer 5, epoch 16, cost "
       ]
      },
      {
       "output_type": "stream",
       "stream": "stdout",
       "text": [
        " 51.9915406545\n",
        "Pre-training layer 5, epoch 17, cost "
       ]
      },
      {
       "output_type": "stream",
       "stream": "stdout",
       "text": [
        " 51.8893876285\n",
        "Pre-training layer 5, epoch 18, cost "
       ]
      },
      {
       "output_type": "stream",
       "stream": "stdout",
       "text": [
        " 51.7963469541\n",
        "Pre-training layer 5, epoch 19, cost "
       ]
      },
      {
       "output_type": "stream",
       "stream": "stdout",
       "text": [
        " 51.7115886116\n",
        "Pre-training layer 5, epoch 20, cost "
       ]
      },
      {
       "output_type": "stream",
       "stream": "stdout",
       "text": [
        " 51.6343471119\n",
        "Pre-training layer 5, epoch 21, cost "
       ]
      },
      {
       "output_type": "stream",
       "stream": "stdout",
       "text": [
        " 51.5639182366\n",
        "Pre-training layer 5, epoch 22, cost "
       ]
      },
      {
       "output_type": "stream",
       "stream": "stdout",
       "text": [
        " 51.4996560196\n",
        "Pre-training layer 5, epoch 23, cost "
       ]
      },
      {
       "output_type": "stream",
       "stream": "stdout",
       "text": [
        " 51.4409697849\n",
        "Pre-training layer 5, epoch 24, cost "
       ]
      },
      {
       "output_type": "stream",
       "stream": "stdout",
       "text": [
        " 51.3873211321\n",
        "Pre-training layer 5, epoch 25, cost "
       ]
      },
      {
       "output_type": "stream",
       "stream": "stdout",
       "text": [
        " 51.3382208268\n",
        "Pre-training layer 5, epoch 26, cost "
       ]
      },
      {
       "output_type": "stream",
       "stream": "stdout",
       "text": [
        " 51.2932255982\n",
        "Pre-training layer 5, epoch 27, cost "
       ]
      },
      {
       "output_type": "stream",
       "stream": "stdout",
       "text": [
        " 51.2519348773\n",
        "Pre-training layer 5, epoch 28, cost "
       ]
      },
      {
       "output_type": "stream",
       "stream": "stdout",
       "text": [
        " 51.2139875223\n",
        "Pre-training layer 5, epoch 29, cost "
       ]
      },
      {
       "output_type": "stream",
       "stream": "stdout",
       "text": [
        " 51.1790585836\n",
        "Pre-training layer 6, epoch 0, cost "
       ]
      },
      {
       "output_type": "stream",
       "stream": "stdout",
       "text": [
        " 67.2315211572\n",
        "Pre-training layer 6, epoch 1, cost "
       ]
      },
      {
       "output_type": "stream",
       "stream": "stdout",
       "text": [
        " 57.2281465077\n",
        "Pre-training layer 6, epoch 2, cost "
       ]
      },
      {
       "output_type": "stream",
       "stream": "stdout",
       "text": [
        " 56.7116294616\n",
        "Pre-training layer 6, epoch 3, cost "
       ]
      },
      {
       "output_type": "stream",
       "stream": "stdout",
       "text": [
        " 56.3597467389\n",
        "Pre-training layer 6, epoch 4, cost "
       ]
      },
      {
       "output_type": "stream",
       "stream": "stdout",
       "text": [
        " 56.0328891856\n",
        "Pre-training layer 6, epoch 5, cost "
       ]
      },
      {
       "output_type": "stream",
       "stream": "stdout",
       "text": [
        " 55.7258735232\n",
        "Pre-training layer 6, epoch 6, cost "
       ]
      },
      {
       "output_type": "stream",
       "stream": "stdout",
       "text": [
        " 55.4393326141\n",
        "Pre-training layer 6, epoch 7, cost "
       ]
      },
      {
       "output_type": "stream",
       "stream": "stdout",
       "text": [
        " 55.1736778838\n",
        "Pre-training layer 6, epoch 8, cost "
       ]
      },
      {
       "output_type": "stream",
       "stream": "stdout",
       "text": [
        " 54.9286711197\n",
        "Pre-training layer 6, epoch 9, cost "
       ]
      },
      {
       "output_type": "stream",
       "stream": "stdout",
       "text": [
        " 54.7035804192\n",
        "Pre-training layer 6, epoch 10, cost "
       ]
      },
      {
       "output_type": "stream",
       "stream": "stdout",
       "text": [
        " 54.4973741498\n",
        "Pre-training layer 6, epoch 11, cost "
       ]
      },
      {
       "output_type": "stream",
       "stream": "stdout",
       "text": [
        " 54.3088658456\n",
        "Pre-training layer 6, epoch 12, cost "
       ]
      },
      {
       "output_type": "stream",
       "stream": "stdout",
       "text": [
        " 54.1368086043\n",
        "Pre-training layer 6, epoch 13, cost "
       ]
      },
      {
       "output_type": "stream",
       "stream": "stdout",
       "text": [
        " 53.9799528714\n",
        "Pre-training layer 6, epoch 14, cost "
       ]
      },
      {
       "output_type": "stream",
       "stream": "stdout",
       "text": [
        " 53.8370805565\n",
        "Pre-training layer 6, epoch 15, cost "
       ]
      },
      {
       "output_type": "stream",
       "stream": "stdout",
       "text": [
        " 53.7070246597\n",
        "Pre-training layer 6, epoch 16, cost "
       ]
      },
      {
       "output_type": "stream",
       "stream": "stdout",
       "text": [
        " 53.5886802332\n",
        "Pre-training layer 6, epoch 17, cost "
       ]
      },
      {
       "output_type": "stream",
       "stream": "stdout",
       "text": [
        " 53.4810101391\n",
        "Pre-training layer 6, epoch 18, cost "
       ]
      },
      {
       "output_type": "stream",
       "stream": "stdout",
       "text": [
        " 53.3830475788\n",
        "Pre-training layer 6, epoch 19, cost "
       ]
      },
      {
       "output_type": "stream",
       "stream": "stdout",
       "text": [
        " 53.2938965184\n",
        "Pre-training layer 6, epoch 20, cost "
       ]
      },
      {
       "output_type": "stream",
       "stream": "stdout",
       "text": [
        " 53.2127306751\n",
        "Pre-training layer 6, epoch 21, cost "
       ]
      },
      {
       "output_type": "stream",
       "stream": "stdout",
       "text": [
        " 53.1387914876\n",
        "Pre-training layer 6, epoch 22, cost "
       ]
      },
      {
       "output_type": "stream",
       "stream": "stdout",
       "text": [
        " 53.0713853659\n",
        "Pre-training layer 6, epoch 23, cost "
       ]
      },
      {
       "output_type": "stream",
       "stream": "stdout",
       "text": [
        " 53.0098804341\n",
        "Pre-training layer 6, epoch 24, cost "
       ]
      },
      {
       "output_type": "stream",
       "stream": "stdout",
       "text": [
        " 52.9537029307\n",
        "Pre-training layer 6, epoch 25, cost "
       ]
      },
      {
       "output_type": "stream",
       "stream": "stdout",
       "text": [
        " 52.9023333955\n",
        "Pre-training layer 6, epoch 26, cost "
       ]
      },
      {
       "output_type": "stream",
       "stream": "stdout",
       "text": [
        " 52.8553027489\n",
        "Pre-training layer 6, epoch 27, cost "
       ]
      },
      {
       "output_type": "stream",
       "stream": "stdout",
       "text": [
        " 52.8121883516\n",
        "Pre-training layer 6, epoch 28, cost "
       ]
      },
      {
       "output_type": "stream",
       "stream": "stdout",
       "text": [
        " 52.7726101166\n",
        "Pre-training layer 6, epoch 29, cost "
       ]
      },
      {
       "output_type": "stream",
       "stream": "stdout",
       "text": [
        " 52.7362267368\n",
        "... getting the finetuning functions\n",
        "Your Python version is from Canopy. You need to install the package 'mingw 4.5.2' from Canopy package manager."
       ]
      },
      {
       "output_type": "stream",
       "stream": "stdout",
       "text": [
        "\n",
        "Your Python version is from Canopy. You need to install the package 'mingw 4.5.2' from Canopy package manager.\n",
        "Your Python version is from Canopy. You need to install the package 'mingw 4.5.2' from Canopy package manager."
       ]
      },
      {
       "output_type": "stream",
       "stream": "stdout",
       "text": [
        "\n",
        "Your Python version is from Canopy. You need to install the package 'mingw 4.5.2' from Canopy package manager.\n",
        "Your Python version is from Canopy. You need to install the package 'mingw 4.5.2' from Canopy package manager."
       ]
      },
      {
       "output_type": "stream",
       "stream": "stdout",
       "text": [
        "\n",
        "Your Python version is from Canopy. You need to install the package 'mingw 4.5.2' from Canopy package manager.\n",
        "Your Python version is from Canopy. You need to install the package 'mingw 4.5.2' from Canopy package manager."
       ]
      },
      {
       "output_type": "stream",
       "stream": "stdout",
       "text": [
        "\n",
        "Your Python version is from Canopy. You need to install the package 'mingw 4.5.2' from Canopy package manager.\n",
        "Your Python version is from Canopy. You need to install the package 'mingw 4.5.2' from Canopy package manager."
       ]
      },
      {
       "output_type": "stream",
       "stream": "stdout",
       "text": [
        "\n",
        "Your Python version is from Canopy. You need to install the package 'mingw 4.5.2' from Canopy package manager.\n",
        "Your Python version is from Canopy. You need to install the package 'mingw 4.5.2' from Canopy package manager."
       ]
      },
      {
       "output_type": "stream",
       "stream": "stdout",
       "text": [
        "\n",
        "Your Python version is from Canopy. You need to install the package 'mingw 4.5.2' from Canopy package manager.\n",
        "Your Python version is from Canopy. You need to install the package 'mingw 4.5.2' from Canopy package manager."
       ]
      },
      {
       "output_type": "stream",
       "stream": "stdout",
       "text": [
        "\n",
        "Your Python version is from Canopy. You need to install the package 'mingw 4.5.2' from Canopy package manager.\n",
        "Your Python version is from Canopy. You need to install the package 'mingw 4.5.2' from Canopy package manager."
       ]
      },
      {
       "output_type": "stream",
       "stream": "stdout",
       "text": [
        "\n",
        "Your Python version is from Canopy. You need to install the package 'mingw 4.5.2' from Canopy package manager.\n",
        "Your Python version is from Canopy. You need to install the package 'mingw 4.5.2' from Canopy package manager."
       ]
      },
      {
       "output_type": "stream",
       "stream": "stdout",
       "text": [
        "\n",
        "Your Python version is from Canopy. You need to install the package 'mingw 4.5.2' from Canopy package manager.\n",
        "Your Python version is from Canopy. You need to install the package 'mingw 4.5.2' from Canopy package manager."
       ]
      },
      {
       "output_type": "stream",
       "stream": "stdout",
       "text": [
        "\n",
        "Your Python version is from Canopy. You need to install the package 'mingw 4.5.2' from Canopy package manager.\n",
        "Your Python version is from Canopy. You need to install the package 'mingw 4.5.2' from Canopy package manager."
       ]
      },
      {
       "output_type": "stream",
       "stream": "stdout",
       "text": [
        "\n",
        "Your Python version is from Canopy. You need to install the package 'mingw 4.5.2' from Canopy package manager.\n",
        "... finetunning the model"
       ]
      },
      {
       "output_type": "stream",
       "stream": "stdout",
       "text": [
        "\n",
        "epoch 1, minibatch 383/383, validation error 51.122807 %"
       ]
      },
      {
       "output_type": "stream",
       "stream": "stdout",
       "text": [
        "\n",
        " epoch 1, minibatch 383/383, test error of best model 50.448179 %"
       ]
      },
      {
       "output_type": "stream",
       "stream": "stdout",
       "text": [
        "\n",
        "epoch 2, minibatch 383/383, validation error 50.947368 %"
       ]
      },
      {
       "output_type": "stream",
       "stream": "stdout",
       "text": [
        "\n",
        " epoch 2, minibatch 383/383, test error of best model 50.420168 %"
       ]
      },
      {
       "output_type": "stream",
       "stream": "stdout",
       "text": [
        "\n",
        "epoch 3, minibatch 383/383, validation error 43.719298 %"
       ]
      },
      {
       "output_type": "stream",
       "stream": "stdout",
       "text": [
        "\n",
        " epoch 3, minibatch 383/383, test error of best model 44.033613 %"
       ]
      },
      {
       "output_type": "stream",
       "stream": "stdout",
       "text": [
        "\n",
        "epoch 4, minibatch 383/383, validation error 39.228070 %"
       ]
      },
      {
       "output_type": "stream",
       "stream": "stdout",
       "text": [
        "\n",
        " epoch 4, minibatch 383/383, test error of best model 39.803922 %"
       ]
      },
      {
       "output_type": "stream",
       "stream": "stdout",
       "text": [
        "\n",
        "epoch 5, minibatch 383/383, validation error 37.122807 %"
       ]
      },
      {
       "output_type": "stream",
       "stream": "stdout",
       "text": [
        "\n",
        " epoch 5, minibatch 383/383, test error of best model 36.974790 %"
       ]
      },
      {
       "output_type": "stream",
       "stream": "stdout",
       "text": [
        "\n",
        "epoch 6, minibatch 383/383, validation error 35.087719 %"
       ]
      },
      {
       "output_type": "stream",
       "stream": "stdout",
       "text": [
        "\n",
        " epoch 6, minibatch 383/383, test error of best model 35.322129 %"
       ]
      },
      {
       "output_type": "stream",
       "stream": "stdout",
       "text": [
        "\n",
        "epoch 7, minibatch 383/383, validation error 33.298246 %"
       ]
      },
      {
       "output_type": "stream",
       "stream": "stdout",
       "text": [
        "\n",
        " epoch 7, minibatch 383/383, test error of best model 33.893557 %"
       ]
      },
      {
       "output_type": "stream",
       "stream": "stdout",
       "text": [
        "\n",
        "epoch 8, minibatch 383/383, validation error 31.649123 %"
       ]
      },
      {
       "output_type": "stream",
       "stream": "stdout",
       "text": [
        "\n",
        " epoch 8, minibatch 383/383, test error of best model 32.268908 %"
       ]
      },
      {
       "output_type": "stream",
       "stream": "stdout",
       "text": [
        "\n",
        "epoch 9, minibatch 383/383, validation error 30.526316 %"
       ]
      },
      {
       "output_type": "stream",
       "stream": "stdout",
       "text": [
        "\n",
        " epoch 9, minibatch 383/383, test error of best model 30.952381 %"
       ]
      },
      {
       "output_type": "stream",
       "stream": "stdout",
       "text": [
        "\n",
        "epoch 10, minibatch 383/383, validation error 29.192982 %"
       ]
      },
      {
       "output_type": "stream",
       "stream": "stdout",
       "text": [
        "\n",
        " epoch 10, minibatch 383/383, test error of best model 30.084034 %"
       ]
      },
      {
       "output_type": "stream",
       "stream": "stdout",
       "text": [
        "\n",
        "epoch 11, minibatch 383/383, validation error 28.280702 %"
       ]
      },
      {
       "output_type": "stream",
       "stream": "stdout",
       "text": [
        "\n",
        " epoch 11, minibatch 383/383, test error of best model 29.019608 %"
       ]
      },
      {
       "output_type": "stream",
       "stream": "stdout",
       "text": [
        "\n",
        "epoch 12, minibatch 383/383, validation error 27.614035 %"
       ]
      },
      {
       "output_type": "stream",
       "stream": "stdout",
       "text": [
        "\n",
        " epoch 12, minibatch 383/383, test error of best model 28.179272 %"
       ]
      },
      {
       "output_type": "stream",
       "stream": "stdout",
       "text": [
        "\n",
        "epoch 13, minibatch 383/383, validation error 26.982456 %"
       ]
      },
      {
       "output_type": "stream",
       "stream": "stdout",
       "text": [
        "\n",
        " epoch 13, minibatch 383/383, test error of best model 27.647059 %"
       ]
      },
      {
       "output_type": "stream",
       "stream": "stdout",
       "text": [
        "\n",
        "epoch 14, minibatch 383/383, validation error 26.175439 %"
       ]
      },
      {
       "output_type": "stream",
       "stream": "stdout",
       "text": [
        "\n",
        " epoch 14, minibatch 383/383, test error of best model 27.086835 %"
       ]
      },
      {
       "output_type": "stream",
       "stream": "stdout",
       "text": [
        "\n",
        "epoch 15, minibatch 383/383, validation error 25.157895 %"
       ]
      },
      {
       "output_type": "stream",
       "stream": "stdout",
       "text": [
        "\n",
        " epoch 15, minibatch 383/383, test error of best model 25.966387 %"
       ]
      },
      {
       "output_type": "stream",
       "stream": "stdout",
       "text": [
        "\n",
        "epoch 16, minibatch 383/383, validation error 24.596491 %"
       ]
      },
      {
       "output_type": "stream",
       "stream": "stdout",
       "text": [
        "\n",
        " epoch 16, minibatch 383/383, test error of best model 25.602241 %"
       ]
      },
      {
       "output_type": "stream",
       "stream": "stdout",
       "text": [
        "\n",
        "epoch 17, minibatch 383/383, validation error 24.280702 %"
       ]
      },
      {
       "output_type": "stream",
       "stream": "stdout",
       "text": [
        "\n",
        " epoch 17, minibatch 383/383, test error of best model 24.733894 %"
       ]
      },
      {
       "output_type": "stream",
       "stream": "stdout",
       "text": [
        "\n",
        "epoch 18, minibatch 383/383, validation error 23.684211 %"
       ]
      },
      {
       "output_type": "stream",
       "stream": "stdout",
       "text": [
        "\n",
        " epoch 18, minibatch 383/383, test error of best model 24.033613 %"
       ]
      },
      {
       "output_type": "stream",
       "stream": "stdout",
       "text": [
        "\n",
        "epoch 19, minibatch 383/383, validation error 23.087719 %"
       ]
      },
      {
       "output_type": "stream",
       "stream": "stdout",
       "text": [
        "\n",
        " epoch 19, minibatch 383/383, test error of best model 23.053221 %"
       ]
      },
      {
       "output_type": "stream",
       "stream": "stdout",
       "text": [
        "\n",
        "epoch 20, minibatch 383/383, validation error 22.385965 %"
       ]
      },
      {
       "output_type": "stream",
       "stream": "stdout",
       "text": [
        "\n",
        " epoch 20, minibatch 383/383, test error of best model 22.436975 %"
       ]
      },
      {
       "output_type": "stream",
       "stream": "stdout",
       "text": [
        "\n",
        "epoch 21, minibatch 383/383, validation error 21.614035 %"
       ]
      },
      {
       "output_type": "stream",
       "stream": "stdout",
       "text": [
        "\n",
        " epoch 21, minibatch 383/383, test error of best model 21.400560 %"
       ]
      },
      {
       "output_type": "stream",
       "stream": "stdout",
       "text": [
        "\n",
        "epoch 22, minibatch 383/383, validation error 21.052632 %"
       ]
      },
      {
       "output_type": "stream",
       "stream": "stdout",
       "text": [
        "\n",
        " epoch 22, minibatch 383/383, test error of best model 20.644258 %"
       ]
      },
      {
       "output_type": "stream",
       "stream": "stdout",
       "text": [
        "\n",
        "epoch 23, minibatch 383/383, validation error 20.631579 %"
       ]
      },
      {
       "output_type": "stream",
       "stream": "stdout",
       "text": [
        "\n",
        " epoch 23, minibatch 383/383, test error of best model 19.915966 %"
       ]
      },
      {
       "output_type": "stream",
       "stream": "stdout",
       "text": [
        "\n",
        "epoch 24, minibatch 383/383, validation error 20.140351 %"
       ]
      },
      {
       "output_type": "stream",
       "stream": "stdout",
       "text": [
        "\n",
        " epoch 24, minibatch 383/383, test error of best model 19.439776 %"
       ]
      },
      {
       "output_type": "stream",
       "stream": "stdout",
       "text": [
        "\n",
        "epoch 25, minibatch 383/383, validation error 19.403509 %"
       ]
      },
      {
       "output_type": "stream",
       "stream": "stdout",
       "text": [
        "\n",
        " epoch 25, minibatch 383/383, test error of best model 19.075630 %"
       ]
      },
      {
       "output_type": "stream",
       "stream": "stdout",
       "text": [
        "\n",
        "epoch 26, minibatch 383/383, validation error 18.877193 %"
       ]
      },
      {
       "output_type": "stream",
       "stream": "stdout",
       "text": [
        "\n",
        " epoch 26, minibatch 383/383, test error of best model 18.571429 %"
       ]
      },
      {
       "output_type": "stream",
       "stream": "stdout",
       "text": [
        "\n",
        "epoch 27, minibatch 383/383, validation error 18.280702 %"
       ]
      },
      {
       "output_type": "stream",
       "stream": "stdout",
       "text": [
        "\n",
        " epoch 27, minibatch 383/383, test error of best model 18.375350 %"
       ]
      },
      {
       "output_type": "stream",
       "stream": "stdout",
       "text": [
        "\n",
        "epoch 28, minibatch 383/383, validation error 17.824561 %"
       ]
      },
      {
       "output_type": "stream",
       "stream": "stdout",
       "text": [
        "\n",
        " epoch 28, minibatch 383/383, test error of best model 17.731092 %"
       ]
      },
      {
       "output_type": "stream",
       "stream": "stdout",
       "text": [
        "\n",
        "epoch 29, minibatch 383/383, validation error 17.473684 %"
       ]
      },
      {
       "output_type": "stream",
       "stream": "stdout",
       "text": [
        "\n",
        " epoch 29, minibatch 383/383, test error of best model 17.338936 %"
       ]
      },
      {
       "output_type": "stream",
       "stream": "stdout",
       "text": [
        "\n",
        "epoch 30, minibatch 383/383, validation error 17.263158 %"
       ]
      },
      {
       "output_type": "stream",
       "stream": "stdout",
       "text": [
        "\n",
        " epoch 30, minibatch 383/383, test error of best model 16.834734 %"
       ]
      },
      {
       "output_type": "stream",
       "stream": "stdout",
       "text": [
        "\n",
        "epoch 31, minibatch 383/383, validation error 16.947368 %"
       ]
      },
      {
       "output_type": "stream",
       "stream": "stdout",
       "text": [
        "\n",
        " epoch 31, minibatch 383/383, test error of best model 16.666667 %"
       ]
      },
      {
       "output_type": "stream",
       "stream": "stdout",
       "text": [
        "\n",
        "epoch 32, minibatch 383/383, validation error 16.596491 %"
       ]
      },
      {
       "output_type": "stream",
       "stream": "stdout",
       "text": [
        "\n",
        " epoch 32, minibatch 383/383, test error of best model 16.414566 %"
       ]
      },
      {
       "output_type": "stream",
       "stream": "stdout",
       "text": [
        "\n",
        "epoch 33, minibatch 383/383, validation error 16.210526 %"
       ]
      },
      {
       "output_type": "stream",
       "stream": "stdout",
       "text": [
        "\n",
        " epoch 33, minibatch 383/383, test error of best model 16.022409 %"
       ]
      },
      {
       "output_type": "stream",
       "stream": "stdout",
       "text": [
        "\n",
        "epoch 34, minibatch 383/383, validation error 16.000000 %"
       ]
      },
      {
       "output_type": "stream",
       "stream": "stdout",
       "text": [
        "\n",
        " epoch 34, minibatch 383/383, test error of best model 15.770308 %"
       ]
      },
      {
       "output_type": "stream",
       "stream": "stdout",
       "text": [
        "\n",
        "epoch 35, minibatch 383/383, validation error 15.824561 %"
       ]
      },
      {
       "output_type": "stream",
       "stream": "stdout",
       "text": [
        "\n",
        " epoch 35, minibatch 383/383, test error of best model 15.546218 %"
       ]
      },
      {
       "output_type": "stream",
       "stream": "stdout",
       "text": [
        "\n",
        "epoch 36, minibatch 383/383, validation error 15.859649 %"
       ]
      },
      {
       "output_type": "stream",
       "stream": "stdout",
       "text": [
        "\n",
        "epoch 37, minibatch 383/383, validation error 15.719298 %"
       ]
      },
      {
       "output_type": "stream",
       "stream": "stdout",
       "text": [
        "\n",
        " epoch 37, minibatch 383/383, test error of best model 15.154062 %"
       ]
      },
      {
       "output_type": "stream",
       "stream": "stdout",
       "text": [
        "\n",
        "epoch 38, minibatch 383/383, validation error 15.614035 %"
       ]
      },
      {
       "output_type": "stream",
       "stream": "stdout",
       "text": [
        "\n",
        " epoch 38, minibatch 383/383, test error of best model 14.901961 %"
       ]
      },
      {
       "output_type": "stream",
       "stream": "stdout",
       "text": [
        "\n",
        "epoch 39, minibatch 383/383, validation error 15.508772 %"
       ]
      },
      {
       "output_type": "stream",
       "stream": "stdout",
       "text": [
        "\n",
        " epoch 39, minibatch 383/383, test error of best model 14.761905 %"
       ]
      },
      {
       "output_type": "stream",
       "stream": "stdout",
       "text": [
        "\n",
        "epoch 40, minibatch 383/383, validation error 15.228070 %"
       ]
      },
      {
       "output_type": "stream",
       "stream": "stdout",
       "text": [
        "\n",
        " epoch 40, minibatch 383/383, test error of best model 14.509804 %"
       ]
      },
      {
       "output_type": "stream",
       "stream": "stdout",
       "text": [
        "\n",
        "epoch 41, minibatch 383/383, validation error 15.228070 %"
       ]
      },
      {
       "output_type": "stream",
       "stream": "stdout",
       "text": [
        "\n",
        "epoch 42, minibatch 383/383, validation error 15.157895 %"
       ]
      },
      {
       "output_type": "stream",
       "stream": "stdout",
       "text": [
        "\n",
        " epoch 42, minibatch 383/383, test error of best model 14.341737 %"
       ]
      },
      {
       "output_type": "stream",
       "stream": "stdout",
       "text": [
        "\n",
        "epoch 43, minibatch 383/383, validation error 14.982456 %"
       ]
      },
      {
       "output_type": "stream",
       "stream": "stdout",
       "text": [
        "\n",
        " epoch 43, minibatch 383/383, test error of best model 14.369748 %"
       ]
      },
      {
       "output_type": "stream",
       "stream": "stdout",
       "text": [
        "\n",
        "epoch 44, minibatch 383/383, validation error 14.842105 %"
       ]
      },
      {
       "output_type": "stream",
       "stream": "stdout",
       "text": [
        "\n",
        " epoch 44, minibatch 383/383, test error of best model 14.341737 %"
       ]
      },
      {
       "output_type": "stream",
       "stream": "stdout",
       "text": [
        "\n",
        "epoch 45, minibatch 383/383, validation error 14.842105 %"
       ]
      },
      {
       "output_type": "stream",
       "stream": "stdout",
       "text": [
        "\n",
        "epoch 46, minibatch 383/383, validation error 14.666667 %"
       ]
      },
      {
       "output_type": "stream",
       "stream": "stdout",
       "text": [
        "\n",
        " epoch 46, minibatch 383/383, test error of best model 14.117647 %"
       ]
      },
      {
       "output_type": "stream",
       "stream": "stdout",
       "text": [
        "\n",
        "epoch 47, minibatch 383/383, validation error 14.561404 %"
       ]
      },
      {
       "output_type": "stream",
       "stream": "stdout",
       "text": [
        "\n",
        " epoch 47, minibatch 383/383, test error of best model 14.117647 %"
       ]
      },
      {
       "output_type": "stream",
       "stream": "stdout",
       "text": [
        "\n",
        "epoch 48, minibatch 383/383, validation error 14.561404 %"
       ]
      },
      {
       "output_type": "stream",
       "stream": "stdout",
       "text": [
        "\n",
        "epoch 49, minibatch 383/383, validation error 14.526316 %"
       ]
      },
      {
       "output_type": "stream",
       "stream": "stdout",
       "text": [
        "\n",
        " epoch 49, minibatch 383/383, test error of best model 13.977591 %"
       ]
      },
      {
       "output_type": "stream",
       "stream": "stdout",
       "text": [
        "\n",
        "epoch 50, minibatch 383/383, validation error 14.280702 %"
       ]
      },
      {
       "output_type": "stream",
       "stream": "stdout",
       "text": [
        "\n",
        " epoch 50, minibatch 383/383, test error of best model 13.921569 %"
       ]
      },
      {
       "output_type": "stream",
       "stream": "stdout",
       "text": [
        "\n",
        "epoch 51, minibatch 383/383, validation error 14.140351 %"
       ]
      },
      {
       "output_type": "stream",
       "stream": "stdout",
       "text": [
        "\n",
        " epoch 51, minibatch 383/383, test error of best model 13.921569 %"
       ]
      },
      {
       "output_type": "stream",
       "stream": "stdout",
       "text": [
        "\n",
        "epoch 52, minibatch 383/383, validation error 14.070175 %"
       ]
      },
      {
       "output_type": "stream",
       "stream": "stdout",
       "text": [
        "\n",
        " epoch 52, minibatch 383/383, test error of best model 13.977591 %"
       ]
      },
      {
       "output_type": "stream",
       "stream": "stdout",
       "text": [
        "\n",
        "epoch 53, minibatch 383/383, validation error 13.964912 %"
       ]
      },
      {
       "output_type": "stream",
       "stream": "stdout",
       "text": [
        "\n",
        " epoch 53, minibatch 383/383, test error of best model 13.837535 %"
       ]
      },
      {
       "output_type": "stream",
       "stream": "stdout",
       "text": [
        "\n",
        "epoch 54, minibatch 383/383, validation error 14.245614 %"
       ]
      },
      {
       "output_type": "stream",
       "stream": "stdout",
       "text": [
        "\n",
        "epoch 55, minibatch 383/383, validation error 14.421053 %"
       ]
      },
      {
       "output_type": "stream",
       "stream": "stdout",
       "text": [
        "\n",
        "epoch 56, minibatch 383/383, validation error 14.701754 %"
       ]
      },
      {
       "output_type": "stream",
       "stream": "stdout",
       "text": [
        "\n",
        "epoch 57, minibatch 383/383, validation error 14.982456 %"
       ]
      },
      {
       "output_type": "stream",
       "stream": "stdout",
       "text": [
        "\n",
        "epoch 58, minibatch 383/383, validation error 14.982456 %"
       ]
      },
      {
       "output_type": "stream",
       "stream": "stdout",
       "text": [
        "\n",
        "epoch 59, minibatch 383/383, validation error 15.052632 %"
       ]
      },
      {
       "output_type": "stream",
       "stream": "stdout",
       "text": [
        "\n",
        "epoch 60, minibatch 383/383, validation error 14.315789 %"
       ]
      },
      {
       "output_type": "stream",
       "stream": "stdout",
       "text": [
        "\n",
        "epoch 61, minibatch 383/383, validation error 14.210526 %"
       ]
      },
      {
       "output_type": "stream",
       "stream": "stdout",
       "text": [
        "\n",
        "epoch 62, minibatch 383/383, validation error 14.210526 %"
       ]
      },
      {
       "output_type": "stream",
       "stream": "stdout",
       "text": [
        "\n",
        "epoch 63, minibatch 383/383, validation error 14.140351 %"
       ]
      },
      {
       "output_type": "stream",
       "stream": "stdout",
       "text": [
        "\n",
        "epoch 64, minibatch 383/383, validation error 14.210526 %"
       ]
      },
      {
       "output_type": "stream",
       "stream": "stdout",
       "text": [
        "\n",
        "epoch 65, minibatch 383/383, validation error 14.350877 %"
       ]
      },
      {
       "output_type": "stream",
       "stream": "stdout",
       "text": [
        "\n",
        "epoch 66, minibatch 383/383, validation error 14.035088 %"
       ]
      },
      {
       "output_type": "stream",
       "stream": "stdout",
       "text": [
        "\n",
        "epoch 67, minibatch 383/383, validation error 14.526316 %"
       ]
      },
      {
       "output_type": "stream",
       "stream": "stdout",
       "text": [
        "\n",
        "epoch 68, minibatch 383/383, validation error 13.964912 %"
       ]
      },
      {
       "output_type": "stream",
       "stream": "stdout",
       "text": [
        "\n",
        "epoch 69, minibatch 383/383, validation error 14.315789 %"
       ]
      },
      {
       "output_type": "stream",
       "stream": "stdout",
       "text": [
        "\n",
        "epoch 70, minibatch 383/383, validation error 13.719298 %"
       ]
      },
      {
       "output_type": "stream",
       "stream": "stdout",
       "text": [
        "\n",
        " epoch 70, minibatch 383/383, test error of best model 12.941176 %"
       ]
      },
      {
       "output_type": "stream",
       "stream": "stdout",
       "text": [
        "\n",
        "epoch 71, minibatch 383/383, validation error 13.754386 %"
       ]
      },
      {
       "output_type": "stream",
       "stream": "stdout",
       "text": [
        "\n",
        "epoch 72, minibatch 383/383, validation error 13.614035 %"
       ]
      },
      {
       "output_type": "stream",
       "stream": "stdout",
       "text": [
        "\n",
        " epoch 72, minibatch 383/383, test error of best model 13.081232 %"
       ]
      },
      {
       "output_type": "stream",
       "stream": "stdout",
       "text": [
        "\n",
        "epoch 73, minibatch 383/383, validation error 13.368421 %"
       ]
      },
      {
       "output_type": "stream",
       "stream": "stdout",
       "text": [
        "\n",
        " epoch 73, minibatch 383/383, test error of best model 12.689076 %"
       ]
      },
      {
       "output_type": "stream",
       "stream": "stdout",
       "text": [
        "\n",
        "epoch 74, minibatch 383/383, validation error 13.754386 %"
       ]
      },
      {
       "output_type": "stream",
       "stream": "stdout",
       "text": [
        "\n",
        "epoch 75, minibatch 383/383, validation error 14.456140 %"
       ]
      },
      {
       "output_type": "stream",
       "stream": "stdout",
       "text": [
        "\n",
        "epoch 76, minibatch 383/383, validation error 14.280702 %"
       ]
      },
      {
       "output_type": "stream",
       "stream": "stdout",
       "text": [
        "\n",
        "epoch 77, minibatch 383/383, validation error 15.964912 %"
       ]
      },
      {
       "output_type": "stream",
       "stream": "stdout",
       "text": [
        "\n",
        "epoch 78, minibatch 383/383, validation error 14.000000 %"
       ]
      },
      {
       "output_type": "stream",
       "stream": "stdout",
       "text": [
        "\n",
        "epoch 79, minibatch 383/383, validation error 13.614035 %"
       ]
      },
      {
       "output_type": "stream",
       "stream": "stdout",
       "text": [
        "\n",
        "epoch 80, minibatch 383/383, validation error 13.578947 %"
       ]
      },
      {
       "output_type": "stream",
       "stream": "stdout",
       "text": [
        "\n",
        "epoch 81, minibatch 383/383, validation error 14.035088 %"
       ]
      },
      {
       "output_type": "stream",
       "stream": "stdout",
       "text": [
        "\n",
        "epoch 82, minibatch 383/383, validation error 14.631579 %"
       ]
      },
      {
       "output_type": "stream",
       "stream": "stdout",
       "text": [
        "\n",
        "epoch 83, minibatch 383/383, validation error 14.807018 %"
       ]
      },
      {
       "output_type": "stream",
       "stream": "stdout",
       "text": [
        "\n",
        "epoch 84, minibatch 383/383, validation error 14.315789 %"
       ]
      },
      {
       "output_type": "stream",
       "stream": "stdout",
       "text": [
        "\n",
        "epoch 85, minibatch 383/383, validation error 14.877193 %"
       ]
      },
      {
       "output_type": "stream",
       "stream": "stdout",
       "text": [
        "\n",
        "epoch 86, minibatch 383/383, validation error 13.192982 %"
       ]
      },
      {
       "output_type": "stream",
       "stream": "stdout",
       "text": [
        "\n",
        " epoch 86, minibatch 383/383, test error of best model 12.717087 %"
       ]
      },
      {
       "output_type": "stream",
       "stream": "stdout",
       "text": [
        "\n",
        "epoch 87, minibatch 383/383, validation error 13.438596 %"
       ]
      },
      {
       "output_type": "stream",
       "stream": "stdout",
       "text": [
        "\n",
        "epoch 88, minibatch 383/383, validation error 12.912281 %"
       ]
      },
      {
       "output_type": "stream",
       "stream": "stdout",
       "text": [
        "\n",
        " epoch 88, minibatch 383/383, test error of best model 12.801120 %"
       ]
      },
      {
       "output_type": "stream",
       "stream": "stdout",
       "text": [
        "\n",
        "epoch 89, minibatch 383/383, validation error 14.456140 %"
       ]
      },
      {
       "output_type": "stream",
       "stream": "stdout",
       "text": [
        "\n",
        "epoch 90, minibatch 383/383, validation error 14.210526 %"
       ]
      },
      {
       "output_type": "stream",
       "stream": "stdout",
       "text": [
        "\n",
        "epoch 91, minibatch 383/383, validation error 14.421053 %"
       ]
      },
      {
       "output_type": "stream",
       "stream": "stdout",
       "text": [
        "\n",
        "epoch 92, minibatch 383/383, validation error 13.719298 %"
       ]
      },
      {
       "output_type": "stream",
       "stream": "stdout",
       "text": [
        "\n",
        "epoch 93, minibatch 383/383, validation error 12.982456 %"
       ]
      },
      {
       "output_type": "stream",
       "stream": "stdout",
       "text": [
        "\n",
        "epoch 94, minibatch 383/383, validation error 14.035088 %"
       ]
      },
      {
       "output_type": "stream",
       "stream": "stdout",
       "text": [
        "\n",
        "epoch 95, minibatch 383/383, validation error 13.473684 %"
       ]
      },
      {
       "output_type": "stream",
       "stream": "stdout",
       "text": [
        "\n",
        "epoch 96, minibatch 383/383, validation error 12.807018 %"
       ]
      },
      {
       "output_type": "stream",
       "stream": "stdout",
       "text": [
        "\n",
        " epoch 96, minibatch 383/383, test error of best model 12.296919 %"
       ]
      },
      {
       "output_type": "stream",
       "stream": "stdout",
       "text": [
        "\n",
        "epoch 97, minibatch 383/383, validation error 14.280702 %"
       ]
      },
      {
       "output_type": "stream",
       "stream": "stdout",
       "text": [
        "\n",
        "epoch 98, minibatch 383/383, validation error 15.052632 %"
       ]
      },
      {
       "output_type": "stream",
       "stream": "stdout",
       "text": [
        "\n",
        "epoch 99, minibatch 383/383, validation error 13.649123 %"
       ]
      },
      {
       "output_type": "stream",
       "stream": "stdout",
       "text": [
        "\n",
        "epoch 100, minibatch 383/383, validation error 13.228070 %"
       ]
      },
      {
       "output_type": "stream",
       "stream": "stdout",
       "text": [
        "\n",
        "epoch 101, minibatch 383/383, validation error 14.280702 %"
       ]
      },
      {
       "output_type": "stream",
       "stream": "stdout",
       "text": [
        "\n",
        "epoch 102, minibatch 383/383, validation error 14.245614 %"
       ]
      },
      {
       "output_type": "stream",
       "stream": "stdout",
       "text": [
        "\n",
        "epoch 103, minibatch 383/383, validation error 15.508772 %"
       ]
      },
      {
       "output_type": "stream",
       "stream": "stdout",
       "text": [
        "\n",
        "epoch 104, minibatch 383/383, validation error 14.912281 %"
       ]
      },
      {
       "output_type": "stream",
       "stream": "stdout",
       "text": [
        "\n",
        "epoch 105, minibatch 383/383, validation error 12.982456 %"
       ]
      },
      {
       "output_type": "stream",
       "stream": "stdout",
       "text": [
        "\n",
        "epoch 106, minibatch 383/383, validation error 12.807018 %"
       ]
      },
      {
       "output_type": "stream",
       "stream": "stdout",
       "text": [
        "\n",
        " epoch 106, minibatch 383/383, test error of best model 11.932773 %"
       ]
      },
      {
       "output_type": "stream",
       "stream": "stdout",
       "text": [
        "\n",
        "epoch 107, minibatch 383/383, validation error 13.228070 %"
       ]
      },
      {
       "output_type": "stream",
       "stream": "stdout",
       "text": [
        "\n",
        "epoch 108, minibatch 383/383, validation error 12.947368 %"
       ]
      },
      {
       "output_type": "stream",
       "stream": "stdout",
       "text": [
        "\n",
        "epoch 109, minibatch 383/383, validation error 13.403509 %"
       ]
      },
      {
       "output_type": "stream",
       "stream": "stdout",
       "text": [
        "\n",
        "epoch 110, minibatch 383/383, validation error 14.912281 %"
       ]
      },
      {
       "output_type": "stream",
       "stream": "stdout",
       "text": [
        "\n",
        "epoch 111, minibatch 383/383, validation error 13.122807 %"
       ]
      },
      {
       "output_type": "stream",
       "stream": "stdout",
       "text": [
        "\n",
        "epoch 112, minibatch 383/383, validation error 13.298246 %"
       ]
      },
      {
       "output_type": "stream",
       "stream": "stdout",
       "text": [
        "\n",
        "epoch 113, minibatch 383/383, validation error 14.666667 %"
       ]
      },
      {
       "output_type": "stream",
       "stream": "stdout",
       "text": [
        "\n",
        "epoch 114, minibatch 383/383, validation error 12.842105 %"
       ]
      },
      {
       "output_type": "stream",
       "stream": "stdout",
       "text": [
        "\n",
        "epoch 115, minibatch 383/383, validation error 14.070175 %"
       ]
      },
      {
       "output_type": "stream",
       "stream": "stdout",
       "text": [
        "\n",
        "epoch 116, minibatch 383/383, validation error 13.929825 %"
       ]
      },
      {
       "output_type": "stream",
       "stream": "stdout",
       "text": [
        "\n",
        "epoch 117, minibatch 383/383, validation error 13.052632 %"
       ]
      },
      {
       "output_type": "stream",
       "stream": "stdout",
       "text": [
        "\n",
        "epoch 118, minibatch 383/383, validation error 13.368421 %"
       ]
      },
      {
       "output_type": "stream",
       "stream": "stdout",
       "text": [
        "\n",
        "epoch 119, minibatch 383/383, validation error 14.175439 %"
       ]
      },
      {
       "output_type": "stream",
       "stream": "stdout",
       "text": [
        "\n",
        "epoch 120, minibatch 383/383, validation error 13.052632 %"
       ]
      },
      {
       "output_type": "stream",
       "stream": "stdout",
       "text": [
        "\n",
        "epoch 121, minibatch 383/383, validation error 13.122807 %"
       ]
      },
      {
       "output_type": "stream",
       "stream": "stdout",
       "text": [
        "\n",
        "epoch 122, minibatch 383/383, validation error 12.982456 %"
       ]
      },
      {
       "output_type": "stream",
       "stream": "stdout",
       "text": [
        "\n",
        "epoch 123, minibatch 383/383, validation error 13.122807 %"
       ]
      },
      {
       "output_type": "stream",
       "stream": "stdout",
       "text": [
        "\n",
        "epoch 124, minibatch 383/383, validation error 13.368421 %"
       ]
      },
      {
       "output_type": "stream",
       "stream": "stdout",
       "text": [
        "\n",
        "epoch 125, minibatch 383/383, validation error 13.157895 %"
       ]
      },
      {
       "output_type": "stream",
       "stream": "stdout",
       "text": [
        "\n",
        "epoch 126, minibatch 383/383, validation error 13.157895 %"
       ]
      },
      {
       "output_type": "stream",
       "stream": "stdout",
       "text": [
        "\n",
        "epoch 127, minibatch 383/383, validation error 13.263158 %"
       ]
      },
      {
       "output_type": "stream",
       "stream": "stdout",
       "text": [
        "\n",
        "epoch 128, minibatch 383/383, validation error 13.087719 %"
       ]
      },
      {
       "output_type": "stream",
       "stream": "stdout",
       "text": [
        "\n",
        "epoch 129, minibatch 383/383, validation error 13.263158 %"
       ]
      },
      {
       "output_type": "stream",
       "stream": "stdout",
       "text": [
        "\n",
        "epoch 130, minibatch 383/383, validation error 14.210526 %"
       ]
      },
      {
       "output_type": "stream",
       "stream": "stdout",
       "text": [
        "\n",
        "epoch 131, minibatch 383/383, validation error 13.228070 %"
       ]
      },
      {
       "output_type": "stream",
       "stream": "stdout",
       "text": [
        "\n",
        "epoch 132, minibatch 383/383, validation error 13.157895 %"
       ]
      },
      {
       "output_type": "stream",
       "stream": "stdout",
       "text": [
        "\n",
        "epoch 133, minibatch 383/383, validation error 13.052632 %"
       ]
      },
      {
       "output_type": "stream",
       "stream": "stdout",
       "text": [
        "\n",
        "epoch 134, minibatch 383/383, validation error 13.298246 %"
       ]
      },
      {
       "output_type": "stream",
       "stream": "stdout",
       "text": [
        "\n",
        "epoch 135, minibatch 383/383, validation error 13.122807 %"
       ]
      },
      {
       "output_type": "stream",
       "stream": "stdout",
       "text": [
        "\n",
        "epoch 136, minibatch 383/383, validation error 13.087719 %"
       ]
      },
      {
       "output_type": "stream",
       "stream": "stdout",
       "text": [
        "\n",
        "epoch 137, minibatch 383/383, validation error 13.333333 %"
       ]
      },
      {
       "output_type": "stream",
       "stream": "stdout",
       "text": [
        "\n",
        "epoch 138, minibatch 383/383, validation error 13.087719 %"
       ]
      },
      {
       "output_type": "stream",
       "stream": "stdout",
       "text": [
        "\n",
        "epoch 139, minibatch 383/383, validation error 13.333333 %"
       ]
      },
      {
       "output_type": "stream",
       "stream": "stdout",
       "text": [
        "\n",
        "epoch 140, minibatch 383/383, validation error 13.403509 %"
       ]
      },
      {
       "output_type": "stream",
       "stream": "stdout",
       "text": [
        "\n",
        "epoch 141, minibatch 383/383, validation error 13.263158 %"
       ]
      },
      {
       "output_type": "stream",
       "stream": "stdout",
       "text": [
        "\n",
        "epoch 142, minibatch 383/383, validation error 13.333333 %"
       ]
      },
      {
       "output_type": "stream",
       "stream": "stdout",
       "text": [
        "\n",
        "epoch 143, minibatch 383/383, validation error 13.228070 %"
       ]
      },
      {
       "output_type": "stream",
       "stream": "stdout",
       "text": [
        "\n",
        "epoch 144, minibatch 383/383, validation error 13.263158 %"
       ]
      },
      {
       "output_type": "stream",
       "stream": "stdout",
       "text": [
        "\n",
        "epoch 145, minibatch 383/383, validation error 13.263158 %"
       ]
      },
      {
       "output_type": "stream",
       "stream": "stdout",
       "text": [
        "\n",
        "epoch 146, minibatch 383/383, validation error 13.438596 %"
       ]
      },
      {
       "output_type": "stream",
       "stream": "stdout",
       "text": [
        "\n",
        "epoch 147, minibatch 383/383, validation error 13.438596 %"
       ]
      },
      {
       "output_type": "stream",
       "stream": "stdout",
       "text": [
        "\n",
        "epoch 148, minibatch 383/383, validation error 13.508772 %"
       ]
      },
      {
       "output_type": "stream",
       "stream": "stdout",
       "text": [
        "\n",
        "epoch 149, minibatch 383/383, validation error 13.298246 %"
       ]
      },
      {
       "output_type": "stream",
       "stream": "stdout",
       "text": [
        "\n",
        "epoch 150, minibatch 383/383, validation error 13.333333 %"
       ]
      },
      {
       "output_type": "stream",
       "stream": "stdout",
       "text": [
        "\n",
        "epoch 151, minibatch 383/383, validation error 12.912281 %"
       ]
      },
      {
       "output_type": "stream",
       "stream": "stdout",
       "text": [
        "\n",
        "epoch 152, minibatch 383/383, validation error 13.017544 %"
       ]
      },
      {
       "output_type": "stream",
       "stream": "stdout",
       "text": [
        "\n",
        "epoch 153, minibatch 383/383, validation error 13.017544 %"
       ]
      },
      {
       "output_type": "stream",
       "stream": "stdout",
       "text": [
        "\n",
        "epoch 154, minibatch 383/383, validation error 13.087719 %"
       ]
      },
      {
       "output_type": "stream",
       "stream": "stdout",
       "text": [
        "\n",
        "epoch 155, minibatch 383/383, validation error 12.912281 %"
       ]
      },
      {
       "output_type": "stream",
       "stream": "stdout",
       "text": [
        "\n",
        "epoch 156, minibatch 383/383, validation error 12.982456 %"
       ]
      },
      {
       "output_type": "stream",
       "stream": "stdout",
       "text": [
        "\n",
        "epoch 157, minibatch 383/383, validation error 12.912281 %"
       ]
      },
      {
       "output_type": "stream",
       "stream": "stdout",
       "text": [
        "\n",
        "epoch 158, minibatch 383/383, validation error 12.912281 %"
       ]
      },
      {
       "output_type": "stream",
       "stream": "stdout",
       "text": [
        "\n",
        "epoch 159, minibatch 383/383, validation error 12.982456 %"
       ]
      },
      {
       "output_type": "stream",
       "stream": "stdout",
       "text": [
        "\n",
        "epoch 160, minibatch 383/383, validation error 13.017544 %"
       ]
      },
      {
       "output_type": "stream",
       "stream": "stdout",
       "text": [
        "\n",
        "epoch 161, minibatch 383/383, validation error 13.052632 %"
       ]
      },
      {
       "output_type": "stream",
       "stream": "stdout",
       "text": [
        "\n",
        "epoch 162, minibatch 383/383, validation error 13.052632 %"
       ]
      },
      {
       "output_type": "stream",
       "stream": "stdout",
       "text": [
        "\n",
        "epoch 163, minibatch 383/383, validation error 13.052632 %"
       ]
      },
      {
       "output_type": "stream",
       "stream": "stdout",
       "text": [
        "\n",
        "epoch 164, minibatch 383/383, validation error 12.982456 %"
       ]
      },
      {
       "output_type": "stream",
       "stream": "stdout",
       "text": [
        "\n",
        "epoch 165, minibatch 383/383, validation error 12.982456 %"
       ]
      },
      {
       "output_type": "stream",
       "stream": "stdout",
       "text": [
        "\n",
        "epoch 166, minibatch 383/383, validation error 12.982456 %"
       ]
      },
      {
       "output_type": "stream",
       "stream": "stdout",
       "text": [
        "\n",
        "epoch 167, minibatch 383/383, validation error 13.157895 %"
       ]
      },
      {
       "output_type": "stream",
       "stream": "stdout",
       "text": [
        "\n",
        "epoch 168, minibatch 383/383, validation error 13.157895 %"
       ]
      },
      {
       "output_type": "stream",
       "stream": "stdout",
       "text": [
        "\n",
        "epoch 169, minibatch 383/383, validation error 13.087719 %"
       ]
      },
      {
       "output_type": "stream",
       "stream": "stdout",
       "text": [
        "\n",
        "epoch 170, minibatch 383/383, validation error 13.087719 %"
       ]
      },
      {
       "output_type": "stream",
       "stream": "stdout",
       "text": [
        "\n",
        "epoch 171, minibatch 383/383, validation error 13.052632 %"
       ]
      },
      {
       "output_type": "stream",
       "stream": "stdout",
       "text": [
        "\n",
        "epoch 172, minibatch 383/383, validation error 13.017544 %"
       ]
      },
      {
       "output_type": "stream",
       "stream": "stdout",
       "text": [
        "\n",
        "epoch 173, minibatch 383/383, validation error 13.087719 %"
       ]
      },
      {
       "output_type": "stream",
       "stream": "stdout",
       "text": [
        "\n",
        "epoch 174, minibatch 383/383, validation error 13.087719 %"
       ]
      },
      {
       "output_type": "stream",
       "stream": "stdout",
       "text": [
        "\n",
        "epoch 175, minibatch 383/383, validation error 13.122807 %"
       ]
      },
      {
       "output_type": "stream",
       "stream": "stdout",
       "text": [
        "\n",
        "epoch 176, minibatch 383/383, validation error 13.052632 %"
       ]
      },
      {
       "output_type": "stream",
       "stream": "stdout",
       "text": [
        "\n",
        "epoch 177, minibatch 383/383, validation error 13.052632 %"
       ]
      },
      {
       "output_type": "stream",
       "stream": "stdout",
       "text": [
        "\n",
        "epoch 178, minibatch 383/383, validation error 13.122807 %"
       ]
      },
      {
       "output_type": "stream",
       "stream": "stdout",
       "text": [
        "\n",
        "epoch 179, minibatch 383/383, validation error 13.087719 %"
       ]
      },
      {
       "output_type": "stream",
       "stream": "stdout",
       "text": [
        "\n",
        "epoch 180, minibatch 383/383, validation error 13.052632 %"
       ]
      },
      {
       "output_type": "stream",
       "stream": "stdout",
       "text": [
        "\n",
        "epoch 181, minibatch 383/383, validation error 13.052632 %"
       ]
      },
      {
       "output_type": "stream",
       "stream": "stdout",
       "text": [
        "\n",
        "epoch 182, minibatch 383/383, validation error 13.017544 %"
       ]
      },
      {
       "output_type": "stream",
       "stream": "stdout",
       "text": [
        "\n",
        "epoch 183, minibatch 383/383, validation error 13.017544 %"
       ]
      },
      {
       "output_type": "stream",
       "stream": "stdout",
       "text": [
        "\n",
        "epoch 184, minibatch 383/383, validation error 13.017544 %"
       ]
      },
      {
       "output_type": "stream",
       "stream": "stdout",
       "text": [
        "\n",
        "epoch 185, minibatch 383/383, validation error 12.982456 %"
       ]
      },
      {
       "output_type": "stream",
       "stream": "stdout",
       "text": [
        "\n",
        "epoch 186, minibatch 383/383, validation error 12.982456 %"
       ]
      },
      {
       "output_type": "stream",
       "stream": "stdout",
       "text": [
        "\n",
        "epoch 187, minibatch 383/383, validation error 12.912281 %"
       ]
      },
      {
       "output_type": "stream",
       "stream": "stdout",
       "text": [
        "\n",
        "epoch 188, minibatch 383/383, validation error 12.912281 %"
       ]
      },
      {
       "output_type": "stream",
       "stream": "stdout",
       "text": [
        "\n",
        "epoch 189, minibatch 383/383, validation error 12.947368 %"
       ]
      },
      {
       "output_type": "stream",
       "stream": "stdout",
       "text": [
        "\n",
        "epoch 190, minibatch 383/383, validation error 12.947368 %"
       ]
      },
      {
       "output_type": "stream",
       "stream": "stdout",
       "text": [
        "\n",
        "epoch 191, minibatch 383/383, validation error 12.947368 %"
       ]
      },
      {
       "output_type": "stream",
       "stream": "stdout",
       "text": [
        "\n"
       ]
      },
      {
       "output_type": "stream",
       "stream": "stderr",
       "text": [
        "The pretraining code ran for 7.04m\n"
       ]
      }
     ],
     "prompt_number": 19
    },
    {
     "cell_type": "code",
     "collapsed": false,
     "input": [
      "print 'hidden_layers_sizes:', hidden_layers_sizes\n",
      "print 'corruption_levels:', corruption_levels\n",
      "\n",
      "training_predicted = sda_transformed.predict(new_x_train_minmax_whole)\n",
      "y_train = y_train_minmax\n",
      "print 'train accuracy: ', '{percent:.1%}'.format(percent=sklearn.metrics.accuracy_score(y_train, training_predicted)) \n",
      "print 'precision: ', '{percent:.1%}'.format(percent=sklearn.metrics.precision_score(y_train, training_predicted, pos_label=1)) \n",
      "print 'recall: ', '{percent:.1%}'.format( percent= sklearn.metrics.recall_score(y_train, training_predicted, pos_label=1))\n",
      "\n",
      "\n",
      "test_predicted = sda_transformed.predict(new_x_test_minmax_whole)\n",
      "y_test = y_test_minmax\n",
      "print 'testing accuracy: ', '{percent:.1%}'.format(percent=sklearn.metrics.accuracy_score(y_test, test_predicted)) \n",
      "print 'precision: ', '{percent:.1%}'.format(percent=sklearn.metrics.precision_score(y_test, test_predicted, pos_label=1)) \n",
      "print 'recall: ', '{percent:.1%}'.format( percent= sklearn.metrics.recall_score(y_test, test_predicted, pos_label=1))"
     ],
     "language": "python",
     "metadata": {},
     "outputs": [
      {
       "output_type": "stream",
       "stream": "stdout",
       "text": [
        "hidden_layers_sizes: [100, 100, 100, 100, 100, 100, 100]\n",
        "corruption_levels: [0, 0, 0, 0, 0, 0, 0]\n",
        "train accuracy: "
       ]
      },
      {
       "output_type": "stream",
       "stream": "stdout",
       "text": [
        " 100.0%\n",
        "precision:  100.0%\n",
        "recall:  100.0%\n",
        "testing accuracy: "
       ]
      },
      {
       "output_type": "stream",
       "stream": "stdout",
       "text": [
        " 87.9%\n",
        "precision:  87.7%\n",
        "recall:  88.4%\n"
       ]
      }
     ],
     "prompt_number": 20
    },
    {
     "cell_type": "code",
     "collapsed": false,
     "input": [
      "import pickle\n",
      "with open('array_A.pickle', 'wb') as handle:\n",
      "  pickle.dump(array_A, handle)\n",
      "with open('array_B.pickle', 'wb') as handle:\n",
      "  pickle.dump(array_B, handle)\n",
      "with open('pos_index.pickle', 'wb') as handle:\n",
      "  pickle.dump(pos_index, handle)\n",
      "with open('neg_index.pickle', 'wb') as handle:\n",
      "  pickle.dump(neg_index, handle)"
     ],
     "language": "python",
     "metadata": {},
     "outputs": [],
     "prompt_number": 47
    },
    {
     "cell_type": "code",
     "collapsed": false,
     "input": [
      "import cPickle\n",
      "import gzip\n",
      "import os\n",
      "import sys\n",
      "import time\n",
      "\n",
      "import numpy\n",
      "\n",
      "import theano\n",
      "import theano.tensor as T\n",
      "from theano.tensor.shared_randomstreams import RandomStreams\n",
      "\n",
      "from logistic_sgd import LogisticRegression, load_data\n",
      "from mlp import HiddenLayer\n",
      "from dA import dA\n",
      "import warnings\n",
      "warnings.filterwarnings(\"ignore\")\n",
      "\n",
      "def shared_dataset(data_xy, borrow=True):\n",
      "    \"\"\" Function that loads the dataset into shared variables\n",
      "\n",
      "    The reason we store our dataset in shared variables is to allow\n",
      "    Theano to copy it into the GPU memory (when code is run on GPU).\n",
      "    Since copying data into the GPU is slow, copying a minibatch everytime\n",
      "    is needed (the default behaviour if the data is not in a shared\n",
      "    variable) would lead to a large decrease in performance.\n",
      "    \"\"\"\n",
      "    data_x, data_y = data_xy\n",
      "    shared_x = theano.shared(numpy.asarray(data_x,\n",
      "                                           dtype=theano.config.floatX),\n",
      "                             borrow=borrow)\n",
      "    shared_y = theano.shared(numpy.asarray(data_y,\n",
      "                                           dtype=theano.config.floatX),\n",
      "                             borrow=borrow)\n",
      "    # When storing data on the GPU it has to be stored as floats\n",
      "    # therefore we will store the labels as ``floatX`` as well\n",
      "    # (``shared_y`` does exactly that). But during our computations\n",
      "    # we need them as ints (we use labels as index, and if they are\n",
      "    # floats it doesn't make sense) therefore instead of returning\n",
      "    # ``shared_y`` we will have to cast it to int. This little hack\n",
      "    # lets ous get around this issue\n",
      "    return shared_x, T.cast(shared_y, 'int32')\n",
      "def shared_dataset_X(data_x, borrow=True):\n",
      "    shared_x = theano.shared(numpy.asarray(data_x,\n",
      "                                           dtype=theano.config.floatX),\n",
      "                             borrow=borrow)\n",
      "    return shared_x\n",
      "class MultipleAEs(object):\n",
      "    \"\"\"Stacked denoising auto-encoder class that extract hi level features.\n",
      "    get the last hidden layer activation\n",
      "\n",
      "    \"\"\"\n",
      "\n",
      "    def __init__(self, numpy_rng, theano_rng=None, n_ins=784,\n",
      "                 hidden_layers_sizes=[500, 500],\n",
      "                 corruption_levels=[0.1, 0.1]):\n",
      "        \"\"\" This class is made to support a variable number of layers.\n",
      "\n",
      "        :type numpy_rng: numpy.random.RandomState\n",
      "        :param numpy_rng: numpy random number generator used to draw initial\n",
      "                    weights\n",
      "\n",
      "        :type theano_rng: theano.tensor.shared_randomstreams.RandomStreams\n",
      "        :param theano_rng: Theano random generator; if None is given one is\n",
      "                           generated based on a seed drawn from `rng`\n",
      "\n",
      "        :type n_ins: int\n",
      "        :param n_ins: dimension of the input to the sdA\n",
      "\n",
      "        :type n_layers_sizes: list of ints\n",
      "        :param n_layers_sizes: intermediate layers size, must contain\n",
      "        :type corruption_levels: list of float\n",
      "        :param corruption_levels: amount of corruption to use for each\n",
      "                                  layer\n",
      "        \"\"\"\n",
      "\n",
      "        self.sigmoid_layers = []\n",
      "        self.dA_layers = []\n",
      "        self.params = []\n",
      "        self.n_layers = len(hidden_layers_sizes)\n",
      "\n",
      "        assert self.n_layers > 0\n",
      "\n",
      "        if not theano_rng:\n",
      "            theano_rng = RandomStreams(numpy_rng.randint(2 ** 30))\n",
      "        # allocate symbolic variables for the data\n",
      "        self.x = T.matrix('x')  # the data is presented as rasterized images\n",
      "        self.y = T.ivector('y')  # the labels are presented as 1D vector of\n",
      "                                 # [int] labels\n",
      "\n",
      "        # The SdA is an MLP, for which all weights of intermediate layers\n",
      "        # are shared with a different denoising autoencoders\n",
      "        # We will first construct the SdA as a deep multilayer perceptron,\n",
      "        # and when constructing each sigmoidal layer we also construct a\n",
      "        # denoising autoencoder that shares weights with that layer\n",
      "        # During pretraining we will train these autoencoders (which will\n",
      "        # lead to chainging the weights of the MLP as well)\n",
      "        # During finetunining we will finish training the SdA by doing\n",
      "        # stochastich gradient descent on the MLP\n",
      "\n",
      "        for i in xrange(self.n_layers):\n",
      "            # construct the sigmoidal layer\n",
      "\n",
      "            # the size of the input is either the number of hidden units of\n",
      "            # the layer below or the input size if we are on the first layer\n",
      "            if i == 0:\n",
      "                input_size = n_ins\n",
      "            else:\n",
      "                input_size = hidden_layers_sizes[i - 1]\n",
      "\n",
      "            # the input to this layer is either the activation of the hidden\n",
      "            # layer below or the input of the SdA if you are on the first\n",
      "            # layer\n",
      "            if i == 0:\n",
      "                layer_input = self.x\n",
      "            else:\n",
      "                layer_input = self.sigmoid_layers[-1].output\n",
      "\n",
      "            sigmoid_layer = HiddenLayer(rng=numpy_rng,\n",
      "                                        input=layer_input,\n",
      "                                        n_in=input_size,\n",
      "                                        n_out=hidden_layers_sizes[i],\n",
      "                                        activation=T.nnet.sigmoid)\n",
      "            # add the layer to our list of layers\n",
      "            self.sigmoid_layers.append(sigmoid_layer)\n",
      "            # its arguably a philosophical question...\n",
      "            # but we are going to only declare that the parameters of the\n",
      "            # sigmoid_layers are parameters of the StackedDAA\n",
      "            # the visible biases in the dA are parameters of those\n",
      "            # dA, but not the SdA\n",
      "            self.params.extend(sigmoid_layer.params)\n",
      "\n",
      "            # Construct a denoising autoencoder that shared weights with this\n",
      "            # layer\n",
      "            dA_layer = dA(numpy_rng=numpy_rng,\n",
      "                          theano_rng=theano_rng,\n",
      "                          input=layer_input,\n",
      "                          n_visible=input_size,\n",
      "                          n_hidden=hidden_layers_sizes[i],\n",
      "                          W=sigmoid_layer.W,\n",
      "                          bhid=sigmoid_layer.b)\n",
      "            self.dA_layers.append(dA_layer)\n",
      "        '''\n",
      "        we don't need this layer since is AE\n",
      "        # We now need to add a logistic layer on top of the MLP\n",
      "        self.logLayer = LogisticRegression(\n",
      "                         input=self.sigmoid_layers[-1].output,\n",
      "                         n_in=hidden_layers_sizes[-1], n_out=n_outs)\n",
      "        \n",
      "        self.params.extend(self.logLayer.params)\n",
      "        # construct a function that implements one step of finetunining\n",
      "        \n",
      "        # compute the cost for second phase of training,\n",
      "        # defined as the negative log likelihood\n",
      "        self.finetune_cost = self.logLayer.negative_log_likelihood(self.y)\n",
      "        # compute the gradients with respect to the model parameters\n",
      "        # symbolic variable that points to the number of errors made on the\n",
      "        # minibatch given by self.x and self.y\n",
      "        self.errors = self.logLayer.errors(self.y)\n",
      "        '''\n",
      "    def transform(self,data_x): # get the last layaer activations to transform data.\n",
      "        last_layer_activations = self.sigmoid_layers[-1].output\n",
      "        theano_fn = theano.function(inputs=[],\n",
      "                                 outputs=last_layer_activations,\n",
      "\n",
      "                                 givens={self.x: data_x})\n",
      "        newFeatures=theano_fn()\n",
      "        return newFeatures\n",
      "    def pretraining_functions(self, train_set_x, batch_size):\n",
      "        ''' Generates a list of functions, each of them implementing one\n",
      "        step in trainnig the dA corresponding to the layer with same index.\n",
      "        The function will require as input the minibatch index, and to train\n",
      "        a dA you just need to iterate, calling the corresponding function on\n",
      "        all minibatch indexes.\n",
      "\n",
      "        :type train_set_x: theano.tensor.TensorType\n",
      "        :param train_set_x: Shared variable that contains all datapoints used\n",
      "                            for training the dA\n",
      "\n",
      "        :type batch_size: int\n",
      "        :param batch_size: size of a [mini]batch\n",
      "\n",
      "        :type learning_rate: float\n",
      "        :param learning_rate: learning rate used during training for any of\n",
      "                              the dA layers\n",
      "        '''\n",
      "\n",
      "        # index to a [mini]batch\n",
      "        index = T.lscalar('index')  # index to a minibatch\n",
      "        corruption_level = T.scalar('corruption')  # % of corruption to use\n",
      "        learning_rate = T.scalar('lr')  # learning rate to use\n",
      "        # number of batches\n",
      "        n_batches = train_set_x.get_value(borrow=True).shape[0] / batch_size\n",
      "        # begining of a batch, given `index`\n",
      "        batch_begin = index * batch_size\n",
      "        # ending of a batch given `index`\n",
      "        batch_end = batch_begin + batch_size\n",
      "\n",
      "        pretrain_fns = []\n",
      "        for dA in self.dA_layers:\n",
      "            # get the cost and the updates list\n",
      "            cost, updates = dA.get_cost_updates(corruption_level,\n",
      "                                                learning_rate)\n",
      "            # compile the theano function\n",
      "            fn = theano.function(inputs=[index,\n",
      "                              theano.Param(corruption_level, default=0.2),\n",
      "                              theano.Param(learning_rate, default=0.1)],\n",
      "                                 outputs=cost,\n",
      "                                 updates=updates,\n",
      "                                 givens={self.x: train_set_x[batch_begin:\n",
      "                                                             batch_end]})\n",
      "            # append `fn` to the list of functions\n",
      "            pretrain_fns.append(fn)\n",
      "\n",
      "        return pretrain_fns\n",
      "\n",
      "    def build_finetune_functions(self, datasets, batch_size, learning_rate):\n",
      "        '''Generates a function `train` that implements one step of\n",
      "        finetuning, a function `validate` that computes the error on\n",
      "        a batch from the validation set, and a function `test` that\n",
      "        computes the error on a batch from the testing set\n",
      "\n",
      "        :type datasets: list of pairs of theano.tensor.TensorType\n",
      "        :param datasets: It is a list that contain all the datasets;\n",
      "                         the has to contain three pairs, `train`,\n",
      "                         `valid`, `test` in this order, where each pair\n",
      "                         is formed of two Theano variables, one for the\n",
      "                         datapoints, the other for the labels\n",
      "\n",
      "        :type batch_size: int\n",
      "        :param batch_size: size of a minibatch\n",
      "\n",
      "        :type learning_rate: float\n",
      "        :param learning_rate: learning rate used during finetune stage\n",
      "        '''\n",
      "\n",
      "        (train_set_x, train_set_y) = datasets[0]\n",
      "        (valid_set_x, valid_set_y) = datasets[1]\n",
      "        (test_set_x, test_set_y) = datasets[2]\n",
      "\n",
      "        # compute number of minibatches for training, validation and testing\n",
      "        n_valid_batches = valid_set_x.get_value(borrow=True).shape[0]\n",
      "        n_valid_batches /= batch_size\n",
      "        n_test_batches = test_set_x.get_value(borrow=True).shape[0]\n",
      "        n_test_batches /= batch_size\n",
      "\n",
      "        index = T.lscalar('index')  # index to a [mini]batch\n",
      "\n",
      "        # compute the gradients with respect to the model parameters\n",
      "        gparams = T.grad(self.finetune_cost, self.params)\n",
      "\n",
      "        # compute list of fine-tuning updates\n",
      "        updates = []\n",
      "        for param, gparam in zip(self.params, gparams):\n",
      "            updates.append((param, param - gparam * learning_rate))\n",
      "\n",
      "        train_fn = theano.function(inputs=[index],\n",
      "              outputs=self.finetune_cost,\n",
      "              updates=updates,\n",
      "              givens={\n",
      "                self.x: train_set_x[index * batch_size:\n",
      "                                    (index + 1) * batch_size],\n",
      "                self.y: train_set_y[index * batch_size:\n",
      "                                    (index + 1) * batch_size]},\n",
      "              name='train')\n",
      "\n",
      "        test_score_i = theano.function([index], self.errors,\n",
      "                 givens={\n",
      "                   self.x: test_set_x[index * batch_size:\n",
      "                                      (index + 1) * batch_size],\n",
      "                   self.y: test_set_y[index * batch_size:\n",
      "                                      (index + 1) * batch_size]},\n",
      "                      name='test')\n",
      "\n",
      "        valid_score_i = theano.function([index], self.errors,\n",
      "              givens={\n",
      "                 self.x: valid_set_x[index * batch_size:\n",
      "                                     (index + 1) * batch_size],\n",
      "                 self.y: valid_set_y[index * batch_size:\n",
      "                                     (index + 1) * batch_size]},\n",
      "                      name='valid')\n",
      "\n",
      "        # Create a function that scans the entire validation set\n",
      "        def valid_score():\n",
      "            return [valid_score_i(i) for i in xrange(n_valid_batches)]\n",
      "\n",
      "        # Create a function that scans the entire test set\n",
      "        def test_score():\n",
      "            return [test_score_i(i) for i in xrange(n_test_batches)]\n",
      "\n",
      "        return train_fn, valid_score, test_score\n",
      "def train_a_MultipleAEs(X, pretraining_epochs=10, pretrain_lr=0.001, batch_size=30,\n",
      "                        hidden_layers_sizes=[100, 100], corruption_levels=[0, 0]):\n",
      "    \n",
      "    # get a shared copy of X\n",
      "    train_set_x = shared_dataset_X(X)\n",
      "    # compute number of minibatches for training, validation and testing\n",
      "    n_train_batches = train_set_x.get_value(borrow=True).shape[0]\n",
      "    n_train_batches /= batch_size\n",
      "\n",
      "    # numpy random generator\n",
      "    numpy_rng = numpy.random.RandomState(89677)\n",
      "    print '... building the model'\n",
      "    # construct the stacked denoising autoencoder class\n",
      "    sda = MultipleAEs(numpy_rng=numpy_rng, n_ins=train_set_x.get_value(borrow=True).shape[1],\n",
      "              hidden_layers_sizes=hidden_layers_sizes, corruption_levels = corruption_levels)\n",
      "\n",
      "    #########################\n",
      "    # PRETRAINING THE MODEL #\n",
      "    #########################\n",
      "    print '... getting the pretraining functions'\n",
      "    pretraining_fns = sda.pretraining_functions(train_set_x=train_set_x,\n",
      "                                                batch_size=batch_size)\n",
      "\n",
      "    print '... pre-training the model'\n",
      "    start_time = time.clock()\n",
      "    ## Pre-train layer-wise\n",
      "    corruption_levels = [.1, .2, .3]\n",
      "    for i in xrange(sda.n_layers):\n",
      "        # go through pretraining epochs\n",
      "        for epoch in xrange(pretraining_epochs):\n",
      "            # go through the training set\n",
      "            c = []\n",
      "            for batch_index in xrange(n_train_batches):\n",
      "                c.append(pretraining_fns[i](index=batch_index,\n",
      "                         corruption=corruption_levels[i],\n",
      "                         lr=pretrain_lr))\n",
      "            print 'Pre-training layer %i, epoch %d, cost ' % (i, epoch),\n",
      "            print numpy.mean(c)\n",
      "\n",
      "    end_time = time.clock()\n",
      "    return sda\n",
      "class SdA(object):\n",
      "    \"\"\"Stacked denoising auto-encoder class (SdA)\n",
      "\n",
      "    A stacked denoising autoencoder model is obtained by stacking several\n",
      "    dAs. The hidden layer of the dA at layer `i` becomes the input of\n",
      "    the dA at layer `i+1`. The first layer dA gets as input the input of\n",
      "    the SdA, and the hidden layer of the last dA represents the output.\n",
      "    Note that after pretraining, the SdA is dealt with as a normal MLP,\n",
      "    the dAs are only used to initialize the weights.\n",
      "    \"\"\"\n",
      "\n",
      "    def __init__(self, numpy_rng, theano_rng=None, n_ins=784,\n",
      "                 hidden_layers_sizes=[500, 500], n_outs=10,\n",
      "                 corruption_levels=[0.1, 0.1]):\n",
      "        \"\"\" This class is made to support a variable number of layers.\n",
      "\n",
      "        :type numpy_rng: numpy.random.RandomState\n",
      "        :param numpy_rng: numpy random number generator used to draw initial\n",
      "                    weights\n",
      "\n",
      "        :type theano_rng: theano.tensor.shared_randomstreams.RandomStreams\n",
      "        :param theano_rng: Theano random generator; if None is given one is\n",
      "                           generated based on a seed drawn from `rng`\n",
      "\n",
      "        :type n_ins: int\n",
      "        :param n_ins: dimension of the input to the sdA\n",
      "\n",
      "        :type n_layers_sizes: list of ints\n",
      "        :param n_layers_sizes: intermediate layers size, must contain\n",
      "                               at least one value\n",
      "\n",
      "        :type n_outs: int\n",
      "        :param n_outs: dimension of the output of the network\n",
      "\n",
      "        :type corruption_levels: list of float\n",
      "        :param corruption_levels: amount of corruption to use for each\n",
      "                                  layer\n",
      "        \"\"\"\n",
      "\n",
      "        self.sigmoid_layers = []\n",
      "        self.dA_layers = []\n",
      "        self.params = []\n",
      "        self.n_layers = len(hidden_layers_sizes)\n",
      "\n",
      "        assert self.n_layers > 0\n",
      "\n",
      "        if not theano_rng:\n",
      "            theano_rng = RandomStreams(numpy_rng.randint(2 ** 30))\n",
      "        # allocate symbolic variables for the data\n",
      "        self.x = T.matrix('x')  # the data is presented as rasterized images\n",
      "        self.y = T.ivector('y')  # the labels are presented as 1D vector of\n",
      "                                 # [int] labels\n",
      "\n",
      "        # The SdA is an MLP, for which all weights of intermediate layers\n",
      "        # are shared with a different denoising autoencoders\n",
      "        # We will first construct the SdA as a deep multilayer perceptron,\n",
      "        # and when constructing each sigmoidal layer we also construct a\n",
      "        # denoising autoencoder that shares weights with that layer\n",
      "        # During pretraining we will train these autoencoders (which will\n",
      "        # lead to chainging the weights of the MLP as well)\n",
      "        # During finetunining we will finish training the SdA by doing\n",
      "        # stochastich gradient descent on the MLP\n",
      "\n",
      "        for i in xrange(self.n_layers):\n",
      "            # construct the sigmoidal layer\n",
      "\n",
      "            # the size of the input is either the number of hidden units of\n",
      "            # the layer below or the input size if we are on the first layer\n",
      "            if i == 0:\n",
      "                input_size = n_ins\n",
      "            else:\n",
      "                input_size = hidden_layers_sizes[i - 1]\n",
      "\n",
      "            # the input to this layer is either the activation of the hidden\n",
      "            # layer below or the input of the SdA if you are on the first\n",
      "            # layer\n",
      "            if i == 0:\n",
      "                layer_input = self.x\n",
      "            else:\n",
      "                layer_input = self.sigmoid_layers[-1].output\n",
      "\n",
      "            sigmoid_layer = HiddenLayer(rng=numpy_rng,\n",
      "                                        input=layer_input,\n",
      "                                        n_in=input_size,\n",
      "                                        n_out=hidden_layers_sizes[i],\n",
      "                                        activation=T.nnet.sigmoid)\n",
      "            # add the layer to our list of layers\n",
      "            self.sigmoid_layers.append(sigmoid_layer)\n",
      "            # its arguably a philosophical question...\n",
      "            # but we are going to only declare that the parameters of the\n",
      "            # sigmoid_layers are parameters of the StackedDAA\n",
      "            # the visible biases in the dA are parameters of those\n",
      "            # dA, but not the SdA\n",
      "            self.params.extend(sigmoid_layer.params)\n",
      "\n",
      "            # Construct a denoising autoencoder that shared weights with this\n",
      "            # layer\n",
      "            dA_layer = dA(numpy_rng=numpy_rng,\n",
      "                          theano_rng=theano_rng,\n",
      "                          input=layer_input,\n",
      "                          n_visible=input_size,\n",
      "                          n_hidden=hidden_layers_sizes[i],\n",
      "                          W=sigmoid_layer.W,\n",
      "                          bhid=sigmoid_layer.b)\n",
      "            self.dA_layers.append(dA_layer)\n",
      "\n",
      "        # We now need to add a logistic layer on top of the MLP\n",
      "        self.logLayer = LogisticRegression(\n",
      "                         input=self.sigmoid_layers[-1].output,\n",
      "                         n_in=hidden_layers_sizes[-1], n_out=n_outs)\n",
      "\n",
      "        self.params.extend(self.logLayer.params)\n",
      "        # construct a function that implements one step of finetunining\n",
      "\n",
      "        # compute the cost for second phase of training,\n",
      "        # defined as the negative log likelihood\n",
      "        self.finetune_cost = self.logLayer.negative_log_likelihood(self.y)\n",
      "        # compute the gradients with respect to the model parameters\n",
      "        # symbolic variable that points to the number of errors made on the\n",
      "        # minibatch given by self.x and self.y\n",
      "        self.errors = self.logLayer.errors(self.y)\n",
      "\n",
      "    def pretraining_functions(self, train_set_x, batch_size):\n",
      "        ''' Generates a list of functions, each of them implementing one\n",
      "        step in trainnig the dA corresponding to the layer with same index.\n",
      "        The function will require as input the minibatch index, and to train\n",
      "        a dA you just need to iterate, calling the corresponding function on\n",
      "        all minibatch indexes.\n",
      "\n",
      "        :type train_set_x: theano.tensor.TensorType\n",
      "        :param train_set_x: Shared variable that contains all datapoints used\n",
      "                            for training the dA\n",
      "\n",
      "        :type batch_size: int\n",
      "        :param batch_size: size of a [mini]batch\n",
      "\n",
      "        :type learning_rate: float\n",
      "        :param learning_rate: learning rate used during training for any of\n",
      "                              the dA layers\n",
      "        '''\n",
      "\n",
      "        # index to a [mini]batch\n",
      "        index = T.lscalar('index')  # index to a minibatch\n",
      "        corruption_level = T.scalar('corruption')  # % of corruption to use\n",
      "        learning_rate = T.scalar('lr')  # learning rate to use\n",
      "        # number of batches\n",
      "        n_batches = train_set_x.get_value(borrow=True).shape[0] / batch_size\n",
      "        # begining of a batch, given `index`\n",
      "        batch_begin = index * batch_size\n",
      "        # ending of a batch given `index`\n",
      "        batch_end = batch_begin + batch_size\n",
      "\n",
      "        pretrain_fns = []\n",
      "        for dA in self.dA_layers:\n",
      "            # get the cost and the updates list\n",
      "            cost, updates = dA.get_cost_updates(corruption_level,\n",
      "                                                learning_rate)\n",
      "            # compile the theano function\n",
      "            fn = theano.function(inputs=[index,\n",
      "                              theano.Param(corruption_level, default=0.2),\n",
      "                              theano.Param(learning_rate, default=0.1)],\n",
      "                                 outputs=cost,\n",
      "                                 updates=updates,\n",
      "                                 givens={self.x: train_set_x[batch_begin:\n",
      "                                                             batch_end]})\n",
      "            # append `fn` to the list of functions\n",
      "            pretrain_fns.append(fn)\n",
      "\n",
      "        return pretrain_fns\n",
      "    def predict(self, x_dataset):\n",
      "        predict_fn = theano.function([], sda.logLayer.y_pred,\n",
      "                   givens={sda.x: x_dataset})\n",
      "        predicted = predict_fn()\n",
      "        return predicted\n",
      "    def predict_p(self, x_dataset):\n",
      "        predict_p_fn = theano.function([], sda.logLayer.p_y_given_x,\n",
      "                   givens={sda.x: x_dataset})\n",
      "        predicted_p = predict_p_fn()\n",
      "        return predicted_p\n",
      "    def build_finetune_functions(self, datasets, batch_size, learning_rate):\n",
      "        '''Generates a function `train` that implements one step of\n",
      "        finetuning, a function `validate` that computes the error on\n",
      "        a batch from the validation set, and a function `test` that\n",
      "        computes the error on a batch from the testing set\n",
      "\n",
      "        :type datasets: list of pairs of theano.tensor.TensorType\n",
      "        :param datasets: It is a list that contain all the datasets;\n",
      "                         the has to contain three pairs, `train`,\n",
      "                         `valid`, `test` in this order, where each pair\n",
      "                         is formed of two Theano variables, one for the\n",
      "                         datapoints, the other for the labels\n",
      "\n",
      "        :type batch_size: int\n",
      "        :param batch_size: size of a minibatch\n",
      "\n",
      "        :type learning_rate: float\n",
      "        :param learning_rate: learning rate used during finetune stage\n",
      "        '''\n",
      "\n",
      "        (train_set_x, train_set_y) = datasets[0]\n",
      "        (valid_set_x, valid_set_y) = datasets[1]\n",
      "        (test_set_x, test_set_y) = datasets[2]\n",
      "\n",
      "        # compute number of minibatches for training, validation and testing\n",
      "        n_valid_batches = valid_set_x.get_value(borrow=True).shape[0]\n",
      "        n_valid_batches /= batch_size\n",
      "        n_test_batches = test_set_x.get_value(borrow=True).shape[0]\n",
      "        n_test_batches /= batch_size\n",
      "\n",
      "        index = T.lscalar('index')  # index to a [mini]batch\n",
      "\n",
      "        # compute the gradients with respect to the model parameters\n",
      "        gparams = T.grad(self.finetune_cost, self.params)\n",
      "\n",
      "        # compute list of fine-tuning updates\n",
      "        updates = []\n",
      "        for param, gparam in zip(self.params, gparams):\n",
      "            updates.append((param, param - gparam * learning_rate))\n",
      "\n",
      "        train_fn = theano.function(inputs=[index],\n",
      "              outputs=self.finetune_cost,\n",
      "              updates=updates,\n",
      "              givens={\n",
      "                self.x: train_set_x[index * batch_size:\n",
      "                                    (index + 1) * batch_size],\n",
      "                self.y: train_set_y[index * batch_size:\n",
      "                                    (index + 1) * batch_size]},\n",
      "              name='train')\n",
      "\n",
      "        test_score_i = theano.function([index], self.errors,\n",
      "                 givens={\n",
      "                   self.x: test_set_x[index * batch_size:\n",
      "                                      (index + 1) * batch_size],\n",
      "                   self.y: test_set_y[index * batch_size:\n",
      "                                      (index + 1) * batch_size]},\n",
      "                      name='test')\n",
      "\n",
      "        valid_score_i = theano.function([index], self.errors,\n",
      "              givens={\n",
      "                 self.x: valid_set_x[index * batch_size:\n",
      "                                     (index + 1) * batch_size],\n",
      "                 self.y: valid_set_y[index * batch_size:\n",
      "                                     (index + 1) * batch_size]},\n",
      "                      name='valid')\n",
      "\n",
      "        # Create a function that scans the entire validation set\n",
      "        def valid_score():\n",
      "            return [valid_score_i(i) for i in xrange(n_valid_batches)]\n",
      "\n",
      "        # Create a function that scans the entire test set\n",
      "        def test_score():\n",
      "            return [test_score_i(i) for i in xrange(n_test_batches)]\n",
      "\n",
      "        return train_fn, valid_score, test_score\n",
      "\n",
      "##### create a function to train an Sda and return it.\n",
      "def trainSda(X_train_minmax, y_train,\n",
      "             X_validation_minmax, y_validation , \n",
      "             X_test_minmax, y_test,\n",
      "             hidden_layers_sizes = [100, 100, 100], corruption_levels = [0, 0, 0], batch_size = 30 , \\\n",
      "             training_epochs = 100, pretraining_epochs = 100, pretrain_lr = 0.001, finetune_lr=0.1\n",
      "             ):\n",
      "    n_visible = X_train_minmax.shape[1]\n",
      "    # compute number of minibatches for training, validation and testing\n",
      "\n",
      "    train_set_x, train_set_y = shared_dataset( (X_train_minmax,  y_train), borrow=True)\n",
      "    valid_set_x, valid_set_y = shared_dataset( (X_validation_minmax,  y_validation), borrow=True)\n",
      "    test_set_x, test_set_y = shared_dataset( (X_test_minmax,  y_test), borrow=True)\n",
      "    n_train_batches = train_set_x.get_value(borrow=True).shape[0]\n",
      "    n_train_batches /= batch_size\n",
      "    # numpy random generator\n",
      "    numpy_rng = numpy.random.RandomState(89677)\n",
      "    print '... building the model'\n",
      "    # construct the stacked denoising autoencoder class\n",
      "    sda = SdA(numpy_rng=numpy_rng, n_ins=n_visible,\n",
      "              hidden_layers_sizes= hidden_layers_sizes,\n",
      "              n_outs=2)\n",
      "    #########################\n",
      "    # PRETRAINING THE MODEL #\n",
      "    #########################\n",
      "    print '... getting the pretraining functions'\n",
      "    pretraining_fns = sda.pretraining_functions(train_set_x=train_set_x,\n",
      "                                                batch_size=batch_size)\n",
      "\n",
      "    print '... pre-training the model'\n",
      "    start_time = time.clock()\n",
      "    ## Pre-train layer-wise\n",
      "\n",
      "    for i in xrange(sda.n_layers):\n",
      "        # go through pretraining epochs\n",
      "        for epoch in xrange(pretraining_epochs):\n",
      "            # go through the training set\n",
      "            c = []\n",
      "            for batch_index in xrange(n_train_batches):\n",
      "                c.append(pretraining_fns[i](index=batch_index,\n",
      "                         corruption=corruption_levels[i],\n",
      "                         lr=pretrain_lr))\n",
      "            print 'Pre-training layer %i, epoch %d, cost ' % (i, epoch),\n",
      "            print numpy.mean(c)\n",
      "\n",
      "    end_time = time.clock()\n",
      "\n",
      "    print >> sys.stderr, ('The pretraining code ran for %.2fm' % ((end_time - start_time) / 60.))\n",
      "\n",
      "    ########################\n",
      "    # FINETUNING THE MODEL #\n",
      "    ########################\n",
      "\n",
      "    # get the training, validation and testing function for the model\n",
      "    print '... getting the finetuning functions'\n",
      "    datasets = [(train_set_x, train_set_y) , (valid_set_x, valid_set_y), (test_set_x, test_set_y)]\n",
      "    train_fn, validate_model, test_model = sda.build_finetune_functions(\n",
      "                datasets=datasets, batch_size=batch_size,\n",
      "                learning_rate=finetune_lr)\n",
      "\n",
      "    print '... finetunning the model'\n",
      "    # early-stopping parameters\n",
      "    patience = 10 * n_train_batches  # look as this many examples regardless\n",
      "    patience_increase = 2.  # wait this much longer when a new best is\n",
      "                            # found\n",
      "    improvement_threshold = 0.995  # a relative improvement of this much is\n",
      "                                   # considered significant\n",
      "    validation_frequency = min(n_train_batches, patience / 2)\n",
      "                                  # go through this many\n",
      "                                  # minibatche before checking the network\n",
      "                                  # on the validation set; in this case we\n",
      "                                  # check every epoch\n",
      "\n",
      "    best_params = None\n",
      "    best_validation_loss = numpy.inf\n",
      "    test_score = 0.\n",
      "    start_time = time.clock()\n",
      "\n",
      "    done_looping = False\n",
      "    epoch = 0\n",
      "\n",
      "    while (epoch < training_epochs) and (not done_looping):\n",
      "        epoch = epoch + 1\n",
      "        for minibatch_index in xrange(n_train_batches):\n",
      "            minibatch_avg_cost = train_fn(minibatch_index)\n",
      "            iter = (epoch - 1) * n_train_batches + minibatch_index\n",
      "\n",
      "            if (iter + 1) % validation_frequency == 0:\n",
      "                validation_losses = validate_model()\n",
      "                this_validation_loss = numpy.mean(validation_losses)\n",
      "                print('epoch %i, minibatch %i/%i, validation error %f %%' %\n",
      "                      (epoch, minibatch_index + 1, n_train_batches,\n",
      "                       this_validation_loss * 100.))\n",
      "\n",
      "                # if we got the best validation score until now\n",
      "                if this_validation_loss < best_validation_loss:\n",
      "\n",
      "                    #improve patience if loss improvement is good enough\n",
      "                    if (this_validation_loss < best_validation_loss *\n",
      "                        improvement_threshold):\n",
      "                        patience = max(patience, iter * patience_increase)\n",
      "\n",
      "                    # save best validation score and iteration number\n",
      "                    best_validation_loss = this_validation_loss\n",
      "                    best_iter = iter\n",
      "\n",
      "                    # test it on the test set\n",
      "                    test_losses = test_model()\n",
      "                    test_score = numpy.mean(test_losses)\n",
      "                    print((' epoch %i, minibatch %i/%i, test error of '\n",
      "                           'best model %f %%') %\n",
      "                          (epoch, minibatch_index + 1, n_train_batches,\n",
      "                           test_score * 100.))\n",
      "\n",
      "            if patience <= iter:\n",
      "                done_looping = True\n",
      "                break\n",
      "    return sda\n",
      "# the following is a split stacked auto encoder\n",
      "\n",
      "class Split_SdA(object):\n",
      "    \"\"\"Split Stacked denoising auto-encoder class (SdA)\n",
      "\n",
      "    \"\"\"\n",
      "\n",
      "    def __init__(self, numpy_rng, theano_rng=None, n_ins=784,\n",
      "                 hidden_layers_sizes_A=[100, 100],\n",
      "                 hidden_layers_sizes_B=[100, 100],\n",
      "                 n_outs=2,\n",
      "                 corruption_levels_A=[0, 0],\n",
      "                 corruption_levels_B=[0, 0]):\n",
      "        \"\"\" This class is made to support a variable number of layers.\n",
      "\n",
      "        :type numpy_rng: numpy.random.RandomState\n",
      "        :param numpy_rng: numpy random number generator used to draw initial\n",
      "                    weights\n",
      "\n",
      "        :type theano_rng: theano.tensor.shared_randomstreams.RandomStreams\n",
      "        :param theano_rng: Theano random generator; if None is given one is\n",
      "                           generated based on a seed drawn from `rng`\n",
      "\n",
      "        :type n_ins: int\n",
      "        :param n_ins: dimension of the input to the sdA\n",
      "\n",
      "        :type n_layers_sizes: list of ints\n",
      "        :param n_layers_sizes: intermediate layers size, must contain\n",
      "                               at least one value\n",
      "\n",
      "        :type n_outs: int\n",
      "        :param n_outs: dimension of the output of the network\n",
      "\n",
      "        :type corruption_levels: list of float\n",
      "        :param corruption_levels: amount of corruption to use for each\n",
      "                                  layer\n",
      "        \"\"\"\n",
      "\n",
      "        self.sigmoid_layers = []\n",
      "        self.dA_layers = []\n",
      "        self.params = []\n",
      "        self.n_layers = len(hidden_layers_sizes)\n",
      "\n",
      "        assert self.n_layers > 0\n",
      "\n",
      "        if not theano_rng:\n",
      "            theano_rng = RandomStreams(numpy_rng.randint(2 ** 30))\n",
      "        # allocate symbolic variables for the data\n",
      "        self.x = T.matrix('x')  # the data is presented as rasterized images\n",
      "        self.y = T.ivector('y')  # the labels are presented as 1D vector of\n",
      "                                 # [int] labels\n",
      "\n",
      "        # The SdA is an MLP, for which all weights of intermediate layers\n",
      "        # are shared with a different denoising autoencoders\n",
      "        # We will first construct the SdA as a deep multilayer perceptron,\n",
      "        # and when constructing each sigmoidal layer we also construct a\n",
      "        # denoising autoencoder that shares weights with that layer\n",
      "        # During pretraining we will train these autoencoders (which will\n",
      "        # lead to chainging the weights of the MLP as well)\n",
      "        # During finetunining we will finish training the SdA by doing\n",
      "        # stochastich gradient descent on the MLP\n",
      "\n",
      "        for i in xrange(self.n_layers):\n",
      "            # construct the sigmoidal layer\n",
      "\n",
      "            # the size of the input is either the number of hidden units of\n",
      "            # the layer below or the input size if we are on the first layer\n",
      "            if i == 0:\n",
      "                input_size = n_ins\n",
      "            else:\n",
      "                input_size = hidden_layers_sizes[i - 1]\n",
      "\n",
      "            # the input to this layer is either the activation of the hidden\n",
      "            # layer below or the input of the SdA if you are on the first\n",
      "            # layer\n",
      "            if i == 0:\n",
      "                layer_input = self.x\n",
      "            else:\n",
      "                layer_input = self.sigmoid_layers[-1].output\n",
      "\n",
      "            sigmoid_layer = HiddenLayer(rng=numpy_rng,\n",
      "                                        input=layer_input,\n",
      "                                        n_in=input_size,\n",
      "                                        n_out=hidden_layers_sizes[i],\n",
      "                                        activation=T.nnet.sigmoid)\n",
      "            # add the layer to our list of layers\n",
      "            self.sigmoid_layers.append(sigmoid_layer)\n",
      "            # its arguably a philosophical question...\n",
      "            # but we are going to only declare that the parameters of the\n",
      "            # sigmoid_layers are parameters of the StackedDAA\n",
      "            # the visible biases in the dA are parameters of those\n",
      "            # dA, but not the SdA\n",
      "            self.params.extend(sigmoid_layer.params)\n",
      "\n",
      "            # Construct a denoising autoencoder that shared weights with this\n",
      "            # layer\n",
      "            dA_layer = dA(numpy_rng=numpy_rng,\n",
      "                          theano_rng=theano_rng,\n",
      "                          input=layer_input,\n",
      "                          n_visible=input_size,\n",
      "                          n_hidden=hidden_layers_sizes[i],\n",
      "                          W=sigmoid_layer.W,\n",
      "                          bhid=sigmoid_layer.b)\n",
      "            self.dA_layers.append(dA_layer)\n",
      "\n",
      "        # We now need to add a logistic layer on top of the MLP\n",
      "        self.logLayer = LogisticRegression(\n",
      "                         input=self.sigmoid_layers[-1].output,\n",
      "                         n_in=hidden_layers_sizes[-1], n_out=n_outs)\n",
      "\n",
      "        self.params.extend(self.logLayer.params)\n",
      "        # construct a function that implements one step of finetunining\n",
      "\n",
      "        # compute the cost for second phase of training,\n",
      "        # defined as the negative log likelihood\n",
      "        self.finetune_cost = self.logLayer.negative_log_likelihood(self.y)\n",
      "        # compute the gradients with respect to the model parameters\n",
      "        # symbolic variable that points to the number of errors made on the\n",
      "        # minibatch given by self.x and self.y\n",
      "        self.errors = self.logLayer.errors(self.y)\n",
      "\n"
     ],
     "language": "python",
     "metadata": {},
     "outputs": [],
     "prompt_number": 58
    }
   ],
   "metadata": {}
  }
 ]
}