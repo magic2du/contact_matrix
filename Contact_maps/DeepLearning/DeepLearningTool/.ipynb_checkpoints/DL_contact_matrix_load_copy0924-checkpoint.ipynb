{
 "metadata": {
  "name": "",
  "signature": "sha256:5f0c1c84805d84fe60041c218417eb99b24b339a2216b26a26a5f111336cf744"
 },
 "nbformat": 3,
 "nbformat_minor": 0,
 "worksheets": [
  {
   "cells": [
    {
     "cell_type": "code",
     "collapsed": false,
     "input": [
      "import sys, os\n",
      "sys.path.append('../../../libs/')\n",
      "import os.path\n",
      "import IO_class\n",
      "from IO_class import FileOperator\n",
      "from sklearn import cross_validation\n",
      "import sklearn\n",
      "import numpy as np\n",
      "import csv\n",
      "from dateutil import parser\n",
      "from datetime import timedelta\n",
      "from sklearn import svm\n",
      "import numpy as np\n",
      "import pandas as pd\n",
      "import pdb\n",
      "import pickle\n",
      "import numpy as np\n",
      "from sklearn.cross_validation import train_test_split\n",
      "from sklearn import preprocessing\n",
      "import sklearn\n",
      "import scipy.stats as ss\n",
      "from sklearn.svm import LinearSVC\n",
      "import random\n",
      "from DL_libs import *\n",
      "from itertools import izip #new\n",
      "import pprocess"
     ],
     "language": "python",
     "metadata": {},
     "outputs": [],
     "prompt_number": 4
    },
    {
     "cell_type": "code",
     "collapsed": false,
     "input": [
      "#filename = 'SUCCESS_log_CrossValidation_load_DL_remoteFisherM1_DL_RE_US_DL_RE_US_1_1_19MAY2014.txt'\n",
      "filename = 'listOfDDIsHaveOver2InterfacesHave40-75_Examples_2010_real_selected.txt' #for testing\n",
      "#filename = 'list_of_SUCCESS_log_run3DID_STAT_200_275_examples_201001MAY2014.txt'\n",
      "file_obj = FileOperator(filename)\n",
      "ddis = file_obj.readStripLines()"
     ],
     "language": "python",
     "metadata": {},
     "outputs": [
      {
       "output_type": "stream",
       "stream": "stdout",
       "text": [
        "number of lines in listOfDDIsHaveOver2InterfacesHave40-75_Examples_2010_real_selected.txt:37\n"
       ]
      }
     ],
     "prompt_number": 2
    },
    {
     "cell_type": "code",
     "collapsed": false,
     "input": [
      "ddi  = ddis[0]\n",
      "ddis"
     ],
     "language": "python",
     "metadata": {},
     "outputs": [
      {
       "metadata": {},
       "output_type": "pyout",
       "prompt_number": 5,
       "text": [
        "['6PGD_int_NAD_binding_2',\n",
        " 'Activin_recp_int_TGF_beta',\n",
        " 'ADSL_C_int_Lyase_1',\n",
        " 'AICARFT_IMPCHas_int_MGS',\n",
        " 'AIRS_int_AIRS_C',\n",
        " 'Ald_Xan_dh_C_int_FAD_binding_5',\n",
        " 'Alpha-amylase_int_CBM_48',\n",
        " 'AMNp_N_int_PNP_UDP_1',\n",
        " 'ARPC4_int_WD40',\n",
        " 'CagX_int_TrbI',\n",
        " 'Cation_ATPase_C_int_E1-E2_ATPase',\n",
        " 'Ca_chan_IQ_int_efhand',\n",
        " 'CBM_20_int_Glyco_hydro_14',\n",
        " 'Cytochrom_B_C_int_Rieske',\n",
        " 'Cytochrom_B_N_int_UCR_14kD',\n",
        " 'Cytochrom_B_N_int_UCR_Fe-S_N',\n",
        " 'Dioxygenase_C_int_Dioxygenase_N',\n",
        " 'E1-E2_ATPase_int_Hydrolase',\n",
        " 'EFG_C_int_GTP_EFTU',\n",
        " 'efhand_int_IQ',\n",
        " 'efhand_int_Troponin',\n",
        " 'Fapy_DNA_glyco_int_H2TH',\n",
        " 'Fer4_NifH_int_Oxidored_nitro',\n",
        " 'FGF_int_I-set',\n",
        " 'FumaraseC_C_int_Lyase_1',\n",
        " 'Furin-like_int_Recep_L_domain',\n",
        " 'Glyco_hydro_10_int_Ricin_B_lectin',\n",
        " 'GP120_int_ig',\n",
        " 'H2TH_int_zf-FPG_IleRS',\n",
        " 'Ion_trans_2_int_V-set',\n",
        " 'JmjC_int_JmjN',\n",
        " 'Kringle_int_PAN_1',\n",
        " 'MDH_int_PQQ',\n",
        " 'PA_int_Peptidase_M28',\n",
        " 'Peptidase_M28_int_TFR_dimer',\n",
        " 'Photo_RC_int_PSII',\n",
        " 'Stathmin_int_Tubulin']"
       ]
      }
     ],
     "prompt_number": 5
    },
    {
     "cell_type": "code",
     "collapsed": false,
     "input": [
      "class DDI_family_base(object):\n",
      "    def __init__(self, ddi, Vectors_Fishers_aaIndex_raw_folder = '/home/du/Documents/Vectors_Fishers_aaIndex_raw_2014/'):\n",
      "    #def __init__(self, ddi, Vectors_Fishers_aaIndex_raw_folder = '/home/sun/Downloads/contactmatrix/contactmatrixanddeeplearningcode/data_test/'):\n",
      "        \"\"\" get total number of sequences in a ddi familgy\n",
      "        Attributes:\n",
      "            ddi: string ddi name\n",
      "            Vectors_Fishers_aaIndex_raw_folder: string, folder\n",
      "            total_number_of_sequences: int\n",
      "            raw_data: dict raw_data[2]\n",
      "        LOO_data['FisherM1'][1]\n",
      "\n",
      "        \"\"\"\n",
      "        self.ddi = ddi\n",
      "        self.Vectors_Fishers_aaIndex_raw_folder = Vectors_Fishers_aaIndex_raw_folder\n",
      "        self.ddi_folder = self.Vectors_Fishers_aaIndex_raw_folder + ddi + '/'\n",
      "        self.total_number_of_sequences = self.get_total_number_of_sequences()\n",
      "        self.raw_data = {}\n",
      "        self.positve_negative_number = {}\n",
      "        self.equal_size_data = {}\n",
      "        for seq_no in range(1, self.total_number_of_sequences+1):\n",
      "            self.raw_data[seq_no] = self.get_raw_data_for_selected_seq(seq_no)\n",
      "            try:\n",
      "                #positive_file = self.ddi_folder + 'numPos_'+ str(seq_no) + '.txt'\n",
      "                #file_obj = FileOperator(positive_file)\n",
      "                #lines = file_obj.readStripLines()\n",
      "                #import pdb; pdb.set_trace()\n",
      "                count_pos = int(np.sum(self.raw_data[seq_no][:, -1]))\n",
      "                count_neg = self.raw_data[seq_no].shape[0] - count_pos\n",
      "                #self.positve_negative_number[seq_no] = {'numPos': int(float(lines[0]))}\n",
      "                #assert int(float(lines[0])) == count_pos\n",
      "                self.positve_negative_number[seq_no] = {'numPos': count_pos}\n",
      "                #negative_file = self.ddi_folder + 'numNeg_'+ str(seq_no) + '.txt'\n",
      "                #file_obj = FileOperator(negative_file)\n",
      "                #lines = file_obj.readStripLines()\n",
      "                #self.positve_negative_number[seq_no]['numNeg'] =  int(float(lines[0]))\n",
      "                self.positve_negative_number[seq_no]['numNeg'] =  count_neg\n",
      "            except Exception,e:\n",
      "                print ddi, seq_no\n",
      "                print str(e)\n",
      "            # get data for equal positive and negative\n",
      "            n_pos = self.positve_negative_number[seq_no]['numPos']\n",
      "            n_neg = self.positve_negative_number[seq_no]['numNeg']\n",
      "            index_neg = range(n_pos, n_pos + n_neg)\n",
      "            random.shuffle(index_neg)\n",
      "            index_neg = index_neg[: n_pos]\n",
      "            positive_examples = self.raw_data[seq_no][ : n_pos, :]\n",
      "            negative_examples = self.raw_data[seq_no][index_neg, :]\n",
      "            self.equal_size_data[seq_no] = np.vstack((positive_examples, negative_examples))\n",
      "    def get_LOO_training_and_reduced_traing(self, seq_no, fisher_mode = 'FisherM1ONLY' , reduce_ratio = 4):\n",
      "        \"\"\" get the leave one out traing data, reduced traing\n",
      "        Parameters:\n",
      "            seq_no: \n",
      "            fisher_mode: default 'FisherM1ONLY'\n",
      "        Returns:\n",
      "            (train_X_LOO, train_y_LOO),(train_X_reduced, train_y_reduced),  (test_X, test_y)\n",
      "        \"\"\"\n",
      "        train_X_LOO = np.array([])\n",
      "        train_y_LOO = np.array([])\n",
      "        train_X_reduced = np.array([])\n",
      "        train_y_reduced = np.array([])\n",
      "\n",
      "        total_number_of_sequences = self.total_number_of_sequences\n",
      "        equal_size_data_selected_sequence = self.equal_size_data[seq_no]\n",
      "\n",
      "        #get test data for selected sequence\n",
      "        test_X, test_y = self.select_X_y(equal_size_data_selected_sequence, fisher_mode = fisher_mode)\n",
      "        total_sequences = range(1, total_number_of_sequences+1)\n",
      "        loo_sequences = [i for i in total_sequences if i != seq_no]\n",
      "        number_of_reduced = len(loo_sequences)/reduce_ratio if len(loo_sequences)/reduce_ratio !=0 else 1\n",
      "        random.shuffle(loo_sequences)\n",
      "        reduced_sequences = loo_sequences[:number_of_reduced]\n",
      "\n",
      "        #for loo data\n",
      "        for current_no in loo_sequences:\n",
      "            raw_current_data = self.equal_size_data[current_no]\n",
      "            current_X, current_y = self.select_X_y(raw_current_data, fisher_mode = fisher_mode)\n",
      "            if train_X_LOO.ndim ==1:\n",
      "                train_X_LOO = current_X\n",
      "            else:\n",
      "                train_X_LOO = np.vstack((train_X_LOO, current_X))\n",
      "            train_y_LOO = np.concatenate((train_y_LOO, current_y))\n",
      "\n",
      "        #for reduced data\n",
      "        for current_no in reduced_sequences:\n",
      "            raw_current_data = self.equal_size_data[current_no]\n",
      "            current_X, current_y = self.select_X_y(raw_current_data, fisher_mode = fisher_mode)\n",
      "            if train_X_reduced.ndim ==1:\n",
      "                train_X_reduced = current_X\n",
      "            else:\n",
      "                train_X_reduced = np.vstack((train_X_reduced, current_X))\n",
      "            train_y_reduced = np.concatenate((train_y_reduced, current_y))                \n",
      "\n",
      "        return (train_X_LOO, train_y_LOO),(train_X_reduced, train_y_reduced), (test_X, test_y)\n",
      "    def get_total_number_of_sequences(self):\n",
      "        \"\"\" get total number of sequences in a ddi familgy\n",
      "        Parameters:\n",
      "            ddi: string\n",
      "            Vectors_Fishers_aaIndex_raw_folder: string\n",
      "        Returns:\n",
      "            n: int\n",
      "        \"\"\"\n",
      "        folder_path = self.Vectors_Fishers_aaIndex_raw_folder + self.ddi + '/' \n",
      "        filename = folder_path +'allPairs.txt'\n",
      "        all_pairs = np.loadtxt(filename)\n",
      "        return len(all_pairs)\n",
      "\n",
      "    def get_raw_data_for_selected_seq(self, seq_no):\n",
      "        \"\"\" get raw data for selected seq no in a family\n",
      "        Parameters:\n",
      "            ddi: \n",
      "            seq_no: \n",
      "        Returns:\n",
      "            data: raw data in the sequence file\n",
      "        \"\"\"\n",
      "        folder_path = self.Vectors_Fishers_aaIndex_raw_folder + self.ddi + '/' \n",
      "        filename = folder_path + 'F0_20_F1_20_Sliding_17_11_F0_20_F1_20_Sliding_17_11_ouput_'+ str(seq_no) + '.txt'\n",
      "        data = np.loadtxt(filename)\n",
      "        return data\n",
      "    def select_X_y(self, data, fisher_mode = ''):\n",
      "        \"\"\" select subset from the raw input data set\n",
      "        Parameters:\n",
      "            data: data from matlab txt file\n",
      "            fisher_mode: subset base on this Fisher of AAONLY...\n",
      "        Returns:\n",
      "            selected X,  y\n",
      "        \"\"\"\n",
      "        y = data[:,-1] # get lable\n",
      "        if fisher_mode == 'FisherM1': # fisher m1 plus AA index\n",
      "            a = data[:, 20:227]\n",
      "            b = data[:, 247:454]\n",
      "            X = np.hstack((a,b))\n",
      "        elif fisher_mode == 'FisherM1ONLY': \n",
      "            a = data[:, 20:40]\n",
      "            b = data[:, 247:267]\n",
      "            X = np.hstack((a,b))\n",
      "        elif fisher_mode == 'AAONLY':\n",
      "            a = data[:, 40:227]\n",
      "            b = data[:, 267:454]\n",
      "            X = np.hstack((a,b))\n",
      "        else:\n",
      "            raise('there is an error in mode')\n",
      "        return X, y\n"
     ],
     "language": "python",
     "metadata": {},
     "outputs": [],
     "prompt_number": 13
    },
    {
     "cell_type": "code",
     "collapsed": true,
     "input": [
      "import sklearn.preprocessing\n",
      "class Precessing_Scaler_0_9(sklearn.preprocessing.StandardScaler):\n",
      "    def __init__(self):\n",
      "        super(Precessing_Scaler_0_9, self).__init__(self, with_std=0.333)\n",
      "    def transform(self, X): # transform data to 0.1 to 0.9\n",
      "        new_X = super(Precessing_Scaler_0_9, self).transform(X)\n",
      "        print \n",
      "        new_X[new_X > 1] = 1\n",
      "        new_X[new_X < -1] = -1\n",
      "        new_X = (new_X + 1) * 0.4 + 0.1\n",
      "        return new_X\n",
      "    def fit_transform(self):\n",
      "        print 'Did not implement'\n",
      "def performance_score(target_label, predicted_label, predicted_score = False, print_report = True): \n",
      "    \"\"\" get performance matrix for prediction\n",
      "        Attributes:\n",
      "            target_label: int 0, 1\n",
      "            predicted_label: 0, 1 or ranking\n",
      "            predicted_score: bool if False, predicted_label is from 0, 1. If Ture, predicted_label is ranked, need to get AUC score.\n",
      "            print_report: if True, print the perfromannce on screen\n",
      "    \"\"\"\n",
      "    import sklearn\n",
      "    from sklearn.metrics import roc_auc_score\n",
      "    score = {}\n",
      "    if predicted_score == False:\n",
      "        score['accuracy'] = sklearn.metrics.accuracy_score(target_label, predicted_label)\n",
      "        score['precision'] = sklearn.metrics.precision_score(target_label, predicted_label, pos_label=1)\n",
      "        score['recall'] = sklearn.metrics.recall_score(target_label, predicted_label, pos_label=1)\n",
      "    if predicted_score == True:\n",
      "        auc_score  = roc_auc_score(target_label, predicted_label)\n",
      "        score['auc_score'] = auc_score\n",
      "        target_label = [x >= 0.5 for x in target_label]\n",
      "        score['accuracy'] = sklearn.metrics.accuracy_score(target_label, predicted_label)\n",
      "        score['precision'] = sklearn.metrics.precision_score(target_label, predicted_label, pos_label=1)\n",
      "        score['recall'] = sklearn.metrics.recall_score(target_label, predicted_label, pos_label=1)\n",
      "    if print_report == True:\n",
      "        for key, value in score.iteritems():\n",
      "            print key, '{percent:.1%}'.format(percent=value)\n",
      "    return score\n",
      "\n",
      "def LOO_out_performance_for_all(ddis):\n",
      "    for ddi in ddis:\n",
      "        one_ddi_family = LOO_out_performance_for_one_ddi(ddi)\n",
      "        one_ddi_family.get_LOO_perfermance('FisherM1', '')\n",
      "def process_one_ddi(ddi):\n",
      "    \"\"\"A function to waste CPU cycles\"\"\"\n",
      "    one_ddi_family = LOO_out_performance_for_one_ddi(ddi)\n",
      "    one_ddi_family.get_LOO_perfermance('FisherM1', '')\n",
      "def parallel_process(function, ddis, nproc = 2):\n",
      "    # maximum number of simultaneous processes desired\n",
      "    results = pprocess.Map(limit=nproc, reuse=1)\n",
      "    parallel_function = results.manage(pprocess.MakeReusable(function))\n",
      "    [parallel_function(ddi) for ddi in ddis]  # Start computing things\n",
      "    return results[:]\n",
      "\n",
      "class LOO_out_performance_for_one_ddi(object):\n",
      "        \"\"\" get the performance of ddi families\n",
      "        Attributes:\n",
      "            ddi: string ddi name\n",
      "            Vectors_Fishers_aaIndex_raw_folder: string, folder\n",
      "            total_number_of_sequences: int\n",
      "            raw_data: dict raw_data[2]\n",
      "\n",
      "        \"\"\"\n",
      "        def __init__(self, ddi):\n",
      "            self.ddi_obj = DDI_family_base(ddi)\n",
      "        def analysis_score(self, target_label, predicted_label): #new\n",
      "            score = (sklearn.metrics.accuracy_score(target_label, predicted_label),\n",
      "                     sklearn.metrics.precision_score(target_label, predicted_label, pos_label=1),\n",
      "                     sklearn.metrics.recall_score(target_label, predicted_label, pos_label=1))\n",
      "            return score\n",
      "        def saveAsCsv(self, predicted_score, fname, *arguments): #new\n",
      "            newfile = False\n",
      "            if os.path.isfile(fname + '_report.csv'):\n",
      "                pass\n",
      "            else:\n",
      "                newfile = True\n",
      "            csvfile = open(fname + '_report.csv', 'a+')\n",
      "            writer = csv.writer(csvfile)\n",
      "            if newfile == True:\n",
      "                if predicted_score == False:\n",
      "                    writer.writerow(['DDI', 'no.', 'FisherMode', 'method', 'isTest', 'accuracy', 'precision', 'recall']) #, 'AUC'])\n",
      "                else:\n",
      "                    writer.writerow(['DDI', 'no.', 'FisherMode', 'method', 'isTest', 'AUC', 'accuracy', 'precision', 'recall'])\n",
      "            for arg in arguments:        \n",
      "                writer.writerows(arg)\n",
      "            csvfile.close()\n",
      "\n",
      "        def get_LOO_perfermance(self, fisher_mode, settings = None):\n",
      "            analysis_scr = []\n",
      "            predicted_score = False\n",
      "            reduce_ratio = 4\n",
      "            for seq_no in range(1, self.ddi_obj.total_number_of_sequences+1):\n",
      "                print seq_no\n",
      "                print \"SVM\"\n",
      "                (train_X_LOO, train_y_LOO),(train_X_reduced, train_y_reduced), (test_X, test_y) = self.ddi_obj.get_LOO_training_and_reduced_traing(seq_no, reduce_ratio = reduce_ratio)\n",
      "                standard_scaler = preprocessing.StandardScaler().fit(train_X_reduced)\n",
      "                scaled_train_X = standard_scaler.transform(train_X_reduced)\n",
      "                scaled_test_X = standard_scaler.transform(test_X)\n",
      "                Linear_SVC = LinearSVC(C=1, penalty=\"l2\")\n",
      "                Linear_SVC.fit(scaled_train_X, train_y_reduced)\n",
      "                predicted_test_y = Linear_SVC.predict(scaled_test_X)\n",
      "                isTest = True; #new\n",
      "                analysis_scr.append((ddi, seq_no, fisher_mode, 'SVM', isTest) + tuple(performance_score(test_y, predicted_test_y).values())) #new\n",
      "                \n",
      "                \n",
      "                Linear_SVC = LinearSVC(C=1, penalty=\"l2\")\n",
      "                Linear_SVC.fit(scaled_train_X, train_y_reduced)\n",
      "                predicted_train_y = Linear_SVC.predict(scaled_train_X)\n",
      "                isTest = False; #new\n",
      "                analysis_scr.append((ddi, seq_no, fisher_mode, 'SVM', isTest) + tuple(performance_score(train_y_reduced, predicted_train_y).values()))\n",
      "                \n",
      "                \n",
      "                print \"direct deep learning\"\n",
      "                # direct deep learning \n",
      "                min_max_scaler = Precessing_Scaler_0_9()\n",
      "                X_train_pre_validation_minmax = min_max_scaler.fit(train_X_reduced)\n",
      "                X_train_pre_validation_minmax = min_max_scaler.transform(train_X_reduced)\n",
      "                x_test_minmax = min_max_scaler.transform(test_X)\n",
      "                pretraining_X_minmax = min_max_scaler.transform(train_X_LOO)\n",
      "                x_train_minmax, x_validation_minmax, y_train_minmax, y_validation_minmax = train_test_split(X_train_pre_validation_minmax, \n",
      "                                                                                                  train_y_reduced\n",
      "                                                                    , test_size=0.2, random_state=42)\n",
      "                finetune_lr = 1\n",
      "                batch_size = 100\n",
      "                pretraining_epochs = cal_epochs(1, x_train_minmax, batch_size = batch_size)\n",
      "                #pretrain_lr=0.001\n",
      "                pretrain_lr = 0.001\n",
      "                training_epochs = 10\n",
      "                hidden_layers_sizes= [100, 100]\n",
      "                corruption_levels = [0,0]\n",
      "                sda = trainSda(x_train_minmax, y_train_minmax,\n",
      "                             x_validation_minmax, y_validation_minmax , \n",
      "                             x_test_minmax, test_y,\n",
      "                             hidden_layers_sizes = hidden_layers_sizes, corruption_levels = corruption_levels, batch_size = batch_size , \\\n",
      "                             training_epochs = training_epochs, pretraining_epochs = pretraining_epochs, \n",
      "                             pretrain_lr = pretrain_lr, finetune_lr=finetune_lr\n",
      "                 )\n",
      "                print 'hidden_layers_sizes:', hidden_layers_sizes\n",
      "                print 'corruption_levels:', corruption_levels\n",
      "                training_predicted = sda.predict(x_train_minmax)\n",
      "                y_train = y_train_minmax\n",
      "                isTest = False; #new\n",
      "                analysis_scr.append((ddi, seq_no, fisher_mode, 'DL', isTest) + tuple(performance_score(y_train, training_predicted).values()))\n",
      "                \n",
      "                test_predicted = sda.predict(x_test_minmax)\n",
      "                y_test = test_y\n",
      "                isTest = True; #new\n",
      "                analysis_scr.append((ddi, seq_no, fisher_mode, 'DL', isTest) + tuple(performance_score(y_test, test_predicted).values()))\n",
      "                \n",
      "                \n",
      "                # deep learning using unlabeled data for pretraining\n",
      "                print 'deep learning with unlabel data'\n",
      "                pretraining_epochs = cal_epochs(1, pretraining_X_minmax, batch_size = batch_size)\n",
      "                sda_unlabel = trainSda(x_train_minmax, y_train_minmax,\n",
      "                             x_validation_minmax, y_validation_minmax , \n",
      "                             x_test_minmax, test_y, \n",
      "                             pretraining_X_minmax = pretraining_X_minmax,\n",
      "                             hidden_layers_sizes = hidden_layers_sizes, corruption_levels = corruption_levels, batch_size = batch_size , \\\n",
      "                             training_epochs = training_epochs, pretraining_epochs = pretraining_epochs, \n",
      "                             pretrain_lr = pretrain_lr, finetune_lr=finetune_lr\n",
      "                 )\n",
      "                print 'hidden_layers_sizes:', hidden_layers_sizes\n",
      "                print 'corruption_levels:', corruption_levels\n",
      "                training_predicted = sda_unlabel.predict(x_train_minmax)\n",
      "                y_train = y_train_minmax\n",
      "                isTest = False; #new\n",
      "                analysis_scr.append((ddi, seq_no, fisher_mode, 'DL_U', isTest) + tuple(performance_score(y_train, training_predicted, predicted_score).values()))\n",
      "                \n",
      "                test_predicted = sda_unlabel.predict(x_test_minmax)\n",
      "                y_test = test_y\n",
      "                \n",
      "                isTest = True; #new\n",
      "                analysis_scr.append((ddi, seq_no, fisher_mode, 'DL_U', isTest) + tuple(performance_score(y_test, test_predicted, predicted_score).values()))\n",
      "            report_name = filename + '_' + '_'.join(map(str, hidden_layers_sizes)) + \\\n",
      "                            '_' + str(pretrain_lr) + '_' + str(finetune_lr) + '_' + str(reduce_ratio)\n",
      "            self.saveAsCsv(predicted_score, report_name, analysis_scr)"
     ],
     "language": "python",
     "metadata": {},
     "outputs": [],
     "prompt_number": 14
    },
    {
     "cell_type": "code",
     "collapsed": false,
     "input": [
      "process_one_ddi(ddis[0])"
     ],
     "language": "python",
     "metadata": {},
     "outputs": [
      {
       "ename": "IOError",
       "evalue": "[Errno 2] No such file or directory: '/home/du/Vectors_Fishers_aaIndex_raw/6PGD_int_NAD_binding_2/allPairs.txt'",
       "output_type": "pyerr",
       "traceback": [
        "\u001b[1;31m---------------------------------------------------------------------------\u001b[0m\n\u001b[1;31mIOError\u001b[0m                                   Traceback (most recent call last)",
        "\u001b[1;32m<ipython-input-15-463297ca20f0>\u001b[0m in \u001b[0;36m<module>\u001b[1;34m()\u001b[0m\n\u001b[1;32m----> 1\u001b[1;33m \u001b[0mprocess_one_ddi\u001b[0m\u001b[1;33m(\u001b[0m\u001b[0mddis\u001b[0m\u001b[1;33m[\u001b[0m\u001b[1;36m0\u001b[0m\u001b[1;33m]\u001b[0m\u001b[1;33m)\u001b[0m\u001b[1;33m\u001b[0m\u001b[0m\n\u001b[0m",
        "\u001b[1;32m<ipython-input-14-72f550264d43>\u001b[0m in \u001b[0;36mprocess_one_ddi\u001b[1;34m(ddi)\u001b[0m\n\u001b[0;32m     45\u001b[0m \u001b[1;32mdef\u001b[0m \u001b[0mprocess_one_ddi\u001b[0m\u001b[1;33m(\u001b[0m\u001b[0mddi\u001b[0m\u001b[1;33m)\u001b[0m\u001b[1;33m:\u001b[0m\u001b[1;33m\u001b[0m\u001b[0m\n\u001b[0;32m     46\u001b[0m     \u001b[1;34m\"\"\"A function to waste CPU cycles\"\"\"\u001b[0m\u001b[1;33m\u001b[0m\u001b[0m\n\u001b[1;32m---> 47\u001b[1;33m     \u001b[0mone_ddi_family\u001b[0m \u001b[1;33m=\u001b[0m \u001b[0mLOO_out_performance_for_one_ddi\u001b[0m\u001b[1;33m(\u001b[0m\u001b[0mddi\u001b[0m\u001b[1;33m)\u001b[0m\u001b[1;33m\u001b[0m\u001b[0m\n\u001b[0m\u001b[0;32m     48\u001b[0m     \u001b[0mone_ddi_family\u001b[0m\u001b[1;33m.\u001b[0m\u001b[0mget_LOO_perfermance\u001b[0m\u001b[1;33m(\u001b[0m\u001b[1;34m'FisherM1'\u001b[0m\u001b[1;33m,\u001b[0m \u001b[1;34m''\u001b[0m\u001b[1;33m)\u001b[0m\u001b[1;33m\u001b[0m\u001b[0m\n\u001b[0;32m     49\u001b[0m \u001b[1;32mdef\u001b[0m \u001b[0mparallel_process\u001b[0m\u001b[1;33m(\u001b[0m\u001b[0mfunction\u001b[0m\u001b[1;33m,\u001b[0m \u001b[0mddis\u001b[0m\u001b[1;33m,\u001b[0m \u001b[0mnproc\u001b[0m \u001b[1;33m=\u001b[0m \u001b[1;36m2\u001b[0m\u001b[1;33m)\u001b[0m\u001b[1;33m:\u001b[0m\u001b[1;33m\u001b[0m\u001b[0m\n",
        "\u001b[1;32m<ipython-input-14-72f550264d43>\u001b[0m in \u001b[0;36m__init__\u001b[1;34m(self, ddi)\u001b[0m\n\u001b[0;32m     64\u001b[0m         \"\"\"\n\u001b[0;32m     65\u001b[0m         \u001b[1;32mdef\u001b[0m \u001b[0m__init__\u001b[0m\u001b[1;33m(\u001b[0m\u001b[0mself\u001b[0m\u001b[1;33m,\u001b[0m \u001b[0mddi\u001b[0m\u001b[1;33m)\u001b[0m\u001b[1;33m:\u001b[0m\u001b[1;33m\u001b[0m\u001b[0m\n\u001b[1;32m---> 66\u001b[1;33m             \u001b[0mself\u001b[0m\u001b[1;33m.\u001b[0m\u001b[0mddi_obj\u001b[0m \u001b[1;33m=\u001b[0m \u001b[0mDDI_family_base\u001b[0m\u001b[1;33m(\u001b[0m\u001b[0mddi\u001b[0m\u001b[1;33m)\u001b[0m\u001b[1;33m\u001b[0m\u001b[0m\n\u001b[0m\u001b[0;32m     67\u001b[0m         \u001b[1;32mdef\u001b[0m \u001b[0manalysis_score\u001b[0m\u001b[1;33m(\u001b[0m\u001b[0mself\u001b[0m\u001b[1;33m,\u001b[0m \u001b[0mtarget_label\u001b[0m\u001b[1;33m,\u001b[0m \u001b[0mpredicted_label\u001b[0m\u001b[1;33m)\u001b[0m\u001b[1;33m:\u001b[0m \u001b[1;31m#new\u001b[0m\u001b[1;33m\u001b[0m\u001b[0m\n\u001b[0;32m     68\u001b[0m             score = (sklearn.metrics.accuracy_score(target_label, predicted_label),\n",
        "\u001b[1;32m<ipython-input-13-c4c7edead8da>\u001b[0m in \u001b[0;36m__init__\u001b[1;34m(self, ddi, Vectors_Fishers_aaIndex_raw_folder)\u001b[0m\n\u001b[0;32m     14\u001b[0m         \u001b[0mself\u001b[0m\u001b[1;33m.\u001b[0m\u001b[0mVectors_Fishers_aaIndex_raw_folder\u001b[0m \u001b[1;33m=\u001b[0m \u001b[0mVectors_Fishers_aaIndex_raw_folder\u001b[0m\u001b[1;33m\u001b[0m\u001b[0m\n\u001b[0;32m     15\u001b[0m         \u001b[0mself\u001b[0m\u001b[1;33m.\u001b[0m\u001b[0mddi_folder\u001b[0m \u001b[1;33m=\u001b[0m \u001b[0mself\u001b[0m\u001b[1;33m.\u001b[0m\u001b[0mVectors_Fishers_aaIndex_raw_folder\u001b[0m \u001b[1;33m+\u001b[0m \u001b[0mddi\u001b[0m \u001b[1;33m+\u001b[0m \u001b[1;34m'/'\u001b[0m\u001b[1;33m\u001b[0m\u001b[0m\n\u001b[1;32m---> 16\u001b[1;33m         \u001b[0mself\u001b[0m\u001b[1;33m.\u001b[0m\u001b[0mtotal_number_of_sequences\u001b[0m \u001b[1;33m=\u001b[0m \u001b[0mself\u001b[0m\u001b[1;33m.\u001b[0m\u001b[0mget_total_number_of_sequences\u001b[0m\u001b[1;33m(\u001b[0m\u001b[1;33m)\u001b[0m\u001b[1;33m\u001b[0m\u001b[0m\n\u001b[0m\u001b[0;32m     17\u001b[0m         \u001b[0mself\u001b[0m\u001b[1;33m.\u001b[0m\u001b[0mraw_data\u001b[0m \u001b[1;33m=\u001b[0m \u001b[1;33m{\u001b[0m\u001b[1;33m}\u001b[0m\u001b[1;33m\u001b[0m\u001b[0m\n\u001b[0;32m     18\u001b[0m         \u001b[0mself\u001b[0m\u001b[1;33m.\u001b[0m\u001b[0mpositve_negative_number\u001b[0m \u001b[1;33m=\u001b[0m \u001b[1;33m{\u001b[0m\u001b[1;33m}\u001b[0m\u001b[1;33m\u001b[0m\u001b[0m\n",
        "\u001b[1;32m<ipython-input-13-c4c7edead8da>\u001b[0m in \u001b[0;36mget_total_number_of_sequences\u001b[1;34m(self)\u001b[0m\n\u001b[0;32m    102\u001b[0m         \u001b[0mfolder_path\u001b[0m \u001b[1;33m=\u001b[0m \u001b[0mself\u001b[0m\u001b[1;33m.\u001b[0m\u001b[0mVectors_Fishers_aaIndex_raw_folder\u001b[0m \u001b[1;33m+\u001b[0m \u001b[0mself\u001b[0m\u001b[1;33m.\u001b[0m\u001b[0mddi\u001b[0m \u001b[1;33m+\u001b[0m \u001b[1;34m'/'\u001b[0m\u001b[1;33m\u001b[0m\u001b[0m\n\u001b[0;32m    103\u001b[0m         \u001b[0mfilename\u001b[0m \u001b[1;33m=\u001b[0m \u001b[0mfolder_path\u001b[0m \u001b[1;33m+\u001b[0m\u001b[1;34m'allPairs.txt'\u001b[0m\u001b[1;33m\u001b[0m\u001b[0m\n\u001b[1;32m--> 104\u001b[1;33m         \u001b[0mall_pairs\u001b[0m \u001b[1;33m=\u001b[0m \u001b[0mnp\u001b[0m\u001b[1;33m.\u001b[0m\u001b[0mloadtxt\u001b[0m\u001b[1;33m(\u001b[0m\u001b[0mfilename\u001b[0m\u001b[1;33m)\u001b[0m\u001b[1;33m\u001b[0m\u001b[0m\n\u001b[0m\u001b[0;32m    105\u001b[0m         \u001b[1;32mreturn\u001b[0m \u001b[0mlen\u001b[0m\u001b[1;33m(\u001b[0m\u001b[0mall_pairs\u001b[0m\u001b[1;33m)\u001b[0m\u001b[1;33m\u001b[0m\u001b[0m\n\u001b[0;32m    106\u001b[0m \u001b[1;33m\u001b[0m\u001b[0m\n",
        "\u001b[1;32m/usr/local/lib/python2.7/dist-packages/numpy/lib/npyio.pyc\u001b[0m in \u001b[0;36mloadtxt\u001b[1;34m(fname, dtype, comments, delimiter, converters, skiprows, usecols, unpack, ndmin)\u001b[0m\n\u001b[0;32m    732\u001b[0m                 \u001b[0mfh\u001b[0m \u001b[1;33m=\u001b[0m \u001b[0miter\u001b[0m\u001b[1;33m(\u001b[0m\u001b[0mbz2\u001b[0m\u001b[1;33m.\u001b[0m\u001b[0mBZ2File\u001b[0m\u001b[1;33m(\u001b[0m\u001b[0mfname\u001b[0m\u001b[1;33m)\u001b[0m\u001b[1;33m)\u001b[0m\u001b[1;33m\u001b[0m\u001b[0m\n\u001b[0;32m    733\u001b[0m             \u001b[1;32melif\u001b[0m \u001b[0msys\u001b[0m\u001b[1;33m.\u001b[0m\u001b[0mversion_info\u001b[0m\u001b[1;33m[\u001b[0m\u001b[1;36m0\u001b[0m\u001b[1;33m]\u001b[0m \u001b[1;33m==\u001b[0m \u001b[1;36m2\u001b[0m\u001b[1;33m:\u001b[0m\u001b[1;33m\u001b[0m\u001b[0m\n\u001b[1;32m--> 734\u001b[1;33m                 \u001b[0mfh\u001b[0m \u001b[1;33m=\u001b[0m \u001b[0miter\u001b[0m\u001b[1;33m(\u001b[0m\u001b[0mopen\u001b[0m\u001b[1;33m(\u001b[0m\u001b[0mfname\u001b[0m\u001b[1;33m,\u001b[0m \u001b[1;34m'U'\u001b[0m\u001b[1;33m)\u001b[0m\u001b[1;33m)\u001b[0m\u001b[1;33m\u001b[0m\u001b[0m\n\u001b[0m\u001b[0;32m    735\u001b[0m             \u001b[1;32melse\u001b[0m\u001b[1;33m:\u001b[0m\u001b[1;33m\u001b[0m\u001b[0m\n\u001b[0;32m    736\u001b[0m                 \u001b[0mfh\u001b[0m \u001b[1;33m=\u001b[0m \u001b[0miter\u001b[0m\u001b[1;33m(\u001b[0m\u001b[0mopen\u001b[0m\u001b[1;33m(\u001b[0m\u001b[0mfname\u001b[0m\u001b[1;33m)\u001b[0m\u001b[1;33m)\u001b[0m\u001b[1;33m\u001b[0m\u001b[0m\n",
        "\u001b[1;31mIOError\u001b[0m: [Errno 2] No such file or directory: '/home/du/Vectors_Fishers_aaIndex_raw/6PGD_int_NAD_binding_2/allPairs.txt'"
       ]
      }
     ],
     "prompt_number": 15
    },
    {
     "cell_type": "code",
     "collapsed": false,
     "input": [
      "\n",
      "parallel_process(process_one_ddi, ddis, nproc = 7)"
     ],
     "language": "python",
     "metadata": {},
     "outputs": [
      {
       "ename": "IndexError",
       "evalue": "slice(0, 9223372036854775807, None)",
       "output_type": "pyerr",
       "traceback": [
        "\u001b[1;31m---------------------------------------------------------------------------\u001b[0m\n\u001b[1;31mIndexError\u001b[0m                                Traceback (most recent call last)",
        "\u001b[1;32m<ipython-input-11-b21b401df1e6>\u001b[0m in \u001b[0;36m<module>\u001b[1;34m()\u001b[0m\n\u001b[0;32m      1\u001b[0m \u001b[1;33m\u001b[0m\u001b[0m\n\u001b[1;32m----> 2\u001b[1;33m \u001b[0mparallel_process\u001b[0m\u001b[1;33m(\u001b[0m\u001b[0mprocess_one_ddi\u001b[0m\u001b[1;33m,\u001b[0m \u001b[0mddis\u001b[0m\u001b[1;33m,\u001b[0m \u001b[0mnproc\u001b[0m \u001b[1;33m=\u001b[0m \u001b[1;36m7\u001b[0m\u001b[1;33m)\u001b[0m\u001b[1;33m\u001b[0m\u001b[0m\n\u001b[0m",
        "\u001b[1;32m<ipython-input-10-72f550264d43>\u001b[0m in \u001b[0;36mparallel_process\u001b[1;34m(function, ddis, nproc)\u001b[0m\n\u001b[0;32m     52\u001b[0m     \u001b[0mparallel_function\u001b[0m \u001b[1;33m=\u001b[0m \u001b[0mresults\u001b[0m\u001b[1;33m.\u001b[0m\u001b[0mmanage\u001b[0m\u001b[1;33m(\u001b[0m\u001b[0mpprocess\u001b[0m\u001b[1;33m.\u001b[0m\u001b[0mMakeReusable\u001b[0m\u001b[1;33m(\u001b[0m\u001b[0mfunction\u001b[0m\u001b[1;33m)\u001b[0m\u001b[1;33m)\u001b[0m\u001b[1;33m\u001b[0m\u001b[0m\n\u001b[0;32m     53\u001b[0m     \u001b[1;33m[\u001b[0m\u001b[0mparallel_function\u001b[0m\u001b[1;33m(\u001b[0m\u001b[0mddi\u001b[0m\u001b[1;33m)\u001b[0m \u001b[1;32mfor\u001b[0m \u001b[0mddi\u001b[0m \u001b[1;32min\u001b[0m \u001b[0mddis\u001b[0m\u001b[1;33m]\u001b[0m  \u001b[1;31m# Start computing things\u001b[0m\u001b[1;33m\u001b[0m\u001b[0m\n\u001b[1;32m---> 54\u001b[1;33m     \u001b[1;32mreturn\u001b[0m \u001b[0mresults\u001b[0m\u001b[1;33m[\u001b[0m\u001b[1;33m:\u001b[0m\u001b[1;33m]\u001b[0m\u001b[1;33m\u001b[0m\u001b[0m\n\u001b[0m\u001b[0;32m     55\u001b[0m \u001b[1;33m\u001b[0m\u001b[0m\n\u001b[0;32m     56\u001b[0m \u001b[1;32mclass\u001b[0m \u001b[0mLOO_out_performance_for_one_ddi\u001b[0m\u001b[1;33m(\u001b[0m\u001b[0mobject\u001b[0m\u001b[1;33m)\u001b[0m\u001b[1;33m:\u001b[0m\u001b[1;33m\u001b[0m\u001b[0m\n",
        "\u001b[1;32m/usr/local/lib/python2.7/dist-packages/pprocess.pyc\u001b[0m in \u001b[0;36m__getitem__\u001b[1;34m(self, i)\u001b[0m\n\u001b[0;32m    788\u001b[0m                 \u001b[1;32mpass\u001b[0m\u001b[1;33m\u001b[0m\u001b[0m\n\u001b[0;32m    789\u001b[0m         \u001b[1;32melse\u001b[0m\u001b[1;33m:\u001b[0m\u001b[1;33m\u001b[0m\u001b[0m\n\u001b[1;32m--> 790\u001b[1;33m             \u001b[1;32mraise\u001b[0m \u001b[0mIndexError\u001b[0m\u001b[1;33m,\u001b[0m \u001b[0mi\u001b[0m\u001b[1;33m\u001b[0m\u001b[0m\n\u001b[0m\u001b[0;32m    791\u001b[0m \u001b[1;33m\u001b[0m\u001b[0m\n\u001b[0;32m    792\u001b[0m     \u001b[1;31m# Helper methods for the above access methods.\u001b[0m\u001b[1;33m\u001b[0m\u001b[1;33m\u001b[0m\u001b[0m\n",
        "\u001b[1;31mIndexError\u001b[0m: slice(0, 9223372036854775807, None)"
       ]
      }
     ],
     "prompt_number": 11
    },
    {
     "cell_type": "code",
     "collapsed": false,
     "input": [
      "LOO_out_performance_for_all(ddis)"
     ],
     "language": "python",
     "metadata": {},
     "outputs": [
      {
       "output_type": "stream",
       "stream": "stdout",
       "text": [
        "1\n",
        "SVM\n",
        "recall"
       ]
      },
      {
       "output_type": "stream",
       "stream": "stdout",
       "text": [
        " 36.8%\n",
        "precision 41.0%\n",
        "accuracy 41.9%\n",
        "recall"
       ]
      },
      {
       "output_type": "stream",
       "stream": "stdout",
       "text": [
        " 47.4%\n",
        "precision 55.1%\n",
        "accuracy 54.4%\n",
        "direct deep learning\n",
        "\n",
        "\n",
        "\n",
        "... building the model"
       ]
      },
      {
       "output_type": "stream",
       "stream": "stdout",
       "text": [
        "\n",
        "... getting the pretraining functions\n",
        "... pre-training the model"
       ]
      },
      {
       "output_type": "stream",
       "stream": "stdout",
       "text": [
        "\n",
        "... getting the finetuning functions\n",
        "... finetunning the model"
       ]
      },
      {
       "output_type": "stream",
       "stream": "stdout",
       "text": [
        "\n",
        "epoch 1, minibatch 8/8, validation error 52.000000 %"
       ]
      },
      {
       "output_type": "stream",
       "stream": "stdout",
       "text": [
        "\n",
        " epoch 1, minibatch 8/8, test error of best model 32.000000 %\n",
        "epoch 2, minibatch 8/8, validation error 52.000000 %\n",
        "epoch 3, minibatch 8/8, validation error 52.000000 %"
       ]
      },
      {
       "output_type": "stream",
       "stream": "stdout",
       "text": [
        "\n",
        "epoch 4, minibatch 8/8, validation error 52.000000 %\n",
        "epoch 5, minibatch 8/8, validation error 52.000000 %"
       ]
      },
      {
       "output_type": "stream",
       "stream": "stdout",
       "text": [
        "\n",
        "epoch 6, minibatch 8/8, validation error 50.500000 %\n",
        " epoch 6, minibatch 8/8, test error of best model 36.000000 %\n",
        "epoch 7, minibatch 8/8, validation error 49.000000 %"
       ]
      },
      {
       "output_type": "stream",
       "stream": "stdout",
       "text": [
        "\n",
        " epoch 7, minibatch 8/8, test error of best model 39.000000 %\n",
        "epoch 8, minibatch 8/8, validation error 47.500000 %\n",
        " epoch 8, minibatch 8/8, test error of best model 41.000000 %\n",
        "epoch 9, minibatch 8/8, validation error 49.500000 %"
       ]
      },
      {
       "output_type": "stream",
       "stream": "stdout",
       "text": [
        "\n",
        "epoch 10, minibatch 8/8, validation error 49.500000 %\n",
        "hidden_layers_sizes: [100, 100]\n",
        "corruption_levels: [0, 0]\n",
        "recall"
       ]
      },
      {
       "output_type": "stream",
       "stream": "stdout",
       "text": [
        " 67.1%\n",
        "precision 51.5%\n",
        "accuracy 51.5%\n",
        "recall"
       ]
      },
      {
       "output_type": "stream",
       "stream": "stdout",
       "text": [
        " 67.6%\n",
        "precision 48.4%\n",
        "accuracy 47.8%\n",
        "deep learning with unlabel data\n",
        "... building the model\n",
        "... getting the pretraining functions\n",
        "... pre-training the model"
       ]
      },
      {
       "output_type": "stream",
       "stream": "stderr",
       "text": [
        "The pretraining code ran for 0.00m\n",
        "The pretraining code ran for 0.00m"
       ]
      },
      {
       "output_type": "stream",
       "stream": "stdout",
       "text": [
        "\n",
        "... getting the finetuning functions\n",
        "... finetunning the model"
       ]
      },
      {
       "output_type": "stream",
       "stream": "stdout",
       "text": [
        "\n",
        "epoch 1, minibatch 8/8, validation error 52.000000 %"
       ]
      },
      {
       "output_type": "stream",
       "stream": "stdout",
       "text": [
        "\n",
        " epoch 1, minibatch 8/8, test error of best model 32.000000 %\n",
        "epoch 2, minibatch 8/8, validation error 52.000000 %\n",
        "epoch 3, minibatch 8/8, validation error 52.000000 %"
       ]
      },
      {
       "output_type": "stream",
       "stream": "stdout",
       "text": [
        "\n",
        "epoch 4, minibatch 8/8, validation error 52.000000 %\n",
        "epoch 5, minibatch 8/8, validation error 52.000000 %"
       ]
      },
      {
       "output_type": "stream",
       "stream": "stdout",
       "text": [
        "\n",
        "epoch 6, minibatch 8/8, validation error 50.500000 %\n",
        " epoch 6, minibatch 8/8, test error of best model 36.000000 %\n",
        "epoch 7, minibatch 8/8, validation error 49.000000 %"
       ]
      },
      {
       "output_type": "stream",
       "stream": "stdout",
       "text": [
        "\n",
        " epoch 7, minibatch 8/8, test error of best model 39.000000 %\n",
        "epoch 8, minibatch 8/8, validation error 47.500000 %\n",
        " epoch 8, minibatch 8/8, test error of best model 41.000000 %\n",
        "epoch 9, minibatch 8/8, validation error 49.500000 %"
       ]
      },
      {
       "output_type": "stream",
       "stream": "stdout",
       "text": [
        "\n",
        "epoch 10, minibatch 8/8, validation error 49.500000 %\n",
        "hidden_layers_sizes: [100, 100]\n",
        "corruption_levels: [0, 0]\n",
        "recall"
       ]
      },
      {
       "output_type": "stream",
       "stream": "stdout",
       "text": [
        " 67.1%\n",
        "precision 51.5%\n",
        "accuracy 51.5%\n",
        "recall"
       ]
      },
      {
       "output_type": "stream",
       "stream": "stdout",
       "text": [
        " 67.6%\n",
        "precision 48.4%\n",
        "accuracy 47.8%\n",
        "2\n",
        "SVM\n",
        "recall"
       ]
      },
      {
       "output_type": "stream",
       "stream": "stdout",
       "text": [
        " 51.5%\n",
        "precision 50.7%\n",
        "accuracy 50.8%\n",
        "recall"
       ]
      },
      {
       "output_type": "stream",
       "stream": "stdout",
       "text": [
        " 65.3%\n",
        "precision 59.2%\n",
        "accuracy 60.2%\n",
        "direct deep learning\n",
        "\n",
        "\n",
        "\n",
        "... building the model\n",
        "... getting the pretraining functions\n",
        "... pre-training the model"
       ]
      },
      {
       "output_type": "stream",
       "stream": "stderr",
       "text": [
        "\n",
        "The pretraining code ran for 0.00m"
       ]
      },
      {
       "output_type": "stream",
       "stream": "stdout",
       "text": [
        "\n",
        "... getting the finetuning functions\n",
        "... finetunning the model"
       ]
      },
      {
       "output_type": "stream",
       "stream": "stdout",
       "text": [
        "\n",
        "epoch 1, minibatch 10/10, validation error 48.000000 %\n",
        " epoch 1, minibatch 10/10, test error of best model 66.000000 %"
       ]
      },
      {
       "output_type": "stream",
       "stream": "stdout",
       "text": [
        "\n",
        "epoch 2, minibatch 10/10, validation error 48.000000 %"
       ]
      },
      {
       "output_type": "stream",
       "stream": "stdout",
       "text": [
        "\n",
        "epoch 3, minibatch 10/10, validation error 48.000000 %"
       ]
      },
      {
       "output_type": "stream",
       "stream": "stdout",
       "text": [
        "\n",
        "epoch 4, minibatch 10/10, validation error 48.000000 %"
       ]
      },
      {
       "output_type": "stream",
       "stream": "stdout",
       "text": [
        "\n",
        "epoch 5, minibatch 10/10, validation error 48.000000 %"
       ]
      },
      {
       "output_type": "stream",
       "stream": "stdout",
       "text": [
        "\n",
        "epoch 6, minibatch 10/10, validation error 48.000000 %"
       ]
      },
      {
       "output_type": "stream",
       "stream": "stdout",
       "text": [
        "\n",
        "epoch 7, minibatch 10/10, validation error 48.000000 %"
       ]
      },
      {
       "output_type": "stream",
       "stream": "stdout",
       "text": [
        "\n",
        "epoch 8, minibatch 10/10, validation error 48.000000 %"
       ]
      },
      {
       "output_type": "stream",
       "stream": "stdout",
       "text": [
        "\n",
        "epoch 9, minibatch 10/10, validation error 48.000000 %"
       ]
      },
      {
       "output_type": "stream",
       "stream": "stdout",
       "text": [
        "\n",
        "epoch 10, minibatch 10/10, validation error 48.000000 %"
       ]
      },
      {
       "output_type": "stream",
       "stream": "stdout",
       "text": [
        "\n",
        "hidden_layers_sizes: [100, 100]\n",
        "corruption_levels: [0, 0]\n",
        "recall"
       ]
      },
      {
       "output_type": "stream",
       "stream": "stdout",
       "text": [
        " 0.0%\n",
        "precision 0.0%\n",
        "accuracy 50.0%\n",
        "recall"
       ]
      },
      {
       "output_type": "stream",
       "stream": "stdout",
       "text": [
        " 0.0%\n",
        "precision 0.0%\n",
        "accuracy 49.2%\n",
        "deep learning with unlabel data\n",
        "... building the model\n",
        "... getting the pretraining functions\n",
        "... pre-training the model"
       ]
      },
      {
       "output_type": "stream",
       "stream": "stderr",
       "text": [
        "\n",
        "The pretraining code ran for 0.00m"
       ]
      },
      {
       "output_type": "stream",
       "stream": "stdout",
       "text": [
        "\n",
        "... getting the finetuning functions\n",
        "... finetunning the model"
       ]
      },
      {
       "output_type": "stream",
       "stream": "stdout",
       "text": [
        "\n",
        "epoch 1, minibatch 10/10, validation error 48.000000 %"
       ]
      },
      {
       "output_type": "stream",
       "stream": "stdout",
       "text": [
        "\n",
        " epoch 1, minibatch 10/10, test error of best model 66.000000 %\n",
        "epoch 2, minibatch 10/10, validation error 48.000000 %"
       ]
      },
      {
       "output_type": "stream",
       "stream": "stdout",
       "text": [
        "\n",
        "epoch 3, minibatch 10/10, validation error 48.000000 %"
       ]
      },
      {
       "output_type": "stream",
       "stream": "stdout",
       "text": [
        "\n",
        "epoch 4, minibatch 10/10, validation error 48.000000 %"
       ]
      },
      {
       "output_type": "stream",
       "stream": "stdout",
       "text": [
        "\n",
        "epoch 5, minibatch 10/10, validation error 48.000000 %"
       ]
      },
      {
       "output_type": "stream",
       "stream": "stdout",
       "text": [
        "\n",
        "epoch 6, minibatch 10/10, validation error 48.000000 %"
       ]
      },
      {
       "output_type": "stream",
       "stream": "stdout",
       "text": [
        "\n",
        "epoch 7, minibatch 10/10, validation error 48.000000 %"
       ]
      },
      {
       "output_type": "stream",
       "stream": "stdout",
       "text": [
        "\n",
        "epoch 8, minibatch 10/10, validation error 48.000000 %"
       ]
      },
      {
       "output_type": "stream",
       "stream": "stdout",
       "text": [
        "\n",
        "epoch 9, minibatch 10/10, validation error 48.000000 %"
       ]
      },
      {
       "output_type": "stream",
       "stream": "stdout",
       "text": [
        "\n",
        "epoch 10, minibatch 10/10, validation error 48.000000 %"
       ]
      },
      {
       "output_type": "stream",
       "stream": "stdout",
       "text": [
        "\n",
        "hidden_layers_sizes: [100, 100]\n",
        "corruption_levels: [0, 0]\n",
        "recall"
       ]
      },
      {
       "output_type": "stream",
       "stream": "stdout",
       "text": [
        " 0.0%\n",
        "precision 0.0%\n",
        "accuracy 50.0%\n",
        "recall"
       ]
      },
      {
       "output_type": "stream",
       "stream": "stdout",
       "text": [
        " 0.0%\n",
        "precision 0.0%\n",
        "accuracy 49.2%\n",
        "3\n",
        "SVM\n",
        "recall"
       ]
      },
      {
       "output_type": "stream",
       "stream": "stdout",
       "text": [
        " 63.8%\n",
        "precision 46.8%\n",
        "accuracy 45.7%\n",
        "recall"
       ]
      },
      {
       "output_type": "stream",
       "stream": "stdout",
       "text": [
        " 54.8%\n",
        "precision 53.8%\n",
        "accuracy 53.9%\n",
        "direct deep learning\n",
        "\n",
        "\n",
        "\n",
        "... building the model\n",
        "... getting the pretraining functions\n",
        "... pre-training the model"
       ]
      },
      {
       "output_type": "stream",
       "stream": "stderr",
       "text": [
        "\n",
        "The pretraining code ran for 0.00m"
       ]
      },
      {
       "output_type": "stream",
       "stream": "stdout",
       "text": [
        "\n",
        "... getting the finetuning functions\n",
        "... finetunning the model"
       ]
      },
      {
       "output_type": "stream",
       "stream": "stdout",
       "text": [
        "\n",
        "epoch 1, minibatch 10/10, validation error 45.500000 %"
       ]
      },
      {
       "output_type": "stream",
       "stream": "stdout",
       "text": [
        "\n",
        " epoch 1, minibatch 10/10, test error of best model 42.000000 %\n",
        "epoch 2, minibatch 10/10, validation error 45.500000 %"
       ]
      },
      {
       "output_type": "stream",
       "stream": "stdout",
       "text": [
        "\n",
        "epoch 3, minibatch 10/10, validation error 54.500000 %"
       ]
      },
      {
       "output_type": "stream",
       "stream": "stdout",
       "text": [
        "\n",
        "epoch 4, minibatch 10/10, validation error 54.500000 %\n",
        "epoch 5, minibatch 10/10, validation error 53.000000 %"
       ]
      },
      {
       "output_type": "stream",
       "stream": "stdout",
       "text": [
        "\n",
        "epoch 6, minibatch 10/10, validation error 53.000000 %"
       ]
      },
      {
       "output_type": "stream",
       "stream": "stdout",
       "text": [
        "\n",
        "epoch 7, minibatch 10/10, validation error 52.500000 %"
       ]
      },
      {
       "output_type": "stream",
       "stream": "stdout",
       "text": [
        "\n",
        "epoch 8, minibatch 10/10, validation error 52.000000 %"
       ]
      },
      {
       "output_type": "stream",
       "stream": "stdout",
       "text": [
        "\n",
        "epoch 9, minibatch 10/10, validation error 52.500000 %"
       ]
      },
      {
       "output_type": "stream",
       "stream": "stdout",
       "text": [
        "\n",
        "epoch 10, minibatch 10/10, validation error 51.500000 %"
       ]
      },
      {
       "output_type": "stream",
       "stream": "stdout",
       "text": [
        "\n",
        "hidden_layers_sizes: [100, 100]\n",
        "corruption_levels: [0, 0]\n",
        "recall"
       ]
      },
      {
       "output_type": "stream",
       "stream": "stdout",
       "text": [
        " 39.8%\n",
        "precision 58.8%\n",
        "accuracy 56.3%\n",
        "recall"
       ]
      },
      {
       "output_type": "stream",
       "stream": "stdout",
       "text": [
        " 36.2%\n",
        "precision 52.5%\n",
        "accuracy 51.7%\n",
        "deep learning with unlabel data\n",
        "... building the model\n",
        "... getting the pretraining functions\n",
        "... pre-training the model"
       ]
      },
      {
       "output_type": "stream",
       "stream": "stderr",
       "text": [
        "\n",
        "The pretraining code ran for 0.00m"
       ]
      },
      {
       "output_type": "stream",
       "stream": "stdout",
       "text": [
        "\n",
        "... getting the finetuning functions\n",
        "... finetunning the model"
       ]
      },
      {
       "output_type": "stream",
       "stream": "stdout",
       "text": [
        "\n",
        "epoch 1, minibatch 10/10, validation error 45.500000 %"
       ]
      },
      {
       "output_type": "stream",
       "stream": "stdout",
       "text": [
        "\n",
        " epoch 1, minibatch 10/10, test error of best model 42.000000 %\n",
        "epoch 2, minibatch 10/10, validation error 45.500000 %"
       ]
      },
      {
       "output_type": "stream",
       "stream": "stdout",
       "text": [
        "\n",
        "epoch 3, minibatch 10/10, validation error 54.500000 %"
       ]
      },
      {
       "output_type": "stream",
       "stream": "stdout",
       "text": [
        "\n",
        "epoch 4, minibatch 10/10, validation error 54.500000 %"
       ]
      },
      {
       "output_type": "stream",
       "stream": "stdout",
       "text": [
        "\n",
        "epoch 5, minibatch 10/10, validation error 53.000000 %"
       ]
      },
      {
       "output_type": "stream",
       "stream": "stdout",
       "text": [
        "\n",
        "epoch 6, minibatch 10/10, validation error 53.000000 %"
       ]
      },
      {
       "output_type": "stream",
       "stream": "stdout",
       "text": [
        "\n",
        "epoch 7, minibatch 10/10, validation error 52.500000 %"
       ]
      },
      {
       "output_type": "stream",
       "stream": "stdout",
       "text": [
        "\n",
        "epoch 8, minibatch 10/10, validation error 52.000000 %"
       ]
      },
      {
       "output_type": "stream",
       "stream": "stdout",
       "text": [
        "\n",
        "epoch 9, minibatch 10/10, validation error 52.500000 %"
       ]
      },
      {
       "output_type": "stream",
       "stream": "stdout",
       "text": [
        "\n",
        "epoch 10, minibatch 10/10, validation error 51.500000 %"
       ]
      },
      {
       "output_type": "stream",
       "stream": "stdout",
       "text": [
        "\n",
        "hidden_layers_sizes: [100, 100]\n",
        "corruption_levels: [0, 0]\n",
        "recall"
       ]
      },
      {
       "output_type": "stream",
       "stream": "stdout",
       "text": [
        " 39.8%\n",
        "precision 58.8%\n",
        "accuracy 56.3%\n",
        "recall"
       ]
      },
      {
       "output_type": "stream",
       "stream": "stdout",
       "text": [
        " 36.2%\n",
        "precision 52.5%\n",
        "accuracy 51.7%\n",
        "4\n",
        "SVM\n",
        "recall"
       ]
      },
      {
       "output_type": "stream",
       "stream": "stdout",
       "text": [
        " 55.9%\n",
        "precision 54.1%\n",
        "accuracy 54.2%\n",
        "recall"
       ]
      },
      {
       "output_type": "stream",
       "stream": "stdout",
       "text": [
        " 55.7%\n",
        "precision 57.7%\n",
        "accuracy 57.4%\n",
        "direct deep learning\n",
        "\n",
        "\n",
        "\n",
        "... building the model\n",
        "... getting the pretraining functions\n",
        "... pre-training the model"
       ]
      },
      {
       "output_type": "stream",
       "stream": "stderr",
       "text": [
        "\n",
        "The pretraining code ran for 0.00m"
       ]
      },
      {
       "output_type": "stream",
       "stream": "stdout",
       "text": [
        "\n",
        "... getting the finetuning functions\n",
        "... finetunning the model"
       ]
      },
      {
       "output_type": "stream",
       "stream": "stdout",
       "text": [
        "\n",
        "epoch 1, minibatch 8/8, validation error 55.000000 %\n",
        " epoch 1, minibatch 8/8, test error of best model 41.000000 %\n",
        "epoch 2, minibatch 8/8, validation error 55.000000 %"
       ]
      },
      {
       "output_type": "stream",
       "stream": "stdout",
       "text": [
        "\n",
        "epoch 3, minibatch 8/8, validation error 55.000000 %\n",
        "epoch 4, minibatch 8/8, validation error 45.000000 %"
       ]
      },
      {
       "output_type": "stream",
       "stream": "stdout",
       "text": [
        "\n",
        " epoch 4, minibatch 8/8, test error of best model 59.000000 %\n",
        "epoch 5, minibatch 8/8, validation error 45.000000 %\n",
        "epoch 6, minibatch 8/8, validation error 45.000000 %"
       ]
      },
      {
       "output_type": "stream",
       "stream": "stdout",
       "text": [
        "\n",
        "epoch 7, minibatch 8/8, validation error 45.500000 %\n",
        "epoch 8, minibatch 8/8, validation error 45.000000 %"
       ]
      },
      {
       "output_type": "stream",
       "stream": "stdout",
       "text": [
        "\n",
        "epoch 9, minibatch 8/8, validation error 46.000000 %\n",
        "epoch 10, minibatch 8/8, validation error 45.000000 %"
       ]
      },
      {
       "output_type": "stream",
       "stream": "stdout",
       "text": [
        "\n",
        "hidden_layers_sizes: [100, 100]\n",
        "corruption_levels: [0, 0]\n",
        "recall"
       ]
      },
      {
       "output_type": "stream",
       "stream": "stdout",
       "text": [
        " 17.0%\n",
        "precision 67.0%\n",
        "accuracy 53.1%\n",
        "recall"
       ]
      },
      {
       "output_type": "stream",
       "stream": "stdout",
       "text": [
        " 15.3%\n",
        "precision 69.2%\n",
        "accuracy 54.2%\n",
        "deep learning with unlabel data\n",
        "... building the model\n",
        "... getting the pretraining functions\n",
        "... pre-training the model"
       ]
      },
      {
       "output_type": "stream",
       "stream": "stderr",
       "text": [
        "\n",
        "The pretraining code ran for 0.00m"
       ]
      },
      {
       "output_type": "stream",
       "stream": "stdout",
       "text": [
        "\n",
        "... getting the finetuning functions\n",
        "... finetunning the model"
       ]
      },
      {
       "output_type": "stream",
       "stream": "stdout",
       "text": [
        "\n",
        "epoch 1, minibatch 8/8, validation error 55.000000 %\n",
        " epoch 1, minibatch 8/8, test error of best model 41.000000 %\n",
        "epoch 2, minibatch 8/8, validation error 55.000000 %"
       ]
      },
      {
       "output_type": "stream",
       "stream": "stdout",
       "text": [
        "\n",
        "epoch 3, minibatch 8/8, validation error 55.000000 %\n",
        "epoch 4, minibatch 8/8, validation error 45.000000 %"
       ]
      },
      {
       "output_type": "stream",
       "stream": "stdout",
       "text": [
        "\n",
        " epoch 4, minibatch 8/8, test error of best model 59.000000 %\n",
        "epoch 5, minibatch 8/8, validation error 45.000000 %\n",
        "epoch 6, minibatch 8/8, validation error 45.000000 %"
       ]
      },
      {
       "output_type": "stream",
       "stream": "stdout",
       "text": [
        "\n",
        "epoch 7, minibatch 8/8, validation error 45.500000 %\n",
        "epoch 8, minibatch 8/8, validation error 45.000000 %"
       ]
      },
      {
       "output_type": "stream",
       "stream": "stdout",
       "text": [
        "\n",
        "epoch 9, minibatch 8/8, validation error 46.000000 %\n",
        "epoch 10, minibatch 8/8, validation error 45.000000 %"
       ]
      },
      {
       "output_type": "stream",
       "stream": "stdout",
       "text": [
        "\n",
        "hidden_layers_sizes: [100, 100]\n",
        "corruption_levels: [0, 0]\n",
        "recall"
       ]
      },
      {
       "output_type": "stream",
       "stream": "stdout",
       "text": [
        " 17.0%\n",
        "precision 67.0%\n",
        "accuracy 53.1%\n",
        "recall"
       ]
      },
      {
       "output_type": "stream",
       "stream": "stdout",
       "text": [
        " 15.3%\n",
        "precision 69.2%\n",
        "accuracy 54.2%\n",
        "5\n",
        "SVM\n",
        "recall"
       ]
      },
      {
       "output_type": "stream",
       "stream": "stdout",
       "text": [
        " 64.4%\n",
        "precision 58.5%\n",
        "accuracy 59.3%\n",
        "recall"
       ]
      },
      {
       "output_type": "stream",
       "stream": "stdout",
       "text": [
        " 58.7%\n",
        "precision 55.0%\n",
        "accuracy 55.3%\n",
        "direct deep learning\n",
        "\n",
        "\n",
        "\n",
        "... building the model\n",
        "... getting the pretraining functions\n",
        "... pre-training the model"
       ]
      },
      {
       "output_type": "stream",
       "stream": "stderr",
       "text": [
        "\n",
        "The pretraining code ran for 0.00m"
       ]
      },
      {
       "output_type": "stream",
       "stream": "stdout",
       "text": [
        "\n",
        "... getting the finetuning functions\n",
        "... finetunning the model"
       ]
      },
      {
       "output_type": "stream",
       "stream": "stdout",
       "text": [
        "\n",
        "epoch 1, minibatch 8/8, validation error 52.000000 %\n",
        " epoch 1, minibatch 8/8, test error of best model 41.000000 %\n",
        "epoch 2, minibatch 8/8, validation error 52.000000 %"
       ]
      },
      {
       "output_type": "stream",
       "stream": "stdout",
       "text": [
        "\n",
        "epoch 3, minibatch 8/8, validation error 48.000000 %\n",
        " epoch 3, minibatch 8/8, test error of best model 59.000000 %\n",
        "epoch 4, minibatch 8/8, validation error 48.000000 %"
       ]
      },
      {
       "output_type": "stream",
       "stream": "stdout",
       "text": [
        "\n",
        "epoch 5, minibatch 8/8, validation error 48.500000 %\n",
        "epoch 6, minibatch 8/8, validation error 44.000000 %"
       ]
      },
      {
       "output_type": "stream",
       "stream": "stdout",
       "text": [
        "\n",
        " epoch 6, minibatch 8/8, test error of best model 49.000000 %\n",
        "epoch 7, minibatch 8/8, validation error 42.500000 %\n",
        " epoch 7, minibatch 8/8, test error of best model 42.000000 %\n",
        "epoch 8, minibatch 8/8, validation error 42.500000 %"
       ]
      },
      {
       "output_type": "stream",
       "stream": "stdout",
       "text": [
        "\n",
        "epoch 9, minibatch 8/8, validation error 43.000000 %\n",
        "epoch 10, minibatch 8/8, validation error 42.500000 %"
       ]
      },
      {
       "output_type": "stream",
       "stream": "stdout",
       "text": [
        "\n",
        "hidden_layers_sizes: [100, 100]\n",
        "corruption_levels: [0, 0]\n",
        "recall"
       ]
      },
      {
       "output_type": "stream",
       "stream": "stdout",
       "text": [
        " 62.1%\n",
        "precision 53.8%\n",
        "accuracy 53.8%\n",
        "recall"
       ]
      },
      {
       "output_type": "stream",
       "stream": "stdout",
       "text": [
        " 64.4%\n",
        "precision 55.1%\n",
        "accuracy 55.9%\n",
        "deep learning with unlabel data\n",
        "... building the model\n",
        "... getting the pretraining functions\n",
        "... pre-training the model"
       ]
      },
      {
       "output_type": "stream",
       "stream": "stderr",
       "text": [
        "\n",
        "The pretraining code ran for 0.00m"
       ]
      },
      {
       "output_type": "stream",
       "stream": "stdout",
       "text": [
        "\n",
        "... getting the finetuning functions\n",
        "... finetunning the model"
       ]
      },
      {
       "output_type": "stream",
       "stream": "stdout",
       "text": [
        "\n",
        "epoch 1, minibatch 8/8, validation error 52.000000 %\n",
        " epoch 1, minibatch 8/8, test error of best model 41.000000 %\n",
        "epoch 2, minibatch 8/8, validation error 52.000000 %"
       ]
      },
      {
       "output_type": "stream",
       "stream": "stdout",
       "text": [
        "\n",
        "epoch 3, minibatch 8/8, validation error 48.000000 %\n",
        " epoch 3, minibatch 8/8, test error of best model 59.000000 %\n",
        "epoch 4, minibatch 8/8, validation error 48.000000 %"
       ]
      },
      {
       "output_type": "stream",
       "stream": "stdout",
       "text": [
        "\n",
        "epoch 5, minibatch 8/8, validation error 48.500000 %\n",
        "epoch 6, minibatch 8/8, validation error 44.000000 %"
       ]
      },
      {
       "output_type": "stream",
       "stream": "stdout",
       "text": [
        "\n",
        " epoch 6, minibatch 8/8, test error of best model 49.000000 %\n",
        "epoch 7, minibatch 8/8, validation error 42.500000 %\n",
        " epoch 7, minibatch 8/8, test error of best model 42.000000 %\n",
        "epoch 8, minibatch 8/8, validation error 42.500000 %"
       ]
      },
      {
       "output_type": "stream",
       "stream": "stdout",
       "text": [
        "\n",
        "epoch 9, minibatch 8/8, validation error 43.000000 %\n",
        "epoch 10, minibatch 8/8, validation error 42.500000 %"
       ]
      },
      {
       "output_type": "stream",
       "stream": "stdout",
       "text": [
        "\n",
        "hidden_layers_sizes: [100, 100]\n",
        "corruption_levels: [0, 0]\n",
        "recall"
       ]
      },
      {
       "output_type": "stream",
       "stream": "stdout",
       "text": [
        " 62.1%\n",
        "precision 53.8%\n",
        "accuracy 53.8%\n",
        "recall"
       ]
      },
      {
       "output_type": "stream",
       "stream": "stdout",
       "text": [
        " 64.4%\n",
        "precision 55.1%\n",
        "accuracy 55.9%\n",
        "6\n",
        "SVM\n",
        "recall"
       ]
      },
      {
       "output_type": "stream",
       "stream": "stdout",
       "text": [
        " 45.6%\n",
        "precision 49.1%\n",
        "accuracy 49.1%\n",
        "recall"
       ]
      },
      {
       "output_type": "stream",
       "stream": "stdout",
       "text": [
        " 52.9%\n",
        "precision 56.2%\n",
        "accuracy 55.9%\n",
        "direct deep learning\n",
        "\n",
        "\n",
        "\n",
        "... building the model\n",
        "... getting the pretraining functions\n",
        "... pre-training the model"
       ]
      },
      {
       "output_type": "stream",
       "stream": "stderr",
       "text": [
        "\n",
        "The pretraining code ran for 0.00m"
       ]
      },
      {
       "output_type": "stream",
       "stream": "stdout",
       "text": [
        "\n",
        "... getting the finetuning functions\n",
        "... finetunning the model"
       ]
      },
      {
       "output_type": "stream",
       "stream": "stdout",
       "text": [
        "\n",
        "epoch 1, minibatch 8/8, validation error 51.000000 %"
       ]
      },
      {
       "output_type": "stream",
       "stream": "stdout",
       "text": [
        "\n",
        " epoch 1, minibatch 8/8, test error of best model 57.000000 %\n",
        "epoch 2, minibatch 8/8, validation error 51.000000 %\n",
        "epoch 3, minibatch 8/8, validation error 51.000000 %"
       ]
      },
      {
       "output_type": "stream",
       "stream": "stdout",
       "text": [
        "\n",
        "epoch 4, minibatch 8/8, validation error 51.000000 %\n",
        "epoch 5, minibatch 8/8, validation error 51.000000 %"
       ]
      },
      {
       "output_type": "stream",
       "stream": "stdout",
       "text": [
        "\n",
        "epoch 6, minibatch 8/8, validation error 51.000000 %\n",
        "epoch 7, minibatch 8/8, validation error 51.000000 %"
       ]
      },
      {
       "output_type": "stream",
       "stream": "stdout",
       "text": [
        "\n",
        "epoch 8, minibatch 8/8, validation error 51.000000 %\n",
        "epoch 9, minibatch 8/8, validation error 51.000000 %"
       ]
      },
      {
       "output_type": "stream",
       "stream": "stdout",
       "text": [
        "\n",
        "epoch 10, minibatch 8/8, validation error 51.000000 %\n",
        "hidden_layers_sizes: [100, 100]\n",
        "corruption_levels: [0, 0]\n",
        "recall"
       ]
      },
      {
       "output_type": "stream",
       "stream": "stdout",
       "text": [
        " 0.0%\n",
        "precision 0.0%\n",
        "accuracy 50.6%\n",
        "recall"
       ]
      },
      {
       "output_type": "stream",
       "stream": "stdout",
       "text": [
        " 0.0%\n",
        "precision 0.0%\n",
        "accuracy 50.0%\n",
        "deep learning with unlabel data\n",
        "... building the model\n",
        "... getting the pretraining functions\n",
        "... pre-training the model"
       ]
      },
      {
       "output_type": "stream",
       "stream": "stderr",
       "text": [
        "\n",
        "The pretraining code ran for 0.00m"
       ]
      },
      {
       "output_type": "stream",
       "stream": "stdout",
       "text": [
        "\n",
        "... getting the finetuning functions\n",
        "... finetunning the model"
       ]
      },
      {
       "output_type": "stream",
       "stream": "stdout",
       "text": [
        "\n",
        "epoch 1, minibatch 8/8, validation error 51.000000 %\n",
        " epoch 1, minibatch 8/8, test error of best model 57.000000 %\n",
        "epoch 2, minibatch 8/8, validation error 51.000000 %"
       ]
      },
      {
       "output_type": "stream",
       "stream": "stdout",
       "text": [
        "\n",
        "epoch 3, minibatch 8/8, validation error 51.000000 %\n",
        "epoch 4, minibatch 8/8, validation error 51.000000 %"
       ]
      },
      {
       "output_type": "stream",
       "stream": "stdout",
       "text": [
        "\n",
        "epoch 5, minibatch 8/8, validation error 51.000000 %\n",
        "epoch 6, minibatch 8/8, validation error 51.000000 %"
       ]
      },
      {
       "output_type": "stream",
       "stream": "stdout",
       "text": [
        "\n",
        "epoch 7, minibatch 8/8, validation error 51.000000 %\n",
        "epoch 8, minibatch 8/8, validation error 51.000000 %"
       ]
      },
      {
       "output_type": "stream",
       "stream": "stdout",
       "text": [
        "\n",
        "epoch 9, minibatch 8/8, validation error 51.000000 %\n",
        "epoch 10, minibatch 8/8, validation error 51.000000 %"
       ]
      },
      {
       "output_type": "stream",
       "stream": "stdout",
       "text": [
        "\n",
        "hidden_layers_sizes: [100, 100]\n",
        "corruption_levels: [0, 0]\n",
        "recall"
       ]
      },
      {
       "output_type": "stream",
       "stream": "stdout",
       "text": [
        " 0.0%\n",
        "precision 0.0%\n",
        "accuracy 50.6%\n",
        "recall"
       ]
      },
      {
       "output_type": "stream",
       "stream": "stdout",
       "text": [
        " 0.0%\n",
        "precision 0.0%\n",
        "accuracy 50.0%\n",
        "7\n",
        "SVM\n",
        "recall"
       ]
      },
      {
       "output_type": "stream",
       "stream": "stdout",
       "text": [
        " 66.2%\n",
        "precision 51.8%\n",
        "accuracy 52.3%\n",
        "recall"
       ]
      },
      {
       "output_type": "stream",
       "stream": "stdout",
       "text": [
        " 63.6%\n",
        "precision 54.9%\n",
        "accuracy 55.7%\n",
        "direct deep learning\n",
        "\n",
        "\n",
        "\n",
        "... building the model\n",
        "... getting the pretraining functions\n",
        "... pre-training the model"
       ]
      },
      {
       "output_type": "stream",
       "stream": "stderr",
       "text": [
        "\n",
        "The pretraining code ran for 0.00m"
       ]
      },
      {
       "output_type": "stream",
       "stream": "stdout",
       "text": [
        "\n",
        "... getting the finetuning functions\n",
        "... finetunning the model"
       ]
      },
      {
       "output_type": "stream",
       "stream": "stdout",
       "text": [
        "\n",
        "epoch 1, minibatch 9/9, validation error 51.500000 %\n",
        " epoch 1, minibatch 9/9, test error of best model 35.000000 %\n",
        "epoch 2, minibatch 9/9, validation error 56.500000 %"
       ]
      },
      {
       "output_type": "stream",
       "stream": "stdout",
       "text": [
        "\n",
        "epoch 3, minibatch 9/9, validation error 51.500000 %\n",
        "epoch 4, minibatch 9/9, validation error 51.500000 %"
       ]
      },
      {
       "output_type": "stream",
       "stream": "stdout",
       "text": [
        "\n",
        "epoch 5, minibatch 9/9, validation error 51.500000 %\n",
        "epoch 6, minibatch 9/9, validation error 51.500000 %"
       ]
      },
      {
       "output_type": "stream",
       "stream": "stdout",
       "text": [
        "\n",
        "epoch 7, minibatch 9/9, validation error 51.500000 %\n",
        "epoch 8, minibatch 9/9, validation error 51.500000 %"
       ]
      },
      {
       "output_type": "stream",
       "stream": "stdout",
       "text": [
        "\n",
        "epoch 9, minibatch 9/9, validation error 51.500000 %\n",
        "epoch 10, minibatch 9/9, validation error 51.500000 %"
       ]
      },
      {
       "output_type": "stream",
       "stream": "stdout",
       "text": [
        "\n",
        "hidden_layers_sizes: [100, 100]\n",
        "corruption_levels: [0, 0]\n",
        "recall"
       ]
      },
      {
       "output_type": "stream",
       "stream": "stdout",
       "text": [
        " 100.0%\n",
        "precision 50.1%\n",
        "accuracy 50.1%\n",
        "recall"
       ]
      },
      {
       "output_type": "stream",
       "stream": "stdout",
       "text": [
        " 100.0%\n",
        "precision 50.0%\n",
        "accuracy 50.0%\n",
        "deep learning with unlabel data\n",
        "... building the model\n",
        "... getting the pretraining functions\n",
        "... pre-training the model"
       ]
      },
      {
       "output_type": "stream",
       "stream": "stderr",
       "text": [
        "\n",
        "The pretraining code ran for 0.00m"
       ]
      },
      {
       "output_type": "stream",
       "stream": "stdout",
       "text": [
        "\n",
        "... getting the finetuning functions\n",
        "... finetunning the model"
       ]
      },
      {
       "output_type": "stream",
       "stream": "stdout",
       "text": [
        "\n",
        "epoch 1, minibatch 9/9, validation error 51.500000 %\n",
        " epoch 1, minibatch 9/9, test error of best model 35.000000 %\n",
        "epoch 2, minibatch 9/9, validation error 56.500000 %"
       ]
      },
      {
       "output_type": "stream",
       "stream": "stdout",
       "text": [
        "\n",
        "epoch 3, minibatch 9/9, validation error 51.500000 %\n",
        "epoch 4, minibatch 9/9, validation error 51.500000 %"
       ]
      },
      {
       "output_type": "stream",
       "stream": "stdout",
       "text": [
        "\n",
        "epoch 5, minibatch 9/9, validation error 51.500000 %\n",
        "epoch 6, minibatch 9/9, validation error 51.500000 %"
       ]
      },
      {
       "output_type": "stream",
       "stream": "stdout",
       "text": [
        "\n",
        "epoch 7, minibatch 9/9, validation error 51.500000 %"
       ]
      },
      {
       "output_type": "stream",
       "stream": "stdout",
       "text": [
        "\n",
        "epoch 8, minibatch 9/9, validation error 51.500000 %\n",
        "epoch 9, minibatch 9/9, validation error 51.500000 %"
       ]
      },
      {
       "output_type": "stream",
       "stream": "stdout",
       "text": [
        "\n",
        "epoch 10, minibatch 9/9, validation error 51.500000 %\n",
        "hidden_layers_sizes: [100, 100]\n",
        "corruption_levels: [0, 0]\n",
        "recall"
       ]
      },
      {
       "output_type": "stream",
       "stream": "stdout",
       "text": [
        " 100.0%\n",
        "precision 50.1%\n",
        "accuracy 50.1%\n",
        "recall"
       ]
      },
      {
       "output_type": "stream",
       "stream": "stdout",
       "text": [
        " 100.0%\n",
        "precision 50.0%\n",
        "accuracy 50.0%\n",
        "8\n",
        "SVM\n",
        "recall"
       ]
      },
      {
       "output_type": "stream",
       "stream": "stdout",
       "text": [
        " 58.7%\n",
        "precision 50.7%\n",
        "accuracy 50.8%\n",
        "recall"
       ]
      },
      {
       "output_type": "stream",
       "stream": "stdout",
       "text": [
        " 52.8%\n",
        "precision 55.7%\n",
        "accuracy 55.4%\n",
        "direct deep learning\n",
        "\n",
        "\n",
        "\n",
        "... building the model\n",
        "... getting the pretraining functions\n",
        "... pre-training the model"
       ]
      },
      {
       "output_type": "stream",
       "stream": "stderr",
       "text": [
        "\n",
        "The pretraining code ran for 0.00m"
       ]
      },
      {
       "output_type": "stream",
       "stream": "stdout",
       "text": [
        "\n",
        "... getting the finetuning functions\n",
        "... finetunning the model"
       ]
      },
      {
       "output_type": "stream",
       "stream": "stdout",
       "text": [
        "\n",
        "epoch 1, minibatch 8/8, validation error 49.000000 %\n",
        " epoch 1, minibatch 8/8, test error of best model 63.000000 %"
       ]
      },
      {
       "output_type": "stream",
       "stream": "stdout",
       "text": [
        "\n",
        "epoch 2, minibatch 8/8, validation error 49.000000 %\n",
        "epoch 3, minibatch 8/8, validation error 49.000000 %"
       ]
      },
      {
       "output_type": "stream",
       "stream": "stdout",
       "text": [
        "\n",
        "epoch 4, minibatch 8/8, validation error 51.000000 %\n",
        "epoch 5, minibatch 8/8, validation error 51.000000 %"
       ]
      },
      {
       "output_type": "stream",
       "stream": "stdout",
       "text": [
        "\n",
        "epoch 6, minibatch 8/8, validation error 51.000000 %\n",
        "epoch 7, minibatch 8/8, validation error 51.000000 %"
       ]
      },
      {
       "output_type": "stream",
       "stream": "stdout",
       "text": [
        "\n",
        "epoch 8, minibatch 8/8, validation error 50.500000 %\n",
        "epoch 9, minibatch 8/8, validation error 51.000000 %"
       ]
      },
      {
       "output_type": "stream",
       "stream": "stdout",
       "text": [
        "\n",
        "epoch 10, minibatch 8/8, validation error 48.500000 %\n",
        " epoch 10, minibatch 8/8, test error of best model 38.000000 %\n",
        "hidden_layers_sizes: [100, 100]\n",
        "corruption_levels: [0, 0]\n",
        "recall"
       ]
      },
      {
       "output_type": "stream",
       "stream": "stdout",
       "text": [
        " 94.5%\n",
        "precision 50.6%\n",
        "accuracy 50.8%\n",
        "recall"
       ]
      },
      {
       "output_type": "stream",
       "stream": "stdout",
       "text": [
        " 96.8%\n",
        "precision 50.4%\n",
        "accuracy 50.8%\n",
        "deep learning with unlabel data\n",
        "... building the model\n",
        "... getting the pretraining functions\n",
        "... pre-training the model"
       ]
      },
      {
       "output_type": "stream",
       "stream": "stderr",
       "text": [
        "\n",
        "The pretraining code ran for 0.00m"
       ]
      },
      {
       "output_type": "stream",
       "stream": "stdout",
       "text": [
        "\n",
        "... getting the finetuning functions\n",
        "... finetunning the model"
       ]
      },
      {
       "output_type": "stream",
       "stream": "stdout",
       "text": [
        "\n",
        "epoch 1, minibatch 8/8, validation error 49.000000 %\n",
        " epoch 1, minibatch 8/8, test error of best model 63.000000 %\n",
        "epoch 2, minibatch 8/8, validation error 49.000000 %"
       ]
      },
      {
       "output_type": "stream",
       "stream": "stdout",
       "text": [
        "\n",
        "epoch 3, minibatch 8/8, validation error 49.000000 %\n",
        "epoch 4, minibatch 8/8, validation error 51.000000 %"
       ]
      },
      {
       "output_type": "stream",
       "stream": "stdout",
       "text": [
        "\n",
        "epoch 5, minibatch 8/8, validation error 51.000000 %\n",
        "epoch 6, minibatch 8/8, validation error 51.000000 %"
       ]
      },
      {
       "output_type": "stream",
       "stream": "stdout",
       "text": [
        "\n",
        "epoch 7, minibatch 8/8, validation error 51.000000 %\n",
        "epoch 8, minibatch 8/8, validation error 50.500000 %"
       ]
      },
      {
       "output_type": "stream",
       "stream": "stdout",
       "text": [
        "\n",
        "epoch 9, minibatch 8/8, validation error 51.000000 %\n",
        "epoch 10, minibatch 8/8, validation error 48.500000 %"
       ]
      },
      {
       "output_type": "stream",
       "stream": "stdout",
       "text": [
        "\n",
        " epoch 10, minibatch 8/8, test error of best model 38.000000 %\n",
        "hidden_layers_sizes: [100, 100]\n",
        "corruption_levels: [0, 0]\n",
        "recall"
       ]
      },
      {
       "output_type": "stream",
       "stream": "stdout",
       "text": [
        " 94.5%\n",
        "precision 50.6%\n",
        "accuracy 50.8%\n",
        "recall"
       ]
      },
      {
       "output_type": "stream",
       "stream": "stdout",
       "text": [
        " 96.8%\n",
        "precision 50.4%\n",
        "accuracy 50.8%\n",
        "9\n",
        "SVM\n",
        "recall"
       ]
      },
      {
       "output_type": "stream",
       "stream": "stdout",
       "text": [
        " 0.0%\n",
        "precision 0.0%\n",
        "accuracy 50.0%\n",
        "recall"
       ]
      },
      {
       "output_type": "stream",
       "stream": "stdout",
       "text": [
        " 64.3%\n",
        "precision 57.4%\n",
        "accuracy 58.3%\n",
        "direct deep learning\n",
        "\n",
        "\n",
        "\n",
        "... building the model\n",
        "... getting the pretraining functions\n",
        "... pre-training the model"
       ]
      },
      {
       "output_type": "stream",
       "stream": "stderr",
       "text": [
        "\n",
        "The pretraining code ran for 0.00m"
       ]
      },
      {
       "output_type": "stream",
       "stream": "stdout",
       "text": [
        "\n",
        "... getting the finetuning functions\n",
        "... finetunning the model"
       ]
      },
      {
       "output_type": "stream",
       "stream": "stdout",
       "text": [
        "\n",
        "epoch 1, minibatch 8/8, validation error 52.500000 %"
       ]
      },
      {
       "output_type": "stream",
       "stream": "stdout",
       "text": [
        "\n",
        " epoch 1, minibatch 8/8, test error of best model nan %\n",
        "epoch 2, minibatch 8/8, validation error 52.500000 %"
       ]
      },
      {
       "output_type": "stream",
       "stream": "stdout",
       "text": [
        "\n",
        "epoch 3, minibatch 8/8, validation error 47.500000 %\n",
        " epoch 3, minibatch 8/8, test error of best model nan %\n",
        "epoch 4, minibatch 8/8, validation error 47.500000 %"
       ]
      },
      {
       "output_type": "stream",
       "stream": "stdout",
       "text": [
        "\n",
        "epoch 5, minibatch 8/8, validation error 47.500000 %\n",
        "epoch 6, minibatch 8/8, validation error 35.500000 %"
       ]
      },
      {
       "output_type": "stream",
       "stream": "stdout",
       "text": [
        "\n",
        " epoch 6, minibatch 8/8, test error of best model nan %\n",
        "epoch 7, minibatch 8/8, validation error 47.500000 %\n",
        "epoch 8, minibatch 8/8, validation error 47.000000 %"
       ]
      },
      {
       "output_type": "stream",
       "stream": "stdout",
       "text": [
        "\n",
        "epoch 9, minibatch 8/8, validation error 49.000000 %\n",
        "epoch 10, minibatch 8/8, validation error 50.000000 %"
       ]
      },
      {
       "output_type": "stream",
       "stream": "stdout",
       "text": [
        "\n",
        "hidden_layers_sizes: [100, 100]\n",
        "corruption_levels: [0, 0]\n",
        "recall"
       ]
      },
      {
       "output_type": "stream",
       "stream": "stdout",
       "text": [
        " 92.4%\n",
        "precision 50.5%\n",
        "accuracy 50.7%\n",
        "recall"
       ]
      },
      {
       "output_type": "stream",
       "stream": "stdout",
       "text": [
        " 22.2%\n",
        "precision 50.0%\n",
        "accuracy 50.0%\n",
        "deep learning with unlabel data\n",
        "... building the model\n",
        "... getting the pretraining functions\n",
        "... pre-training the model"
       ]
      },
      {
       "output_type": "stream",
       "stream": "stderr",
       "text": [
        "\n",
        "The pretraining code ran for 0.00m"
       ]
      },
      {
       "output_type": "stream",
       "stream": "stdout",
       "text": [
        "\n",
        "... getting the finetuning functions\n",
        "... finetunning the model"
       ]
      },
      {
       "output_type": "stream",
       "stream": "stdout",
       "text": [
        "\n",
        "epoch 1, minibatch 8/8, validation error 52.500000 %\n",
        " epoch 1, minibatch 8/8, test error of best model nan %\n",
        "epoch 2, minibatch 8/8, validation error 52.500000 %"
       ]
      },
      {
       "output_type": "stream",
       "stream": "stdout",
       "text": [
        "\n",
        "epoch 3, minibatch 8/8, validation error 47.500000 %\n",
        " epoch 3, minibatch 8/8, test error of best model nan %\n",
        "epoch 4, minibatch 8/8, validation error 47.500000 %"
       ]
      },
      {
       "output_type": "stream",
       "stream": "stdout",
       "text": [
        "\n",
        "epoch 5, minibatch 8/8, validation error 47.500000 %\n",
        "epoch 6, minibatch 8/8, validation error 35.500000 %"
       ]
      },
      {
       "output_type": "stream",
       "stream": "stdout",
       "text": [
        "\n",
        " epoch 6, minibatch 8/8, test error of best model nan %\n",
        "epoch 7, minibatch 8/8, validation error 47.500000 %\n",
        "epoch 8, minibatch 8/8, validation error 47.000000 %"
       ]
      },
      {
       "output_type": "stream",
       "stream": "stdout",
       "text": [
        "\n",
        "epoch 9, minibatch 8/8, validation error 49.000000 %\n",
        "epoch 10, minibatch 8/8, validation error 50.000000 %"
       ]
      },
      {
       "output_type": "stream",
       "stream": "stdout",
       "text": [
        "\n",
        "hidden_layers_sizes: [100, 100]\n",
        "corruption_levels: [0, 0]\n",
        "recall"
       ]
      },
      {
       "output_type": "stream",
       "stream": "stdout",
       "text": [
        " 92.4%\n",
        "precision 50.5%\n",
        "accuracy 50.7%\n",
        "recall"
       ]
      },
      {
       "output_type": "stream",
       "stream": "stdout",
       "text": [
        " 22.2%\n",
        "precision 50.0%\n",
        "accuracy 50.0%\n",
        "10\n",
        "SVM\n",
        "recall"
       ]
      },
      {
       "output_type": "stream",
       "stream": "stdout",
       "text": [
        " 66.1%\n",
        "precision 50.7%\n",
        "accuracy 50.9%\n",
        "recall"
       ]
      },
      {
       "output_type": "stream",
       "stream": "stdout",
       "text": [
        " 62.2%\n",
        "precision 55.9%\n",
        "accuracy 56.5%\n",
        "direct deep learning\n",
        "\n",
        "\n",
        "\n",
        "... building the model\n",
        "... getting the pretraining functions\n",
        "... pre-training the model"
       ]
      },
      {
       "output_type": "stream",
       "stream": "stderr",
       "text": [
        "\n",
        "The pretraining code ran for 0.00m"
       ]
      },
      {
       "output_type": "stream",
       "stream": "stdout",
       "text": [
        "\n",
        "... getting the finetuning functions\n",
        "... finetunning the model"
       ]
      },
      {
       "output_type": "stream",
       "stream": "stdout",
       "text": [
        "\n",
        "epoch 1, minibatch 9/9, validation error 53.000000 %"
       ]
      },
      {
       "output_type": "stream",
       "stream": "stdout",
       "text": [
        "\n",
        " epoch 1, minibatch 9/9, test error of best model 56.000000 %\n",
        "epoch 2, minibatch 9/9, validation error 47.000000 %"
       ]
      },
      {
       "output_type": "stream",
       "stream": "stdout",
       "text": [
        "\n",
        " epoch 2, minibatch 9/9, test error of best model 44.000000 %\n",
        "epoch 3, minibatch 9/9, validation error 53.000000 %"
       ]
      },
      {
       "output_type": "stream",
       "stream": "stdout",
       "text": [
        "\n",
        "epoch 4, minibatch 9/9, validation error 47.000000 %"
       ]
      },
      {
       "output_type": "stream",
       "stream": "stdout",
       "text": [
        "\n",
        "epoch 5, minibatch 9/9, validation error 52.000000 %"
       ]
      },
      {
       "output_type": "stream",
       "stream": "stdout",
       "text": [
        "\n",
        "epoch 6, minibatch 9/9, validation error 50.500000 %"
       ]
      },
      {
       "output_type": "stream",
       "stream": "stdout",
       "text": [
        "\n",
        "epoch 7, minibatch 9/9, validation error 52.500000 %\n",
        "epoch 8, minibatch 9/9, validation error 52.500000 %"
       ]
      },
      {
       "output_type": "stream",
       "stream": "stdout",
       "text": [
        "\n",
        "epoch 9, minibatch 9/9, validation error 52.500000 %"
       ]
      },
      {
       "output_type": "stream",
       "stream": "stdout",
       "text": [
        "\n",
        "epoch 10, minibatch 9/9, validation error 52.000000 %"
       ]
      },
      {
       "output_type": "stream",
       "stream": "stdout",
       "text": [
        "\n",
        "hidden_layers_sizes: [100, 100]\n",
        "corruption_levels: [0, 0]\n",
        "recall"
       ]
      },
      {
       "output_type": "stream",
       "stream": "stdout",
       "text": [
        " 0.8%\n",
        "precision 57.1%\n",
        "accuracy 50.2%\n",
        "recall"
       ]
      },
      {
       "output_type": "stream",
       "stream": "stdout",
       "text": [
        " 0.0%\n",
        "precision 0.0%\n",
        "accuracy 50.0%\n",
        "deep learning with unlabel data\n",
        "... building the model\n",
        "... getting the pretraining functions\n",
        "... pre-training the model"
       ]
      },
      {
       "output_type": "stream",
       "stream": "stderr",
       "text": [
        "\n",
        "The pretraining code ran for 0.00m"
       ]
      },
      {
       "output_type": "stream",
       "stream": "stdout",
       "text": [
        "\n",
        "... getting the finetuning functions\n",
        "... finetunning the model"
       ]
      },
      {
       "output_type": "stream",
       "stream": "stdout",
       "text": [
        "\n",
        "epoch 1, minibatch 9/9, validation error 53.000000 %\n",
        " epoch 1, minibatch 9/9, test error of best model 56.000000 %\n",
        "epoch 2, minibatch 9/9, validation error 47.000000 %"
       ]
      },
      {
       "output_type": "stream",
       "stream": "stdout",
       "text": [
        "\n",
        " epoch 2, minibatch 9/9, test error of best model 44.000000 %\n",
        "epoch 3, minibatch 9/9, validation error 53.000000 %\n",
        "epoch 4, minibatch 9/9, validation error 47.000000 %"
       ]
      },
      {
       "output_type": "stream",
       "stream": "stdout",
       "text": [
        "\n",
        "epoch 5, minibatch 9/9, validation error 52.000000 %"
       ]
      },
      {
       "output_type": "stream",
       "stream": "stdout",
       "text": [
        "\n",
        "epoch 6, minibatch 9/9, validation error 50.500000 %\n",
        "epoch 7, minibatch 9/9, validation error 52.500000 %"
       ]
      },
      {
       "output_type": "stream",
       "stream": "stdout",
       "text": [
        "\n",
        "epoch 8, minibatch 9/9, validation error 52.500000 %\n",
        "epoch 9, minibatch 9/9, validation error 52.500000 %"
       ]
      },
      {
       "output_type": "stream",
       "stream": "stdout",
       "text": [
        "\n",
        "epoch 10, minibatch 9/9, validation error 52.000000 %\n",
        "hidden_layers_sizes: [100, 100]\n",
        "corruption_levels: [0, 0]\n",
        "recall"
       ]
      },
      {
       "output_type": "stream",
       "stream": "stdout",
       "text": [
        " 0.8%\n",
        "precision 57.1%\n",
        "accuracy 50.2%\n",
        "recall"
       ]
      },
      {
       "output_type": "stream",
       "stream": "stdout",
       "text": [
        " 0.0%\n",
        "precision 0.0%\n",
        "accuracy 50.0%\n",
        "11\n",
        "SVM\n",
        "recall"
       ]
      },
      {
       "output_type": "stream",
       "stream": "stdout",
       "text": [
        " 59.3%\n",
        "precision 53.0%\n",
        "accuracy 53.4%\n",
        "recall"
       ]
      },
      {
       "output_type": "stream",
       "stream": "stdout",
       "text": [
        " 56.2%\n",
        "precision 55.6%\n",
        "accuracy 55.6%\n",
        "direct deep learning\n",
        "\n",
        "\n",
        "\n",
        "... building the model\n",
        "... getting the pretraining functions\n",
        "... pre-training the model"
       ]
      },
      {
       "output_type": "stream",
       "stream": "stderr",
       "text": [
        "\n",
        "The pretraining code ran for 0.00m"
       ]
      },
      {
       "output_type": "stream",
       "stream": "stdout",
       "text": [
        "\n",
        "... getting the finetuning functions\n",
        "... finetunning the model"
       ]
      },
      {
       "output_type": "stream",
       "stream": "stdout",
       "text": [
        "\n",
        "epoch 1, minibatch 6/6, validation error 52.000000 %\n",
        " epoch 1, minibatch 6/6, test error of best model 41.000000 %\n",
        "epoch 2, minibatch 6/6, validation error 52.000000 %"
       ]
      },
      {
       "output_type": "stream",
       "stream": "stdout",
       "text": [
        "\n",
        "epoch 3, minibatch 6/6, validation error 52.000000 %\n",
        "epoch 4, minibatch 6/6, validation error 52.000000 %"
       ]
      },
      {
       "output_type": "stream",
       "stream": "stdout",
       "text": [
        "\n",
        "epoch 5, minibatch 6/6, validation error 52.000000 %\n",
        "epoch 6, minibatch 6/6, validation error 56.000000 %"
       ]
      },
      {
       "output_type": "stream",
       "stream": "stdout",
       "text": [
        "\n",
        "epoch 7, minibatch 6/6, validation error 55.000000 %\n",
        "epoch 8, minibatch 6/6, validation error 55.000000 %"
       ]
      },
      {
       "output_type": "stream",
       "stream": "stdout",
       "text": [
        "\n",
        "epoch 9, minibatch 6/6, validation error 55.000000 %\n",
        "epoch 10, minibatch 6/6, validation error 56.000000 %"
       ]
      },
      {
       "output_type": "stream",
       "stream": "stdout",
       "text": [
        "\n",
        "hidden_layers_sizes: [100, 100]\n",
        "corruption_levels: [0, 0]\n",
        "recall"
       ]
      },
      {
       "output_type": "stream",
       "stream": "stdout",
       "text": [
        " 61.6%\n",
        "precision 54.0%\n",
        "accuracy 54.7%\n",
        "recall"
       ]
      },
      {
       "output_type": "stream",
       "stream": "stdout",
       "text": [
        " 55.9%\n",
        "precision 49.3%\n",
        "accuracy 49.2%\n",
        "deep learning with unlabel data\n",
        "... building the model\n",
        "... getting the pretraining functions\n",
        "... pre-training the model"
       ]
      },
      {
       "output_type": "stream",
       "stream": "stderr",
       "text": [
        "\n",
        "The pretraining code ran for 0.00m"
       ]
      },
      {
       "output_type": "stream",
       "stream": "stdout",
       "text": [
        "\n",
        "... getting the finetuning functions\n",
        "... finetunning the model"
       ]
      },
      {
       "output_type": "stream",
       "stream": "stdout",
       "text": [
        "\n",
        "epoch 1, minibatch 6/6, validation error 52.000000 %\n",
        " epoch 1, minibatch 6/6, test error of best model 41.000000 %\n",
        "epoch 2, minibatch 6/6, validation error 52.000000 %"
       ]
      },
      {
       "output_type": "stream",
       "stream": "stdout",
       "text": [
        "\n",
        "epoch 3, minibatch 6/6, validation error 52.000000 %\n",
        "epoch 4, minibatch 6/6, validation error 52.000000 %"
       ]
      },
      {
       "output_type": "stream",
       "stream": "stdout",
       "text": [
        "\n",
        "epoch 5, minibatch 6/6, validation error 52.000000 %\n",
        "epoch 6, minibatch 6/6, validation error 56.000000 %"
       ]
      },
      {
       "output_type": "stream",
       "stream": "stdout",
       "text": [
        "\n",
        "epoch 7, minibatch 6/6, validation error 55.000000 %\n",
        "epoch 8, minibatch 6/6, validation error 55.000000 %"
       ]
      },
      {
       "output_type": "stream",
       "stream": "stdout",
       "text": [
        "\n",
        "epoch 9, minibatch 6/6, validation error 55.000000 %\n",
        "epoch 10, minibatch 6/6, validation error 56.000000 %"
       ]
      },
      {
       "output_type": "stream",
       "stream": "stdout",
       "text": [
        "\n",
        "hidden_layers_sizes: [100, 100]\n",
        "corruption_levels: [0, 0]\n",
        "recall"
       ]
      },
      {
       "output_type": "stream",
       "stream": "stdout",
       "text": [
        " 61.6%\n",
        "precision 54.0%\n",
        "accuracy 54.7%\n",
        "recall"
       ]
      },
      {
       "output_type": "stream",
       "stream": "stdout",
       "text": [
        " 55.9%\n",
        "precision 49.3%\n",
        "accuracy 49.2%\n",
        "12\n",
        "SVM\n",
        "recall"
       ]
      },
      {
       "output_type": "stream",
       "stream": "stdout",
       "text": [
        " 68.2%\n",
        "precision 55.6%\n",
        "accuracy 56.8%\n",
        "recall"
       ]
      },
      {
       "output_type": "stream",
       "stream": "stdout",
       "text": [
        " 63.1%\n",
        "precision 58.1%\n",
        "accuracy 58.8%\n",
        "direct deep learning\n",
        "\n",
        "\n",
        "\n",
        "... building the model\n",
        "... getting the pretraining functions\n",
        "... pre-training the model"
       ]
      },
      {
       "output_type": "stream",
       "stream": "stderr",
       "text": [
        "\n",
        "The pretraining code ran for 0.00m"
       ]
      },
      {
       "output_type": "stream",
       "stream": "stdout",
       "text": [
        "\n",
        "... getting the finetuning functions\n",
        "... finetunning the model"
       ]
      },
      {
       "output_type": "stream",
       "stream": "stdout",
       "text": [
        "\n",
        "epoch 1, minibatch 7/7, validation error 47.000000 %\n",
        " epoch 1, minibatch 7/7, test error of best model 66.000000 %\n",
        "epoch 2, minibatch 7/7, validation error 53.000000 %"
       ]
      },
      {
       "output_type": "stream",
       "stream": "stdout",
       "text": [
        "\n",
        "epoch 3, minibatch 7/7, validation error 47.000000 %\n",
        "epoch 4, minibatch 7/7, validation error 47.000000 %"
       ]
      },
      {
       "output_type": "stream",
       "stream": "stdout",
       "text": [
        "\n",
        "epoch 5, minibatch 7/7, validation error 47.000000 %\n",
        "epoch 6, minibatch 7/7, validation error 47.000000 %"
       ]
      },
      {
       "output_type": "stream",
       "stream": "stdout",
       "text": [
        "\n",
        "epoch 7, minibatch 7/7, validation error 47.000000 %\n",
        "epoch 8, minibatch 7/7, validation error 48.000000 %"
       ]
      },
      {
       "output_type": "stream",
       "stream": "stdout",
       "text": [
        "\n",
        "epoch 9, minibatch 7/7, validation error 43.000000 %\n",
        " epoch 9, minibatch 7/7, test error of best model 58.000000 %\n",
        "epoch 10, minibatch 7/7, validation error 41.000000 %"
       ]
      },
      {
       "output_type": "stream",
       "stream": "stdout",
       "text": [
        "\n",
        " epoch 10, minibatch 7/7, test error of best model 48.000000 %\n",
        "hidden_layers_sizes: [100, 100]\n",
        "corruption_levels: [0, 0]\n",
        "recall"
       ]
      },
      {
       "output_type": "stream",
       "stream": "stdout",
       "text": [
        " 42.9%\n",
        "precision 57.6%\n",
        "accuracy 55.3%\n",
        "recall"
       ]
      },
      {
       "output_type": "stream",
       "stream": "stdout",
       "text": [
        " 42.4%\n",
        "precision 56.0%\n",
        "accuracy 54.5%\n",
        "deep learning with unlabel data\n",
        "... building the model\n",
        "... getting the pretraining functions\n",
        "... pre-training the model"
       ]
      },
      {
       "output_type": "stream",
       "stream": "stderr",
       "text": [
        "\n",
        "The pretraining code ran for 0.00m"
       ]
      },
      {
       "output_type": "stream",
       "stream": "stdout",
       "text": [
        "\n",
        "... getting the finetuning functions\n",
        "... finetunning the model"
       ]
      },
      {
       "output_type": "stream",
       "stream": "stdout",
       "text": [
        "\n",
        "epoch 1, minibatch 7/7, validation error 47.000000 %\n",
        " epoch 1, minibatch 7/7, test error of best model 66.000000 %\n",
        "epoch 2, minibatch 7/7, validation error 53.000000 %"
       ]
      },
      {
       "output_type": "stream",
       "stream": "stdout",
       "text": [
        "\n",
        "epoch 3, minibatch 7/7, validation error 47.000000 %\n",
        "epoch 4, minibatch 7/7, validation error 47.000000 %"
       ]
      },
      {
       "output_type": "stream",
       "stream": "stdout",
       "text": [
        "\n",
        "epoch 5, minibatch 7/7, validation error 47.000000 %\n",
        "epoch 6, minibatch 7/7, validation error 47.000000 %"
       ]
      },
      {
       "output_type": "stream",
       "stream": "stdout",
       "text": [
        "\n",
        "epoch 7, minibatch 7/7, validation error 47.000000 %\n",
        "epoch 8, minibatch 7/7, validation error 48.000000 %"
       ]
      },
      {
       "output_type": "stream",
       "stream": "stdout",
       "text": [
        "\n",
        "epoch 9, minibatch 7/7, validation error 43.000000 %\n",
        " epoch 9, minibatch 7/7, test error of best model 58.000000 %\n",
        "epoch 10, minibatch 7/7, validation error 41.000000 %"
       ]
      },
      {
       "output_type": "stream",
       "stream": "stdout",
       "text": [
        "\n",
        " epoch 10, minibatch 7/7, test error of best model 48.000000 %\n",
        "hidden_layers_sizes: [100, 100]\n",
        "corruption_levels: [0, 0]\n",
        "recall"
       ]
      },
      {
       "output_type": "stream",
       "stream": "stdout",
       "text": [
        " 42.9%\n",
        "precision 57.6%\n",
        "accuracy 55.3%\n",
        "recall"
       ]
      },
      {
       "output_type": "stream",
       "stream": "stdout",
       "text": [
        " 42.4%\n",
        "precision 56.0%\n",
        "accuracy 54.5%\n",
        "13\n",
        "SVM\n",
        "recall"
       ]
      },
      {
       "output_type": "stream",
       "stream": "stdout",
       "text": [
        " 0.0%\n",
        "precision 0.0%\n",
        "accuracy 50.0%\n",
        "recall"
       ]
      },
      {
       "output_type": "stream",
       "stream": "stdout",
       "text": [
        " 60.6%\n",
        "precision 58.7%\n",
        "accuracy 59.0%\n",
        "direct deep learning\n",
        "\n",
        "\n",
        "\n",
        "... building the model\n",
        "... getting the pretraining functions\n",
        "... pre-training the model"
       ]
      },
      {
       "output_type": "stream",
       "stream": "stderr",
       "text": [
        "\n",
        "The pretraining code ran for 0.00m"
       ]
      },
      {
       "output_type": "stream",
       "stream": "stdout",
       "text": [
        "\n",
        "... getting the finetuning functions\n",
        "... finetunning the model"
       ]
      },
      {
       "output_type": "stream",
       "stream": "stdout",
       "text": [
        "\n",
        "epoch 1, minibatch 8/8, validation error 48.000000 %\n",
        " epoch 1, minibatch 8/8, test error of best model nan %\n",
        "epoch 2, minibatch 8/8, validation error 48.000000 %"
       ]
      },
      {
       "output_type": "stream",
       "stream": "stdout",
       "text": [
        "\n",
        "epoch 3, minibatch 8/8, validation error 48.000000 %\n",
        "epoch 4, minibatch 8/8, validation error 48.000000 %"
       ]
      },
      {
       "output_type": "stream",
       "stream": "stdout",
       "text": [
        "\n",
        "epoch 5, minibatch 8/8, validation error 48.000000 %"
       ]
      },
      {
       "output_type": "stream",
       "stream": "stdout",
       "text": [
        "\n",
        "epoch 6, minibatch 8/8, validation error 48.000000 %"
       ]
      },
      {
       "output_type": "stream",
       "stream": "stdout",
       "text": [
        "\n",
        "epoch 7, minibatch 8/8, validation error 48.000000 %\n",
        "epoch 8, minibatch 8/8, validation error 48.000000 %"
       ]
      },
      {
       "output_type": "stream",
       "stream": "stdout",
       "text": [
        "\n",
        "epoch 9, minibatch 8/8, validation error 48.000000 %\n",
        "epoch 10, minibatch 8/8, validation error 48.000000 %"
       ]
      },
      {
       "output_type": "stream",
       "stream": "stdout",
       "text": [
        "\n",
        "hidden_layers_sizes: [100, 100]\n",
        "corruption_levels: [0, 0]\n",
        "recall"
       ]
      },
      {
       "output_type": "stream",
       "stream": "stdout",
       "text": [
        " 100.0%\n",
        "precision 49.3%\n",
        "accuracy 49.3%\n",
        "recall"
       ]
      },
      {
       "output_type": "stream",
       "stream": "stdout",
       "text": [
        " 100.0%\n",
        "precision 50.0%\n",
        "accuracy 50.0%\n",
        "deep learning with unlabel data\n",
        "... building the model\n",
        "... getting the pretraining functions\n",
        "... pre-training the model"
       ]
      },
      {
       "output_type": "stream",
       "stream": "stderr",
       "text": [
        "\n",
        "The pretraining code ran for 0.00m"
       ]
      },
      {
       "output_type": "stream",
       "stream": "stdout",
       "text": [
        "\n",
        "... getting the finetuning functions\n",
        "... finetunning the model"
       ]
      },
      {
       "output_type": "stream",
       "stream": "stdout",
       "text": [
        "\n",
        "epoch 1, minibatch 8/8, validation error 48.000000 %\n",
        " epoch 1, minibatch 8/8, test error of best model nan %\n",
        "epoch 2, minibatch 8/8, validation error 48.000000 %"
       ]
      },
      {
       "output_type": "stream",
       "stream": "stdout",
       "text": [
        "\n",
        "epoch 3, minibatch 8/8, validation error 48.000000 %\n",
        "epoch 4, minibatch 8/8, validation error 48.000000 %"
       ]
      },
      {
       "output_type": "stream",
       "stream": "stdout",
       "text": [
        "\n",
        "epoch 5, minibatch 8/8, validation error 48.000000 %\n",
        "epoch 6, minibatch 8/8, validation error 48.000000 %"
       ]
      },
      {
       "output_type": "stream",
       "stream": "stdout",
       "text": [
        "\n",
        "epoch 7, minibatch 8/8, validation error 48.000000 %\n",
        "epoch 8, minibatch 8/8, validation error 48.000000 %"
       ]
      },
      {
       "output_type": "stream",
       "stream": "stdout",
       "text": [
        "\n",
        "epoch 9, minibatch 8/8, validation error 48.000000 %\n",
        "epoch 10, minibatch 8/8, validation error 48.000000 %"
       ]
      },
      {
       "output_type": "stream",
       "stream": "stdout",
       "text": [
        "\n",
        "hidden_layers_sizes: [100, 100]\n",
        "corruption_levels: [0, 0]\n",
        "recall"
       ]
      },
      {
       "output_type": "stream",
       "stream": "stdout",
       "text": [
        " 100.0%\n",
        "precision 49.3%\n",
        "accuracy 49.3%\n",
        "recall"
       ]
      },
      {
       "output_type": "stream",
       "stream": "stdout",
       "text": [
        " 100.0%\n",
        "precision 50.0%\n",
        "accuracy 50.0%\n",
        "14\n",
        "SVM\n",
        "recall"
       ]
      },
      {
       "output_type": "stream",
       "stream": "stdout",
       "text": [
        " 54.4%\n",
        "precision 55.4%\n",
        "accuracy 55.3%\n",
        "recall"
       ]
      },
      {
       "output_type": "stream",
       "stream": "stdout",
       "text": [
        " 55.4%\n",
        "precision 57.2%\n",
        "accuracy 57.0%\n",
        "direct deep learning\n",
        "\n",
        "\n",
        "\n",
        "... building the model\n",
        "... getting the pretraining functions\n",
        "... pre-training the model"
       ]
      },
      {
       "output_type": "stream",
       "stream": "stderr",
       "text": [
        "\n",
        "The pretraining code ran for 0.00m"
       ]
      },
      {
       "output_type": "stream",
       "stream": "stdout",
       "text": [
        "\n",
        "... getting the finetuning functions\n",
        "... finetunning the model"
       ]
      },
      {
       "output_type": "stream",
       "stream": "stdout",
       "text": [
        "\n",
        "epoch 1, minibatch 6/6, validation error 62.000000 %\n",
        " epoch 1, minibatch 6/6, test error of best model 43.000000 %\n",
        "epoch 2, minibatch 6/6, validation error 62.000000 %"
       ]
      },
      {
       "output_type": "stream",
       "stream": "stdout",
       "text": [
        "\n",
        "epoch 3, minibatch 6/6, validation error 62.000000 %\n",
        "epoch 4, minibatch 6/6, validation error 38.000000 %"
       ]
      },
      {
       "output_type": "stream",
       "stream": "stdout",
       "text": [
        "\n",
        " epoch 4, minibatch 6/6, test error of best model 57.000000 %\n",
        "epoch 5, minibatch 6/6, validation error 38.000000 %\n",
        "epoch 6, minibatch 6/6, validation error 38.000000 %"
       ]
      },
      {
       "output_type": "stream",
       "stream": "stdout",
       "text": [
        "\n",
        "epoch 7, minibatch 6/6, validation error 38.000000 %\n",
        "epoch 8, minibatch 6/6, validation error 38.000000 %"
       ]
      },
      {
       "output_type": "stream",
       "stream": "stdout",
       "text": [
        "\n",
        "epoch 9, minibatch 6/6, validation error 38.000000 %\n",
        "epoch 10, minibatch 6/6, validation error 38.000000 %"
       ]
      },
      {
       "output_type": "stream",
       "stream": "stdout",
       "text": [
        "\n",
        "hidden_layers_sizes: [100, 100]\n",
        "corruption_levels: [0, 0]\n",
        "recall"
       ]
      },
      {
       "output_type": "stream",
       "stream": "stdout",
       "text": [
        " 0.0%\n",
        "precision 0.0%\n",
        "accuracy 48.0%\n",
        "recall"
       ]
      },
      {
       "output_type": "stream",
       "stream": "stdout",
       "text": [
        " 0.0%\n",
        "precision 0.0%\n",
        "accuracy 50.0%\n",
        "deep learning with unlabel data\n",
        "... building the model\n",
        "... getting the pretraining functions\n",
        "... pre-training the model"
       ]
      },
      {
       "output_type": "stream",
       "stream": "stderr",
       "text": [
        "\n",
        "The pretraining code ran for 0.00m"
       ]
      },
      {
       "output_type": "stream",
       "stream": "stdout",
       "text": [
        "\n",
        "... getting the finetuning functions\n",
        "... finetunning the model"
       ]
      },
      {
       "output_type": "stream",
       "stream": "stdout",
       "text": [
        "\n",
        "epoch 1, minibatch 6/6, validation error 62.000000 %\n",
        " epoch 1, minibatch 6/6, test error of best model 43.000000 %\n",
        "epoch 2, minibatch 6/6, validation error 62.000000 %"
       ]
      },
      {
       "output_type": "stream",
       "stream": "stdout",
       "text": [
        "\n",
        "epoch 3, minibatch 6/6, validation error 62.000000 %\n",
        "epoch 4, minibatch 6/6, validation error 38.000000 %"
       ]
      },
      {
       "output_type": "stream",
       "stream": "stdout",
       "text": [
        "\n",
        " epoch 4, minibatch 6/6, test error of best model 57.000000 %\n",
        "epoch 5, minibatch 6/6, validation error 38.000000 %\n",
        "epoch 6, minibatch 6/6, validation error 38.000000 %"
       ]
      },
      {
       "output_type": "stream",
       "stream": "stdout",
       "text": [
        "\n",
        "epoch 7, minibatch 6/6, validation error 38.000000 %\n",
        "epoch 8, minibatch 6/6, validation error 38.000000 %"
       ]
      },
      {
       "output_type": "stream",
       "stream": "stdout",
       "text": [
        "\n",
        "epoch 9, minibatch 6/6, validation error 38.000000 %\n",
        "epoch 10, minibatch 6/6, validation error 38.000000 %"
       ]
      },
      {
       "output_type": "stream",
       "stream": "stdout",
       "text": [
        "\n",
        "hidden_layers_sizes: [100, 100]\n",
        "corruption_levels: [0, 0]\n",
        "recall"
       ]
      },
      {
       "output_type": "stream",
       "stream": "stdout",
       "text": [
        " 0.0%\n",
        "precision 0.0%\n",
        "accuracy 48.0%\n",
        "recall"
       ]
      },
      {
       "output_type": "stream",
       "stream": "stdout",
       "text": [
        " 0.0%\n",
        "precision 0.0%\n",
        "accuracy 50.0%\n",
        "15\n",
        "SVM\n",
        "recall"
       ]
      },
      {
       "output_type": "stream",
       "stream": "stdout",
       "text": [
        " 55.4%\n",
        "precision 50.8%\n",
        "accuracy 50.9%\n",
        "recall"
       ]
      },
      {
       "output_type": "stream",
       "stream": "stdout",
       "text": [
        " 54.6%\n",
        "precision 55.5%\n",
        "accuracy 55.4%\n",
        "direct deep learning\n",
        "\n",
        "\n",
        "\n",
        "... building the model\n",
        "... getting the pretraining functions\n",
        "... pre-training the model"
       ]
      },
      {
       "output_type": "stream",
       "stream": "stderr",
       "text": [
        "\n",
        "The pretraining code ran for 0.00m"
       ]
      },
      {
       "output_type": "stream",
       "stream": "stdout",
       "text": [
        "\n",
        "... getting the finetuning functions\n",
        "... finetunning the model"
       ]
      },
      {
       "output_type": "stream",
       "stream": "stdout",
       "text": [
        "\n",
        "epoch 1, minibatch 8/8, validation error 53.500000 %"
       ]
      },
      {
       "output_type": "stream",
       "stream": "stdout",
       "text": [
        "\n",
        " epoch 1, minibatch 8/8, test error of best model 56.000000 %\n",
        "epoch 2, minibatch 8/8, validation error 53.500000 %"
       ]
      },
      {
       "output_type": "stream",
       "stream": "stdout",
       "text": [
        "\n",
        "epoch 3, minibatch 8/8, validation error 53.500000 %"
       ]
      },
      {
       "output_type": "stream",
       "stream": "stdout",
       "text": [
        "\n",
        "epoch 4, minibatch 8/8, validation error 53.500000 %"
       ]
      },
      {
       "output_type": "stream",
       "stream": "stdout",
       "text": [
        "\n",
        "epoch 5, minibatch 8/8, validation error 53.500000 %"
       ]
      },
      {
       "output_type": "stream",
       "stream": "stdout",
       "text": [
        "\n",
        "epoch 6, minibatch 8/8, validation error 53.500000 %\n",
        "epoch 7, minibatch 8/8, validation error 54.000000 %"
       ]
      },
      {
       "output_type": "stream",
       "stream": "stdout",
       "text": [
        "\n",
        "epoch 8, minibatch 8/8, validation error 54.000000 %\n",
        "epoch 9, minibatch 8/8, validation error 54.500000 %"
       ]
      },
      {
       "output_type": "stream",
       "stream": "stdout",
       "text": [
        "\n",
        "epoch 10, minibatch 8/8, validation error 54.000000 %\n",
        "hidden_layers_sizes:"
       ]
      },
      {
       "output_type": "stream",
       "stream": "stdout",
       "text": [
        " [100, 100]\n",
        "corruption_levels: [0, 0]\n",
        "recall"
       ]
      },
      {
       "output_type": "stream",
       "stream": "stdout",
       "text": [
        " 1.9%\n",
        "precision 53.3%\n",
        "accuracy 50.5%\n",
        "recall"
       ]
      },
      {
       "output_type": "stream",
       "stream": "stdout",
       "text": [
        " 3.6%\n",
        "precision 28.6%\n",
        "accuracy 47.3%\n",
        "deep learning with unlabel data\n",
        "... building the model\n",
        "... getting the pretraining functions\n",
        "... pre-training the model"
       ]
      },
      {
       "output_type": "stream",
       "stream": "stderr",
       "text": [
        "\n",
        "The pretraining code ran for 0.00m"
       ]
      },
      {
       "output_type": "stream",
       "stream": "stdout",
       "text": [
        "\n",
        "... getting the finetuning functions\n",
        "... finetunning the model"
       ]
      },
      {
       "output_type": "stream",
       "stream": "stdout",
       "text": [
        "\n",
        "epoch 1, minibatch 8/8, validation error 53.500000 %\n",
        " epoch 1, minibatch 8/8, test error of best model 56.000000 %\n",
        "epoch 2, minibatch 8/8, validation error 53.500000 %"
       ]
      },
      {
       "output_type": "stream",
       "stream": "stdout",
       "text": [
        "\n",
        "epoch 3, minibatch 8/8, validation error 53.500000 %\n",
        "epoch 4, minibatch 8/8, validation error 53.500000 %"
       ]
      },
      {
       "output_type": "stream",
       "stream": "stdout",
       "text": [
        "\n",
        "epoch 5, minibatch 8/8, validation error 53.500000 %\n",
        "epoch 6, minibatch 8/8, validation error 53.500000 %"
       ]
      },
      {
       "output_type": "stream",
       "stream": "stdout",
       "text": [
        "\n",
        "epoch 7, minibatch 8/8, validation error 54.000000 %"
       ]
      },
      {
       "output_type": "stream",
       "stream": "stdout",
       "text": [
        "\n",
        "epoch 8, minibatch 8/8, validation error 54.000000 %"
       ]
      },
      {
       "output_type": "stream",
       "stream": "stdout",
       "text": [
        "\n",
        "epoch 9, minibatch 8/8, validation error 54.500000 %\n",
        "epoch 10, minibatch 8/8, validation error 54.000000 %"
       ]
      },
      {
       "output_type": "stream",
       "stream": "stdout",
       "text": [
        "\n",
        "hidden_layers_sizes: [100, 100]\n",
        "corruption_levels: [0, 0]\n",
        "recall"
       ]
      },
      {
       "output_type": "stream",
       "stream": "stdout",
       "text": [
        " 1.9%\n",
        "precision 53.3%\n",
        "accuracy 50.5%\n",
        "recall"
       ]
      },
      {
       "output_type": "stream",
       "stream": "stdout",
       "text": [
        " 3.6%\n",
        "precision 28.6%\n",
        "accuracy 47.3%\n",
        "16\n",
        "SVM\n",
        "recall"
       ]
      },
      {
       "output_type": "stream",
       "stream": "stdout",
       "text": [
        " 53.7%\n",
        "precision 51.4%\n",
        "accuracy 51.5%\n",
        "recall"
       ]
      },
      {
       "output_type": "stream",
       "stream": "stdout",
       "text": [
        " 53.7%\n",
        "precision 55.0%\n",
        "accuracy 54.9%\n",
        "direct deep learning\n",
        "\n",
        "\n",
        "\n",
        "... building the model\n",
        "... getting the pretraining functions\n",
        "... pre-training the model"
       ]
      },
      {
       "output_type": "stream",
       "stream": "stderr",
       "text": [
        "\n",
        "The pretraining code ran for 0.00m"
       ]
      },
      {
       "output_type": "stream",
       "stream": "stdout",
       "text": [
        "\n",
        "... getting the finetuning functions\n",
        "... finetunning the model"
       ]
      },
      {
       "output_type": "stream",
       "stream": "stdout",
       "text": [
        "\n",
        "epoch 1, minibatch 6/6, validation error 42.000000 %"
       ]
      },
      {
       "output_type": "stream",
       "stream": "stdout",
       "text": [
        "\n",
        " epoch 1, minibatch 6/6, test error of best model 33.000000 %\n",
        "epoch 2, minibatch 6/6, validation error 42.000000 %"
       ]
      },
      {
       "output_type": "stream",
       "stream": "stdout",
       "text": [
        "\n",
        "epoch 3, minibatch 6/6, validation error 42.000000 %"
       ]
      },
      {
       "output_type": "stream",
       "stream": "stdout",
       "text": [
        "\n",
        "epoch 4, minibatch 6/6, validation error 42.000000 %"
       ]
      },
      {
       "output_type": "stream",
       "stream": "stdout",
       "text": [
        "\n",
        "epoch 5, minibatch 6/6, validation error 42.000000 %\n",
        "epoch 6, minibatch 6/6, validation error 42.000000 %"
       ]
      },
      {
       "output_type": "stream",
       "stream": "stdout",
       "text": [
        "\n",
        "epoch 7, minibatch 6/6, validation error 42.000000 %\n",
        "epoch 8, minibatch 6/6, validation error 42.000000 %"
       ]
      },
      {
       "output_type": "stream",
       "stream": "stdout",
       "text": [
        "\n",
        "epoch 9, minibatch 6/6, validation error 42.000000 %"
       ]
      },
      {
       "output_type": "stream",
       "stream": "stdout",
       "text": [
        "\n",
        "epoch 10, minibatch 6/6, validation error 42.000000 %"
       ]
      },
      {
       "output_type": "stream",
       "stream": "stdout",
       "text": [
        "\n",
        "hidden_layers_sizes: [100, 100]\n",
        "corruption_levels: [0, 0]\n",
        "recall"
       ]
      },
      {
       "output_type": "stream",
       "stream": "stdout",
       "text": [
        " 100.0%\n",
        "precision 49.0%\n",
        "accuracy 49.0%\n",
        "recall"
       ]
      },
      {
       "output_type": "stream",
       "stream": "stdout",
       "text": [
        " 100.0%\n",
        "precision 50.0%\n",
        "accuracy 50.0%\n",
        "deep learning with unlabel data\n",
        "... building the model\n",
        "... getting the pretraining functions\n",
        "... pre-training the model"
       ]
      },
      {
       "output_type": "stream",
       "stream": "stderr",
       "text": [
        "\n",
        "The pretraining code ran for 0.00m"
       ]
      },
      {
       "output_type": "stream",
       "stream": "stdout",
       "text": [
        "\n",
        "... getting the finetuning functions\n",
        "... finetunning the model"
       ]
      },
      {
       "output_type": "stream",
       "stream": "stdout",
       "text": [
        "\n",
        "epoch 1, minibatch 6/6, validation error 42.000000 %\n",
        " epoch 1, minibatch 6/6, test error of best model 33.000000 %\n",
        "epoch 2, minibatch 6/6, validation error 42.000000 %"
       ]
      },
      {
       "output_type": "stream",
       "stream": "stdout",
       "text": [
        "\n",
        "epoch 3, minibatch 6/6, validation error 42.000000 %\n",
        "epoch 4, minibatch 6/6, validation error 42.000000 %"
       ]
      },
      {
       "output_type": "stream",
       "stream": "stdout",
       "text": [
        "\n",
        "epoch 5, minibatch 6/6, validation error 42.000000 %\n",
        "epoch 6, minibatch 6/6, validation error 42.000000 %"
       ]
      },
      {
       "output_type": "stream",
       "stream": "stdout",
       "text": [
        "\n",
        "epoch 7, minibatch 6/6, validation error 42.000000 %\n",
        "epoch 8, minibatch 6/6, validation error 42.000000 %"
       ]
      },
      {
       "output_type": "stream",
       "stream": "stdout",
       "text": [
        "\n",
        "epoch 9, minibatch 6/6, validation error 42.000000 %\n",
        "epoch 10, minibatch 6/6, validation error 42.000000 %"
       ]
      },
      {
       "output_type": "stream",
       "stream": "stdout",
       "text": [
        "\n",
        "hidden_layers_sizes: [100, 100]\n",
        "corruption_levels: [0, 0]\n",
        "recall"
       ]
      },
      {
       "output_type": "stream",
       "stream": "stdout",
       "text": [
        " 100.0%\n",
        "precision 49.0%\n",
        "accuracy 49.0%\n",
        "recall"
       ]
      },
      {
       "output_type": "stream",
       "stream": "stdout",
       "text": [
        " 100.0%\n",
        "precision 50.0%\n",
        "accuracy 50.0%\n",
        "17\n",
        "SVM\n",
        "recall"
       ]
      },
      {
       "output_type": "stream",
       "stream": "stdout",
       "text": [
        " 50.0%\n",
        "precision 66.7%\n",
        "accuracy 62.5%\n",
        "recall"
       ]
      },
      {
       "output_type": "stream",
       "stream": "stdout",
       "text": [
        " 55.9%\n",
        "precision 56.4%\n",
        "accuracy 56.4%\n",
        "direct deep learning\n",
        "\n",
        "\n",
        "\n",
        "... building the model\n",
        "... getting the pretraining functions\n",
        "... pre-training the model"
       ]
      },
      {
       "output_type": "stream",
       "stream": "stderr",
       "text": [
        "\n",
        "The pretraining code ran for 0.00m"
       ]
      },
      {
       "output_type": "stream",
       "stream": "stdout",
       "text": [
        "\n",
        "... getting the finetuning functions\n",
        "... finetunning the model"
       ]
      },
      {
       "output_type": "stream",
       "stream": "stdout",
       "text": [
        "\n",
        "epoch 1, minibatch 7/7, validation error 51.000000 %\n",
        " epoch 1, minibatch 7/7, test error of best model nan %\n",
        "epoch 2, minibatch 7/7, validation error 49.000000 %"
       ]
      },
      {
       "output_type": "stream",
       "stream": "stdout",
       "text": [
        "\n",
        " epoch 2, minibatch 7/7, test error of best model nan %\n",
        "epoch 3, minibatch 7/7, validation error 51.000000 %\n",
        "epoch 4, minibatch 7/7, validation error 51.000000 %"
       ]
      },
      {
       "output_type": "stream",
       "stream": "stdout",
       "text": [
        "\n",
        "epoch 5, minibatch 7/7, validation error 51.000000 %\n",
        "epoch 6, minibatch 7/7, validation error 51.000000 %"
       ]
      },
      {
       "output_type": "stream",
       "stream": "stdout",
       "text": [
        "\n",
        "epoch 7, minibatch 7/7, validation error 51.000000 %\n",
        "epoch 8, minibatch 7/7, validation error 51.000000 %"
       ]
      },
      {
       "output_type": "stream",
       "stream": "stdout",
       "text": [
        "\n",
        "epoch 9, minibatch 7/7, validation error 51.000000 %\n",
        "epoch 10, minibatch 7/7, validation error 51.000000 %"
       ]
      },
      {
       "output_type": "stream",
       "stream": "stdout",
       "text": [
        "\n",
        "hidden_layers_sizes: [100, 100]\n",
        "corruption_levels: [0, 0]\n",
        "recall"
       ]
      },
      {
       "output_type": "stream",
       "stream": "stdout",
       "text": [
        " 100.0%\n",
        "precision 50.5%\n",
        "accuracy 50.5%\n",
        "recall"
       ]
      },
      {
       "output_type": "stream",
       "stream": "stdout",
       "text": [
        " 100.0%\n",
        "precision 50.0%\n",
        "accuracy 50.0%\n",
        "deep learning with unlabel data\n",
        "... building the model\n",
        "... getting the pretraining functions\n",
        "... pre-training the model"
       ]
      },
      {
       "output_type": "stream",
       "stream": "stderr",
       "text": [
        "\n",
        "The pretraining code ran for 0.00m"
       ]
      },
      {
       "output_type": "stream",
       "stream": "stdout",
       "text": [
        "\n",
        "... getting the finetuning functions\n",
        "... finetunning the model"
       ]
      },
      {
       "output_type": "stream",
       "stream": "stdout",
       "text": [
        "\n",
        "epoch 1, minibatch 7/7, validation error 51.000000 %\n",
        " epoch 1, minibatch 7/7, test error of best model nan %\n",
        "epoch 2, minibatch 7/7, validation error 49.000000 %"
       ]
      },
      {
       "output_type": "stream",
       "stream": "stdout",
       "text": [
        "\n",
        " epoch 2, minibatch 7/7, test error of best model nan %\n",
        "epoch 3, minibatch 7/7, validation error 51.000000 %\n",
        "epoch 4, minibatch 7/7, validation error 51.000000 %"
       ]
      },
      {
       "output_type": "stream",
       "stream": "stdout",
       "text": [
        "\n",
        "epoch 5, minibatch 7/7, validation error 51.000000 %\n",
        "epoch 6, minibatch 7/7, validation error 51.000000 %"
       ]
      },
      {
       "output_type": "stream",
       "stream": "stdout",
       "text": [
        "\n",
        "epoch 7, minibatch 7/7, validation error 51.000000 %\n",
        "epoch 8, minibatch 7/7, validation error 51.000000 %"
       ]
      },
      {
       "output_type": "stream",
       "stream": "stdout",
       "text": [
        "\n",
        "epoch 9, minibatch 7/7, validation error 51.000000 %\n",
        "epoch 10, minibatch 7/7, validation error 51.000000 %"
       ]
      },
      {
       "output_type": "stream",
       "stream": "stdout",
       "text": [
        "\n",
        "hidden_layers_sizes: [100, 100]\n",
        "corruption_levels: [0, 0]\n",
        "recall"
       ]
      },
      {
       "output_type": "stream",
       "stream": "stdout",
       "text": [
        " 100.0%\n",
        "precision 50.5%\n",
        "accuracy 50.5%\n",
        "recall"
       ]
      },
      {
       "output_type": "stream",
       "stream": "stdout",
       "text": [
        " 100.0%\n",
        "precision 50.0%\n",
        "accuracy 50.0%\n",
        "18\n",
        "SVM\n",
        "recall"
       ]
      },
      {
       "output_type": "stream",
       "stream": "stdout",
       "text": [
        " 68.4%\n",
        "precision 52.7%\n",
        "accuracy 53.5%\n",
        "recall"
       ]
      },
      {
       "output_type": "stream",
       "stream": "stdout",
       "text": [
        " 62.7%\n",
        "precision 57.4%\n",
        "accuracy 58.0%\n",
        "direct deep learning\n",
        "\n",
        "\n",
        "\n",
        "... building the model\n",
        "... getting the pretraining functions\n",
        "... pre-training the model"
       ]
      },
      {
       "output_type": "stream",
       "stream": "stderr",
       "text": [
        "\n",
        "The pretraining code ran for 0.00m"
       ]
      },
      {
       "output_type": "stream",
       "stream": "stdout",
       "text": [
        "\n",
        "... getting the finetuning functions\n",
        "... finetunning the model"
       ]
      },
      {
       "output_type": "stream",
       "stream": "stdout",
       "text": [
        "\n",
        "epoch 1, minibatch 10/10, validation error 48.000000 %"
       ]
      },
      {
       "output_type": "stream",
       "stream": "stdout",
       "text": [
        "\n",
        " epoch 1, minibatch 10/10, test error of best model 57.000000 %\n",
        "epoch 2, minibatch 10/10, validation error 48.000000 %"
       ]
      },
      {
       "output_type": "stream",
       "stream": "stdout",
       "text": [
        "\n",
        "epoch 3, minibatch 10/10, validation error 48.000000 %"
       ]
      },
      {
       "output_type": "stream",
       "stream": "stdout",
       "text": [
        "\n",
        "epoch 4, minibatch 10/10, validation error 48.000000 %"
       ]
      },
      {
       "output_type": "stream",
       "stream": "stdout",
       "text": [
        "\n",
        "epoch 5, minibatch 10/10, validation error 48.000000 %"
       ]
      },
      {
       "output_type": "stream",
       "stream": "stdout",
       "text": [
        "\n",
        "epoch 6, minibatch 10/10, validation error 48.000000 %"
       ]
      },
      {
       "output_type": "stream",
       "stream": "stdout",
       "text": [
        "\n",
        "epoch 7, minibatch 10/10, validation error 48.000000 %"
       ]
      },
      {
       "output_type": "stream",
       "stream": "stdout",
       "text": [
        "\n",
        "epoch 8, minibatch 10/10, validation error 48.500000 %"
       ]
      },
      {
       "output_type": "stream",
       "stream": "stdout",
       "text": [
        "\n",
        "epoch 9, minibatch 10/10, validation error 48.500000 %"
       ]
      },
      {
       "output_type": "stream",
       "stream": "stdout",
       "text": [
        "\n",
        "epoch 10, minibatch 10/10, validation error 49.000000 %"
       ]
      },
      {
       "output_type": "stream",
       "stream": "stdout",
       "text": [
        "\n",
        "hidden_layers_sizes: [100, 100]\n",
        "corruption_levels: [0, 0]\n",
        "recall"
       ]
      },
      {
       "output_type": "stream",
       "stream": "stdout",
       "text": [
        " 3.1%\n",
        "precision 94.1%\n",
        "accuracy 51.0%\n",
        "recall"
       ]
      },
      {
       "output_type": "stream",
       "stream": "stdout",
       "text": [
        " 1.8%\n",
        "precision 100.0%\n",
        "accuracy 50.9%\n",
        "deep learning with unlabel data\n",
        "... building the model\n",
        "... getting the pretraining functions\n",
        "... pre-training the model"
       ]
      },
      {
       "output_type": "stream",
       "stream": "stderr",
       "text": [
        "\n",
        "The pretraining code ran for 0.00m"
       ]
      },
      {
       "output_type": "stream",
       "stream": "stdout",
       "text": [
        "\n",
        "... getting the finetuning functions\n",
        "... finetunning the model"
       ]
      },
      {
       "output_type": "stream",
       "stream": "stdout",
       "text": [
        "\n",
        "epoch 1, minibatch 10/10, validation error 48.000000 %"
       ]
      },
      {
       "output_type": "stream",
       "stream": "stdout",
       "text": [
        "\n",
        " epoch 1, minibatch 10/10, test error of best model 57.000000 %\n",
        "epoch 2, minibatch 10/10, validation error 48.000000 %"
       ]
      },
      {
       "output_type": "stream",
       "stream": "stdout",
       "text": [
        "\n",
        "epoch 3, minibatch 10/10, validation error 48.000000 %"
       ]
      },
      {
       "output_type": "stream",
       "stream": "stdout",
       "text": [
        "\n",
        "epoch 4, minibatch 10/10, validation error 48.000000 %"
       ]
      },
      {
       "output_type": "stream",
       "stream": "stdout",
       "text": [
        "\n",
        "epoch 5, minibatch 10/10, validation error 48.000000 %"
       ]
      },
      {
       "output_type": "stream",
       "stream": "stdout",
       "text": [
        "\n",
        "epoch 6, minibatch 10/10, validation error 48.000000 %"
       ]
      },
      {
       "output_type": "stream",
       "stream": "stdout",
       "text": [
        "\n",
        "epoch 7, minibatch 10/10, validation error 48.000000 %"
       ]
      },
      {
       "output_type": "stream",
       "stream": "stdout",
       "text": [
        "\n",
        "epoch 8, minibatch 10/10, validation error 48.500000 %"
       ]
      },
      {
       "output_type": "stream",
       "stream": "stdout",
       "text": [
        "\n",
        "epoch 9, minibatch 10/10, validation error 48.500000 %"
       ]
      },
      {
       "output_type": "stream",
       "stream": "stdout",
       "text": [
        "\n",
        "epoch 10, minibatch 10/10, validation error 49.000000 %"
       ]
      },
      {
       "output_type": "stream",
       "stream": "stdout",
       "text": [
        "\n",
        "hidden_layers_sizes: [100, 100]\n",
        "corruption_levels: [0, 0]\n",
        "recall"
       ]
      },
      {
       "output_type": "stream",
       "stream": "stdout",
       "text": [
        " 3.1%\n",
        "precision 94.1%\n",
        "accuracy 51.0%\n",
        "recall"
       ]
      },
      {
       "output_type": "stream",
       "stream": "stdout",
       "text": [
        " 1.8%\n",
        "precision 100.0%\n",
        "accuracy 50.9%\n",
        "19\n",
        "SVM\n",
        "recall"
       ]
      },
      {
       "output_type": "stream",
       "stream": "stdout",
       "text": [
        " 72.1%\n",
        "precision 61.1%\n",
        "accuracy 63.1%\n",
        "recall"
       ]
      },
      {
       "output_type": "stream",
       "stream": "stdout",
       "text": [
        " 63.1%\n",
        "precision 56.5%\n",
        "accuracy 57.3%\n",
        "direct deep learning\n",
        "\n",
        "\n",
        "\n",
        "... building the model\n",
        "... getting the pretraining functions\n",
        "... pre-training the model"
       ]
      },
      {
       "output_type": "stream",
       "stream": "stderr",
       "text": [
        "\n",
        "The pretraining code ran for 0.00m"
       ]
      },
      {
       "output_type": "stream",
       "stream": "stdout",
       "text": [
        "\n",
        "... getting the finetuning functions\n",
        "... finetunning the model"
       ]
      },
      {
       "output_type": "stream",
       "stream": "stdout",
       "text": [
        "\n",
        "epoch 1, minibatch 7/7, validation error 54.000000 %"
       ]
      },
      {
       "output_type": "stream",
       "stream": "stdout",
       "text": [
        "\n",
        " epoch 1, minibatch 7/7, test error of best model 61.000000 %\n",
        "epoch 2, minibatch 7/7, validation error 46.000000 %"
       ]
      },
      {
       "output_type": "stream",
       "stream": "stdout",
       "text": [
        "\n",
        " epoch 2, minibatch 7/7, test error of best model 39.000000 %\n",
        "epoch 3, minibatch 7/7, validation error 54.000000 %"
       ]
      },
      {
       "output_type": "stream",
       "stream": "stdout",
       "text": [
        "\n",
        "epoch 4, minibatch 7/7, validation error 43.000000 %"
       ]
      },
      {
       "output_type": "stream",
       "stream": "stdout",
       "text": [
        "\n",
        " epoch 4, minibatch 7/7, test error of best model 44.000000 %\n",
        "epoch 5, minibatch 7/7, validation error 54.000000 %"
       ]
      },
      {
       "output_type": "stream",
       "stream": "stdout",
       "text": [
        "\n",
        "epoch 6, minibatch 7/7, validation error 33.000000 %\n",
        " epoch 6, minibatch 7/7, test error of best model 45.000000 %"
       ]
      },
      {
       "output_type": "stream",
       "stream": "stdout",
       "text": [
        "\n",
        "epoch 7, minibatch 7/7, validation error 26.000000 %"
       ]
      },
      {
       "output_type": "stream",
       "stream": "stdout",
       "text": [
        "\n",
        " epoch 7, minibatch 7/7, test error of best model 40.000000 %\n",
        "epoch 8, minibatch 7/7, validation error 29.000000 %"
       ]
      },
      {
       "output_type": "stream",
       "stream": "stdout",
       "text": [
        "\n",
        "epoch 9, minibatch 7/7, validation error 36.000000 %"
       ]
      },
      {
       "output_type": "stream",
       "stream": "stdout",
       "text": [
        "\n",
        "epoch 10, minibatch 7/7, validation error 41.000000 %"
       ]
      },
      {
       "output_type": "stream",
       "stream": "stdout",
       "text": [
        "\n",
        "hidden_layers_sizes: [100, 100]\n",
        "corruption_levels: [0, 0]\n",
        "recall"
       ]
      },
      {
       "output_type": "stream",
       "stream": "stdout",
       "text": [
        " 76.6%\n",
        "precision 51.0%\n",
        "accuracy 51.8%\n",
        "recall"
       ]
      },
      {
       "output_type": "stream",
       "stream": "stdout",
       "text": [
        " 75.4%\n",
        "precision 50.5%\n",
        "accuracy 50.8%\n",
        "deep learning with unlabel data\n",
        "... building the model\n",
        "... getting the pretraining functions\n",
        "... pre-training the model"
       ]
      },
      {
       "output_type": "stream",
       "stream": "stderr",
       "text": [
        "\n",
        "The pretraining code ran for 0.00m"
       ]
      },
      {
       "output_type": "stream",
       "stream": "stdout",
       "text": [
        "\n",
        "... getting the finetuning functions\n",
        "... finetunning the model"
       ]
      },
      {
       "output_type": "stream",
       "stream": "stdout",
       "text": [
        "\n",
        "epoch 1, minibatch 7/7, validation error 54.000000 %\n",
        " epoch 1, minibatch 7/7, test error of best model 61.000000 %\n",
        "epoch 2, minibatch 7/7, validation error 46.000000 %"
       ]
      },
      {
       "output_type": "stream",
       "stream": "stdout",
       "text": [
        "\n",
        " epoch 2, minibatch 7/7, test error of best model 39.000000 %\n",
        "epoch 3, minibatch 7/7, validation error 54.000000 %"
       ]
      },
      {
       "output_type": "stream",
       "stream": "stdout",
       "text": [
        "\n",
        "epoch 4, minibatch 7/7, validation error 43.000000 %"
       ]
      },
      {
       "output_type": "stream",
       "stream": "stdout",
       "text": [
        "\n",
        " epoch 4, minibatch 7/7, test error of best model 44.000000 %\n",
        "epoch 5, minibatch 7/7, validation error 54.000000 %"
       ]
      },
      {
       "output_type": "stream",
       "stream": "stdout",
       "text": [
        "\n",
        "epoch 6, minibatch 7/7, validation error 33.000000 %"
       ]
      },
      {
       "output_type": "stream",
       "stream": "stdout",
       "text": [
        "\n",
        " epoch 6, minibatch 7/7, test error of best model 45.000000 %\n",
        "epoch 7, minibatch 7/7, validation error 26.000000 %"
       ]
      },
      {
       "output_type": "stream",
       "stream": "stdout",
       "text": [
        "\n",
        " epoch 7, minibatch 7/7, test error of best model 40.000000 %\n",
        "epoch 8, minibatch 7/7, validation error 29.000000 %"
       ]
      },
      {
       "output_type": "stream",
       "stream": "stdout",
       "text": [
        "\n",
        "epoch 9, minibatch 7/7, validation error 36.000000 %"
       ]
      },
      {
       "output_type": "stream",
       "stream": "stdout",
       "text": [
        "\n",
        "epoch 10, minibatch 7/7, validation error 41.000000 %\n",
        "hidden_layers_sizes:"
       ]
      },
      {
       "output_type": "stream",
       "stream": "stdout",
       "text": [
        " [100, 100]\n",
        "corruption_levels: [0, 0]\n",
        "recall"
       ]
      },
      {
       "output_type": "stream",
       "stream": "stdout",
       "text": [
        " 76.6%\n",
        "precision 51.0%\n",
        "accuracy 51.8%\n",
        "recall"
       ]
      },
      {
       "output_type": "stream",
       "stream": "stdout",
       "text": [
        " 75.4%\n",
        "precision 50.5%\n",
        "accuracy 50.8%\n",
        "20\n",
        "SVM\n",
        "recall"
       ]
      },
      {
       "output_type": "stream",
       "stream": "stdout",
       "text": [
        " 73.8%\n",
        "precision 54.2%\n",
        "accuracy 55.7%\n",
        "recall"
       ]
      },
      {
       "output_type": "stream",
       "stream": "stdout",
       "text": [
        " 65.4%\n",
        "precision 57.4%\n",
        "accuracy 58.5%\n",
        "direct deep learning\n",
        "\n",
        "\n",
        "\n",
        "... building the model\n",
        "... getting the pretraining functions\n",
        "... pre-training the model"
       ]
      },
      {
       "output_type": "stream",
       "stream": "stderr",
       "text": [
        "\n",
        "The pretraining code ran for 0.00m"
       ]
      },
      {
       "output_type": "stream",
       "stream": "stdout",
       "text": [
        "\n",
        "... getting the finetuning functions\n",
        "... finetunning the model"
       ]
      },
      {
       "output_type": "stream",
       "stream": "stdout",
       "text": [
        "\n",
        "epoch 1, minibatch 6/6, validation error 56.000000 %"
       ]
      },
      {
       "output_type": "stream",
       "stream": "stdout",
       "text": [
        "\n",
        " epoch 1, minibatch 6/6, test error of best model 61.000000 %\n",
        "epoch 2, minibatch 6/6, validation error 56.000000 %"
       ]
      },
      {
       "output_type": "stream",
       "stream": "stdout",
       "text": [
        "\n",
        "epoch 3, minibatch 6/6, validation error 56.000000 %"
       ]
      },
      {
       "output_type": "stream",
       "stream": "stdout",
       "text": [
        "\n",
        "epoch 4, minibatch 6/6, validation error 56.000000 %"
       ]
      },
      {
       "output_type": "stream",
       "stream": "stdout",
       "text": [
        "\n",
        "epoch 5, minibatch 6/6, validation error 56.000000 %"
       ]
      },
      {
       "output_type": "stream",
       "stream": "stdout",
       "text": [
        "\n",
        "epoch 6, minibatch 6/6, validation error 56.000000 %"
       ]
      },
      {
       "output_type": "stream",
       "stream": "stdout",
       "text": [
        "\n",
        "epoch 7, minibatch 6/6, validation error 55.000000 %"
       ]
      },
      {
       "output_type": "stream",
       "stream": "stdout",
       "text": [
        "\n",
        " epoch 7, minibatch 6/6, test error of best model 61.000000 %\n",
        "epoch 8, minibatch 6/6, validation error 54.000000 %"
       ]
      },
      {
       "output_type": "stream",
       "stream": "stdout",
       "text": [
        "\n",
        " epoch 8, minibatch 6/6, test error of best model 61.000000 %\n",
        "epoch 9, minibatch 6/6, validation error 52.000000 %"
       ]
      },
      {
       "output_type": "stream",
       "stream": "stdout",
       "text": [
        "\n",
        " epoch 9, minibatch 6/6, test error of best model 58.000000 %\n",
        "epoch 10, minibatch 6/6, validation error 52.000000 %"
       ]
      },
      {
       "output_type": "stream",
       "stream": "stdout",
       "text": [
        "\n",
        "hidden_layers_sizes: [100, 100]\n",
        "corruption_levels: [0, 0]\n",
        "recall"
       ]
      },
      {
       "output_type": "stream",
       "stream": "stdout",
       "text": [
        " 23.9%\n",
        "precision 48.7%\n",
        "accuracy 51.2%\n",
        "recall"
       ]
      },
      {
       "output_type": "stream",
       "stream": "stdout",
       "text": [
        " 16.4%\n",
        "precision 50.0%\n",
        "accuracy 50.0%\n",
        "deep learning with unlabel data\n",
        "... building the model\n",
        "... getting the pretraining functions\n",
        "... pre-training the model"
       ]
      },
      {
       "output_type": "stream",
       "stream": "stderr",
       "text": [
        "\n",
        "The pretraining code ran for 0.00m"
       ]
      },
      {
       "output_type": "stream",
       "stream": "stdout",
       "text": [
        "\n",
        "... getting the finetuning functions\n",
        "... finetunning the model"
       ]
      },
      {
       "output_type": "stream",
       "stream": "stdout",
       "text": [
        "\n",
        "epoch 1, minibatch 6/6, validation error 56.000000 %"
       ]
      },
      {
       "output_type": "stream",
       "stream": "stdout",
       "text": [
        "\n",
        " epoch 1, minibatch 6/6, test error of best model 61.000000 %\n",
        "epoch 2, minibatch 6/6, validation error 56.000000 %"
       ]
      },
      {
       "output_type": "stream",
       "stream": "stdout",
       "text": [
        "\n",
        "epoch 3, minibatch 6/6, validation error 56.000000 %\n",
        "epoch 4, minibatch 6/6, validation error 56.000000 %"
       ]
      },
      {
       "output_type": "stream",
       "stream": "stdout",
       "text": [
        "\n",
        "epoch 5, minibatch 6/6, validation error 56.000000 %"
       ]
      },
      {
       "output_type": "stream",
       "stream": "stdout",
       "text": [
        "\n",
        "epoch 6, minibatch 6/6, validation error 56.000000 %"
       ]
      },
      {
       "output_type": "stream",
       "stream": "stdout",
       "text": [
        "\n",
        "epoch 7, minibatch 6/6, validation error 55.000000 %"
       ]
      },
      {
       "output_type": "stream",
       "stream": "stdout",
       "text": [
        "\n",
        " epoch 7, minibatch 6/6, test error of best model 61.000000 %\n",
        "epoch 8, minibatch 6/6, validation error 54.000000 %"
       ]
      },
      {
       "output_type": "stream",
       "stream": "stdout",
       "text": [
        "\n",
        " epoch 8, minibatch 6/6, test error of best model 61.000000 %\n",
        "epoch 9, minibatch 6/6, validation error 52.000000 %"
       ]
      },
      {
       "output_type": "stream",
       "stream": "stdout",
       "text": [
        "\n",
        " epoch 9, minibatch 6/6, test error of best model 58.000000 %\n",
        "epoch 10, minibatch 6/6, validation error 52.000000 %"
       ]
      },
      {
       "output_type": "stream",
       "stream": "stdout",
       "text": [
        "\n",
        "hidden_layers_sizes: [100, 100]\n",
        "corruption_levels: [0, 0]\n",
        "recall"
       ]
      },
      {
       "output_type": "stream",
       "stream": "stdout",
       "text": [
        " 23.9%\n",
        "precision 48.7%\n",
        "accuracy 51.2%\n",
        "recall"
       ]
      },
      {
       "output_type": "stream",
       "stream": "stdout",
       "text": [
        " 16.4%\n",
        "precision 50.0%\n",
        "accuracy 50.0%\n",
        "21\n",
        "SVM\n",
        "recall"
       ]
      },
      {
       "output_type": "stream",
       "stream": "stdout",
       "text": [
        " 28.6%\n",
        "precision 66.7%\n",
        "accuracy 57.1%\n",
        "recall"
       ]
      },
      {
       "output_type": "stream",
       "stream": "stdout",
       "text": [
        " 61.0%\n",
        "precision 58.6%\n",
        "accuracy 59.0%\n",
        "direct deep learning\n",
        "\n",
        "\n",
        "\n",
        "... building the model\n",
        "... getting the pretraining functions\n",
        "... pre-training the model"
       ]
      },
      {
       "output_type": "stream",
       "stream": "stderr",
       "text": [
        "\n",
        "The pretraining code ran for 0.00m"
       ]
      },
      {
       "output_type": "stream",
       "stream": "stdout",
       "text": [
        "\n",
        "... getting the finetuning functions\n",
        "... finetunning the model"
       ]
      },
      {
       "output_type": "stream",
       "stream": "stdout",
       "text": [
        "\n",
        "epoch 1, minibatch 8/8, validation error 47.000000 %"
       ]
      },
      {
       "output_type": "stream",
       "stream": "stdout",
       "text": [
        "\n",
        " epoch 1, minibatch 8/8, test error of best model nan %\n",
        "epoch 2, minibatch 8/8, validation error 47.000000 %"
       ]
      },
      {
       "output_type": "stream",
       "stream": "stdout",
       "text": [
        "\n",
        "epoch 3, minibatch 8/8, validation error 53.000000 %"
       ]
      },
      {
       "output_type": "stream",
       "stream": "stdout",
       "text": [
        "\n",
        "epoch 4, minibatch 8/8, validation error 53.000000 %"
       ]
      },
      {
       "output_type": "stream",
       "stream": "stdout",
       "text": [
        "\n",
        "epoch 5, minibatch 8/8, validation error 53.000000 %"
       ]
      },
      {
       "output_type": "stream",
       "stream": "stdout",
       "text": [
        "\n",
        "epoch 6, minibatch 8/8, validation error 51.500000 %"
       ]
      },
      {
       "output_type": "stream",
       "stream": "stdout",
       "text": [
        "\n",
        "epoch 7, minibatch 8/8, validation error 46.500000 %"
       ]
      },
      {
       "output_type": "stream",
       "stream": "stdout",
       "text": [
        "\n",
        " epoch 7, minibatch 8/8, test error of best model nan %\n",
        "epoch 8, minibatch 8/8, validation error 43.000000 %"
       ]
      },
      {
       "output_type": "stream",
       "stream": "stdout",
       "text": [
        "\n",
        " epoch 8, minibatch 8/8, test error of best model nan %\n",
        "epoch 9, minibatch 8/8, validation error 47.000000 %"
       ]
      },
      {
       "output_type": "stream",
       "stream": "stdout",
       "text": [
        "\n",
        "epoch 10, minibatch 8/8, validation error 48.000000 %"
       ]
      },
      {
       "output_type": "stream",
       "stream": "stdout",
       "text": [
        "\n",
        "hidden_layers_sizes: [100, 100]\n",
        "corruption_levels: [0, 0]\n",
        "recall"
       ]
      },
      {
       "output_type": "stream",
       "stream": "stdout",
       "text": [
        " 59.9%\n",
        "precision 54.4%\n",
        "accuracy 54.1%\n",
        "recall"
       ]
      },
      {
       "output_type": "stream",
       "stream": "stdout",
       "text": [
        " 0.0%\n",
        "precision 0.0%\n",
        "accuracy 50.0%\n",
        "deep learning with unlabel data\n",
        "... building the model\n",
        "... getting the pretraining functions\n",
        "... pre-training the model"
       ]
      },
      {
       "output_type": "stream",
       "stream": "stderr",
       "text": [
        "\n",
        "The pretraining code ran for 0.00m"
       ]
      },
      {
       "output_type": "stream",
       "stream": "stdout",
       "text": [
        "\n",
        "... getting the finetuning functions\n",
        "... finetunning the model"
       ]
      },
      {
       "output_type": "stream",
       "stream": "stdout",
       "text": [
        "\n",
        "epoch 1, minibatch 8/8, validation error 47.000000 %"
       ]
      },
      {
       "output_type": "stream",
       "stream": "stdout",
       "text": [
        "\n",
        " epoch 1, minibatch 8/8, test error of best model nan %\n",
        "epoch 2, minibatch 8/8, validation error 47.000000 %"
       ]
      },
      {
       "output_type": "stream",
       "stream": "stdout",
       "text": [
        "\n",
        "epoch 3, minibatch 8/8, validation error 53.000000 %"
       ]
      },
      {
       "output_type": "stream",
       "stream": "stdout",
       "text": [
        "\n",
        "epoch 4, minibatch 8/8, validation error 53.000000 %"
       ]
      },
      {
       "output_type": "stream",
       "stream": "stdout",
       "text": [
        "\n",
        "epoch 5, minibatch 8/8, validation error 53.000000 %"
       ]
      },
      {
       "output_type": "stream",
       "stream": "stdout",
       "text": [
        "\n",
        "epoch 6, minibatch 8/8, validation error 51.500000 %"
       ]
      },
      {
       "output_type": "stream",
       "stream": "stdout",
       "text": [
        "\n",
        "epoch 7, minibatch 8/8, validation error 46.500000 %"
       ]
      },
      {
       "output_type": "stream",
       "stream": "stdout",
       "text": [
        "\n",
        " epoch 7, minibatch 8/8, test error of best model nan %\n",
        "epoch 8, minibatch 8/8, validation error 43.000000 %"
       ]
      },
      {
       "output_type": "stream",
       "stream": "stdout",
       "text": [
        "\n",
        " epoch 8, minibatch 8/8, test error of best model nan %\n",
        "epoch 9, minibatch 8/8, validation error 47.000000 %"
       ]
      },
      {
       "output_type": "stream",
       "stream": "stdout",
       "text": [
        "\n",
        "epoch 10, minibatch 8/8, validation error 48.000000 %\n",
        "hidden_layers_sizes: [100, 100]\n",
        "corruption_levels: [0, 0]\n",
        "recall"
       ]
      },
      {
       "output_type": "stream",
       "stream": "stdout",
       "text": [
        " 59.9%\n",
        "precision 54.4%\n",
        "accuracy 54.1%\n",
        "recall"
       ]
      },
      {
       "output_type": "stream",
       "stream": "stdout",
       "text": [
        " 0.0%\n",
        "precision 0.0%\n",
        "accuracy 50.0%\n",
        "22\n",
        "SVM\n",
        "recall"
       ]
      },
      {
       "output_type": "stream",
       "stream": "stdout",
       "text": [
        " 0.0%\n",
        "precision 0.0%\n",
        "accuracy 41.7%\n",
        "recall"
       ]
      },
      {
       "output_type": "stream",
       "stream": "stdout",
       "text": [
        " 54.2%\n",
        "precision 55.1%\n",
        "accuracy 55.1%\n",
        "direct deep learning\n",
        "\n",
        "\n",
        "\n",
        "... building the model\n",
        "... getting the pretraining functions\n",
        "... pre-training the model"
       ]
      },
      {
       "output_type": "stream",
       "stream": "stderr",
       "text": [
        "\n",
        "The pretraining code ran for 0.00m"
       ]
      },
      {
       "output_type": "stream",
       "stream": "stdout",
       "text": [
        "\n",
        "... getting the finetuning functions\n",
        "... finetunning the model"
       ]
      },
      {
       "output_type": "stream",
       "stream": "stdout",
       "text": [
        "\n",
        "epoch 1, minibatch 8/8, validation error 51.000000 %"
       ]
      },
      {
       "output_type": "stream",
       "stream": "stdout",
       "text": [
        "\n",
        " epoch 1, minibatch 8/8, test error of best model nan %\n",
        "epoch 2, minibatch 8/8, validation error 51.000000 %"
       ]
      },
      {
       "output_type": "stream",
       "stream": "stdout",
       "text": [
        "\n",
        "epoch 3, minibatch 8/8, validation error 49.000000 %"
       ]
      },
      {
       "output_type": "stream",
       "stream": "stdout",
       "text": [
        "\n",
        " epoch 3, minibatch 8/8, test error of best model nan %\n",
        "epoch 4, minibatch 8/8, validation error 49.000000 %"
       ]
      },
      {
       "output_type": "stream",
       "stream": "stdout",
       "text": [
        "\n",
        "epoch 5, minibatch 8/8, validation error 49.000000 %"
       ]
      },
      {
       "output_type": "stream",
       "stream": "stdout",
       "text": [
        "\n",
        "epoch 6, minibatch 8/8, validation error 49.000000 %"
       ]
      },
      {
       "output_type": "stream",
       "stream": "stdout",
       "text": [
        "\n",
        "epoch 7, minibatch 8/8, validation error 49.000000 %"
       ]
      },
      {
       "output_type": "stream",
       "stream": "stdout",
       "text": [
        "\n",
        "epoch 8, minibatch 8/8, validation error 49.000000 %"
       ]
      },
      {
       "output_type": "stream",
       "stream": "stdout",
       "text": [
        "\n",
        "epoch 9, minibatch 8/8, validation error 49.000000 %"
       ]
      },
      {
       "output_type": "stream",
       "stream": "stdout",
       "text": [
        "\n",
        "epoch 10, minibatch 8/8, validation error 49.000000 %"
       ]
      },
      {
       "output_type": "stream",
       "stream": "stdout",
       "text": [
        "\n",
        "hidden_layers_sizes: [100, 100]\n",
        "corruption_levels: [0, 0]\n",
        "recall"
       ]
      },
      {
       "output_type": "stream",
       "stream": "stdout",
       "text": [
        " 100.0%\n",
        "precision 49.4%\n",
        "accuracy 49.4%\n",
        "recall"
       ]
      },
      {
       "output_type": "stream",
       "stream": "stdout",
       "text": [
        " 100.0%\n",
        "precision 50.0%\n",
        "accuracy 50.0%\n",
        "deep learning with unlabel data\n",
        "... building the model\n",
        "... getting the pretraining functions\n",
        "... pre-training the model"
       ]
      },
      {
       "output_type": "stream",
       "stream": "stderr",
       "text": [
        "\n",
        "The pretraining code ran for 0.00m"
       ]
      },
      {
       "output_type": "stream",
       "stream": "stdout",
       "text": [
        "\n",
        "... getting the finetuning functions\n",
        "... finetunning the model"
       ]
      },
      {
       "output_type": "stream",
       "stream": "stdout",
       "text": [
        "\n",
        "epoch 1, minibatch 8/8, validation error 51.000000 %"
       ]
      },
      {
       "output_type": "stream",
       "stream": "stdout",
       "text": [
        "\n",
        " epoch 1, minibatch 8/8, test error of best model nan %\n",
        "epoch 2, minibatch 8/8, validation error 51.000000 %"
       ]
      },
      {
       "output_type": "stream",
       "stream": "stdout",
       "text": [
        "\n",
        "epoch 3, minibatch 8/8, validation error 49.000000 %"
       ]
      },
      {
       "output_type": "stream",
       "stream": "stdout",
       "text": [
        "\n",
        " epoch 3, minibatch 8/8, test error of best model nan %\n",
        "epoch 4, minibatch 8/8, validation error 49.000000 %"
       ]
      },
      {
       "output_type": "stream",
       "stream": "stdout",
       "text": [
        "\n",
        "epoch 5, minibatch 8/8, validation error 49.000000 %"
       ]
      },
      {
       "output_type": "stream",
       "stream": "stdout",
       "text": [
        "\n",
        "epoch 6, minibatch 8/8, validation error 49.000000 %"
       ]
      },
      {
       "output_type": "stream",
       "stream": "stdout",
       "text": [
        "\n",
        "epoch 7, minibatch 8/8, validation error 49.000000 %"
       ]
      },
      {
       "output_type": "stream",
       "stream": "stdout",
       "text": [
        "\n",
        "epoch 8, minibatch 8/8, validation error 49.000000 %"
       ]
      },
      {
       "output_type": "stream",
       "stream": "stdout",
       "text": [
        "\n",
        "epoch 9, minibatch 8/8, validation error 49.000000 %"
       ]
      },
      {
       "output_type": "stream",
       "stream": "stdout",
       "text": [
        "\n",
        "epoch 10, minibatch 8/8, validation error 49.000000 %"
       ]
      },
      {
       "output_type": "stream",
       "stream": "stdout",
       "text": [
        "\n",
        "hidden_layers_sizes: [100, 100]\n",
        "corruption_levels: [0, 0]\n",
        "recall"
       ]
      },
      {
       "output_type": "stream",
       "stream": "stdout",
       "text": [
        " 100.0%\n",
        "precision 49.4%\n",
        "accuracy 49.4%\n",
        "recall"
       ]
      },
      {
       "output_type": "stream",
       "stream": "stdout",
       "text": [
        " 100.0%\n",
        "precision 50.0%\n",
        "accuracy 50.0%\n",
        "23\n",
        "SVM\n",
        "recall"
       ]
      },
      {
       "output_type": "stream",
       "stream": "stdout",
       "text": [
        " 53.3%\n",
        "precision 49.2%\n",
        "accuracy 49.2%\n",
        "recall"
       ]
      },
      {
       "output_type": "stream",
       "stream": "stdout",
       "text": [
        " 55.4%\n",
        "precision 57.0%\n",
        "accuracy 56.8%\n",
        "direct deep learning\n",
        "\n",
        "\n",
        "\n",
        "... building the model\n",
        "... getting the pretraining functions\n",
        "... pre-training the model"
       ]
      },
      {
       "output_type": "stream",
       "stream": "stderr",
       "text": [
        "\n",
        "The pretraining code ran for 0.00m"
       ]
      },
      {
       "output_type": "stream",
       "stream": "stdout",
       "text": [
        "\n",
        "... getting the finetuning functions\n",
        "... finetunning the model"
       ]
      },
      {
       "output_type": "stream",
       "stream": "stdout",
       "text": [
        "\n",
        "epoch 1, minibatch 8/8, validation error 49.500000 %"
       ]
      },
      {
       "output_type": "stream",
       "stream": "stdout",
       "text": [
        "\n",
        " epoch 1, minibatch 8/8, test error of best model 60.000000 %\n",
        "epoch 2, minibatch 8/8, validation error 49.500000 %"
       ]
      },
      {
       "output_type": "stream",
       "stream": "stdout",
       "text": [
        "\n",
        "epoch 3, minibatch 8/8, validation error 49.500000 %"
       ]
      },
      {
       "output_type": "stream",
       "stream": "stdout",
       "text": [
        "\n",
        "epoch 4, minibatch 8/8, validation error 50.500000 %"
       ]
      },
      {
       "output_type": "stream",
       "stream": "stdout",
       "text": [
        "\n",
        "epoch 5, minibatch 8/8, validation error 50.500000 %"
       ]
      },
      {
       "output_type": "stream",
       "stream": "stdout",
       "text": [
        "\n",
        "epoch 6, minibatch 8/8, validation error 50.500000 %"
       ]
      },
      {
       "output_type": "stream",
       "stream": "stdout",
       "text": [
        "\n",
        "epoch 7, minibatch 8/8, validation error 50.500000 %"
       ]
      },
      {
       "output_type": "stream",
       "stream": "stdout",
       "text": [
        "\n",
        "epoch 8, minibatch 8/8, validation error 50.500000 %"
       ]
      },
      {
       "output_type": "stream",
       "stream": "stdout",
       "text": [
        "\n",
        "epoch 9, minibatch 8/8, validation error 50.500000 %"
       ]
      },
      {
       "output_type": "stream",
       "stream": "stdout",
       "text": [
        "\n",
        "epoch 10, minibatch 8/8, validation error 50.500000 %"
       ]
      },
      {
       "output_type": "stream",
       "stream": "stdout",
       "text": [
        "\n",
        "hidden_layers_sizes: [100, 100]\n",
        "corruption_levels: [0, 0]\n",
        "recall"
       ]
      },
      {
       "output_type": "stream",
       "stream": "stdout",
       "text": [
        " 99.5%\n",
        "precision 50.0%\n",
        "accuracy 50.1%\n",
        "recall"
       ]
      },
      {
       "output_type": "stream",
       "stream": "stdout",
       "text": [
        " 100.0%\n",
        "precision 50.0%\n",
        "accuracy 50.0%\n",
        "deep learning with unlabel data\n",
        "... building the model\n",
        "... getting the pretraining functions\n",
        "... pre-training the model"
       ]
      },
      {
       "output_type": "stream",
       "stream": "stderr",
       "text": [
        "\n",
        "The pretraining code ran for 0.00m"
       ]
      },
      {
       "output_type": "stream",
       "stream": "stdout",
       "text": [
        "\n",
        "... getting the finetuning functions\n",
        "... finetunning the model"
       ]
      },
      {
       "output_type": "stream",
       "stream": "stdout",
       "text": [
        "\n",
        "epoch 1, minibatch 8/8, validation error 49.500000 %"
       ]
      },
      {
       "output_type": "stream",
       "stream": "stdout",
       "text": [
        "\n",
        " epoch 1, minibatch 8/8, test error of best model 60.000000 %\n",
        "epoch 2, minibatch 8/8, validation error 49.500000 %"
       ]
      },
      {
       "output_type": "stream",
       "stream": "stdout",
       "text": [
        "\n",
        "epoch 3, minibatch 8/8, validation error 49.500000 %"
       ]
      },
      {
       "output_type": "stream",
       "stream": "stdout",
       "text": [
        "\n",
        "epoch 4, minibatch 8/8, validation error 50.500000 %"
       ]
      },
      {
       "output_type": "stream",
       "stream": "stdout",
       "text": [
        "\n",
        "epoch 5, minibatch 8/8, validation error 50.500000 %"
       ]
      },
      {
       "output_type": "stream",
       "stream": "stdout",
       "text": [
        "\n",
        "epoch 6, minibatch 8/8, validation error 50.500000 %"
       ]
      },
      {
       "output_type": "stream",
       "stream": "stdout",
       "text": [
        "\n",
        "epoch 7, minibatch 8/8, validation error 50.500000 %"
       ]
      },
      {
       "output_type": "stream",
       "stream": "stdout",
       "text": [
        "\n",
        "epoch 8, minibatch 8/8, validation error 50.500000 %"
       ]
      },
      {
       "output_type": "stream",
       "stream": "stdout",
       "text": [
        "\n",
        "epoch 9, minibatch 8/8, validation error 50.500000 %"
       ]
      },
      {
       "output_type": "stream",
       "stream": "stdout",
       "text": [
        "\n",
        "epoch 10, minibatch 8/8, validation error 50.500000 %"
       ]
      },
      {
       "output_type": "stream",
       "stream": "stdout",
       "text": [
        "\n",
        "hidden_layers_sizes: [100, 100]\n",
        "corruption_levels: [0, 0]\n",
        "recall"
       ]
      },
      {
       "output_type": "stream",
       "stream": "stdout",
       "text": [
        " 99.5%\n",
        "precision 50.0%\n",
        "accuracy 50.1%\n",
        "recall"
       ]
      },
      {
       "output_type": "stream",
       "stream": "stdout",
       "text": [
        " 100.0%\n",
        "precision 50.0%\n",
        "accuracy 50.0%\n",
        "24\n",
        "SVM\n",
        "recall"
       ]
      },
      {
       "output_type": "stream",
       "stream": "stdout",
       "text": [
        " 57.4%\n",
        "precision 45.5%\n",
        "accuracy 44.3%\n",
        "recall"
       ]
      },
      {
       "output_type": "stream",
       "stream": "stdout",
       "text": [
        " 58.6%\n",
        "precision 52.8%\n",
        "accuracy 53.1%\n",
        "direct deep learning\n",
        "\n",
        "\n",
        "\n",
        "... building the model\n",
        "... getting the pretraining functions\n",
        "... pre-training the model"
       ]
      },
      {
       "output_type": "stream",
       "stream": "stderr",
       "text": [
        "\n",
        "The pretraining code ran for 0.00m"
       ]
      },
      {
       "output_type": "stream",
       "stream": "stdout",
       "text": [
        "\n",
        "... getting the finetuning functions\n",
        "... finetunning the model"
       ]
      },
      {
       "output_type": "stream",
       "stream": "stdout",
       "text": [
        "\n",
        "epoch 1, minibatch 8/8, validation error 52.000000 %"
       ]
      },
      {
       "output_type": "stream",
       "stream": "stdout",
       "text": [
        "\n",
        " epoch 1, minibatch 8/8, test error of best model 39.000000 %\n",
        "epoch 2, minibatch 8/8, validation error 52.000000 %"
       ]
      },
      {
       "output_type": "stream",
       "stream": "stdout",
       "text": [
        "\n",
        "epoch 3, minibatch 8/8, validation error 53.000000 %"
       ]
      },
      {
       "output_type": "stream",
       "stream": "stdout",
       "text": [
        "\n",
        "epoch 4, minibatch 8/8, validation error 48.000000 %"
       ]
      },
      {
       "output_type": "stream",
       "stream": "stdout",
       "text": [
        "\n",
        " epoch 4, minibatch 8/8, test error of best model 61.000000 %\n",
        "epoch 5, minibatch 8/8, validation error 48.000000 %"
       ]
      },
      {
       "output_type": "stream",
       "stream": "stdout",
       "text": [
        "\n",
        "epoch 6, minibatch 8/8, validation error 48.000000 %"
       ]
      },
      {
       "output_type": "stream",
       "stream": "stdout",
       "text": [
        "\n",
        "epoch 7, minibatch 8/8, validation error 48.000000 %"
       ]
      },
      {
       "output_type": "stream",
       "stream": "stdout",
       "text": [
        "\n",
        "epoch 8, minibatch 8/8, validation error 48.500000 %"
       ]
      },
      {
       "output_type": "stream",
       "stream": "stdout",
       "text": [
        "\n",
        "epoch 9, minibatch 8/8, validation error 48.500000 %"
       ]
      },
      {
       "output_type": "stream",
       "stream": "stdout",
       "text": [
        "\n",
        "epoch 10, minibatch 8/8, validation error 45.000000 %"
       ]
      },
      {
       "output_type": "stream",
       "stream": "stdout",
       "text": [
        "\n",
        " epoch 10, minibatch 8/8, test error of best model 53.000000 %\n",
        "hidden_layers_sizes: [100, 100]\n",
        "corruption_levels: [0, 0]\n",
        "recall"
       ]
      },
      {
       "output_type": "stream",
       "stream": "stdout",
       "text": [
        " 21.4%\n",
        "precision 67.2%\n",
        "accuracy 55.0%\n",
        "recall"
       ]
      },
      {
       "output_type": "stream",
       "stream": "stdout",
       "text": [
        " 16.4%\n",
        "precision 83.3%\n",
        "accuracy 56.6%\n",
        "deep learning with unlabel data\n",
        "... building the model\n",
        "... getting the pretraining functions\n",
        "... pre-training the model"
       ]
      },
      {
       "output_type": "stream",
       "stream": "stderr",
       "text": [
        "\n",
        "The pretraining code ran for 0.00m"
       ]
      },
      {
       "output_type": "stream",
       "stream": "stdout",
       "text": [
        "\n",
        "... getting the finetuning functions\n",
        "... finetunning the model"
       ]
      },
      {
       "output_type": "stream",
       "stream": "stdout",
       "text": [
        "\n",
        "epoch 1, minibatch 8/8, validation error 52.000000 %"
       ]
      },
      {
       "output_type": "stream",
       "stream": "stdout",
       "text": [
        "\n",
        " epoch 1, minibatch 8/8, test error of best model 39.000000 %\n",
        "epoch 2, minibatch 8/8, validation error 52.000000 %"
       ]
      },
      {
       "output_type": "stream",
       "stream": "stdout",
       "text": [
        "\n",
        "epoch 3, minibatch 8/8, validation error 53.000000 %"
       ]
      },
      {
       "output_type": "stream",
       "stream": "stdout",
       "text": [
        "\n",
        "epoch 4, minibatch 8/8, validation error 48.000000 %"
       ]
      },
      {
       "output_type": "stream",
       "stream": "stdout",
       "text": [
        "\n",
        " epoch 4, minibatch 8/8, test error of best model 61.000000 %\n",
        "epoch 5, minibatch 8/8, validation error 48.000000 %"
       ]
      },
      {
       "output_type": "stream",
       "stream": "stdout",
       "text": [
        "\n",
        "epoch 6, minibatch 8/8, validation error 48.000000 %"
       ]
      },
      {
       "output_type": "stream",
       "stream": "stdout",
       "text": [
        "\n",
        "epoch 7, minibatch 8/8, validation error 48.000000 %"
       ]
      },
      {
       "output_type": "stream",
       "stream": "stdout",
       "text": [
        "\n",
        "epoch 8, minibatch 8/8, validation error 48.500000 %"
       ]
      },
      {
       "output_type": "stream",
       "stream": "stdout",
       "text": [
        "\n",
        "epoch 9, minibatch 8/8, validation error 48.500000 %"
       ]
      },
      {
       "output_type": "stream",
       "stream": "stdout",
       "text": [
        "\n",
        "epoch 10, minibatch 8/8, validation error 45.000000 %"
       ]
      },
      {
       "output_type": "stream",
       "stream": "stdout",
       "text": [
        "\n",
        " epoch 10, minibatch 8/8, test error of best model 53.000000 %\n",
        "hidden_layers_sizes: [100, 100]\n",
        "corruption_levels: [0, 0]\n",
        "recall"
       ]
      },
      {
       "output_type": "stream",
       "stream": "stdout",
       "text": [
        " 21.4%\n",
        "precision 67.2%\n",
        "accuracy 55.0%\n",
        "recall"
       ]
      },
      {
       "output_type": "stream",
       "stream": "stdout",
       "text": [
        " 16.4%\n",
        "precision 83.3%\n",
        "accuracy 56.6%\n",
        "25\n",
        "SVM\n",
        "recall"
       ]
      },
      {
       "output_type": "stream",
       "stream": "stdout",
       "text": [
        " 0.0%\n",
        "precision 0.0%\n",
        "accuracy 50.0%\n",
        "recall"
       ]
      },
      {
       "output_type": "stream",
       "stream": "stdout",
       "text": [
        " 58.0%\n",
        "precision 57.1%\n",
        "accuracy 57.2%\n",
        "direct deep learning\n",
        "\n",
        "\n",
        "\n",
        "... building the model\n",
        "... getting the pretraining functions\n",
        "... pre-training the model"
       ]
      },
      {
       "output_type": "stream",
       "stream": "stderr",
       "text": [
        "\n",
        "The pretraining code ran for 0.00m"
       ]
      },
      {
       "output_type": "stream",
       "stream": "stdout",
       "text": [
        "\n",
        "... getting the finetuning functions\n",
        "... finetunning the model"
       ]
      },
      {
       "output_type": "stream",
       "stream": "stdout",
       "text": [
        "\n",
        "epoch 1, minibatch 10/10, validation error 50.500000 %"
       ]
      },
      {
       "output_type": "stream",
       "stream": "stdout",
       "text": [
        "\n",
        " epoch 1, minibatch 10/10, test error of best model nan %\n",
        "epoch 2, minibatch 10/10, validation error 50.500000 %"
       ]
      },
      {
       "output_type": "stream",
       "stream": "stdout",
       "text": [
        "\n",
        "epoch 3, minibatch 10/10, validation error 51.500000 %"
       ]
      },
      {
       "output_type": "stream",
       "stream": "stdout",
       "text": [
        "\n",
        "epoch 4, minibatch 10/10, validation error 51.000000 %"
       ]
      },
      {
       "output_type": "stream",
       "stream": "stdout",
       "text": [
        "\n",
        "epoch 5, minibatch 10/10, validation error 49.500000 %"
       ]
      },
      {
       "output_type": "stream",
       "stream": "stdout",
       "text": [
        "\n",
        " epoch 5, minibatch 10/10, test error of best model nan %\n",
        "epoch 6, minibatch 10/10, validation error 50.500000 %"
       ]
      },
      {
       "output_type": "stream",
       "stream": "stdout",
       "text": [
        "\n",
        "epoch 7, minibatch 10/10, validation error 50.500000 %"
       ]
      },
      {
       "output_type": "stream",
       "stream": "stdout",
       "text": [
        "\n",
        "epoch 8, minibatch 10/10, validation error 51.000000 %"
       ]
      },
      {
       "output_type": "stream",
       "stream": "stdout",
       "text": [
        "\n",
        "epoch 9, minibatch 10/10, validation error 51.500000 %"
       ]
      },
      {
       "output_type": "stream",
       "stream": "stdout",
       "text": [
        "\n",
        "epoch 10, minibatch 10/10, validation error 50.500000 %"
       ]
      },
      {
       "output_type": "stream",
       "stream": "stdout",
       "text": [
        "\n",
        "hidden_layers_sizes: [100, 100]\n",
        "corruption_levels: [0, 0]\n",
        "recall"
       ]
      },
      {
       "output_type": "stream",
       "stream": "stdout",
       "text": [
        " 65.9%\n",
        "precision 51.0%\n",
        "accuracy 51.8%\n",
        "recall"
       ]
      },
      {
       "output_type": "stream",
       "stream": "stdout",
       "text": [
        " 0.0%\n",
        "precision 0.0%\n",
        "accuracy 50.0%\n",
        "deep learning with unlabel data\n",
        "... building the model\n",
        "... getting the pretraining functions\n",
        "... pre-training the model"
       ]
      },
      {
       "output_type": "stream",
       "stream": "stderr",
       "text": [
        "\n",
        "The pretraining code ran for 0.00m"
       ]
      },
      {
       "output_type": "stream",
       "stream": "stdout",
       "text": [
        "\n",
        "... getting the finetuning functions\n",
        "... finetunning the model"
       ]
      },
      {
       "output_type": "stream",
       "stream": "stdout",
       "text": [
        "\n",
        "epoch 1, minibatch 10/10, validation error 50.500000 %"
       ]
      },
      {
       "output_type": "stream",
       "stream": "stdout",
       "text": [
        "\n",
        " epoch 1, minibatch 10/10, test error of best model nan %\n",
        "epoch 2, minibatch 10/10, validation error 50.500000 %"
       ]
      },
      {
       "output_type": "stream",
       "stream": "stdout",
       "text": [
        "\n",
        "epoch 3, minibatch 10/10, validation error 51.500000 %"
       ]
      },
      {
       "output_type": "stream",
       "stream": "stdout",
       "text": [
        "\n",
        "epoch 4, minibatch 10/10, validation error 51.000000 %"
       ]
      },
      {
       "output_type": "stream",
       "stream": "stdout",
       "text": [
        "\n",
        "epoch 5, minibatch 10/10, validation error 49.500000 %"
       ]
      },
      {
       "output_type": "stream",
       "stream": "stdout",
       "text": [
        "\n",
        " epoch 5, minibatch 10/10, test error of best model nan %\n",
        "epoch 6, minibatch 10/10, validation error 50.500000 %"
       ]
      },
      {
       "output_type": "stream",
       "stream": "stdout",
       "text": [
        "\n",
        "epoch 7, minibatch 10/10, validation error 50.500000 %"
       ]
      },
      {
       "output_type": "stream",
       "stream": "stdout",
       "text": [
        "\n",
        "epoch 8, minibatch 10/10, validation error 51.000000 %"
       ]
      },
      {
       "output_type": "stream",
       "stream": "stdout",
       "text": [
        "\n",
        "epoch 9, minibatch 10/10, validation error 51.500000 %"
       ]
      },
      {
       "output_type": "stream",
       "stream": "stdout",
       "text": [
        "\n",
        "epoch 10, minibatch 10/10, validation error 50.500000 %"
       ]
      },
      {
       "output_type": "stream",
       "stream": "stdout",
       "text": [
        "\n",
        "hidden_layers_sizes: [100, 100]\n",
        "corruption_levels: [0, 0]\n",
        "recall"
       ]
      },
      {
       "output_type": "stream",
       "stream": "stdout",
       "text": [
        " 65.9%\n",
        "precision 51.0%\n",
        "accuracy 51.8%\n",
        "recall"
       ]
      },
      {
       "output_type": "stream",
       "stream": "stdout",
       "text": [
        " 0.0%\n",
        "precision 0.0%\n",
        "accuracy 50.0%\n",
        "26\n",
        "SVM\n",
        "recall"
       ]
      },
      {
       "output_type": "stream",
       "stream": "stdout",
       "text": [
        " 0.0%\n",
        "precision 0.0%\n",
        "accuracy 50.0%\n",
        "recall"
       ]
      },
      {
       "output_type": "stream",
       "stream": "stdout",
       "text": [
        " 52.7%\n",
        "precision 56.6%\n",
        "accuracy 56.1%\n",
        "direct deep learning\n",
        "\n",
        "\n",
        "\n",
        "... building the model\n",
        "... getting the pretraining functions\n"
       ]
      },
      {
       "output_type": "stream",
       "stream": "stderr",
       "text": [
        "\n"
       ]
      },
      {
       "ename": "KeyboardInterrupt",
       "evalue": "",
       "output_type": "pyerr",
       "traceback": [
        "\u001b[1;31m---------------------------------------------------------------------------\u001b[0m\n\u001b[1;31mKeyboardInterrupt\u001b[0m                         Traceback (most recent call last)",
        "\u001b[1;32m<ipython-input-58-bc27e0896ebe>\u001b[0m in \u001b[0;36m<module>\u001b[1;34m()\u001b[0m\n\u001b[1;32m----> 1\u001b[1;33m \u001b[0mLOO_out_performance_for_all\u001b[0m\u001b[1;33m(\u001b[0m\u001b[0mddis\u001b[0m\u001b[1;33m)\u001b[0m\u001b[1;33m\u001b[0m\u001b[0m\n\u001b[0m",
        "\u001b[1;32m<ipython-input-57-ab5d0a3bd074>\u001b[0m in \u001b[0;36mLOO_out_performance_for_all\u001b[1;34m(ddis)\u001b[0m\n\u001b[0;32m     42\u001b[0m     \u001b[1;32mfor\u001b[0m \u001b[0mddi\u001b[0m \u001b[1;32min\u001b[0m \u001b[0mddis\u001b[0m\u001b[1;33m:\u001b[0m\u001b[1;33m\u001b[0m\u001b[0m\n\u001b[0;32m     43\u001b[0m         \u001b[0mone_ddi_family\u001b[0m \u001b[1;33m=\u001b[0m \u001b[0mLOO_out_performance_for_one_ddi\u001b[0m\u001b[1;33m(\u001b[0m\u001b[0mddi\u001b[0m\u001b[1;33m)\u001b[0m\u001b[1;33m\u001b[0m\u001b[0m\n\u001b[1;32m---> 44\u001b[1;33m         \u001b[0mone_ddi_family\u001b[0m\u001b[1;33m.\u001b[0m\u001b[0mget_LOO_perfermance\u001b[0m\u001b[1;33m(\u001b[0m\u001b[1;34m'FisherM1'\u001b[0m\u001b[1;33m,\u001b[0m \u001b[1;34m''\u001b[0m\u001b[1;33m)\u001b[0m\u001b[1;33m\u001b[0m\u001b[0m\n\u001b[0m\u001b[0;32m     45\u001b[0m \u001b[1;33m\u001b[0m\u001b[0m\n\u001b[0;32m     46\u001b[0m \u001b[1;32mclass\u001b[0m \u001b[0mLOO_out_performance_for_one_ddi\u001b[0m\u001b[1;33m(\u001b[0m\u001b[0mobject\u001b[0m\u001b[1;33m)\u001b[0m\u001b[1;33m:\u001b[0m\u001b[1;33m\u001b[0m\u001b[0m\n",
        "\u001b[1;32m<ipython-input-57-ab5d0a3bd074>\u001b[0m in \u001b[0;36mget_LOO_perfermance\u001b[1;34m(self, fisher_mode, settings)\u001b[0m\n\u001b[0;32m    125\u001b[0m                              \u001b[0mhidden_layers_sizes\u001b[0m \u001b[1;33m=\u001b[0m \u001b[0mhidden_layers_sizes\u001b[0m\u001b[1;33m,\u001b[0m \u001b[0mcorruption_levels\u001b[0m \u001b[1;33m=\u001b[0m \u001b[0mcorruption_levels\u001b[0m\u001b[1;33m,\u001b[0m \u001b[0mbatch_size\u001b[0m \u001b[1;33m=\u001b[0m \u001b[0mbatch_size\u001b[0m \u001b[1;33m,\u001b[0m\u001b[0;31m \u001b[0m\u001b[0;31m\\\u001b[0m\u001b[1;33m\u001b[0m\u001b[0m\n\u001b[0;32m    126\u001b[0m                              \u001b[0mtraining_epochs\u001b[0m \u001b[1;33m=\u001b[0m \u001b[0mtraining_epochs\u001b[0m\u001b[1;33m,\u001b[0m \u001b[0mpretraining_epochs\u001b[0m \u001b[1;33m=\u001b[0m \u001b[0mpretraining_epochs\u001b[0m\u001b[1;33m,\u001b[0m\u001b[1;33m\u001b[0m\u001b[0m\n\u001b[1;32m--> 127\u001b[1;33m                              \u001b[0mpretrain_lr\u001b[0m \u001b[1;33m=\u001b[0m \u001b[0mpretrain_lr\u001b[0m\u001b[1;33m,\u001b[0m \u001b[0mfinetune_lr\u001b[0m\u001b[1;33m=\u001b[0m\u001b[0mfinetune_lr\u001b[0m\u001b[1;33m\u001b[0m\u001b[0m\n\u001b[0m\u001b[0;32m    128\u001b[0m                  )\n\u001b[0;32m    129\u001b[0m                 \u001b[1;32mprint\u001b[0m \u001b[1;34m'hidden_layers_sizes:'\u001b[0m\u001b[1;33m,\u001b[0m \u001b[0mhidden_layers_sizes\u001b[0m\u001b[1;33m\u001b[0m\u001b[0m\n",
        "\u001b[1;32m/home/sun/Downloads/contactmatrix/contactmatrixanddeeplearningcode/DL_libs.py\u001b[0m in \u001b[0;36mtrainSda\u001b[1;34m(X_train_minmax, y_train, X_validation_minmax, y_validation, X_test_minmax, y_test, pretraining_X_minmax, hidden_layers_sizes, corruption_levels, batch_size, training_epochs, pretraining_epochs, pretrain_lr, finetune_lr)\u001b[0m\n\u001b[0;32m    624\u001b[0m     \u001b[1;32mif\u001b[0m \u001b[0mpretraining_X_minmax\u001b[0m \u001b[1;33m==\u001b[0m \u001b[0mNone\u001b[0m\u001b[1;33m:\u001b[0m\u001b[1;33m\u001b[0m\u001b[0m\n\u001b[0;32m    625\u001b[0m         pretraining_fns = sda.pretraining_functions(train_set_x=train_set_x,\n\u001b[1;32m--> 626\u001b[1;33m                                                     batch_size=batch_size)\n\u001b[0m\u001b[0;32m    627\u001b[0m     \u001b[1;32melse\u001b[0m\u001b[1;33m:\u001b[0m\u001b[1;33m\u001b[0m\u001b[0m\n\u001b[0;32m    628\u001b[0m         \u001b[0mpretraining_X_minmax\u001b[0m  \u001b[1;33m=\u001b[0m \u001b[0mshuffle\u001b[0m\u001b[1;33m(\u001b[0m\u001b[0mpretraining_X_minmax\u001b[0m\u001b[1;33m,\u001b[0m \u001b[0mrandom_state\u001b[0m\u001b[1;33m=\u001b[0m\u001b[1;36m0\u001b[0m\u001b[1;33m)\u001b[0m\u001b[1;33m\u001b[0m\u001b[0m\n",
        "\u001b[1;32m/home/sun/Downloads/contactmatrix/contactmatrixanddeeplearningcode/DL_libs.py\u001b[0m in \u001b[0;36mpretraining_functions\u001b[1;34m(self, train_set_x, batch_size)\u001b[0m\n\u001b[0;32m    495\u001b[0m                                  \u001b[0mupdates\u001b[0m\u001b[1;33m=\u001b[0m\u001b[0mupdates\u001b[0m\u001b[1;33m,\u001b[0m\u001b[1;33m\u001b[0m\u001b[0m\n\u001b[0;32m    496\u001b[0m                                  givens={self.x: train_set_x[batch_begin:\n\u001b[1;32m--> 497\u001b[1;33m                                                              batch_end]})\n\u001b[0m\u001b[0;32m    498\u001b[0m             \u001b[1;31m# append `fn` to the list of functions\u001b[0m\u001b[1;33m\u001b[0m\u001b[1;33m\u001b[0m\u001b[0m\n\u001b[0;32m    499\u001b[0m             \u001b[0mpretrain_fns\u001b[0m\u001b[1;33m.\u001b[0m\u001b[0mappend\u001b[0m\u001b[1;33m(\u001b[0m\u001b[0mfn\u001b[0m\u001b[1;33m)\u001b[0m\u001b[1;33m\u001b[0m\u001b[0m\n",
        "\u001b[1;32m/usr/local/lib/python2.7/dist-packages/theano/compile/function.pyc\u001b[0m in \u001b[0;36mfunction\u001b[1;34m(inputs, outputs, mode, updates, givens, no_default_updates, accept_inplace, name, rebuild_strict, allow_input_downcast, profile, on_unused_input)\u001b[0m\n\u001b[0;32m    221\u001b[0m                 \u001b[0mallow_input_downcast\u001b[0m\u001b[1;33m=\u001b[0m\u001b[0mallow_input_downcast\u001b[0m\u001b[1;33m,\u001b[0m\u001b[1;33m\u001b[0m\u001b[0m\n\u001b[0;32m    222\u001b[0m                 \u001b[0mon_unused_input\u001b[0m\u001b[1;33m=\u001b[0m\u001b[0mon_unused_input\u001b[0m\u001b[1;33m,\u001b[0m\u001b[1;33m\u001b[0m\u001b[0m\n\u001b[1;32m--> 223\u001b[1;33m                 profile=profile)\n\u001b[0m\u001b[0;32m    224\u001b[0m     \u001b[1;31m# We need to add the flag check_aliased inputs if we have any mutable or\u001b[0m\u001b[1;33m\u001b[0m\u001b[1;33m\u001b[0m\u001b[0m\n\u001b[0;32m    225\u001b[0m     \u001b[1;31m# borrowed used defined inputs\u001b[0m\u001b[1;33m\u001b[0m\u001b[1;33m\u001b[0m\u001b[0m\n",
        "\u001b[1;32m/usr/local/lib/python2.7/dist-packages/theano/compile/pfunc.pyc\u001b[0m in \u001b[0;36mpfunc\u001b[1;34m(params, outputs, mode, updates, givens, no_default_updates, accept_inplace, name, rebuild_strict, allow_input_downcast, profile, on_unused_input)\u001b[0m\n\u001b[0;32m    510\u001b[0m     return orig_function(inputs, cloned_outputs, mode,\n\u001b[0;32m    511\u001b[0m             \u001b[0maccept_inplace\u001b[0m\u001b[1;33m=\u001b[0m\u001b[0maccept_inplace\u001b[0m\u001b[1;33m,\u001b[0m \u001b[0mname\u001b[0m\u001b[1;33m=\u001b[0m\u001b[0mname\u001b[0m\u001b[1;33m,\u001b[0m \u001b[0mprofile\u001b[0m\u001b[1;33m=\u001b[0m\u001b[0mprofile\u001b[0m\u001b[1;33m,\u001b[0m\u001b[1;33m\u001b[0m\u001b[0m\n\u001b[1;32m--> 512\u001b[1;33m             on_unused_input=on_unused_input)\n\u001b[0m\u001b[0;32m    513\u001b[0m \u001b[1;33m\u001b[0m\u001b[0m\n\u001b[0;32m    514\u001b[0m \u001b[1;33m\u001b[0m\u001b[0m\n",
        "\u001b[1;32m/usr/local/lib/python2.7/dist-packages/theano/compile/function_module.pyc\u001b[0m in \u001b[0;36morig_function\u001b[1;34m(inputs, outputs, mode, accept_inplace, name, profile, on_unused_input)\u001b[0m\n\u001b[0;32m   1309\u001b[0m                    \u001b[0maccept_inplace\u001b[0m\u001b[1;33m=\u001b[0m\u001b[0maccept_inplace\u001b[0m\u001b[1;33m,\u001b[0m\u001b[1;33m\u001b[0m\u001b[0m\n\u001b[0;32m   1310\u001b[0m                    \u001b[0mprofile\u001b[0m\u001b[1;33m=\u001b[0m\u001b[0mprofile\u001b[0m\u001b[1;33m,\u001b[0m\u001b[1;33m\u001b[0m\u001b[0m\n\u001b[1;32m-> 1311\u001b[1;33m                    \u001b[0mon_unused_input\u001b[0m\u001b[1;33m=\u001b[0m\u001b[0mon_unused_input\u001b[0m\u001b[1;33m)\u001b[0m\u001b[1;33m.\u001b[0m\u001b[0mcreate\u001b[0m\u001b[1;33m(\u001b[0m\u001b[1;33m\u001b[0m\u001b[0m\n\u001b[0m\u001b[0;32m   1312\u001b[0m                        defaults)\n\u001b[0;32m   1313\u001b[0m \u001b[1;33m\u001b[0m\u001b[0m\n",
        "\u001b[1;32m/usr/local/lib/python2.7/dist-packages/theano/compile/function_module.pyc\u001b[0m in \u001b[0;36m__init__\u001b[1;34m(self, inputs, outputs, mode, accept_inplace, function_builder, profile, on_unused_input)\u001b[0m\n\u001b[0;32m   1020\u001b[0m             \u001b[0mgof\u001b[0m\u001b[1;33m.\u001b[0m\u001b[0mOp\u001b[0m\u001b[1;33m.\u001b[0m\u001b[0madd_stack_trace_on_call\u001b[0m \u001b[1;33m=\u001b[0m \u001b[0mFalse\u001b[0m\u001b[1;33m\u001b[0m\u001b[0m\n\u001b[0;32m   1021\u001b[0m             \u001b[0mstart_optimizer\u001b[0m \u001b[1;33m=\u001b[0m \u001b[0mtime\u001b[0m\u001b[1;33m.\u001b[0m\u001b[0mtime\u001b[0m\u001b[1;33m(\u001b[0m\u001b[1;33m)\u001b[0m\u001b[1;33m\u001b[0m\u001b[0m\n\u001b[1;32m-> 1022\u001b[1;33m             \u001b[0moptimizer_profile\u001b[0m \u001b[1;33m=\u001b[0m \u001b[0moptimizer\u001b[0m\u001b[1;33m(\u001b[0m\u001b[0mfgraph\u001b[0m\u001b[1;33m)\u001b[0m\u001b[1;33m\u001b[0m\u001b[0m\n\u001b[0m\u001b[0;32m   1023\u001b[0m             \u001b[0mend_optimizer\u001b[0m \u001b[1;33m=\u001b[0m \u001b[0mtime\u001b[0m\u001b[1;33m.\u001b[0m\u001b[0mtime\u001b[0m\u001b[1;33m(\u001b[0m\u001b[1;33m)\u001b[0m\u001b[1;33m\u001b[0m\u001b[0m\n\u001b[0;32m   1024\u001b[0m             \u001b[0mopt_time\u001b[0m \u001b[1;33m=\u001b[0m \u001b[0mend_optimizer\u001b[0m \u001b[1;33m-\u001b[0m \u001b[0mstart_optimizer\u001b[0m\u001b[1;33m\u001b[0m\u001b[0m\n",
        "\u001b[1;32m/usr/local/lib/python2.7/dist-packages/theano/gof/opt.pyc\u001b[0m in \u001b[0;36m__call__\u001b[1;34m(self, fgraph)\u001b[0m\n\u001b[0;32m     89\u001b[0m         \u001b[0mSame\u001b[0m \u001b[1;32mas\u001b[0m \u001b[0mself\u001b[0m\u001b[1;33m.\u001b[0m\u001b[0moptimize\u001b[0m\u001b[1;33m(\u001b[0m\u001b[0mfgraph\u001b[0m\u001b[1;33m)\u001b[0m\u001b[1;33m\u001b[0m\u001b[0m\n\u001b[0;32m     90\u001b[0m         \"\"\"\n\u001b[1;32m---> 91\u001b[1;33m         \u001b[1;32mreturn\u001b[0m \u001b[0mself\u001b[0m\u001b[1;33m.\u001b[0m\u001b[0moptimize\u001b[0m\u001b[1;33m(\u001b[0m\u001b[0mfgraph\u001b[0m\u001b[1;33m)\u001b[0m\u001b[1;33m\u001b[0m\u001b[0m\n\u001b[0m\u001b[0;32m     92\u001b[0m \u001b[1;33m\u001b[0m\u001b[0m\n\u001b[0;32m     93\u001b[0m     \u001b[1;32mdef\u001b[0m \u001b[0madd_requirements\u001b[0m\u001b[1;33m(\u001b[0m\u001b[0mself\u001b[0m\u001b[1;33m,\u001b[0m \u001b[0mfgraph\u001b[0m\u001b[1;33m)\u001b[0m\u001b[1;33m:\u001b[0m\u001b[1;33m\u001b[0m\u001b[0m\n",
        "\u001b[1;32m/usr/local/lib/python2.7/dist-packages/theano/gof/opt.pyc\u001b[0m in \u001b[0;36moptimize\u001b[1;34m(self, fgraph, *args, **kwargs)\u001b[0m\n\u001b[0;32m     80\u001b[0m             \u001b[0morig\u001b[0m \u001b[1;33m=\u001b[0m \u001b[0mtheano\u001b[0m\u001b[1;33m.\u001b[0m\u001b[0mtensor\u001b[0m\u001b[1;33m.\u001b[0m\u001b[0mbasic\u001b[0m\u001b[1;33m.\u001b[0m\u001b[0mconstant\u001b[0m\u001b[1;33m.\u001b[0m\u001b[0menable\u001b[0m\u001b[1;33m\u001b[0m\u001b[0m\n\u001b[0;32m     81\u001b[0m             \u001b[0mtheano\u001b[0m\u001b[1;33m.\u001b[0m\u001b[0mtensor\u001b[0m\u001b[1;33m.\u001b[0m\u001b[0mbasic\u001b[0m\u001b[1;33m.\u001b[0m\u001b[0mconstant\u001b[0m\u001b[1;33m.\u001b[0m\u001b[0menable\u001b[0m \u001b[1;33m=\u001b[0m \u001b[0mFalse\u001b[0m\u001b[1;33m\u001b[0m\u001b[0m\n\u001b[1;32m---> 82\u001b[1;33m             \u001b[0mret\u001b[0m \u001b[1;33m=\u001b[0m \u001b[0mself\u001b[0m\u001b[1;33m.\u001b[0m\u001b[0mapply\u001b[0m\u001b[1;33m(\u001b[0m\u001b[0mfgraph\u001b[0m\u001b[1;33m,\u001b[0m \u001b[1;33m*\u001b[0m\u001b[0margs\u001b[0m\u001b[1;33m,\u001b[0m \u001b[1;33m**\u001b[0m\u001b[0mkwargs\u001b[0m\u001b[1;33m)\u001b[0m\u001b[1;33m\u001b[0m\u001b[0m\n\u001b[0m\u001b[0;32m     83\u001b[0m         \u001b[1;32mfinally\u001b[0m\u001b[1;33m:\u001b[0m\u001b[1;33m\u001b[0m\u001b[0m\n\u001b[0;32m     84\u001b[0m             \u001b[0mtheano\u001b[0m\u001b[1;33m.\u001b[0m\u001b[0mtensor\u001b[0m\u001b[1;33m.\u001b[0m\u001b[0mbasic\u001b[0m\u001b[1;33m.\u001b[0m\u001b[0mconstant\u001b[0m\u001b[1;33m.\u001b[0m\u001b[0menable\u001b[0m \u001b[1;33m=\u001b[0m \u001b[0morig\u001b[0m\u001b[1;33m\u001b[0m\u001b[0m\n",
        "\u001b[1;32m/usr/local/lib/python2.7/dist-packages/theano/gof/opt.pyc\u001b[0m in \u001b[0;36mapply\u001b[1;34m(self, fgraph)\u001b[0m\n\u001b[0;32m    181\u001b[0m             \u001b[1;32mtry\u001b[0m\u001b[1;33m:\u001b[0m\u001b[1;33m\u001b[0m\u001b[0m\n\u001b[0;32m    182\u001b[0m                 \u001b[0mt0\u001b[0m \u001b[1;33m=\u001b[0m \u001b[0mtime\u001b[0m\u001b[1;33m.\u001b[0m\u001b[0mtime\u001b[0m\u001b[1;33m(\u001b[0m\u001b[1;33m)\u001b[0m\u001b[1;33m\u001b[0m\u001b[0m\n\u001b[1;32m--> 183\u001b[1;33m                 \u001b[0msub_prof\u001b[0m \u001b[1;33m=\u001b[0m \u001b[0moptimizer\u001b[0m\u001b[1;33m.\u001b[0m\u001b[0moptimize\u001b[0m\u001b[1;33m(\u001b[0m\u001b[0mfgraph\u001b[0m\u001b[1;33m)\u001b[0m\u001b[1;33m\u001b[0m\u001b[0m\n\u001b[0m\u001b[0;32m    184\u001b[0m                 \u001b[0ml\u001b[0m\u001b[1;33m.\u001b[0m\u001b[0mappend\u001b[0m\u001b[1;33m(\u001b[0m\u001b[0mfloat\u001b[0m\u001b[1;33m(\u001b[0m\u001b[0mtime\u001b[0m\u001b[1;33m.\u001b[0m\u001b[0mtime\u001b[0m\u001b[1;33m(\u001b[0m\u001b[1;33m)\u001b[0m \u001b[1;33m-\u001b[0m \u001b[0mt0\u001b[0m\u001b[1;33m)\u001b[0m\u001b[1;33m)\u001b[0m\u001b[1;33m\u001b[0m\u001b[0m\n\u001b[0;32m    185\u001b[0m                 \u001b[0msub_profs\u001b[0m\u001b[1;33m.\u001b[0m\u001b[0mappend\u001b[0m\u001b[1;33m(\u001b[0m\u001b[0msub_prof\u001b[0m\u001b[1;33m)\u001b[0m\u001b[1;33m\u001b[0m\u001b[0m\n",
        "\u001b[1;32m/usr/local/lib/python2.7/dist-packages/theano/gof/opt.pyc\u001b[0m in \u001b[0;36moptimize\u001b[1;34m(self, fgraph, *args, **kwargs)\u001b[0m\n\u001b[0;32m     80\u001b[0m             \u001b[0morig\u001b[0m \u001b[1;33m=\u001b[0m \u001b[0mtheano\u001b[0m\u001b[1;33m.\u001b[0m\u001b[0mtensor\u001b[0m\u001b[1;33m.\u001b[0m\u001b[0mbasic\u001b[0m\u001b[1;33m.\u001b[0m\u001b[0mconstant\u001b[0m\u001b[1;33m.\u001b[0m\u001b[0menable\u001b[0m\u001b[1;33m\u001b[0m\u001b[0m\n\u001b[0;32m     81\u001b[0m             \u001b[0mtheano\u001b[0m\u001b[1;33m.\u001b[0m\u001b[0mtensor\u001b[0m\u001b[1;33m.\u001b[0m\u001b[0mbasic\u001b[0m\u001b[1;33m.\u001b[0m\u001b[0mconstant\u001b[0m\u001b[1;33m.\u001b[0m\u001b[0menable\u001b[0m \u001b[1;33m=\u001b[0m \u001b[0mFalse\u001b[0m\u001b[1;33m\u001b[0m\u001b[0m\n\u001b[1;32m---> 82\u001b[1;33m             \u001b[0mret\u001b[0m \u001b[1;33m=\u001b[0m \u001b[0mself\u001b[0m\u001b[1;33m.\u001b[0m\u001b[0mapply\u001b[0m\u001b[1;33m(\u001b[0m\u001b[0mfgraph\u001b[0m\u001b[1;33m,\u001b[0m \u001b[1;33m*\u001b[0m\u001b[0margs\u001b[0m\u001b[1;33m,\u001b[0m \u001b[1;33m**\u001b[0m\u001b[0mkwargs\u001b[0m\u001b[1;33m)\u001b[0m\u001b[1;33m\u001b[0m\u001b[0m\n\u001b[0m\u001b[0;32m     83\u001b[0m         \u001b[1;32mfinally\u001b[0m\u001b[1;33m:\u001b[0m\u001b[1;33m\u001b[0m\u001b[0m\n\u001b[0;32m     84\u001b[0m             \u001b[0mtheano\u001b[0m\u001b[1;33m.\u001b[0m\u001b[0mtensor\u001b[0m\u001b[1;33m.\u001b[0m\u001b[0mbasic\u001b[0m\u001b[1;33m.\u001b[0m\u001b[0mconstant\u001b[0m\u001b[1;33m.\u001b[0m\u001b[0menable\u001b[0m \u001b[1;33m=\u001b[0m \u001b[0morig\u001b[0m\u001b[1;33m\u001b[0m\u001b[0m\n",
        "\u001b[1;32m/usr/local/lib/python2.7/dist-packages/theano/gof/opt.pyc\u001b[0m in \u001b[0;36mapply\u001b[1;34m(self, fgraph, start_from)\u001b[0m\n\u001b[0;32m   1598\u001b[0m                     \u001b[1;32mfor\u001b[0m \u001b[0mlopt\u001b[0m \u001b[1;32min\u001b[0m \u001b[0mself\u001b[0m\u001b[1;33m.\u001b[0m\u001b[0mlocal_optimizers\u001b[0m\u001b[1;33m:\u001b[0m\u001b[1;33m\u001b[0m\u001b[0m\n\u001b[0;32m   1599\u001b[0m                         \u001b[0mt_opt\u001b[0m \u001b[1;33m=\u001b[0m \u001b[0mtime\u001b[0m\u001b[1;33m.\u001b[0m\u001b[0mtime\u001b[0m\u001b[1;33m(\u001b[0m\u001b[1;33m)\u001b[0m\u001b[1;33m\u001b[0m\u001b[0m\n\u001b[1;32m-> 1600\u001b[1;33m                         \u001b[0mlopt_change\u001b[0m \u001b[1;33m=\u001b[0m \u001b[0mself\u001b[0m\u001b[1;33m.\u001b[0m\u001b[0mprocess_node\u001b[0m\u001b[1;33m(\u001b[0m\u001b[0mfgraph\u001b[0m\u001b[1;33m,\u001b[0m \u001b[0mnode\u001b[0m\u001b[1;33m,\u001b[0m \u001b[0mlopt\u001b[0m\u001b[1;33m)\u001b[0m\u001b[1;33m\u001b[0m\u001b[0m\n\u001b[0m\u001b[0;32m   1601\u001b[0m                         \u001b[0mtime_opts\u001b[0m\u001b[1;33m[\u001b[0m\u001b[0mlopt\u001b[0m\u001b[1;33m]\u001b[0m \u001b[1;33m+=\u001b[0m \u001b[0mtime\u001b[0m\u001b[1;33m.\u001b[0m\u001b[0mtime\u001b[0m\u001b[1;33m(\u001b[0m\u001b[1;33m)\u001b[0m \u001b[1;33m-\u001b[0m \u001b[0mt_opt\u001b[0m\u001b[1;33m\u001b[0m\u001b[0m\n\u001b[0;32m   1602\u001b[0m                         \u001b[1;32mif\u001b[0m \u001b[0mlopt_change\u001b[0m\u001b[1;33m:\u001b[0m\u001b[1;33m\u001b[0m\u001b[0m\n",
        "\u001b[1;32m/usr/local/lib/python2.7/dist-packages/theano/gof/opt.pyc\u001b[0m in \u001b[0;36mprocess_node\u001b[1;34m(self, fgraph, node, lopt)\u001b[0m\n\u001b[0;32m   1284\u001b[0m         \u001b[0mlopt\u001b[0m \u001b[1;33m=\u001b[0m \u001b[0mlopt\u001b[0m \u001b[1;32mor\u001b[0m \u001b[0mself\u001b[0m\u001b[1;33m.\u001b[0m\u001b[0mlocal_opt\u001b[0m\u001b[1;33m\u001b[0m\u001b[0m\n\u001b[0;32m   1285\u001b[0m         \u001b[1;32mtry\u001b[0m\u001b[1;33m:\u001b[0m\u001b[1;33m\u001b[0m\u001b[0m\n\u001b[1;32m-> 1286\u001b[1;33m             \u001b[0mreplacements\u001b[0m \u001b[1;33m=\u001b[0m \u001b[0mlopt\u001b[0m\u001b[1;33m.\u001b[0m\u001b[0mtransform\u001b[0m\u001b[1;33m(\u001b[0m\u001b[0mnode\u001b[0m\u001b[1;33m)\u001b[0m\u001b[1;33m\u001b[0m\u001b[0m\n\u001b[0m\u001b[0;32m   1287\u001b[0m         \u001b[1;32mexcept\u001b[0m \u001b[0mException\u001b[0m\u001b[1;33m,\u001b[0m \u001b[0me\u001b[0m\u001b[1;33m:\u001b[0m\u001b[1;33m\u001b[0m\u001b[0m\n\u001b[0;32m   1288\u001b[0m             \u001b[1;32mif\u001b[0m \u001b[0mself\u001b[0m\u001b[1;33m.\u001b[0m\u001b[0mfailure_callback\u001b[0m \u001b[1;32mis\u001b[0m \u001b[1;32mnot\u001b[0m \u001b[0mNone\u001b[0m\u001b[1;33m:\u001b[0m\u001b[1;33m\u001b[0m\u001b[0m\n",
        "\u001b[1;32m/usr/local/lib/python2.7/dist-packages/theano/gof/opt.pyc\u001b[0m in \u001b[0;36mtransform\u001b[1;34m(self, node)\u001b[0m\n\u001b[0;32m   1101\u001b[0m                 \u001b[1;32mreturn\u001b[0m \u001b[0mpattern\u001b[0m\u001b[1;33m.\u001b[0m\u001b[0mclone\u001b[0m\u001b[1;33m(\u001b[0m\u001b[1;33m)\u001b[0m\u001b[1;33m\u001b[0m\u001b[0m\n\u001b[0;32m   1102\u001b[0m         u = match(self.in_pattern, node.out, unify.Unification(), True,\n\u001b[1;32m-> 1103\u001b[1;33m                   self.pdb)\n\u001b[0m\u001b[0;32m   1104\u001b[0m         \u001b[1;32mif\u001b[0m \u001b[0mu\u001b[0m\u001b[1;33m:\u001b[0m\u001b[1;33m\u001b[0m\u001b[0m\n\u001b[0;32m   1105\u001b[0m             \u001b[0mp\u001b[0m \u001b[1;33m=\u001b[0m \u001b[0mself\u001b[0m\u001b[1;33m.\u001b[0m\u001b[0mout_pattern\u001b[0m\u001b[1;33m\u001b[0m\u001b[0m\n",
        "\u001b[1;31mKeyboardInterrupt\u001b[0m: "
       ]
      }
     ],
     "prompt_number": 58
    },
    {
     "cell_type": "code",
     "collapsed": false,
     "input": [],
     "language": "python",
     "metadata": {},
     "outputs": []
    },
    {
     "cell_type": "code",
     "collapsed": false,
     "input": [
      "one_ddi_family.get_LOO_perfermance('AAONLY', '1')"
     ],
     "language": "python",
     "metadata": {},
     "outputs": [
      {
       "output_type": "stream",
       "stream": "stdout",
       "text": [
        "1\n",
        "SVM\n",
        "precision on test: "
       ]
      },
      {
       "output_type": "stream",
       "stream": "stdout",
       "text": [
        " 0.493506493506\n",
        "recall on test:  0.558823529412\n",
        "direct deep learning\n",
        "... building the model\n",
        "... getting the pretraining functions\n",
        "... pre-training the model"
       ]
      },
      {
       "output_type": "stream",
       "stream": "stdout",
       "text": [
        "\n",
        "Pre-training layer 0, epoch 0, cost  63.5688703827\n",
        "Pre-training layer 0, epoch 1, cost  57.926744179\n",
        "Pre-training layer 0, epoch 2, cost "
       ]
      },
      {
       "output_type": "stream",
       "stream": "stdout",
       "text": [
        " 52.9103500176\n",
        "Pre-training layer 0, epoch 3, cost  48.4728498244\n",
        "Pre-training layer 0, epoch 4, cost  44.5676252783\n",
        "Pre-training layer 0, epoch 5, cost "
       ]
      },
      {
       "output_type": "stream",
       "stream": "stdout",
       "text": [
        " 41.1486432219\n",
        "Pre-training layer 0, epoch 6, cost  38.1706009545\n",
        "Pre-training layer 0, epoch 7, cost  35.5890538646\n",
        "Pre-training layer 0, epoch 8, cost "
       ]
      },
      {
       "output_type": "stream",
       "stream": "stdout",
       "text": [
        " 33.3606653607\n",
        "Pre-training layer 0, epoch 9, cost  31.4436467359\n",
        "Pre-training layer 0, epoch 10, cost  29.7983604444\n",
        "Pre-training layer 0, epoch 11, cost "
       ]
      },
      {
       "output_type": "stream",
       "stream": "stdout",
       "text": [
        " 28.3879736869\n",
        "Pre-training layer 0, epoch 12, cost  27.1790156235\n",
        "Pre-training layer 0, epoch 13, cost  26.1417245224\n",
        "Pre-training layer 0, epoch 14, cost "
       ]
      },
      {
       "output_type": "stream",
       "stream": "stdout",
       "text": [
        " 25.2501424078\n",
        "Pre-training layer 0, epoch 15, cost  24.4819826456\n",
        "Pre-training layer 0, epoch 16, cost  23.8183350717\n",
        "Pre-training layer 0, epoch 17, cost "
       ]
      },
      {
       "output_type": "stream",
       "stream": "stdout",
       "text": [
        " 23.2432815655\n",
        "Pre-training layer 0, epoch 18, cost  22.7434833952\n",
        "Pre-training layer 0, epoch 19, cost  22.3077826561\n",
        "Pre-training layer 0, epoch 20, cost "
       ]
      },
      {
       "output_type": "stream",
       "stream": "stdout",
       "text": [
        " 21.9268418937\n",
        "Pre-training layer 0, epoch 21, cost  21.5928321067\n",
        "Pre-training layer 0, epoch 22, cost  21.2991702827\n",
        "Pre-training layer 0, epoch 23, cost "
       ]
      },
      {
       "output_type": "stream",
       "stream": "stdout",
       "text": [
        " 21.0403025827\n",
        "Pre-training layer 0, epoch 24, cost  20.8115270748\n",
        "Pre-training layer 0, epoch 25, cost  20.6088494287\n",
        "Pre-training layer 0, epoch 26, cost "
       ]
      },
      {
       "output_type": "stream",
       "stream": "stdout",
       "text": [
        " 20.4288654427\n",
        "Pre-training layer 0, epoch 27, cost  20.26866513\n",
        "Pre-training layer 0, epoch 28, cost  20.1257540421\n",
        "Pre-training layer 0, epoch 29, cost "
       ]
      },
      {
       "output_type": "stream",
       "stream": "stdout",
       "text": [
        " 19.9979883827\n",
        "Pre-training layer 0, epoch 30, cost  19.8835212065\n",
        "Pre-training layer 0, epoch 31, cost  19.780757587\n",
        "Pre-training layer 0, epoch 32, cost "
       ]
      },
      {
       "output_type": "stream",
       "stream": "stdout",
       "text": [
        " 19.6883170979\n",
        "Pre-training layer 0, epoch 33, cost  19.6050022989\n",
        "Pre-training layer 0, epoch 34, cost  19.5297721866\n",
        "Pre-training layer 0, epoch 35, cost "
       ]
      },
      {
       "output_type": "stream",
       "stream": "stdout",
       "text": [
        " 19.4617197696\n",
        "Pre-training layer 0, epoch 36, cost  19.4000530876\n",
        "Pre-training layer 0, epoch 37, cost  19.3440791143\n",
        "Pre-training layer 0, epoch 38, cost "
       ]
      },
      {
       "output_type": "stream",
       "stream": "stdout",
       "text": [
        " 19.2931900806\n",
        "Pre-training layer 0, epoch 39, cost  19.2468518368\n",
        "Pre-training layer 0, epoch 40, cost  19.2045939315\n",
        "Pre-training layer 0, epoch 41, cost "
       ]
      },
      {
       "output_type": "stream",
       "stream": "stdout",
       "text": [
        " 19.1660011403\n",
        "Pre-training layer 0, epoch 42, cost  19.1307062203\n",
        "Pre-training layer 0, epoch 43, cost  19.0983837018\n",
        "Pre-training layer 0, epoch 44, cost "
       ]
      },
      {
       "output_type": "stream",
       "stream": "stdout",
       "text": [
        " 19.0687445596\n",
        "Pre-training layer 0, epoch 45, cost  19.0415316297\n",
        "Pre-training layer 0, epoch 46, cost  19.0165156612\n",
        "Pre-training layer 0, epoch 47, cost "
       ]
      },
      {
       "output_type": "stream",
       "stream": "stdout",
       "text": [
        " 18.9934919073\n",
        "Pre-training layer 0, epoch 48, cost  18.972277177\n",
        "Pre-training layer 0, epoch 49, cost  18.9527072795\n",
        "Pre-training layer 0, epoch 50, cost "
       ]
      },
      {
       "output_type": "stream",
       "stream": "stdout",
       "text": [
        " 18.9346348056\n",
        "Pre-training layer 0, epoch 51, cost  18.9179271959\n",
        "Pre-training layer 0, epoch 52, cost  18.9024650578\n",
        "Pre-training layer 0, epoch 53, cost "
       ]
      },
      {
       "output_type": "stream",
       "stream": "stdout",
       "text": [
        " 18.8881406944\n",
        "Pre-training layer 0, epoch 54, cost  18.8748568166\n",
        "Pre-training layer 0, epoch 55, cost  18.862525414\n",
        "Pre-training layer 0, epoch 56, cost "
       ]
      },
      {
       "output_type": "stream",
       "stream": "stdout",
       "text": [
        " 18.8510667622\n",
        "Pre-training layer 0, epoch 57, cost  18.840408549\n",
        "Pre-training layer 0, epoch 58, cost  18.8304851035\n",
        "Pre-training layer 0, epoch 59, cost "
       ]
      },
      {
       "output_type": "stream",
       "stream": "stdout",
       "text": [
        " 18.8212367148\n",
        "Pre-training layer 0, epoch 60, cost  18.8126090286\n",
        "Pre-training layer 0, epoch 61, cost  18.8045525121\n",
        "Pre-training layer 0, epoch 62, cost "
       ]
      },
      {
       "output_type": "stream",
       "stream": "stdout",
       "text": [
        " 18.7970219789\n",
        "Pre-training layer 0, epoch 63, cost  18.7899761656\n",
        "Pre-training layer 0, epoch 64, cost  18.7833773547\n",
        "Pre-training layer 0, epoch 65, cost "
       ]
      },
      {
       "output_type": "stream",
       "stream": "stdout",
       "text": [
        " 18.7771910376\n",
        "Pre-training layer 0, epoch 66, cost  18.7713856137\n",
        "Pre-training layer 0, epoch 67, cost  18.7659321202\n",
        "Pre-training layer 0, epoch 68, cost "
       ]
      },
      {
       "output_type": "stream",
       "stream": "stdout",
       "text": [
        " 18.76080399\n",
        "Pre-training layer 0, epoch 69, cost  18.7559768348\n",
        "Pre-training layer 0, epoch 70, cost  18.7514282489\n",
        "Pre-training layer 0, epoch 71, cost "
       ]
      },
      {
       "output_type": "stream",
       "stream": "stdout",
       "text": [
        " 18.7471376333\n",
        "Pre-training layer 0, epoch 72, cost  18.7430860366\n",
        "Pre-training layer 0, epoch 73, cost  18.7392560119\n",
        "Pre-training layer 0, epoch 74, cost "
       ]
      },
      {
       "output_type": "stream",
       "stream": "stdout",
       "text": [
        " 18.7356314863\n",
        "Pre-training layer 0, epoch 75, cost  18.7321976441\n",
        "Pre-training layer 1, epoch 0, cost "
       ]
      },
      {
       "output_type": "stream",
       "stream": "stdout",
       "text": [
        " 141.87507339\n",
        "Pre-training layer 1, epoch 1, cost "
       ]
      },
      {
       "output_type": "stream",
       "stream": "stdout",
       "text": [
        " 128.869708774\n",
        "Pre-training layer 1, epoch 2, cost "
       ]
      },
      {
       "output_type": "stream",
       "stream": "stdout",
       "text": [
        " 118.042616412\n",
        "Pre-training layer 1, epoch 3, cost "
       ]
      },
      {
       "output_type": "stream",
       "stream": "stdout",
       "text": [
        " 109.091278647\n",
        "Pre-training layer 1, epoch 4, cost "
       ]
      },
      {
       "output_type": "stream",
       "stream": "stdout",
       "text": [
        " 101.716215703\n",
        "Pre-training layer 1, epoch 5, cost "
       ]
      },
      {
       "output_type": "stream",
       "stream": "stdout",
       "text": [
        " 95.6474870944\n",
        "Pre-training layer 1, epoch 6, cost "
       ]
      },
      {
       "output_type": "stream",
       "stream": "stdout",
       "text": [
        " 90.6528391421\n",
        "Pre-training layer 1, epoch 7, cost "
       ]
      },
      {
       "output_type": "stream",
       "stream": "stdout",
       "text": [
        " 86.5377923308\n",
        "Pre-training layer 1, epoch 8, cost "
       ]
      },
      {
       "output_type": "stream",
       "stream": "stdout",
       "text": [
        " 83.1422403949\n",
        "Pre-training layer 1, epoch 9, cost "
       ]
      },
      {
       "output_type": "stream",
       "stream": "stdout",
       "text": [
        " 80.3355466594\n",
        "Pre-training layer 1, epoch 10, cost "
       ]
      },
      {
       "output_type": "stream",
       "stream": "stdout",
       "text": [
        " 78.0114033264\n",
        "Pre-training layer 1, epoch 11, cost "
       ]
      },
      {
       "output_type": "stream",
       "stream": "stdout",
       "text": [
        " 76.0832149159\n",
        "Pre-training layer 1, epoch 12, cost "
       ]
      },
      {
       "output_type": "stream",
       "stream": "stdout",
       "text": [
        " 74.480276263\n",
        "Pre-training layer 1, epoch 13, cost "
       ]
      },
      {
       "output_type": "stream",
       "stream": "stdout",
       "text": [
        " 73.144720502\n",
        "Pre-training layer 1, epoch 14, cost "
       ]
      },
      {
       "output_type": "stream",
       "stream": "stdout",
       "text": [
        " 72.0291096619\n",
        "Pre-training layer 1, epoch 15, cost "
       ]
      },
      {
       "output_type": "stream",
       "stream": "stdout",
       "text": [
        " 71.0945299101\n",
        "Pre-training layer 1, epoch 16, cost "
       ]
      },
      {
       "output_type": "stream",
       "stream": "stdout",
       "text": [
        " 70.3090707112\n",
        "Pre-training layer 1, epoch 17, cost "
       ]
      },
      {
       "output_type": "stream",
       "stream": "stdout",
       "text": [
        " 69.6465917475\n",
        "Pre-training layer 1, epoch 18, cost "
       ]
      },
      {
       "output_type": "stream",
       "stream": "stdout",
       "text": [
        " 69.0857074209\n",
        "Pre-training layer 1, epoch 19, cost "
       ]
      },
      {
       "output_type": "stream",
       "stream": "stdout",
       "text": [
        " 68.6089414598\n",
        "Pre-training layer 1, epoch 20, cost "
       ]
      },
      {
       "output_type": "stream",
       "stream": "stdout",
       "text": [
        " 68.2020204564\n",
        "Pre-training layer 1, epoch 21, cost "
       ]
      },
      {
       "output_type": "stream",
       "stream": "stdout",
       "text": [
        " 67.8532848743\n",
        "Pre-training layer 1, epoch 22, cost "
       ]
      },
      {
       "output_type": "stream",
       "stream": "stdout",
       "text": [
        " 67.5532009755\n",
        "Pre-training layer 1, epoch 23, cost "
       ]
      },
      {
       "output_type": "stream",
       "stream": "stdout",
       "text": [
        " 67.2939594113\n",
        "Pre-training layer 1, epoch 24, cost "
       ]
      },
      {
       "output_type": "stream",
       "stream": "stdout",
       "text": [
        " 67.0691475049\n",
        "Pre-training layer 1, epoch 25, cost "
       ]
      },
      {
       "output_type": "stream",
       "stream": "stdout",
       "text": [
        " 66.873483358\n",
        "Pre-training layer 1, epoch 26, cost "
       ]
      },
      {
       "output_type": "stream",
       "stream": "stdout",
       "text": [
        " 66.7026011328\n",
        "Pre-training layer 1, epoch 27, cost "
       ]
      },
      {
       "output_type": "stream",
       "stream": "stdout",
       "text": [
        " 66.552878208\n",
        "Pre-training layer 1, epoch 28, cost "
       ]
      },
      {
       "output_type": "stream",
       "stream": "stdout",
       "text": [
        " 66.4212962791\n",
        "Pre-training layer 1, epoch 29, cost "
       ]
      },
      {
       "output_type": "stream",
       "stream": "stdout",
       "text": [
        " 66.3053297916\n",
        "Pre-training layer 1, epoch 30, cost "
       ]
      },
      {
       "output_type": "stream",
       "stream": "stdout",
       "text": [
        " 66.2028562773\n",
        "Pre-training layer 1, epoch 31, cost "
       ]
      },
      {
       "output_type": "stream",
       "stream": "stdout",
       "text": [
        " 66.1120841942\n",
        "Pre-training layer 1, epoch 32, cost "
       ]
      },
      {
       "output_type": "stream",
       "stream": "stdout",
       "text": [
        " 66.0314947373\n",
        "Pre-training layer 1, epoch 33, cost "
       ]
      },
      {
       "output_type": "stream",
       "stream": "stdout",
       "text": [
        " 65.9597947961\n",
        "Pre-training layer 1, epoch 34, cost "
       ]
      },
      {
       "output_type": "stream",
       "stream": "stdout",
       "text": [
        " 65.8958788128\n",
        "Pre-training layer 1, epoch 35, cost "
       ]
      },
      {
       "output_type": "stream",
       "stream": "stdout",
       "text": [
        " 65.8387977593\n",
        "Pre-training layer 1, epoch 36, cost "
       ]
      },
      {
       "output_type": "stream",
       "stream": "stdout",
       "text": [
        " 65.7877338158\n",
        "Pre-training layer 1, epoch 37, cost "
       ]
      },
      {
       "output_type": "stream",
       "stream": "stdout",
       "text": [
        " 65.7419796282\n",
        "Pre-training layer 1, epoch 38, cost "
       ]
      },
      {
       "output_type": "stream",
       "stream": "stdout",
       "text": [
        " 65.7009212507\n",
        "Pre-training layer 1, epoch 39, cost "
       ]
      },
      {
       "output_type": "stream",
       "stream": "stdout",
       "text": [
        " 65.6640240634\n",
        "Pre-training layer 1, epoch 40, cost "
       ]
      },
      {
       "output_type": "stream",
       "stream": "stdout",
       "text": [
        " 65.6308210966\n",
        "Pre-training layer 1, epoch 41, cost "
       ]
      },
      {
       "output_type": "stream",
       "stream": "stdout",
       "text": [
        " 65.6009033109\n",
        "Pre-training layer 1, epoch 42, cost "
       ]
      },
      {
       "output_type": "stream",
       "stream": "stdout",
       "text": [
        " 65.5739114695\n",
        "Pre-training layer 1, epoch 43, cost "
       ]
      },
      {
       "output_type": "stream",
       "stream": "stdout",
       "text": [
        " 65.5495293113\n",
        "Pre-training layer 1, epoch 44, cost "
       ]
      },
      {
       "output_type": "stream",
       "stream": "stdout",
       "text": [
        " 65.5274777936\n",
        "Pre-training layer 1, epoch 45, cost "
       ]
      },
      {
       "output_type": "stream",
       "stream": "stdout",
       "text": [
        " 65.5075102125\n",
        "Pre-training layer 1, epoch 46, cost "
       ]
      },
      {
       "output_type": "stream",
       "stream": "stdout",
       "text": [
        " 65.4894080517\n",
        "Pre-training layer 1, epoch 47, cost "
       ]
      },
      {
       "output_type": "stream",
       "stream": "stdout",
       "text": [
        " 65.4729774351\n",
        "Pre-training layer 1, epoch 48, cost "
       ]
      },
      {
       "output_type": "stream",
       "stream": "stdout",
       "text": [
        " 65.4580460833\n",
        "Pre-training layer 1, epoch 49, cost "
       ]
      },
      {
       "output_type": "stream",
       "stream": "stdout",
       "text": [
        " 65.4444606921\n",
        "Pre-training layer 1, epoch 50, cost "
       ]
      },
      {
       "output_type": "stream",
       "stream": "stdout",
       "text": [
        " 65.4320846666\n",
        "Pre-training layer 1, epoch 51, cost "
       ]
      },
      {
       "output_type": "stream",
       "stream": "stdout",
       "text": [
        " 65.4207961557\n",
        "Pre-training layer 1, epoch 52, cost "
       ]
      },
      {
       "output_type": "stream",
       "stream": "stdout",
       "text": [
        " 65.4104863418\n",
        "Pre-training layer 1, epoch 53, cost "
       ]
      },
      {
       "output_type": "stream",
       "stream": "stdout",
       "text": [
        " 65.4010579482\n",
        "Pre-training layer 1, epoch 54, cost "
       ]
      },
      {
       "output_type": "stream",
       "stream": "stdout",
       "text": [
        " 65.3924239332\n",
        "Pre-training layer 1, epoch 55, cost "
       ]
      },
      {
       "output_type": "stream",
       "stream": "stdout",
       "text": [
        " 65.3845063445\n",
        "Pre-training layer 1, epoch 56, cost "
       ]
      },
      {
       "output_type": "stream",
       "stream": "stdout",
       "text": [
        " 65.3772353118\n",
        "Pre-training layer 1, epoch 57, cost "
       ]
      },
      {
       "output_type": "stream",
       "stream": "stdout",
       "text": [
        " 65.3705481598\n",
        "Pre-training layer 1, epoch 58, cost "
       ]
      },
      {
       "output_type": "stream",
       "stream": "stdout",
       "text": [
        " 65.3643886252\n",
        "Pre-training layer 1, epoch 59, cost "
       ]
      },
      {
       "output_type": "stream",
       "stream": "stdout",
       "text": [
        " 65.3587061646\n",
        "Pre-training layer 1, epoch 60, cost "
       ]
      },
      {
       "output_type": "stream",
       "stream": "stdout",
       "text": [
        " 65.3534553415\n",
        "Pre-training layer 1, epoch 61, cost "
       ]
      },
      {
       "output_type": "stream",
       "stream": "stdout",
       "text": [
        " 65.3485952838\n",
        "Pre-training layer 1, epoch 62, cost "
       ]
      },
      {
       "output_type": "stream",
       "stream": "stdout",
       "text": [
        " 65.3440892009\n",
        "Pre-training layer 1, epoch 63, cost "
       ]
      },
      {
       "output_type": "stream",
       "stream": "stdout",
       "text": [
        " 65.3399039559\n",
        "Pre-training layer 1, epoch 64, cost "
       ]
      },
      {
       "output_type": "stream",
       "stream": "stdout",
       "text": [
        " 65.3360096844\n",
        "Pre-training layer 1, epoch 65, cost "
       ]
      },
      {
       "output_type": "stream",
       "stream": "stdout",
       "text": [
        " 65.3323794554\n",
        "Pre-training layer 1, epoch 66, cost "
       ]
      },
      {
       "output_type": "stream",
       "stream": "stdout",
       "text": [
        " 65.3289889686\n",
        "Pre-training layer 1, epoch 67, cost "
       ]
      },
      {
       "output_type": "stream",
       "stream": "stdout",
       "text": [
        " 65.3258162853\n",
        "Pre-training layer 1, epoch 68, cost "
       ]
      },
      {
       "output_type": "stream",
       "stream": "stdout",
       "text": [
        " 65.3228415875\n",
        "Pre-training layer 1, epoch 69, cost "
       ]
      },
      {
       "output_type": "stream",
       "stream": "stdout",
       "text": [
        " 65.3200469628\n",
        "Pre-training layer 1, epoch 70, cost "
       ]
      },
      {
       "output_type": "stream",
       "stream": "stdout",
       "text": [
        " 65.3174162126\n",
        "Pre-training layer 1, epoch 71, cost "
       ]
      },
      {
       "output_type": "stream",
       "stream": "stdout",
       "text": [
        " 65.3149346801\n",
        "Pre-training layer 1, epoch 72, cost "
       ]
      },
      {
       "output_type": "stream",
       "stream": "stdout",
       "text": [
        " 65.3125890964\n",
        "Pre-training layer 1, epoch 73, cost "
       ]
      },
      {
       "output_type": "stream",
       "stream": "stdout",
       "text": [
        " 65.3103674428\n",
        "Pre-training layer 1, epoch 74, cost "
       ]
      },
      {
       "output_type": "stream",
       "stream": "stdout",
       "text": [
        " 65.3082588275\n",
        "Pre-training layer 1, epoch 75, cost "
       ]
      },
      {
       "output_type": "stream",
       "stream": "stdout",
       "text": [
        " 65.3062533745\n",
        "... getting the finetuning functions\n",
        "... finetunning the model"
       ]
      },
      {
       "output_type": "stream",
       "stream": "stdout",
       "text": [
        "\n",
        "epoch 1, minibatch 13/13, validation error 50.000000 %\n",
        " epoch 1, minibatch 13/13, test error of best model 43.333333 %\n",
        "epoch 2, minibatch 13/13, validation error 50.000000 %"
       ]
      },
      {
       "output_type": "stream",
       "stream": "stdout",
       "text": [
        "\n",
        "epoch 3, minibatch 13/13, validation error 50.000000 %\n",
        "epoch 4, minibatch 13/13, validation error 50.000000 %"
       ]
      },
      {
       "output_type": "stream",
       "stream": "stdout",
       "text": [
        "\n",
        "epoch 5, minibatch 13/13, validation error 50.000000 %\n",
        "epoch 6, minibatch 13/13, validation error 50.000000 %"
       ]
      },
      {
       "output_type": "stream",
       "stream": "stdout",
       "text": [
        "\n",
        "epoch 7, minibatch 13/13, validation error 50.000000 %"
       ]
      },
      {
       "output_type": "stream",
       "stream": "stdout",
       "text": [
        "\n",
        "epoch 8, minibatch 13/13, validation error 50.000000 %"
       ]
      },
      {
       "output_type": "stream",
       "stream": "stdout",
       "text": [
        "\n",
        "epoch 9, minibatch 13/13, validation error 50.000000 %\n",
        "epoch 10, minibatch 13/13, validation error 50.000000 %"
       ]
      },
      {
       "output_type": "stream",
       "stream": "stdout",
       "text": [
        "\n",
        "hidden_layers_sizes: [100, 100]\n",
        "corruption_levels: [0, 0]\n",
        "train accuracy: "
       ]
      },
      {
       "output_type": "stream",
       "stream": "stdout",
       "text": [
        " 49.8%\n",
        "precision:  49.8%\n",
        "recall:  100.0%\n",
        "testing accuracy: "
       ]
      },
      {
       "output_type": "stream",
       "stream": "stdout",
       "text": [
        " 50.0%\n",
        "precision:  50.0%\n",
        "recall:  100.0%\n",
        "deep learning with unlabel data\n",
        "... building the model\n",
        "... getting the pretraining functions\n"
       ]
      },
      {
       "output_type": "stream",
       "stream": "stderr",
       "text": [
        "The pretraining code ran for 0.10m\n"
       ]
      },
      {
       "ename": "KeyboardInterrupt",
       "evalue": "",
       "output_type": "pyerr",
       "traceback": [
        "\u001b[1;31m---------------------------------------------------------------------------\u001b[0m\n\u001b[1;31mKeyboardInterrupt\u001b[0m                         Traceback (most recent call last)",
        "\u001b[1;32m<ipython-input-15-f1a291fe5526>\u001b[0m in \u001b[0;36m<module>\u001b[1;34m()\u001b[0m\n\u001b[1;32m----> 1\u001b[1;33m \u001b[0mone_ddi_family\u001b[0m\u001b[1;33m.\u001b[0m\u001b[0mget_LOO_perfermance\u001b[0m\u001b[1;33m(\u001b[0m\u001b[1;34m'AAONLY'\u001b[0m\u001b[1;33m,\u001b[0m \u001b[1;34m'1'\u001b[0m\u001b[1;33m)\u001b[0m\u001b[1;33m\u001b[0m\u001b[0m\n\u001b[0m",
        "\u001b[1;32m<ipython-input-6-4c735d4c74b6>\u001b[0m in \u001b[0;36mget_LOO_perfermance\u001b[1;34m(self, fisher_mode, classifier)\u001b[0m\n\u001b[0;32m     95\u001b[0m                              \u001b[0mhidden_layers_sizes\u001b[0m \u001b[1;33m=\u001b[0m \u001b[0mhidden_layers_sizes\u001b[0m\u001b[1;33m,\u001b[0m \u001b[0mcorruption_levels\u001b[0m \u001b[1;33m=\u001b[0m \u001b[0mcorruption_levels\u001b[0m\u001b[1;33m,\u001b[0m \u001b[0mbatch_size\u001b[0m \u001b[1;33m=\u001b[0m \u001b[0mbatch_size\u001b[0m \u001b[1;33m,\u001b[0m\u001b[0;31m \u001b[0m\u001b[0;31m\\\u001b[0m\u001b[1;33m\u001b[0m\u001b[0m\n\u001b[0;32m     96\u001b[0m                              \u001b[0mtraining_epochs\u001b[0m \u001b[1;33m=\u001b[0m \u001b[0mtraining_epochs\u001b[0m\u001b[1;33m,\u001b[0m \u001b[0mpretraining_epochs\u001b[0m \u001b[1;33m=\u001b[0m \u001b[0mpretraining_epochs\u001b[0m\u001b[1;33m,\u001b[0m\u001b[1;33m\u001b[0m\u001b[0m\n\u001b[1;32m---> 97\u001b[1;33m                              \u001b[0mpretrain_lr\u001b[0m \u001b[1;33m=\u001b[0m \u001b[0mpretrain_lr\u001b[0m\u001b[1;33m,\u001b[0m \u001b[0mfinetune_lr\u001b[0m\u001b[1;33m=\u001b[0m\u001b[0mfinetune_lr\u001b[0m\u001b[1;33m\u001b[0m\u001b[0m\n\u001b[0m\u001b[0;32m     98\u001b[0m                  )\n\u001b[0;32m     99\u001b[0m                 \u001b[1;32mprint\u001b[0m \u001b[1;34m'hidden_layers_sizes:'\u001b[0m\u001b[1;33m,\u001b[0m \u001b[0mhidden_layers_sizes\u001b[0m\u001b[1;33m\u001b[0m\u001b[0m\n",
        "\u001b[1;32m/home/sun/Downloads/contactmatrix/contactmatrixanddeeplearningcode/DL_libs.pyc\u001b[0m in \u001b[0;36mtrainSda\u001b[1;34m(X_train_minmax, y_train, X_validation_minmax, y_validation, X_test_minmax, y_test, pretraining_X_minmax, hidden_layers_sizes, corruption_levels, batch_size, training_epochs, pretraining_epochs, pretrain_lr, finetune_lr)\u001b[0m\n\u001b[0;32m    630\u001b[0m \u001b[1;33m\u001b[0m\u001b[0m\n\u001b[0;32m    631\u001b[0m         pretraining_fns = sda.pretraining_functions(train_set_x=pretraining_X,\n\u001b[1;32m--> 632\u001b[1;33m                                                     batch_size=batch_size)\n\u001b[0m\u001b[0;32m    633\u001b[0m \u001b[1;33m\u001b[0m\u001b[0m\n\u001b[0;32m    634\u001b[0m     \u001b[1;32mprint\u001b[0m \u001b[1;34m'... pre-training the model'\u001b[0m\u001b[1;33m\u001b[0m\u001b[0m\n",
        "\u001b[1;32m/home/sun/Downloads/contactmatrix/contactmatrixanddeeplearningcode/DL_libs.pyc\u001b[0m in \u001b[0;36mpretraining_functions\u001b[1;34m(self, train_set_x, batch_size)\u001b[0m\n\u001b[0;32m    495\u001b[0m                                  \u001b[0mupdates\u001b[0m\u001b[1;33m=\u001b[0m\u001b[0mupdates\u001b[0m\u001b[1;33m,\u001b[0m\u001b[1;33m\u001b[0m\u001b[0m\n\u001b[0;32m    496\u001b[0m                                  givens={self.x: train_set_x[batch_begin:\n\u001b[1;32m--> 497\u001b[1;33m                                                              batch_end]})\n\u001b[0m\u001b[0;32m    498\u001b[0m             \u001b[1;31m# append `fn` to the list of functions\u001b[0m\u001b[1;33m\u001b[0m\u001b[1;33m\u001b[0m\u001b[0m\n\u001b[0;32m    499\u001b[0m             \u001b[0mpretrain_fns\u001b[0m\u001b[1;33m.\u001b[0m\u001b[0mappend\u001b[0m\u001b[1;33m(\u001b[0m\u001b[0mfn\u001b[0m\u001b[1;33m)\u001b[0m\u001b[1;33m\u001b[0m\u001b[0m\n",
        "\u001b[1;32m/usr/local/lib/python2.7/dist-packages/theano/compile/function.pyc\u001b[0m in \u001b[0;36mfunction\u001b[1;34m(inputs, outputs, mode, updates, givens, no_default_updates, accept_inplace, name, rebuild_strict, allow_input_downcast, profile, on_unused_input)\u001b[0m\n\u001b[0;32m    221\u001b[0m                 \u001b[0mallow_input_downcast\u001b[0m\u001b[1;33m=\u001b[0m\u001b[0mallow_input_downcast\u001b[0m\u001b[1;33m,\u001b[0m\u001b[1;33m\u001b[0m\u001b[0m\n\u001b[0;32m    222\u001b[0m                 \u001b[0mon_unused_input\u001b[0m\u001b[1;33m=\u001b[0m\u001b[0mon_unused_input\u001b[0m\u001b[1;33m,\u001b[0m\u001b[1;33m\u001b[0m\u001b[0m\n\u001b[1;32m--> 223\u001b[1;33m                 profile=profile)\n\u001b[0m\u001b[0;32m    224\u001b[0m     \u001b[1;31m# We need to add the flag check_aliased inputs if we have any mutable or\u001b[0m\u001b[1;33m\u001b[0m\u001b[1;33m\u001b[0m\u001b[0m\n\u001b[0;32m    225\u001b[0m     \u001b[1;31m# borrowed used defined inputs\u001b[0m\u001b[1;33m\u001b[0m\u001b[1;33m\u001b[0m\u001b[0m\n",
        "\u001b[1;32m/usr/local/lib/python2.7/dist-packages/theano/compile/pfunc.pyc\u001b[0m in \u001b[0;36mpfunc\u001b[1;34m(params, outputs, mode, updates, givens, no_default_updates, accept_inplace, name, rebuild_strict, allow_input_downcast, profile, on_unused_input)\u001b[0m\n\u001b[0;32m    510\u001b[0m     return orig_function(inputs, cloned_outputs, mode,\n\u001b[0;32m    511\u001b[0m             \u001b[0maccept_inplace\u001b[0m\u001b[1;33m=\u001b[0m\u001b[0maccept_inplace\u001b[0m\u001b[1;33m,\u001b[0m \u001b[0mname\u001b[0m\u001b[1;33m=\u001b[0m\u001b[0mname\u001b[0m\u001b[1;33m,\u001b[0m \u001b[0mprofile\u001b[0m\u001b[1;33m=\u001b[0m\u001b[0mprofile\u001b[0m\u001b[1;33m,\u001b[0m\u001b[1;33m\u001b[0m\u001b[0m\n\u001b[1;32m--> 512\u001b[1;33m             on_unused_input=on_unused_input)\n\u001b[0m\u001b[0;32m    513\u001b[0m \u001b[1;33m\u001b[0m\u001b[0m\n\u001b[0;32m    514\u001b[0m \u001b[1;33m\u001b[0m\u001b[0m\n",
        "\u001b[1;32m/usr/local/lib/python2.7/dist-packages/theano/compile/function_module.pyc\u001b[0m in \u001b[0;36morig_function\u001b[1;34m(inputs, outputs, mode, accept_inplace, name, profile, on_unused_input)\u001b[0m\n\u001b[0;32m   1309\u001b[0m                    \u001b[0maccept_inplace\u001b[0m\u001b[1;33m=\u001b[0m\u001b[0maccept_inplace\u001b[0m\u001b[1;33m,\u001b[0m\u001b[1;33m\u001b[0m\u001b[0m\n\u001b[0;32m   1310\u001b[0m                    \u001b[0mprofile\u001b[0m\u001b[1;33m=\u001b[0m\u001b[0mprofile\u001b[0m\u001b[1;33m,\u001b[0m\u001b[1;33m\u001b[0m\u001b[0m\n\u001b[1;32m-> 1311\u001b[1;33m                    \u001b[0mon_unused_input\u001b[0m\u001b[1;33m=\u001b[0m\u001b[0mon_unused_input\u001b[0m\u001b[1;33m)\u001b[0m\u001b[1;33m.\u001b[0m\u001b[0mcreate\u001b[0m\u001b[1;33m(\u001b[0m\u001b[1;33m\u001b[0m\u001b[0m\n\u001b[0m\u001b[0;32m   1312\u001b[0m                        defaults)\n\u001b[0;32m   1313\u001b[0m \u001b[1;33m\u001b[0m\u001b[0m\n",
        "\u001b[1;32m/usr/local/lib/python2.7/dist-packages/theano/compile/function_module.pyc\u001b[0m in \u001b[0;36m__init__\u001b[1;34m(self, inputs, outputs, mode, accept_inplace, function_builder, profile, on_unused_input)\u001b[0m\n\u001b[0;32m   1020\u001b[0m             \u001b[0mgof\u001b[0m\u001b[1;33m.\u001b[0m\u001b[0mOp\u001b[0m\u001b[1;33m.\u001b[0m\u001b[0madd_stack_trace_on_call\u001b[0m \u001b[1;33m=\u001b[0m \u001b[0mFalse\u001b[0m\u001b[1;33m\u001b[0m\u001b[0m\n\u001b[0;32m   1021\u001b[0m             \u001b[0mstart_optimizer\u001b[0m \u001b[1;33m=\u001b[0m \u001b[0mtime\u001b[0m\u001b[1;33m.\u001b[0m\u001b[0mtime\u001b[0m\u001b[1;33m(\u001b[0m\u001b[1;33m)\u001b[0m\u001b[1;33m\u001b[0m\u001b[0m\n\u001b[1;32m-> 1022\u001b[1;33m             \u001b[0moptimizer_profile\u001b[0m \u001b[1;33m=\u001b[0m \u001b[0moptimizer\u001b[0m\u001b[1;33m(\u001b[0m\u001b[0mfgraph\u001b[0m\u001b[1;33m)\u001b[0m\u001b[1;33m\u001b[0m\u001b[0m\n\u001b[0m\u001b[0;32m   1023\u001b[0m             \u001b[0mend_optimizer\u001b[0m \u001b[1;33m=\u001b[0m \u001b[0mtime\u001b[0m\u001b[1;33m.\u001b[0m\u001b[0mtime\u001b[0m\u001b[1;33m(\u001b[0m\u001b[1;33m)\u001b[0m\u001b[1;33m\u001b[0m\u001b[0m\n\u001b[0;32m   1024\u001b[0m             \u001b[0mopt_time\u001b[0m \u001b[1;33m=\u001b[0m \u001b[0mend_optimizer\u001b[0m \u001b[1;33m-\u001b[0m \u001b[0mstart_optimizer\u001b[0m\u001b[1;33m\u001b[0m\u001b[0m\n",
        "\u001b[1;32m/usr/local/lib/python2.7/dist-packages/theano/gof/opt.pyc\u001b[0m in \u001b[0;36m__call__\u001b[1;34m(self, fgraph)\u001b[0m\n\u001b[0;32m     89\u001b[0m         \u001b[0mSame\u001b[0m \u001b[1;32mas\u001b[0m \u001b[0mself\u001b[0m\u001b[1;33m.\u001b[0m\u001b[0moptimize\u001b[0m\u001b[1;33m(\u001b[0m\u001b[0mfgraph\u001b[0m\u001b[1;33m)\u001b[0m\u001b[1;33m\u001b[0m\u001b[0m\n\u001b[0;32m     90\u001b[0m         \"\"\"\n\u001b[1;32m---> 91\u001b[1;33m         \u001b[1;32mreturn\u001b[0m \u001b[0mself\u001b[0m\u001b[1;33m.\u001b[0m\u001b[0moptimize\u001b[0m\u001b[1;33m(\u001b[0m\u001b[0mfgraph\u001b[0m\u001b[1;33m)\u001b[0m\u001b[1;33m\u001b[0m\u001b[0m\n\u001b[0m\u001b[0;32m     92\u001b[0m \u001b[1;33m\u001b[0m\u001b[0m\n\u001b[0;32m     93\u001b[0m     \u001b[1;32mdef\u001b[0m \u001b[0madd_requirements\u001b[0m\u001b[1;33m(\u001b[0m\u001b[0mself\u001b[0m\u001b[1;33m,\u001b[0m \u001b[0mfgraph\u001b[0m\u001b[1;33m)\u001b[0m\u001b[1;33m:\u001b[0m\u001b[1;33m\u001b[0m\u001b[0m\n",
        "\u001b[1;32m/usr/local/lib/python2.7/dist-packages/theano/gof/opt.pyc\u001b[0m in \u001b[0;36moptimize\u001b[1;34m(self, fgraph, *args, **kwargs)\u001b[0m\n\u001b[0;32m     80\u001b[0m             \u001b[0morig\u001b[0m \u001b[1;33m=\u001b[0m \u001b[0mtheano\u001b[0m\u001b[1;33m.\u001b[0m\u001b[0mtensor\u001b[0m\u001b[1;33m.\u001b[0m\u001b[0mbasic\u001b[0m\u001b[1;33m.\u001b[0m\u001b[0mconstant\u001b[0m\u001b[1;33m.\u001b[0m\u001b[0menable\u001b[0m\u001b[1;33m\u001b[0m\u001b[0m\n\u001b[0;32m     81\u001b[0m             \u001b[0mtheano\u001b[0m\u001b[1;33m.\u001b[0m\u001b[0mtensor\u001b[0m\u001b[1;33m.\u001b[0m\u001b[0mbasic\u001b[0m\u001b[1;33m.\u001b[0m\u001b[0mconstant\u001b[0m\u001b[1;33m.\u001b[0m\u001b[0menable\u001b[0m \u001b[1;33m=\u001b[0m \u001b[0mFalse\u001b[0m\u001b[1;33m\u001b[0m\u001b[0m\n\u001b[1;32m---> 82\u001b[1;33m             \u001b[0mret\u001b[0m \u001b[1;33m=\u001b[0m \u001b[0mself\u001b[0m\u001b[1;33m.\u001b[0m\u001b[0mapply\u001b[0m\u001b[1;33m(\u001b[0m\u001b[0mfgraph\u001b[0m\u001b[1;33m,\u001b[0m \u001b[1;33m*\u001b[0m\u001b[0margs\u001b[0m\u001b[1;33m,\u001b[0m \u001b[1;33m**\u001b[0m\u001b[0mkwargs\u001b[0m\u001b[1;33m)\u001b[0m\u001b[1;33m\u001b[0m\u001b[0m\n\u001b[0m\u001b[0;32m     83\u001b[0m         \u001b[1;32mfinally\u001b[0m\u001b[1;33m:\u001b[0m\u001b[1;33m\u001b[0m\u001b[0m\n\u001b[0;32m     84\u001b[0m             \u001b[0mtheano\u001b[0m\u001b[1;33m.\u001b[0m\u001b[0mtensor\u001b[0m\u001b[1;33m.\u001b[0m\u001b[0mbasic\u001b[0m\u001b[1;33m.\u001b[0m\u001b[0mconstant\u001b[0m\u001b[1;33m.\u001b[0m\u001b[0menable\u001b[0m \u001b[1;33m=\u001b[0m \u001b[0morig\u001b[0m\u001b[1;33m\u001b[0m\u001b[0m\n",
        "\u001b[1;32m/usr/local/lib/python2.7/dist-packages/theano/gof/opt.pyc\u001b[0m in \u001b[0;36mapply\u001b[1;34m(self, fgraph)\u001b[0m\n\u001b[0;32m    181\u001b[0m             \u001b[1;32mtry\u001b[0m\u001b[1;33m:\u001b[0m\u001b[1;33m\u001b[0m\u001b[0m\n\u001b[0;32m    182\u001b[0m                 \u001b[0mt0\u001b[0m \u001b[1;33m=\u001b[0m \u001b[0mtime\u001b[0m\u001b[1;33m.\u001b[0m\u001b[0mtime\u001b[0m\u001b[1;33m(\u001b[0m\u001b[1;33m)\u001b[0m\u001b[1;33m\u001b[0m\u001b[0m\n\u001b[1;32m--> 183\u001b[1;33m                 \u001b[0msub_prof\u001b[0m \u001b[1;33m=\u001b[0m \u001b[0moptimizer\u001b[0m\u001b[1;33m.\u001b[0m\u001b[0moptimize\u001b[0m\u001b[1;33m(\u001b[0m\u001b[0mfgraph\u001b[0m\u001b[1;33m)\u001b[0m\u001b[1;33m\u001b[0m\u001b[0m\n\u001b[0m\u001b[0;32m    184\u001b[0m                 \u001b[0ml\u001b[0m\u001b[1;33m.\u001b[0m\u001b[0mappend\u001b[0m\u001b[1;33m(\u001b[0m\u001b[0mfloat\u001b[0m\u001b[1;33m(\u001b[0m\u001b[0mtime\u001b[0m\u001b[1;33m.\u001b[0m\u001b[0mtime\u001b[0m\u001b[1;33m(\u001b[0m\u001b[1;33m)\u001b[0m \u001b[1;33m-\u001b[0m \u001b[0mt0\u001b[0m\u001b[1;33m)\u001b[0m\u001b[1;33m)\u001b[0m\u001b[1;33m\u001b[0m\u001b[0m\n\u001b[0;32m    185\u001b[0m                 \u001b[0msub_profs\u001b[0m\u001b[1;33m.\u001b[0m\u001b[0mappend\u001b[0m\u001b[1;33m(\u001b[0m\u001b[0msub_prof\u001b[0m\u001b[1;33m)\u001b[0m\u001b[1;33m\u001b[0m\u001b[0m\n",
        "\u001b[1;32m/usr/local/lib/python2.7/dist-packages/theano/gof/opt.pyc\u001b[0m in \u001b[0;36moptimize\u001b[1;34m(self, fgraph, *args, **kwargs)\u001b[0m\n\u001b[0;32m     80\u001b[0m             \u001b[0morig\u001b[0m \u001b[1;33m=\u001b[0m \u001b[0mtheano\u001b[0m\u001b[1;33m.\u001b[0m\u001b[0mtensor\u001b[0m\u001b[1;33m.\u001b[0m\u001b[0mbasic\u001b[0m\u001b[1;33m.\u001b[0m\u001b[0mconstant\u001b[0m\u001b[1;33m.\u001b[0m\u001b[0menable\u001b[0m\u001b[1;33m\u001b[0m\u001b[0m\n\u001b[0;32m     81\u001b[0m             \u001b[0mtheano\u001b[0m\u001b[1;33m.\u001b[0m\u001b[0mtensor\u001b[0m\u001b[1;33m.\u001b[0m\u001b[0mbasic\u001b[0m\u001b[1;33m.\u001b[0m\u001b[0mconstant\u001b[0m\u001b[1;33m.\u001b[0m\u001b[0menable\u001b[0m \u001b[1;33m=\u001b[0m \u001b[0mFalse\u001b[0m\u001b[1;33m\u001b[0m\u001b[0m\n\u001b[1;32m---> 82\u001b[1;33m             \u001b[0mret\u001b[0m \u001b[1;33m=\u001b[0m \u001b[0mself\u001b[0m\u001b[1;33m.\u001b[0m\u001b[0mapply\u001b[0m\u001b[1;33m(\u001b[0m\u001b[0mfgraph\u001b[0m\u001b[1;33m,\u001b[0m \u001b[1;33m*\u001b[0m\u001b[0margs\u001b[0m\u001b[1;33m,\u001b[0m \u001b[1;33m**\u001b[0m\u001b[0mkwargs\u001b[0m\u001b[1;33m)\u001b[0m\u001b[1;33m\u001b[0m\u001b[0m\n\u001b[0m\u001b[0;32m     83\u001b[0m         \u001b[1;32mfinally\u001b[0m\u001b[1;33m:\u001b[0m\u001b[1;33m\u001b[0m\u001b[0m\n\u001b[0;32m     84\u001b[0m             \u001b[0mtheano\u001b[0m\u001b[1;33m.\u001b[0m\u001b[0mtensor\u001b[0m\u001b[1;33m.\u001b[0m\u001b[0mbasic\u001b[0m\u001b[1;33m.\u001b[0m\u001b[0mconstant\u001b[0m\u001b[1;33m.\u001b[0m\u001b[0menable\u001b[0m \u001b[1;33m=\u001b[0m \u001b[0morig\u001b[0m\u001b[1;33m\u001b[0m\u001b[0m\n",
        "\u001b[1;32m/usr/local/lib/python2.7/dist-packages/theano/gof/opt.pyc\u001b[0m in \u001b[0;36mapply\u001b[1;34m(self, fgraph, start_from)\u001b[0m\n\u001b[0;32m   1556\u001b[0m                 \u001b[0mfgraph\u001b[0m\u001b[1;33m.\u001b[0m\u001b[0mchange_tracker\u001b[0m\u001b[1;33m.\u001b[0m\u001b[0mreset\u001b[0m\u001b[1;33m(\u001b[0m\u001b[1;33m)\u001b[0m\u001b[1;33m\u001b[0m\u001b[0m\n\u001b[0;32m   1557\u001b[0m                 \u001b[0mt_opt\u001b[0m \u001b[1;33m=\u001b[0m \u001b[0mtime\u001b[0m\u001b[1;33m.\u001b[0m\u001b[0mtime\u001b[0m\u001b[1;33m(\u001b[0m\u001b[1;33m)\u001b[0m\u001b[1;33m\u001b[0m\u001b[0m\n\u001b[1;32m-> 1558\u001b[1;33m                 \u001b[0mgopt\u001b[0m\u001b[1;33m.\u001b[0m\u001b[0mapply\u001b[0m\u001b[1;33m(\u001b[0m\u001b[0mfgraph\u001b[0m\u001b[1;33m)\u001b[0m\u001b[1;33m\u001b[0m\u001b[0m\n\u001b[0m\u001b[0;32m   1559\u001b[0m                 \u001b[0mtime_opts\u001b[0m\u001b[1;33m[\u001b[0m\u001b[0mgopt\u001b[0m\u001b[1;33m]\u001b[0m \u001b[1;33m+=\u001b[0m \u001b[0mtime\u001b[0m\u001b[1;33m.\u001b[0m\u001b[0mtime\u001b[0m\u001b[1;33m(\u001b[0m\u001b[1;33m)\u001b[0m \u001b[1;33m-\u001b[0m \u001b[0mt_opt\u001b[0m\u001b[1;33m\u001b[0m\u001b[0m\n\u001b[0;32m   1560\u001b[0m                 \u001b[1;32mif\u001b[0m \u001b[0mfgraph\u001b[0m\u001b[1;33m.\u001b[0m\u001b[0mchange_tracker\u001b[0m\u001b[1;33m.\u001b[0m\u001b[0mchanged\u001b[0m\u001b[1;33m:\u001b[0m\u001b[1;33m\u001b[0m\u001b[0m\n",
        "\u001b[1;32m/usr/local/lib/python2.7/dist-packages/theano/gof/opt.pyc\u001b[0m in \u001b[0;36mapply\u001b[1;34m(self, fgraph, start_from)\u001b[0m\n\u001b[0;32m   1556\u001b[0m                 \u001b[0mfgraph\u001b[0m\u001b[1;33m.\u001b[0m\u001b[0mchange_tracker\u001b[0m\u001b[1;33m.\u001b[0m\u001b[0mreset\u001b[0m\u001b[1;33m(\u001b[0m\u001b[1;33m)\u001b[0m\u001b[1;33m\u001b[0m\u001b[0m\n\u001b[0;32m   1557\u001b[0m                 \u001b[0mt_opt\u001b[0m \u001b[1;33m=\u001b[0m \u001b[0mtime\u001b[0m\u001b[1;33m.\u001b[0m\u001b[0mtime\u001b[0m\u001b[1;33m(\u001b[0m\u001b[1;33m)\u001b[0m\u001b[1;33m\u001b[0m\u001b[0m\n\u001b[1;32m-> 1558\u001b[1;33m                 \u001b[0mgopt\u001b[0m\u001b[1;33m.\u001b[0m\u001b[0mapply\u001b[0m\u001b[1;33m(\u001b[0m\u001b[0mfgraph\u001b[0m\u001b[1;33m)\u001b[0m\u001b[1;33m\u001b[0m\u001b[0m\n\u001b[0m\u001b[0;32m   1559\u001b[0m                 \u001b[0mtime_opts\u001b[0m\u001b[1;33m[\u001b[0m\u001b[0mgopt\u001b[0m\u001b[1;33m]\u001b[0m \u001b[1;33m+=\u001b[0m \u001b[0mtime\u001b[0m\u001b[1;33m.\u001b[0m\u001b[0mtime\u001b[0m\u001b[1;33m(\u001b[0m\u001b[1;33m)\u001b[0m \u001b[1;33m-\u001b[0m \u001b[0mt_opt\u001b[0m\u001b[1;33m\u001b[0m\u001b[0m\n\u001b[0;32m   1560\u001b[0m                 \u001b[1;32mif\u001b[0m \u001b[0mfgraph\u001b[0m\u001b[1;33m.\u001b[0m\u001b[0mchange_tracker\u001b[0m\u001b[1;33m.\u001b[0m\u001b[0mchanged\u001b[0m\u001b[1;33m:\u001b[0m\u001b[1;33m\u001b[0m\u001b[0m\n",
        "\u001b[1;32m/usr/local/lib/python2.7/dist-packages/theano/gof/opt.pyc\u001b[0m in \u001b[0;36mapply\u001b[1;34m(self, fgraph, start_from)\u001b[0m\n\u001b[0;32m   1359\u001b[0m         \u001b[0mnb_nodes_start\u001b[0m \u001b[1;33m=\u001b[0m \u001b[0mlen\u001b[0m\u001b[1;33m(\u001b[0m\u001b[0mfgraph\u001b[0m\u001b[1;33m.\u001b[0m\u001b[0mapply_nodes\u001b[0m\u001b[1;33m)\u001b[0m\u001b[1;33m\u001b[0m\u001b[0m\n\u001b[0;32m   1360\u001b[0m         \u001b[0mt0\u001b[0m \u001b[1;33m=\u001b[0m \u001b[0mtime\u001b[0m\u001b[1;33m.\u001b[0m\u001b[0mtime\u001b[0m\u001b[1;33m(\u001b[0m\u001b[1;33m)\u001b[0m\u001b[1;33m\u001b[0m\u001b[0m\n\u001b[1;32m-> 1361\u001b[1;33m         \u001b[0mq\u001b[0m \u001b[1;33m=\u001b[0m \u001b[0mdeque\u001b[0m\u001b[1;33m(\u001b[0m\u001b[0mgraph\u001b[0m\u001b[1;33m.\u001b[0m\u001b[0mio_toposort\u001b[0m\u001b[1;33m(\u001b[0m\u001b[0mfgraph\u001b[0m\u001b[1;33m.\u001b[0m\u001b[0minputs\u001b[0m\u001b[1;33m,\u001b[0m \u001b[0mstart_from\u001b[0m\u001b[1;33m)\u001b[0m\u001b[1;33m)\u001b[0m\u001b[1;33m\u001b[0m\u001b[0m\n\u001b[0m\u001b[0;32m   1362\u001b[0m         \u001b[0mio_t\u001b[0m \u001b[1;33m=\u001b[0m \u001b[0mtime\u001b[0m\u001b[1;33m.\u001b[0m\u001b[0mtime\u001b[0m\u001b[1;33m(\u001b[0m\u001b[1;33m)\u001b[0m \u001b[1;33m-\u001b[0m \u001b[0mt0\u001b[0m\u001b[1;33m\u001b[0m\u001b[0m\n\u001b[0;32m   1363\u001b[0m \u001b[1;33m\u001b[0m\u001b[0m\n",
        "\u001b[1;32m/usr/local/lib/python2.7/dist-packages/theano/gof/graph.pyc\u001b[0m in \u001b[0;36mio_toposort\u001b[1;34m(inputs, outputs, orderings)\u001b[0m\n\u001b[0;32m    807\u001b[0m         \u001b[1;32mreturn\u001b[0m \u001b[0mrval\u001b[0m\u001b[1;33m\u001b[0m\u001b[0m\n\u001b[0;32m    808\u001b[0m \u001b[1;33m\u001b[0m\u001b[0m\n\u001b[1;32m--> 809\u001b[1;33m     \u001b[0mtopo\u001b[0m \u001b[1;33m=\u001b[0m \u001b[0mgeneral_toposort\u001b[0m\u001b[1;33m(\u001b[0m\u001b[0moutputs\u001b[0m\u001b[1;33m,\u001b[0m \u001b[0mdeps\u001b[0m\u001b[1;33m)\u001b[0m\u001b[1;33m\u001b[0m\u001b[0m\n\u001b[0m\u001b[0;32m    810\u001b[0m     \u001b[1;32mreturn\u001b[0m \u001b[1;33m[\u001b[0m\u001b[0mo\u001b[0m \u001b[1;32mfor\u001b[0m \u001b[0mo\u001b[0m \u001b[1;32min\u001b[0m \u001b[0mtopo\u001b[0m \u001b[1;32mif\u001b[0m \u001b[0misinstance\u001b[0m\u001b[1;33m(\u001b[0m\u001b[0mo\u001b[0m\u001b[1;33m,\u001b[0m \u001b[0mApply\u001b[0m\u001b[1;33m)\u001b[0m\u001b[1;33m]\u001b[0m\u001b[1;33m\u001b[0m\u001b[0m\n\u001b[0;32m    811\u001b[0m \u001b[1;33m\u001b[0m\u001b[0m\n",
        "\u001b[1;32m/usr/local/lib/python2.7/dist-packages/theano/gof/graph.pyc\u001b[0m in \u001b[0;36mgeneral_toposort\u001b[1;34m(r_out, deps, debug_print)\u001b[0m\n\u001b[0;32m    748\u001b[0m     \u001b[1;32massert\u001b[0m \u001b[0misinstance\u001b[0m\u001b[1;33m(\u001b[0m\u001b[0mr_out\u001b[0m\u001b[1;33m,\u001b[0m \u001b[1;33m(\u001b[0m\u001b[0mtuple\u001b[0m\u001b[1;33m,\u001b[0m \u001b[0mlist\u001b[0m\u001b[1;33m,\u001b[0m \u001b[0mdeque\u001b[0m\u001b[1;33m)\u001b[0m\u001b[1;33m)\u001b[0m\u001b[1;33m\u001b[0m\u001b[0m\n\u001b[0;32m    749\u001b[0m \u001b[1;33m\u001b[0m\u001b[0m\n\u001b[1;32m--> 750\u001b[1;33m     \u001b[0mreachable\u001b[0m\u001b[1;33m,\u001b[0m \u001b[0mclients\u001b[0m \u001b[1;33m=\u001b[0m \u001b[0mstack_search\u001b[0m\u001b[1;33m(\u001b[0m\u001b[0mdeque\u001b[0m\u001b[1;33m(\u001b[0m\u001b[0mr_out\u001b[0m\u001b[1;33m)\u001b[0m\u001b[1;33m,\u001b[0m \u001b[0m_deps\u001b[0m\u001b[1;33m,\u001b[0m \u001b[1;34m'dfs'\u001b[0m\u001b[1;33m,\u001b[0m \u001b[0mTrue\u001b[0m\u001b[1;33m)\u001b[0m\u001b[1;33m\u001b[0m\u001b[0m\n\u001b[0m\u001b[0;32m    751\u001b[0m     \u001b[0msources\u001b[0m \u001b[1;33m=\u001b[0m \u001b[0mdeque\u001b[0m\u001b[1;33m(\u001b[0m\u001b[1;33m[\u001b[0m\u001b[0mr\u001b[0m \u001b[1;32mfor\u001b[0m \u001b[0mr\u001b[0m \u001b[1;32min\u001b[0m \u001b[0mreachable\u001b[0m \u001b[1;32mif\u001b[0m \u001b[1;32mnot\u001b[0m \u001b[0mdeps_cache\u001b[0m\u001b[1;33m.\u001b[0m\u001b[0mget\u001b[0m\u001b[1;33m(\u001b[0m\u001b[0mr\u001b[0m\u001b[1;33m,\u001b[0m \u001b[0mNone\u001b[0m\u001b[1;33m)\u001b[0m\u001b[1;33m]\u001b[0m\u001b[1;33m)\u001b[0m\u001b[1;33m\u001b[0m\u001b[0m\n\u001b[0;32m    752\u001b[0m \u001b[1;33m\u001b[0m\u001b[0m\n",
        "\u001b[1;32m/usr/local/lib/python2.7/dist-packages/theano/gof/graph.pyc\u001b[0m in \u001b[0;36mstack_search\u001b[1;34m(start, expand, mode, build_inv)\u001b[0m\n\u001b[0;32m    524\u001b[0m             \u001b[0mrval_list\u001b[0m\u001b[1;33m.\u001b[0m\u001b[0mappend\u001b[0m\u001b[1;33m(\u001b[0m\u001b[0ml\u001b[0m\u001b[1;33m)\u001b[0m\u001b[1;33m\u001b[0m\u001b[0m\n\u001b[0;32m    525\u001b[0m             \u001b[0mrval_set\u001b[0m\u001b[1;33m.\u001b[0m\u001b[0madd\u001b[0m\u001b[1;33m(\u001b[0m\u001b[0mid\u001b[0m\u001b[1;33m(\u001b[0m\u001b[0ml\u001b[0m\u001b[1;33m)\u001b[0m\u001b[1;33m)\u001b[0m\u001b[1;33m\u001b[0m\u001b[0m\n\u001b[1;32m--> 526\u001b[1;33m             \u001b[0mexpand_l\u001b[0m \u001b[1;33m=\u001b[0m \u001b[0mexpand\u001b[0m\u001b[1;33m(\u001b[0m\u001b[0ml\u001b[0m\u001b[1;33m)\u001b[0m\u001b[1;33m\u001b[0m\u001b[0m\n\u001b[0m\u001b[0;32m    527\u001b[0m             \u001b[1;32mif\u001b[0m \u001b[0mexpand_l\u001b[0m\u001b[1;33m:\u001b[0m\u001b[1;33m\u001b[0m\u001b[0m\n\u001b[0;32m    528\u001b[0m                 \u001b[1;32mif\u001b[0m \u001b[0mbuild_inv\u001b[0m\u001b[1;33m:\u001b[0m\u001b[1;33m\u001b[0m\u001b[0m\n",
        "\u001b[1;32m/usr/local/lib/python2.7/dist-packages/theano/gof/graph.pyc\u001b[0m in \u001b[0;36m_deps\u001b[1;34m(io)\u001b[0m\n\u001b[0;32m    734\u001b[0m     \u001b[1;32mdef\u001b[0m \u001b[0m_deps\u001b[0m\u001b[1;33m(\u001b[0m\u001b[0mio\u001b[0m\u001b[1;33m)\u001b[0m\u001b[1;33m:\u001b[0m\u001b[1;33m\u001b[0m\u001b[0m\n\u001b[0;32m    735\u001b[0m         \u001b[1;32mif\u001b[0m \u001b[0mio\u001b[0m \u001b[1;32mnot\u001b[0m \u001b[1;32min\u001b[0m \u001b[0mdeps_cache\u001b[0m\u001b[1;33m:\u001b[0m\u001b[1;33m\u001b[0m\u001b[0m\n\u001b[1;32m--> 736\u001b[1;33m             \u001b[0md\u001b[0m \u001b[1;33m=\u001b[0m \u001b[0mdeps\u001b[0m\u001b[1;33m(\u001b[0m\u001b[0mio\u001b[0m\u001b[1;33m)\u001b[0m\u001b[1;33m\u001b[0m\u001b[0m\n\u001b[0m\u001b[0;32m    737\u001b[0m             \u001b[1;32mif\u001b[0m \u001b[0md\u001b[0m\u001b[1;33m:\u001b[0m\u001b[1;33m\u001b[0m\u001b[0m\n\u001b[0;32m    738\u001b[0m                 \u001b[1;32mif\u001b[0m \u001b[1;32mnot\u001b[0m \u001b[0misinstance\u001b[0m\u001b[1;33m(\u001b[0m\u001b[0md\u001b[0m\u001b[1;33m,\u001b[0m \u001b[1;33m(\u001b[0m\u001b[0mlist\u001b[0m\u001b[1;33m,\u001b[0m \u001b[0mOrderedSet\u001b[0m\u001b[1;33m)\u001b[0m\u001b[1;33m)\u001b[0m\u001b[1;33m:\u001b[0m\u001b[1;33m\u001b[0m\u001b[0m\n",
        "\u001b[1;32m/usr/local/lib/python2.7/dist-packages/theano/gof/graph.pyc\u001b[0m in \u001b[0;36mdeps\u001b[1;34m(obj)\u001b[0m\n\u001b[0;32m    802\u001b[0m             \u001b[1;32melif\u001b[0m \u001b[0misinstance\u001b[0m\u001b[1;33m(\u001b[0m\u001b[0mobj\u001b[0m\u001b[1;33m,\u001b[0m \u001b[0mApply\u001b[0m\u001b[1;33m)\u001b[0m\u001b[1;33m:\u001b[0m\u001b[1;33m\u001b[0m\u001b[0m\n\u001b[0;32m    803\u001b[0m                 \u001b[0mrval\u001b[0m \u001b[1;33m=\u001b[0m \u001b[0mlist\u001b[0m\u001b[1;33m(\u001b[0m\u001b[0mobj\u001b[0m\u001b[1;33m.\u001b[0m\u001b[0minputs\u001b[0m\u001b[1;33m)\u001b[0m\u001b[1;33m\u001b[0m\u001b[0m\n\u001b[1;32m--> 804\u001b[1;33m             \u001b[0mrval\u001b[0m\u001b[1;33m.\u001b[0m\u001b[0mextend\u001b[0m\u001b[1;33m(\u001b[0m\u001b[0morderings\u001b[0m\u001b[1;33m.\u001b[0m\u001b[0mget\u001b[0m\u001b[1;33m(\u001b[0m\u001b[0mobj\u001b[0m\u001b[1;33m,\u001b[0m \u001b[1;33m[\u001b[0m\u001b[1;33m]\u001b[0m\u001b[1;33m)\u001b[0m\u001b[1;33m)\u001b[0m\u001b[1;33m\u001b[0m\u001b[0m\n\u001b[0m\u001b[0;32m    805\u001b[0m         \u001b[1;32melse\u001b[0m\u001b[1;33m:\u001b[0m\u001b[1;33m\u001b[0m\u001b[0m\n\u001b[0;32m    806\u001b[0m             \u001b[1;32massert\u001b[0m \u001b[1;32mnot\u001b[0m \u001b[0morderings\u001b[0m\u001b[1;33m.\u001b[0m\u001b[0mget\u001b[0m\u001b[1;33m(\u001b[0m\u001b[0mobj\u001b[0m\u001b[1;33m,\u001b[0m \u001b[1;33m[\u001b[0m\u001b[1;33m]\u001b[0m\u001b[1;33m)\u001b[0m\u001b[1;33m\u001b[0m\u001b[0m\n",
        "\u001b[1;31mKeyboardInterrupt\u001b[0m: "
       ]
      }
     ],
     "prompt_number": 15
    },
    {
     "cell_type": "code",
     "collapsed": false,
     "input": [
      "data =a\n",
      "a = data[:, 20:227]\n",
      "b = data[:, 247:454]\n",
      "X = np.hstack((a,b))\n",
      "print a.shape, b.shape, X.shape,  X"
     ],
     "language": "python",
     "metadata": {},
     "outputs": []
    },
    {
     "cell_type": "code",
     "collapsed": false,
     "input": [],
     "language": "python",
     "metadata": {},
     "outputs": []
    }
   ],
   "metadata": {}
  }
 ]
}